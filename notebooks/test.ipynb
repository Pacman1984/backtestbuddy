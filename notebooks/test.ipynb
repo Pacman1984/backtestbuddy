{
 "cells": [
  {
   "cell_type": "code",
   "execution_count": 1,
   "metadata": {},
   "outputs": [
    {
     "name": "stdout",
     "output_type": "stream",
     "text": [
      "New CWD is: i:\\Coding\\00_Projects\\00_packages\\backtestbuddy\n"
     ]
    }
   ],
   "source": [
    "import os\n",
    "from typing import Optional\n",
    "\n",
    "\n",
    "def set_project_root_dir(project_root_name: str, cwd: Optional[str] = None):\n",
    "    \"\"\"Set the working directory to the project root directory, based on the name of the project root directory.\n",
    "\n",
    "    Args:\n",
    "        project_root_name (str): The name of the project root directory.\n",
    "        cwd (str, optional): The current working directory. Defaults to None.\n",
    "\n",
    "    Raises:\n",
    "        ValueError: If the project root directory is not found in the directory hierarchy.\n",
    "\n",
    "    Returns:\n",
    "        None\n",
    "    \"\"\"\n",
    "    # If no current working directory is provided, use the current working directory\n",
    "    if cwd is None:\n",
    "        cwd = os.getcwd()\n",
    "\n",
    "    # Split the current working directory into its components\n",
    "    cwd_components = cwd.split(os.sep)\n",
    "\n",
    "    # Find the index of the first occurrence of the project root directory in the list of components\n",
    "    try:\n",
    "        root_index = cwd_components.index(project_root_name)\n",
    "    except ValueError:\n",
    "        raise ValueError(\n",
    "            f\"Project root directory '{project_root_name}' not found in directory hierarchy.\"\n",
    "        )\n",
    "\n",
    "    # Use the root index to get the path of the project root directory\n",
    "    root_dir = os.sep.join(cwd_components[: root_index + 1])\n",
    "\n",
    "    # Change the working directory to the project root directory\n",
    "    os.chdir(root_dir)\n",
    "\n",
    "    # Print new CWD\n",
    "    print(\"New CWD is: \" + os.getcwd())\n",
    "\n",
    "\n",
    "set_project_root_dir(\"backtestbuddy\")"
   ]
  },
  {
   "cell_type": "code",
   "execution_count": 2,
   "metadata": {},
   "outputs": [],
   "source": [
    "import numpy as np # type: ignore\n",
    "import pandas as pd # type: ignore\n",
    "from sklearn.linear_model import LogisticRegression # type: ignore\n",
    "from sklearn.model_selection import TimeSeriesSplit # type: ignore\n",
    "from sklearn.pipeline import make_pipeline # type: ignore\n",
    "from sklearn.preprocessing import StandardScaler # type: ignore\n",
    "\n",
    "from backtestbuddy.backtest.sport_backtest import ModelBacktest, PredictionBacktest\n",
    "from backtestbuddy.strategies.sport_strategies import FixedStake, KellyCriterion\n",
    "\n",
    "pd.set_option('display.max_columns', None)\n",
    "pd.set_option('display.width', None)\n",
    "pd.set_option('display.max_colwidth', None)"
   ]
  },
  {
   "cell_type": "code",
   "execution_count": 3,
   "metadata": {},
   "outputs": [
    {
     "data": {
      "text/plain": [
       "'0.1.1'"
      ]
     },
     "execution_count": 3,
     "metadata": {},
     "output_type": "execute_result"
    }
   ],
   "source": [
    "import backtestbuddy\n",
    "backtestbuddy.__version__"
   ]
  },
  {
   "cell_type": "code",
   "execution_count": 4,
   "metadata": {},
   "outputs": [
    {
     "data": {
      "text/html": [
       "<div>\n",
       "<style scoped>\n",
       "    .dataframe tbody tr th:only-of-type {\n",
       "        vertical-align: middle;\n",
       "    }\n",
       "\n",
       "    .dataframe tbody tr th {\n",
       "        vertical-align: top;\n",
       "    }\n",
       "\n",
       "    .dataframe thead th {\n",
       "        text-align: right;\n",
       "    }\n",
       "</style>\n",
       "<table border=\"1\" class=\"dataframe\">\n",
       "  <thead>\n",
       "    <tr style=\"text-align: right;\">\n",
       "      <th></th>\n",
       "      <th>date</th>\n",
       "      <th>odds_team_a</th>\n",
       "      <th>odds_team_b</th>\n",
       "      <th>actual_winner</th>\n",
       "      <th>model_predictions</th>\n",
       "    </tr>\n",
       "  </thead>\n",
       "  <tbody>\n",
       "    <tr>\n",
       "      <th>0</th>\n",
       "      <td>2023-01-01</td>\n",
       "      <td>2.061810</td>\n",
       "      <td>2.079154</td>\n",
       "      <td>0</td>\n",
       "      <td>0</td>\n",
       "    </tr>\n",
       "    <tr>\n",
       "      <th>1</th>\n",
       "      <td>2023-01-02</td>\n",
       "      <td>2.926071</td>\n",
       "      <td>2.941786</td>\n",
       "      <td>0</td>\n",
       "      <td>1</td>\n",
       "    </tr>\n",
       "    <tr>\n",
       "      <th>2</th>\n",
       "      <td>2023-01-03</td>\n",
       "      <td>2.597991</td>\n",
       "      <td>2.858026</td>\n",
       "      <td>0</td>\n",
       "      <td>1</td>\n",
       "    </tr>\n",
       "    <tr>\n",
       "      <th>3</th>\n",
       "      <td>2023-01-04</td>\n",
       "      <td>2.397988</td>\n",
       "      <td>1.793687</td>\n",
       "      <td>0</td>\n",
       "      <td>1</td>\n",
       "    </tr>\n",
       "    <tr>\n",
       "      <th>4</th>\n",
       "      <td>2023-01-05</td>\n",
       "      <td>1.734028</td>\n",
       "      <td>1.604042</td>\n",
       "      <td>0</td>\n",
       "      <td>0</td>\n",
       "    </tr>\n",
       "    <tr>\n",
       "      <th>...</th>\n",
       "      <td>...</td>\n",
       "      <td>...</td>\n",
       "      <td>...</td>\n",
       "      <td>...</td>\n",
       "      <td>...</td>\n",
       "    </tr>\n",
       "    <tr>\n",
       "      <th>360</th>\n",
       "      <td>2023-12-27</td>\n",
       "      <td>2.082255</td>\n",
       "      <td>2.762743</td>\n",
       "      <td>0</td>\n",
       "      <td>0</td>\n",
       "    </tr>\n",
       "    <tr>\n",
       "      <th>361</th>\n",
       "      <td>2023-12-28</td>\n",
       "      <td>2.464932</td>\n",
       "      <td>1.709659</td>\n",
       "      <td>0</td>\n",
       "      <td>0</td>\n",
       "    </tr>\n",
       "    <tr>\n",
       "      <th>362</th>\n",
       "      <td>2023-12-29</td>\n",
       "      <td>2.187379</td>\n",
       "      <td>2.692901</td>\n",
       "      <td>1</td>\n",
       "      <td>1</td>\n",
       "    </tr>\n",
       "    <tr>\n",
       "      <th>363</th>\n",
       "      <td>2023-12-30</td>\n",
       "      <td>2.318425</td>\n",
       "      <td>1.802441</td>\n",
       "      <td>1</td>\n",
       "      <td>1</td>\n",
       "    </tr>\n",
       "    <tr>\n",
       "      <th>364</th>\n",
       "      <td>2023-12-31</td>\n",
       "      <td>2.912197</td>\n",
       "      <td>1.745484</td>\n",
       "      <td>0</td>\n",
       "      <td>0</td>\n",
       "    </tr>\n",
       "  </tbody>\n",
       "</table>\n",
       "<p>365 rows × 5 columns</p>\n",
       "</div>"
      ],
      "text/plain": [
       "          date  odds_team_a  odds_team_b  actual_winner  model_predictions\n",
       "0   2023-01-01     2.061810     2.079154              0                  0\n",
       "1   2023-01-02     2.926071     2.941786              0                  1\n",
       "2   2023-01-03     2.597991     2.858026              0                  1\n",
       "3   2023-01-04     2.397988     1.793687              0                  1\n",
       "4   2023-01-05     1.734028     1.604042              0                  0\n",
       "..         ...          ...          ...            ...                ...\n",
       "360 2023-12-27     2.082255     2.762743              0                  0\n",
       "361 2023-12-28     2.464932     1.709659              0                  0\n",
       "362 2023-12-29     2.187379     2.692901              1                  1\n",
       "363 2023-12-30     2.318425     1.802441              1                  1\n",
       "364 2023-12-31     2.912197     1.745484              0                  0\n",
       "\n",
       "[365 rows x 5 columns]"
      ]
     },
     "execution_count": 4,
     "metadata": {},
     "output_type": "execute_result"
    }
   ],
   "source": [
    "# Cell 2: Create dummy data\n",
    "np.random.seed(42)\n",
    "dates = pd.date_range(start='2023-01-01', end='2023-12-31', freq='D')\n",
    "n_samples = len(dates)\n",
    "\n",
    "data = pd.DataFrame({\n",
    "    'date': dates,\n",
    "    'odds_team_a': np.random.uniform(1.5, 3, n_samples),\n",
    "    'odds_team_b': np.random.uniform(1.5, 3, n_samples),\n",
    "    'actual_winner': np.random.randint(0, 2, n_samples),\n",
    "    'model_predictions': np.random.randint(0, 2, n_samples)\n",
    "})\n",
    "\n",
    "# Cell 3: Display the first few rows of the dummy data\n",
    "data"
   ]
  },
  {
   "cell_type": "code",
   "execution_count": 5,
   "metadata": {},
   "outputs": [],
   "source": [
    "# Cell 4: Set up the backtester\n",
    "strategy = FixedStake(stake=10)\n",
    "backtest = PredictionBacktest(\n",
    "    data=data,\n",
    "    date_column='date',\n",
    "    odds_columns=['odds_team_a', 'odds_team_b'],\n",
    "    outcome_column='actual_winner',\n",
    "    prediction_column='model_predictions',\n",
    "    initial_bankroll=1000,\n",
    "    strategy=strategy,\n",
    ")"
   ]
  },
  {
   "cell_type": "code",
   "execution_count": 6,
   "metadata": {},
   "outputs": [],
   "source": [
    "backtest.run()"
   ]
  },
  {
   "cell_type": "code",
   "execution_count": 7,
   "metadata": {},
   "outputs": [
    {
     "data": {
      "text/html": [
       "<div>\n",
       "<style scoped>\n",
       "    .dataframe tbody tr th:only-of-type {\n",
       "        vertical-align: middle;\n",
       "    }\n",
       "\n",
       "    .dataframe tbody tr th {\n",
       "        vertical-align: top;\n",
       "    }\n",
       "\n",
       "    .dataframe thead th {\n",
       "        text-align: right;\n",
       "    }\n",
       "</style>\n",
       "<table border=\"1\" class=\"dataframe\">\n",
       "  <thead>\n",
       "    <tr style=\"text-align: right;\">\n",
       "      <th></th>\n",
       "      <th>bt_index</th>\n",
       "      <th>bt_fold</th>\n",
       "      <th>bt_predicted_outcome</th>\n",
       "      <th>bt_bet_on</th>\n",
       "      <th>bt_actual_outcome</th>\n",
       "      <th>bt_starting_bankroll</th>\n",
       "      <th>bt_ending_bankroll</th>\n",
       "      <th>bt_odds</th>\n",
       "      <th>bt_win</th>\n",
       "      <th>bt_profit</th>\n",
       "      <th>bt_roi</th>\n",
       "      <th>bt_stake</th>\n",
       "      <th>bt_potential_return</th>\n",
       "      <th>bt_date_column</th>\n",
       "      <th>bt_odd_0</th>\n",
       "      <th>bt_odd_1</th>\n",
       "      <th>date</th>\n",
       "      <th>odds_team_a</th>\n",
       "      <th>odds_team_b</th>\n",
       "      <th>actual_winner</th>\n",
       "      <th>model_predictions</th>\n",
       "    </tr>\n",
       "  </thead>\n",
       "  <tbody>\n",
       "    <tr>\n",
       "      <th>0</th>\n",
       "      <td>0</td>\n",
       "      <td>0</td>\n",
       "      <td>0</td>\n",
       "      <td>0</td>\n",
       "      <td>0</td>\n",
       "      <td>1000.000000</td>\n",
       "      <td>1010.618102</td>\n",
       "      <td>2.061810</td>\n",
       "      <td>True</td>\n",
       "      <td>10.618102</td>\n",
       "      <td>106.181018</td>\n",
       "      <td>10</td>\n",
       "      <td>20.618102</td>\n",
       "      <td>2023-01-01</td>\n",
       "      <td>2.061810</td>\n",
       "      <td>2.079154</td>\n",
       "      <td>2023-01-01</td>\n",
       "      <td>2.061810</td>\n",
       "      <td>2.079154</td>\n",
       "      <td>0</td>\n",
       "      <td>0</td>\n",
       "    </tr>\n",
       "    <tr>\n",
       "      <th>1</th>\n",
       "      <td>1</td>\n",
       "      <td>0</td>\n",
       "      <td>1</td>\n",
       "      <td>1</td>\n",
       "      <td>0</td>\n",
       "      <td>1010.618102</td>\n",
       "      <td>1000.618102</td>\n",
       "      <td>2.941786</td>\n",
       "      <td>False</td>\n",
       "      <td>-10.000000</td>\n",
       "      <td>-100.000000</td>\n",
       "      <td>10</td>\n",
       "      <td>29.417858</td>\n",
       "      <td>2023-01-02</td>\n",
       "      <td>2.926071</td>\n",
       "      <td>2.941786</td>\n",
       "      <td>2023-01-02</td>\n",
       "      <td>2.926071</td>\n",
       "      <td>2.941786</td>\n",
       "      <td>0</td>\n",
       "      <td>1</td>\n",
       "    </tr>\n",
       "    <tr>\n",
       "      <th>2</th>\n",
       "      <td>2</td>\n",
       "      <td>0</td>\n",
       "      <td>1</td>\n",
       "      <td>1</td>\n",
       "      <td>0</td>\n",
       "      <td>1000.618102</td>\n",
       "      <td>990.618102</td>\n",
       "      <td>2.858026</td>\n",
       "      <td>False</td>\n",
       "      <td>-10.000000</td>\n",
       "      <td>-100.000000</td>\n",
       "      <td>10</td>\n",
       "      <td>28.580260</td>\n",
       "      <td>2023-01-03</td>\n",
       "      <td>2.597991</td>\n",
       "      <td>2.858026</td>\n",
       "      <td>2023-01-03</td>\n",
       "      <td>2.597991</td>\n",
       "      <td>2.858026</td>\n",
       "      <td>0</td>\n",
       "      <td>1</td>\n",
       "    </tr>\n",
       "    <tr>\n",
       "      <th>3</th>\n",
       "      <td>3</td>\n",
       "      <td>0</td>\n",
       "      <td>1</td>\n",
       "      <td>1</td>\n",
       "      <td>0</td>\n",
       "      <td>990.618102</td>\n",
       "      <td>980.618102</td>\n",
       "      <td>1.793687</td>\n",
       "      <td>False</td>\n",
       "      <td>-10.000000</td>\n",
       "      <td>-100.000000</td>\n",
       "      <td>10</td>\n",
       "      <td>17.936867</td>\n",
       "      <td>2023-01-04</td>\n",
       "      <td>2.397988</td>\n",
       "      <td>1.793687</td>\n",
       "      <td>2023-01-04</td>\n",
       "      <td>2.397988</td>\n",
       "      <td>1.793687</td>\n",
       "      <td>0</td>\n",
       "      <td>1</td>\n",
       "    </tr>\n",
       "    <tr>\n",
       "      <th>4</th>\n",
       "      <td>4</td>\n",
       "      <td>0</td>\n",
       "      <td>0</td>\n",
       "      <td>0</td>\n",
       "      <td>0</td>\n",
       "      <td>980.618102</td>\n",
       "      <td>987.958381</td>\n",
       "      <td>1.734028</td>\n",
       "      <td>True</td>\n",
       "      <td>7.340280</td>\n",
       "      <td>73.402796</td>\n",
       "      <td>10</td>\n",
       "      <td>17.340280</td>\n",
       "      <td>2023-01-05</td>\n",
       "      <td>1.734028</td>\n",
       "      <td>1.604042</td>\n",
       "      <td>2023-01-05</td>\n",
       "      <td>1.734028</td>\n",
       "      <td>1.604042</td>\n",
       "      <td>0</td>\n",
       "      <td>0</td>\n",
       "    </tr>\n",
       "    <tr>\n",
       "      <th>...</th>\n",
       "      <td>...</td>\n",
       "      <td>...</td>\n",
       "      <td>...</td>\n",
       "      <td>...</td>\n",
       "      <td>...</td>\n",
       "      <td>...</td>\n",
       "      <td>...</td>\n",
       "      <td>...</td>\n",
       "      <td>...</td>\n",
       "      <td>...</td>\n",
       "      <td>...</td>\n",
       "      <td>...</td>\n",
       "      <td>...</td>\n",
       "      <td>...</td>\n",
       "      <td>...</td>\n",
       "      <td>...</td>\n",
       "      <td>...</td>\n",
       "      <td>...</td>\n",
       "      <td>...</td>\n",
       "      <td>...</td>\n",
       "      <td>...</td>\n",
       "    </tr>\n",
       "    <tr>\n",
       "      <th>360</th>\n",
       "      <td>360</td>\n",
       "      <td>0</td>\n",
       "      <td>0</td>\n",
       "      <td>0</td>\n",
       "      <td>0</td>\n",
       "      <td>1236.142029</td>\n",
       "      <td>1246.964578</td>\n",
       "      <td>2.082255</td>\n",
       "      <td>True</td>\n",
       "      <td>10.822549</td>\n",
       "      <td>108.225489</td>\n",
       "      <td>10</td>\n",
       "      <td>20.822549</td>\n",
       "      <td>2023-12-27</td>\n",
       "      <td>2.082255</td>\n",
       "      <td>2.762743</td>\n",
       "      <td>2023-12-27</td>\n",
       "      <td>2.082255</td>\n",
       "      <td>2.762743</td>\n",
       "      <td>0</td>\n",
       "      <td>0</td>\n",
       "    </tr>\n",
       "    <tr>\n",
       "      <th>361</th>\n",
       "      <td>361</td>\n",
       "      <td>0</td>\n",
       "      <td>0</td>\n",
       "      <td>0</td>\n",
       "      <td>0</td>\n",
       "      <td>1246.964578</td>\n",
       "      <td>1261.613901</td>\n",
       "      <td>2.464932</td>\n",
       "      <td>True</td>\n",
       "      <td>14.649323</td>\n",
       "      <td>146.493233</td>\n",
       "      <td>10</td>\n",
       "      <td>24.649323</td>\n",
       "      <td>2023-12-28</td>\n",
       "      <td>2.464932</td>\n",
       "      <td>1.709659</td>\n",
       "      <td>2023-12-28</td>\n",
       "      <td>2.464932</td>\n",
       "      <td>1.709659</td>\n",
       "      <td>0</td>\n",
       "      <td>0</td>\n",
       "    </tr>\n",
       "    <tr>\n",
       "      <th>362</th>\n",
       "      <td>362</td>\n",
       "      <td>0</td>\n",
       "      <td>1</td>\n",
       "      <td>1</td>\n",
       "      <td>1</td>\n",
       "      <td>1261.613901</td>\n",
       "      <td>1278.542911</td>\n",
       "      <td>2.692901</td>\n",
       "      <td>True</td>\n",
       "      <td>16.929010</td>\n",
       "      <td>169.290097</td>\n",
       "      <td>10</td>\n",
       "      <td>26.929010</td>\n",
       "      <td>2023-12-29</td>\n",
       "      <td>2.187379</td>\n",
       "      <td>2.692901</td>\n",
       "      <td>2023-12-29</td>\n",
       "      <td>2.187379</td>\n",
       "      <td>2.692901</td>\n",
       "      <td>1</td>\n",
       "      <td>1</td>\n",
       "    </tr>\n",
       "    <tr>\n",
       "      <th>363</th>\n",
       "      <td>363</td>\n",
       "      <td>0</td>\n",
       "      <td>1</td>\n",
       "      <td>1</td>\n",
       "      <td>1</td>\n",
       "      <td>1278.542911</td>\n",
       "      <td>1286.567320</td>\n",
       "      <td>1.802441</td>\n",
       "      <td>True</td>\n",
       "      <td>8.024410</td>\n",
       "      <td>80.244098</td>\n",
       "      <td>10</td>\n",
       "      <td>18.024410</td>\n",
       "      <td>2023-12-30</td>\n",
       "      <td>2.318425</td>\n",
       "      <td>1.802441</td>\n",
       "      <td>2023-12-30</td>\n",
       "      <td>2.318425</td>\n",
       "      <td>1.802441</td>\n",
       "      <td>1</td>\n",
       "      <td>1</td>\n",
       "    </tr>\n",
       "    <tr>\n",
       "      <th>364</th>\n",
       "      <td>364</td>\n",
       "      <td>0</td>\n",
       "      <td>0</td>\n",
       "      <td>0</td>\n",
       "      <td>0</td>\n",
       "      <td>1286.567320</td>\n",
       "      <td>1305.689292</td>\n",
       "      <td>2.912197</td>\n",
       "      <td>True</td>\n",
       "      <td>19.121972</td>\n",
       "      <td>191.219721</td>\n",
       "      <td>10</td>\n",
       "      <td>29.121972</td>\n",
       "      <td>2023-12-31</td>\n",
       "      <td>2.912197</td>\n",
       "      <td>1.745484</td>\n",
       "      <td>2023-12-31</td>\n",
       "      <td>2.912197</td>\n",
       "      <td>1.745484</td>\n",
       "      <td>0</td>\n",
       "      <td>0</td>\n",
       "    </tr>\n",
       "  </tbody>\n",
       "</table>\n",
       "<p>365 rows × 21 columns</p>\n",
       "</div>"
      ],
      "text/plain": [
       "     bt_index  bt_fold  bt_predicted_outcome  bt_bet_on  bt_actual_outcome  \\\n",
       "0           0        0                     0          0                  0   \n",
       "1           1        0                     1          1                  0   \n",
       "2           2        0                     1          1                  0   \n",
       "3           3        0                     1          1                  0   \n",
       "4           4        0                     0          0                  0   \n",
       "..        ...      ...                   ...        ...                ...   \n",
       "360       360        0                     0          0                  0   \n",
       "361       361        0                     0          0                  0   \n",
       "362       362        0                     1          1                  1   \n",
       "363       363        0                     1          1                  1   \n",
       "364       364        0                     0          0                  0   \n",
       "\n",
       "     bt_starting_bankroll  bt_ending_bankroll   bt_odds  bt_win  bt_profit  \\\n",
       "0             1000.000000         1010.618102  2.061810    True  10.618102   \n",
       "1             1010.618102         1000.618102  2.941786   False -10.000000   \n",
       "2             1000.618102          990.618102  2.858026   False -10.000000   \n",
       "3              990.618102          980.618102  1.793687   False -10.000000   \n",
       "4              980.618102          987.958381  1.734028    True   7.340280   \n",
       "..                    ...                 ...       ...     ...        ...   \n",
       "360           1236.142029         1246.964578  2.082255    True  10.822549   \n",
       "361           1246.964578         1261.613901  2.464932    True  14.649323   \n",
       "362           1261.613901         1278.542911  2.692901    True  16.929010   \n",
       "363           1278.542911         1286.567320  1.802441    True   8.024410   \n",
       "364           1286.567320         1305.689292  2.912197    True  19.121972   \n",
       "\n",
       "         bt_roi  bt_stake  bt_potential_return bt_date_column  bt_odd_0  \\\n",
       "0    106.181018        10            20.618102     2023-01-01  2.061810   \n",
       "1   -100.000000        10            29.417858     2023-01-02  2.926071   \n",
       "2   -100.000000        10            28.580260     2023-01-03  2.597991   \n",
       "3   -100.000000        10            17.936867     2023-01-04  2.397988   \n",
       "4     73.402796        10            17.340280     2023-01-05  1.734028   \n",
       "..          ...       ...                  ...            ...       ...   \n",
       "360  108.225489        10            20.822549     2023-12-27  2.082255   \n",
       "361  146.493233        10            24.649323     2023-12-28  2.464932   \n",
       "362  169.290097        10            26.929010     2023-12-29  2.187379   \n",
       "363   80.244098        10            18.024410     2023-12-30  2.318425   \n",
       "364  191.219721        10            29.121972     2023-12-31  2.912197   \n",
       "\n",
       "     bt_odd_1       date  odds_team_a  odds_team_b  actual_winner  \\\n",
       "0    2.079154 2023-01-01     2.061810     2.079154              0   \n",
       "1    2.941786 2023-01-02     2.926071     2.941786              0   \n",
       "2    2.858026 2023-01-03     2.597991     2.858026              0   \n",
       "3    1.793687 2023-01-04     2.397988     1.793687              0   \n",
       "4    1.604042 2023-01-05     1.734028     1.604042              0   \n",
       "..        ...        ...          ...          ...            ...   \n",
       "360  2.762743 2023-12-27     2.082255     2.762743              0   \n",
       "361  1.709659 2023-12-28     2.464932     1.709659              0   \n",
       "362  2.692901 2023-12-29     2.187379     2.692901              1   \n",
       "363  1.802441 2023-12-30     2.318425     1.802441              1   \n",
       "364  1.745484 2023-12-31     2.912197     1.745484              0   \n",
       "\n",
       "     model_predictions  \n",
       "0                    0  \n",
       "1                    1  \n",
       "2                    1  \n",
       "3                    1  \n",
       "4                    0  \n",
       "..                 ...  \n",
       "360                  0  \n",
       "361                  0  \n",
       "362                  1  \n",
       "363                  1  \n",
       "364                  0  \n",
       "\n",
       "[365 rows x 21 columns]"
      ]
     },
     "execution_count": 7,
     "metadata": {},
     "output_type": "execute_result"
    }
   ],
   "source": [
    "detailed_results = backtest.detailed_results\n",
    "detailed_results"
   ]
  },
  {
   "cell_type": "code",
   "execution_count": 8,
   "metadata": {},
   "outputs": [
    {
     "data": {
      "text/html": [
       "<div>\n",
       "<style scoped>\n",
       "    .dataframe tbody tr th:only-of-type {\n",
       "        vertical-align: middle;\n",
       "    }\n",
       "\n",
       "    .dataframe tbody tr th {\n",
       "        vertical-align: top;\n",
       "    }\n",
       "\n",
       "    .dataframe thead th {\n",
       "        text-align: right;\n",
       "    }\n",
       "</style>\n",
       "<table border=\"1\" class=\"dataframe\">\n",
       "  <thead>\n",
       "    <tr style=\"text-align: right;\">\n",
       "      <th></th>\n",
       "      <th>bt_index</th>\n",
       "      <th>bt_fold</th>\n",
       "      <th>bt_predicted_outcome</th>\n",
       "      <th>bt_bet_on</th>\n",
       "      <th>bt_actual_outcome</th>\n",
       "      <th>bt_starting_bankroll</th>\n",
       "      <th>bt_ending_bankroll</th>\n",
       "      <th>bt_odds</th>\n",
       "      <th>bt_win</th>\n",
       "      <th>bt_profit</th>\n",
       "      <th>bt_roi</th>\n",
       "      <th>bt_stake</th>\n",
       "      <th>bt_potential_return</th>\n",
       "      <th>bt_date_column</th>\n",
       "      <th>bt_odd_0</th>\n",
       "      <th>bt_odd_1</th>\n",
       "      <th>date</th>\n",
       "      <th>odds_team_a</th>\n",
       "      <th>odds_team_b</th>\n",
       "      <th>actual_winner</th>\n",
       "      <th>model_predictions</th>\n",
       "    </tr>\n",
       "  </thead>\n",
       "  <tbody>\n",
       "    <tr>\n",
       "      <th>0</th>\n",
       "      <td>0</td>\n",
       "      <td>0</td>\n",
       "      <td>0</td>\n",
       "      <td>0</td>\n",
       "      <td>0</td>\n",
       "      <td>1000.000000</td>\n",
       "      <td>1010.618102</td>\n",
       "      <td>2.061810</td>\n",
       "      <td>True</td>\n",
       "      <td>10.618102</td>\n",
       "      <td>106.181018</td>\n",
       "      <td>10</td>\n",
       "      <td>20.618102</td>\n",
       "      <td>2023-01-01</td>\n",
       "      <td>2.061810</td>\n",
       "      <td>2.079154</td>\n",
       "      <td>2023-01-01</td>\n",
       "      <td>2.061810</td>\n",
       "      <td>2.079154</td>\n",
       "      <td>0</td>\n",
       "      <td>0</td>\n",
       "    </tr>\n",
       "    <tr>\n",
       "      <th>1</th>\n",
       "      <td>1</td>\n",
       "      <td>0</td>\n",
       "      <td>1</td>\n",
       "      <td>1</td>\n",
       "      <td>0</td>\n",
       "      <td>1010.618102</td>\n",
       "      <td>1000.618102</td>\n",
       "      <td>2.941786</td>\n",
       "      <td>False</td>\n",
       "      <td>-10.000000</td>\n",
       "      <td>-100.000000</td>\n",
       "      <td>10</td>\n",
       "      <td>29.417858</td>\n",
       "      <td>2023-01-02</td>\n",
       "      <td>2.926071</td>\n",
       "      <td>2.941786</td>\n",
       "      <td>2023-01-02</td>\n",
       "      <td>2.926071</td>\n",
       "      <td>2.941786</td>\n",
       "      <td>0</td>\n",
       "      <td>1</td>\n",
       "    </tr>\n",
       "    <tr>\n",
       "      <th>2</th>\n",
       "      <td>2</td>\n",
       "      <td>0</td>\n",
       "      <td>1</td>\n",
       "      <td>1</td>\n",
       "      <td>0</td>\n",
       "      <td>1000.618102</td>\n",
       "      <td>990.618102</td>\n",
       "      <td>2.858026</td>\n",
       "      <td>False</td>\n",
       "      <td>-10.000000</td>\n",
       "      <td>-100.000000</td>\n",
       "      <td>10</td>\n",
       "      <td>28.580260</td>\n",
       "      <td>2023-01-03</td>\n",
       "      <td>2.597991</td>\n",
       "      <td>2.858026</td>\n",
       "      <td>2023-01-03</td>\n",
       "      <td>2.597991</td>\n",
       "      <td>2.858026</td>\n",
       "      <td>0</td>\n",
       "      <td>1</td>\n",
       "    </tr>\n",
       "    <tr>\n",
       "      <th>3</th>\n",
       "      <td>3</td>\n",
       "      <td>0</td>\n",
       "      <td>1</td>\n",
       "      <td>1</td>\n",
       "      <td>0</td>\n",
       "      <td>990.618102</td>\n",
       "      <td>980.618102</td>\n",
       "      <td>1.793687</td>\n",
       "      <td>False</td>\n",
       "      <td>-10.000000</td>\n",
       "      <td>-100.000000</td>\n",
       "      <td>10</td>\n",
       "      <td>17.936867</td>\n",
       "      <td>2023-01-04</td>\n",
       "      <td>2.397988</td>\n",
       "      <td>1.793687</td>\n",
       "      <td>2023-01-04</td>\n",
       "      <td>2.397988</td>\n",
       "      <td>1.793687</td>\n",
       "      <td>0</td>\n",
       "      <td>1</td>\n",
       "    </tr>\n",
       "    <tr>\n",
       "      <th>4</th>\n",
       "      <td>4</td>\n",
       "      <td>0</td>\n",
       "      <td>0</td>\n",
       "      <td>0</td>\n",
       "      <td>0</td>\n",
       "      <td>980.618102</td>\n",
       "      <td>987.958381</td>\n",
       "      <td>1.734028</td>\n",
       "      <td>True</td>\n",
       "      <td>7.340280</td>\n",
       "      <td>73.402796</td>\n",
       "      <td>10</td>\n",
       "      <td>17.340280</td>\n",
       "      <td>2023-01-05</td>\n",
       "      <td>1.734028</td>\n",
       "      <td>1.604042</td>\n",
       "      <td>2023-01-05</td>\n",
       "      <td>1.734028</td>\n",
       "      <td>1.604042</td>\n",
       "      <td>0</td>\n",
       "      <td>0</td>\n",
       "    </tr>\n",
       "    <tr>\n",
       "      <th>...</th>\n",
       "      <td>...</td>\n",
       "      <td>...</td>\n",
       "      <td>...</td>\n",
       "      <td>...</td>\n",
       "      <td>...</td>\n",
       "      <td>...</td>\n",
       "      <td>...</td>\n",
       "      <td>...</td>\n",
       "      <td>...</td>\n",
       "      <td>...</td>\n",
       "      <td>...</td>\n",
       "      <td>...</td>\n",
       "      <td>...</td>\n",
       "      <td>...</td>\n",
       "      <td>...</td>\n",
       "      <td>...</td>\n",
       "      <td>...</td>\n",
       "      <td>...</td>\n",
       "      <td>...</td>\n",
       "      <td>...</td>\n",
       "      <td>...</td>\n",
       "    </tr>\n",
       "    <tr>\n",
       "      <th>360</th>\n",
       "      <td>360</td>\n",
       "      <td>0</td>\n",
       "      <td>0</td>\n",
       "      <td>0</td>\n",
       "      <td>0</td>\n",
       "      <td>1236.142029</td>\n",
       "      <td>1246.964578</td>\n",
       "      <td>2.082255</td>\n",
       "      <td>True</td>\n",
       "      <td>10.822549</td>\n",
       "      <td>108.225489</td>\n",
       "      <td>10</td>\n",
       "      <td>20.822549</td>\n",
       "      <td>2023-12-27</td>\n",
       "      <td>2.082255</td>\n",
       "      <td>2.762743</td>\n",
       "      <td>2023-12-27</td>\n",
       "      <td>2.082255</td>\n",
       "      <td>2.762743</td>\n",
       "      <td>0</td>\n",
       "      <td>0</td>\n",
       "    </tr>\n",
       "    <tr>\n",
       "      <th>361</th>\n",
       "      <td>361</td>\n",
       "      <td>0</td>\n",
       "      <td>0</td>\n",
       "      <td>0</td>\n",
       "      <td>0</td>\n",
       "      <td>1246.964578</td>\n",
       "      <td>1261.613901</td>\n",
       "      <td>2.464932</td>\n",
       "      <td>True</td>\n",
       "      <td>14.649323</td>\n",
       "      <td>146.493233</td>\n",
       "      <td>10</td>\n",
       "      <td>24.649323</td>\n",
       "      <td>2023-12-28</td>\n",
       "      <td>2.464932</td>\n",
       "      <td>1.709659</td>\n",
       "      <td>2023-12-28</td>\n",
       "      <td>2.464932</td>\n",
       "      <td>1.709659</td>\n",
       "      <td>0</td>\n",
       "      <td>0</td>\n",
       "    </tr>\n",
       "    <tr>\n",
       "      <th>362</th>\n",
       "      <td>362</td>\n",
       "      <td>0</td>\n",
       "      <td>1</td>\n",
       "      <td>1</td>\n",
       "      <td>1</td>\n",
       "      <td>1261.613901</td>\n",
       "      <td>1278.542911</td>\n",
       "      <td>2.692901</td>\n",
       "      <td>True</td>\n",
       "      <td>16.929010</td>\n",
       "      <td>169.290097</td>\n",
       "      <td>10</td>\n",
       "      <td>26.929010</td>\n",
       "      <td>2023-12-29</td>\n",
       "      <td>2.187379</td>\n",
       "      <td>2.692901</td>\n",
       "      <td>2023-12-29</td>\n",
       "      <td>2.187379</td>\n",
       "      <td>2.692901</td>\n",
       "      <td>1</td>\n",
       "      <td>1</td>\n",
       "    </tr>\n",
       "    <tr>\n",
       "      <th>363</th>\n",
       "      <td>363</td>\n",
       "      <td>0</td>\n",
       "      <td>1</td>\n",
       "      <td>1</td>\n",
       "      <td>1</td>\n",
       "      <td>1278.542911</td>\n",
       "      <td>1286.567320</td>\n",
       "      <td>1.802441</td>\n",
       "      <td>True</td>\n",
       "      <td>8.024410</td>\n",
       "      <td>80.244098</td>\n",
       "      <td>10</td>\n",
       "      <td>18.024410</td>\n",
       "      <td>2023-12-30</td>\n",
       "      <td>2.318425</td>\n",
       "      <td>1.802441</td>\n",
       "      <td>2023-12-30</td>\n",
       "      <td>2.318425</td>\n",
       "      <td>1.802441</td>\n",
       "      <td>1</td>\n",
       "      <td>1</td>\n",
       "    </tr>\n",
       "    <tr>\n",
       "      <th>364</th>\n",
       "      <td>364</td>\n",
       "      <td>0</td>\n",
       "      <td>0</td>\n",
       "      <td>0</td>\n",
       "      <td>0</td>\n",
       "      <td>1286.567320</td>\n",
       "      <td>1305.689292</td>\n",
       "      <td>2.912197</td>\n",
       "      <td>True</td>\n",
       "      <td>19.121972</td>\n",
       "      <td>191.219721</td>\n",
       "      <td>10</td>\n",
       "      <td>29.121972</td>\n",
       "      <td>2023-12-31</td>\n",
       "      <td>2.912197</td>\n",
       "      <td>1.745484</td>\n",
       "      <td>2023-12-31</td>\n",
       "      <td>2.912197</td>\n",
       "      <td>1.745484</td>\n",
       "      <td>0</td>\n",
       "      <td>0</td>\n",
       "    </tr>\n",
       "  </tbody>\n",
       "</table>\n",
       "<p>365 rows × 21 columns</p>\n",
       "</div>"
      ],
      "text/plain": [
       "     bt_index  bt_fold  bt_predicted_outcome  bt_bet_on  bt_actual_outcome  \\\n",
       "0           0        0                     0          0                  0   \n",
       "1           1        0                     1          1                  0   \n",
       "2           2        0                     1          1                  0   \n",
       "3           3        0                     1          1                  0   \n",
       "4           4        0                     0          0                  0   \n",
       "..        ...      ...                   ...        ...                ...   \n",
       "360       360        0                     0          0                  0   \n",
       "361       361        0                     0          0                  0   \n",
       "362       362        0                     1          1                  1   \n",
       "363       363        0                     1          1                  1   \n",
       "364       364        0                     0          0                  0   \n",
       "\n",
       "     bt_starting_bankroll  bt_ending_bankroll   bt_odds  bt_win  bt_profit  \\\n",
       "0             1000.000000         1010.618102  2.061810    True  10.618102   \n",
       "1             1010.618102         1000.618102  2.941786   False -10.000000   \n",
       "2             1000.618102          990.618102  2.858026   False -10.000000   \n",
       "3              990.618102          980.618102  1.793687   False -10.000000   \n",
       "4              980.618102          987.958381  1.734028    True   7.340280   \n",
       "..                    ...                 ...       ...     ...        ...   \n",
       "360           1236.142029         1246.964578  2.082255    True  10.822549   \n",
       "361           1246.964578         1261.613901  2.464932    True  14.649323   \n",
       "362           1261.613901         1278.542911  2.692901    True  16.929010   \n",
       "363           1278.542911         1286.567320  1.802441    True   8.024410   \n",
       "364           1286.567320         1305.689292  2.912197    True  19.121972   \n",
       "\n",
       "         bt_roi  bt_stake  bt_potential_return bt_date_column  bt_odd_0  \\\n",
       "0    106.181018        10            20.618102     2023-01-01  2.061810   \n",
       "1   -100.000000        10            29.417858     2023-01-02  2.926071   \n",
       "2   -100.000000        10            28.580260     2023-01-03  2.597991   \n",
       "3   -100.000000        10            17.936867     2023-01-04  2.397988   \n",
       "4     73.402796        10            17.340280     2023-01-05  1.734028   \n",
       "..          ...       ...                  ...            ...       ...   \n",
       "360  108.225489        10            20.822549     2023-12-27  2.082255   \n",
       "361  146.493233        10            24.649323     2023-12-28  2.464932   \n",
       "362  169.290097        10            26.929010     2023-12-29  2.187379   \n",
       "363   80.244098        10            18.024410     2023-12-30  2.318425   \n",
       "364  191.219721        10            29.121972     2023-12-31  2.912197   \n",
       "\n",
       "     bt_odd_1       date  odds_team_a  odds_team_b  actual_winner  \\\n",
       "0    2.079154 2023-01-01     2.061810     2.079154              0   \n",
       "1    2.941786 2023-01-02     2.926071     2.941786              0   \n",
       "2    2.858026 2023-01-03     2.597991     2.858026              0   \n",
       "3    1.793687 2023-01-04     2.397988     1.793687              0   \n",
       "4    1.604042 2023-01-05     1.734028     1.604042              0   \n",
       "..        ...        ...          ...          ...            ...   \n",
       "360  2.762743 2023-12-27     2.082255     2.762743              0   \n",
       "361  1.709659 2023-12-28     2.464932     1.709659              0   \n",
       "362  2.692901 2023-12-29     2.187379     2.692901              1   \n",
       "363  1.802441 2023-12-30     2.318425     1.802441              1   \n",
       "364  1.745484 2023-12-31     2.912197     1.745484              0   \n",
       "\n",
       "     model_predictions  \n",
       "0                    0  \n",
       "1                    1  \n",
       "2                    1  \n",
       "3                    1  \n",
       "4                    0  \n",
       "..                 ...  \n",
       "360                  0  \n",
       "361                  0  \n",
       "362                  1  \n",
       "363                  1  \n",
       "364                  0  \n",
       "\n",
       "[365 rows x 21 columns]"
      ]
     },
     "execution_count": 8,
     "metadata": {},
     "output_type": "execute_result"
    }
   ],
   "source": [
    "bookie_results = backtest.get_detailed_results()\n",
    "bookie_results"
   ]
  },
  {
   "cell_type": "code",
   "execution_count": 9,
   "metadata": {},
   "outputs": [
    {
     "data": {
      "text/html": [
       "<div>\n",
       "<style scoped>\n",
       "    .dataframe tbody tr th:only-of-type {\n",
       "        vertical-align: middle;\n",
       "    }\n",
       "\n",
       "    .dataframe tbody tr th {\n",
       "        vertical-align: top;\n",
       "    }\n",
       "\n",
       "    .dataframe thead th {\n",
       "        text-align: right;\n",
       "    }\n",
       "</style>\n",
       "<table border=\"1\" class=\"dataframe\">\n",
       "  <thead>\n",
       "    <tr style=\"text-align: right;\">\n",
       "      <th></th>\n",
       "      <th>bt_index</th>\n",
       "      <th>bt_fold</th>\n",
       "      <th>bt_predicted_outcome</th>\n",
       "      <th>bt_bet_on</th>\n",
       "      <th>bt_actual_outcome</th>\n",
       "      <th>bt_starting_bankroll</th>\n",
       "      <th>bt_ending_bankroll</th>\n",
       "      <th>bt_stake</th>\n",
       "      <th>bt_potential_return</th>\n",
       "      <th>bt_win</th>\n",
       "      <th>bt_profit</th>\n",
       "      <th>bt_roi</th>\n",
       "      <th>bt_odds</th>\n",
       "      <th>bt_date_column</th>\n",
       "      <th>bt_odd_0</th>\n",
       "      <th>bt_odd_1</th>\n",
       "      <th>date</th>\n",
       "      <th>odds_team_a</th>\n",
       "      <th>odds_team_b</th>\n",
       "      <th>actual_winner</th>\n",
       "      <th>model_predictions</th>\n",
       "    </tr>\n",
       "  </thead>\n",
       "  <tbody>\n",
       "    <tr>\n",
       "      <th>0</th>\n",
       "      <td>0</td>\n",
       "      <td>0</td>\n",
       "      <td>0</td>\n",
       "      <td>0</td>\n",
       "      <td>0</td>\n",
       "      <td>1000.000000</td>\n",
       "      <td>1010.618102</td>\n",
       "      <td>10</td>\n",
       "      <td>20.618102</td>\n",
       "      <td>True</td>\n",
       "      <td>10.618102</td>\n",
       "      <td>106.181018</td>\n",
       "      <td>2.061810</td>\n",
       "      <td>2023-01-01</td>\n",
       "      <td>2.061810</td>\n",
       "      <td>2.079154</td>\n",
       "      <td>2023-01-01</td>\n",
       "      <td>2.061810</td>\n",
       "      <td>2.079154</td>\n",
       "      <td>0</td>\n",
       "      <td>0</td>\n",
       "    </tr>\n",
       "    <tr>\n",
       "      <th>1</th>\n",
       "      <td>1</td>\n",
       "      <td>0</td>\n",
       "      <td>0</td>\n",
       "      <td>0</td>\n",
       "      <td>0</td>\n",
       "      <td>1010.618102</td>\n",
       "      <td>1029.878816</td>\n",
       "      <td>10</td>\n",
       "      <td>29.260715</td>\n",
       "      <td>True</td>\n",
       "      <td>19.260715</td>\n",
       "      <td>192.607146</td>\n",
       "      <td>2.926071</td>\n",
       "      <td>2023-01-02</td>\n",
       "      <td>2.926071</td>\n",
       "      <td>2.941786</td>\n",
       "      <td>2023-01-02</td>\n",
       "      <td>2.926071</td>\n",
       "      <td>2.941786</td>\n",
       "      <td>0</td>\n",
       "      <td>1</td>\n",
       "    </tr>\n",
       "    <tr>\n",
       "      <th>2</th>\n",
       "      <td>2</td>\n",
       "      <td>0</td>\n",
       "      <td>0</td>\n",
       "      <td>0</td>\n",
       "      <td>0</td>\n",
       "      <td>1029.878816</td>\n",
       "      <td>1045.858726</td>\n",
       "      <td>10</td>\n",
       "      <td>25.979909</td>\n",
       "      <td>True</td>\n",
       "      <td>15.979909</td>\n",
       "      <td>159.799091</td>\n",
       "      <td>2.597991</td>\n",
       "      <td>2023-01-03</td>\n",
       "      <td>2.597991</td>\n",
       "      <td>2.858026</td>\n",
       "      <td>2023-01-03</td>\n",
       "      <td>2.597991</td>\n",
       "      <td>2.858026</td>\n",
       "      <td>0</td>\n",
       "      <td>1</td>\n",
       "    </tr>\n",
       "    <tr>\n",
       "      <th>3</th>\n",
       "      <td>3</td>\n",
       "      <td>0</td>\n",
       "      <td>1</td>\n",
       "      <td>1</td>\n",
       "      <td>0</td>\n",
       "      <td>1045.858726</td>\n",
       "      <td>1035.858726</td>\n",
       "      <td>10</td>\n",
       "      <td>17.936867</td>\n",
       "      <td>False</td>\n",
       "      <td>-10.000000</td>\n",
       "      <td>-100.000000</td>\n",
       "      <td>1.793687</td>\n",
       "      <td>2023-01-04</td>\n",
       "      <td>2.397988</td>\n",
       "      <td>1.793687</td>\n",
       "      <td>2023-01-04</td>\n",
       "      <td>2.397988</td>\n",
       "      <td>1.793687</td>\n",
       "      <td>0</td>\n",
       "      <td>1</td>\n",
       "    </tr>\n",
       "    <tr>\n",
       "      <th>4</th>\n",
       "      <td>4</td>\n",
       "      <td>0</td>\n",
       "      <td>1</td>\n",
       "      <td>1</td>\n",
       "      <td>0</td>\n",
       "      <td>1035.858726</td>\n",
       "      <td>1025.858726</td>\n",
       "      <td>10</td>\n",
       "      <td>16.040420</td>\n",
       "      <td>False</td>\n",
       "      <td>-10.000000</td>\n",
       "      <td>-100.000000</td>\n",
       "      <td>1.604042</td>\n",
       "      <td>2023-01-05</td>\n",
       "      <td>1.734028</td>\n",
       "      <td>1.604042</td>\n",
       "      <td>2023-01-05</td>\n",
       "      <td>1.734028</td>\n",
       "      <td>1.604042</td>\n",
       "      <td>0</td>\n",
       "      <td>0</td>\n",
       "    </tr>\n",
       "    <tr>\n",
       "      <th>...</th>\n",
       "      <td>...</td>\n",
       "      <td>...</td>\n",
       "      <td>...</td>\n",
       "      <td>...</td>\n",
       "      <td>...</td>\n",
       "      <td>...</td>\n",
       "      <td>...</td>\n",
       "      <td>...</td>\n",
       "      <td>...</td>\n",
       "      <td>...</td>\n",
       "      <td>...</td>\n",
       "      <td>...</td>\n",
       "      <td>...</td>\n",
       "      <td>...</td>\n",
       "      <td>...</td>\n",
       "      <td>...</td>\n",
       "      <td>...</td>\n",
       "      <td>...</td>\n",
       "      <td>...</td>\n",
       "      <td>...</td>\n",
       "      <td>...</td>\n",
       "    </tr>\n",
       "    <tr>\n",
       "      <th>360</th>\n",
       "      <td>360</td>\n",
       "      <td>0</td>\n",
       "      <td>0</td>\n",
       "      <td>0</td>\n",
       "      <td>0</td>\n",
       "      <td>1079.234754</td>\n",
       "      <td>1090.057303</td>\n",
       "      <td>10</td>\n",
       "      <td>20.822549</td>\n",
       "      <td>True</td>\n",
       "      <td>10.822549</td>\n",
       "      <td>108.225489</td>\n",
       "      <td>2.082255</td>\n",
       "      <td>2023-12-27</td>\n",
       "      <td>2.082255</td>\n",
       "      <td>2.762743</td>\n",
       "      <td>2023-12-27</td>\n",
       "      <td>2.082255</td>\n",
       "      <td>2.762743</td>\n",
       "      <td>0</td>\n",
       "      <td>0</td>\n",
       "    </tr>\n",
       "    <tr>\n",
       "      <th>361</th>\n",
       "      <td>361</td>\n",
       "      <td>0</td>\n",
       "      <td>1</td>\n",
       "      <td>1</td>\n",
       "      <td>0</td>\n",
       "      <td>1090.057303</td>\n",
       "      <td>1080.057303</td>\n",
       "      <td>10</td>\n",
       "      <td>17.096586</td>\n",
       "      <td>False</td>\n",
       "      <td>-10.000000</td>\n",
       "      <td>-100.000000</td>\n",
       "      <td>1.709659</td>\n",
       "      <td>2023-12-28</td>\n",
       "      <td>2.464932</td>\n",
       "      <td>1.709659</td>\n",
       "      <td>2023-12-28</td>\n",
       "      <td>2.464932</td>\n",
       "      <td>1.709659</td>\n",
       "      <td>0</td>\n",
       "      <td>0</td>\n",
       "    </tr>\n",
       "    <tr>\n",
       "      <th>362</th>\n",
       "      <td>362</td>\n",
       "      <td>0</td>\n",
       "      <td>0</td>\n",
       "      <td>0</td>\n",
       "      <td>1</td>\n",
       "      <td>1080.057303</td>\n",
       "      <td>1070.057303</td>\n",
       "      <td>10</td>\n",
       "      <td>21.873793</td>\n",
       "      <td>False</td>\n",
       "      <td>-10.000000</td>\n",
       "      <td>-100.000000</td>\n",
       "      <td>2.187379</td>\n",
       "      <td>2023-12-29</td>\n",
       "      <td>2.187379</td>\n",
       "      <td>2.692901</td>\n",
       "      <td>2023-12-29</td>\n",
       "      <td>2.187379</td>\n",
       "      <td>2.692901</td>\n",
       "      <td>1</td>\n",
       "      <td>1</td>\n",
       "    </tr>\n",
       "    <tr>\n",
       "      <th>363</th>\n",
       "      <td>363</td>\n",
       "      <td>0</td>\n",
       "      <td>1</td>\n",
       "      <td>1</td>\n",
       "      <td>1</td>\n",
       "      <td>1070.057303</td>\n",
       "      <td>1078.081713</td>\n",
       "      <td>10</td>\n",
       "      <td>18.024410</td>\n",
       "      <td>True</td>\n",
       "      <td>8.024410</td>\n",
       "      <td>80.244098</td>\n",
       "      <td>1.802441</td>\n",
       "      <td>2023-12-30</td>\n",
       "      <td>2.318425</td>\n",
       "      <td>1.802441</td>\n",
       "      <td>2023-12-30</td>\n",
       "      <td>2.318425</td>\n",
       "      <td>1.802441</td>\n",
       "      <td>1</td>\n",
       "      <td>1</td>\n",
       "    </tr>\n",
       "    <tr>\n",
       "      <th>364</th>\n",
       "      <td>364</td>\n",
       "      <td>0</td>\n",
       "      <td>1</td>\n",
       "      <td>1</td>\n",
       "      <td>0</td>\n",
       "      <td>1078.081713</td>\n",
       "      <td>1068.081713</td>\n",
       "      <td>10</td>\n",
       "      <td>17.454839</td>\n",
       "      <td>False</td>\n",
       "      <td>-10.000000</td>\n",
       "      <td>-100.000000</td>\n",
       "      <td>1.745484</td>\n",
       "      <td>2023-12-31</td>\n",
       "      <td>2.912197</td>\n",
       "      <td>1.745484</td>\n",
       "      <td>2023-12-31</td>\n",
       "      <td>2.912197</td>\n",
       "      <td>1.745484</td>\n",
       "      <td>0</td>\n",
       "      <td>0</td>\n",
       "    </tr>\n",
       "  </tbody>\n",
       "</table>\n",
       "<p>365 rows × 21 columns</p>\n",
       "</div>"
      ],
      "text/plain": [
       "     bt_index  bt_fold  bt_predicted_outcome  bt_bet_on  bt_actual_outcome  \\\n",
       "0           0        0                     0          0                  0   \n",
       "1           1        0                     0          0                  0   \n",
       "2           2        0                     0          0                  0   \n",
       "3           3        0                     1          1                  0   \n",
       "4           4        0                     1          1                  0   \n",
       "..        ...      ...                   ...        ...                ...   \n",
       "360       360        0                     0          0                  0   \n",
       "361       361        0                     1          1                  0   \n",
       "362       362        0                     0          0                  1   \n",
       "363       363        0                     1          1                  1   \n",
       "364       364        0                     1          1                  0   \n",
       "\n",
       "     bt_starting_bankroll  bt_ending_bankroll  bt_stake  bt_potential_return  \\\n",
       "0             1000.000000         1010.618102        10            20.618102   \n",
       "1             1010.618102         1029.878816        10            29.260715   \n",
       "2             1029.878816         1045.858726        10            25.979909   \n",
       "3             1045.858726         1035.858726        10            17.936867   \n",
       "4             1035.858726         1025.858726        10            16.040420   \n",
       "..                    ...                 ...       ...                  ...   \n",
       "360           1079.234754         1090.057303        10            20.822549   \n",
       "361           1090.057303         1080.057303        10            17.096586   \n",
       "362           1080.057303         1070.057303        10            21.873793   \n",
       "363           1070.057303         1078.081713        10            18.024410   \n",
       "364           1078.081713         1068.081713        10            17.454839   \n",
       "\n",
       "     bt_win  bt_profit      bt_roi   bt_odds bt_date_column  bt_odd_0  \\\n",
       "0      True  10.618102  106.181018  2.061810     2023-01-01  2.061810   \n",
       "1      True  19.260715  192.607146  2.926071     2023-01-02  2.926071   \n",
       "2      True  15.979909  159.799091  2.597991     2023-01-03  2.597991   \n",
       "3     False -10.000000 -100.000000  1.793687     2023-01-04  2.397988   \n",
       "4     False -10.000000 -100.000000  1.604042     2023-01-05  1.734028   \n",
       "..      ...        ...         ...       ...            ...       ...   \n",
       "360    True  10.822549  108.225489  2.082255     2023-12-27  2.082255   \n",
       "361   False -10.000000 -100.000000  1.709659     2023-12-28  2.464932   \n",
       "362   False -10.000000 -100.000000  2.187379     2023-12-29  2.187379   \n",
       "363    True   8.024410   80.244098  1.802441     2023-12-30  2.318425   \n",
       "364   False -10.000000 -100.000000  1.745484     2023-12-31  2.912197   \n",
       "\n",
       "     bt_odd_1       date  odds_team_a  odds_team_b  actual_winner  \\\n",
       "0    2.079154 2023-01-01     2.061810     2.079154              0   \n",
       "1    2.941786 2023-01-02     2.926071     2.941786              0   \n",
       "2    2.858026 2023-01-03     2.597991     2.858026              0   \n",
       "3    1.793687 2023-01-04     2.397988     1.793687              0   \n",
       "4    1.604042 2023-01-05     1.734028     1.604042              0   \n",
       "..        ...        ...          ...          ...            ...   \n",
       "360  2.762743 2023-12-27     2.082255     2.762743              0   \n",
       "361  1.709659 2023-12-28     2.464932     1.709659              0   \n",
       "362  2.692901 2023-12-29     2.187379     2.692901              1   \n",
       "363  1.802441 2023-12-30     2.318425     1.802441              1   \n",
       "364  1.745484 2023-12-31     2.912197     1.745484              0   \n",
       "\n",
       "     model_predictions  \n",
       "0                    0  \n",
       "1                    1  \n",
       "2                    1  \n",
       "3                    1  \n",
       "4                    0  \n",
       "..                 ...  \n",
       "360                  0  \n",
       "361                  0  \n",
       "362                  1  \n",
       "363                  1  \n",
       "364                  0  \n",
       "\n",
       "[365 rows x 21 columns]"
      ]
     },
     "execution_count": 9,
     "metadata": {},
     "output_type": "execute_result"
    }
   ],
   "source": [
    "bookie_results = backtest.get_bookie_results()\n",
    "bookie_results"
   ]
  },
  {
   "cell_type": "markdown",
   "metadata": {},
   "source": []
  },
  {
   "cell_type": "code",
   "execution_count": 10,
   "metadata": {},
   "outputs": [
    {
     "data": {
      "text/plain": [
       "{'Backtest Start Date': Timestamp('2023-01-01 00:00:00'),\n",
       " 'Backtest End Date': Timestamp('2023-12-31 00:00:00'),\n",
       " 'Backtest Duration': Timedelta('364 days 00:00:00'),\n",
       " 'ROI [%]': np.float64(30.56892924637293),\n",
       " 'Total Profit [$]': np.float64(305.6892924637296),\n",
       " 'Bankroll Final [$]': np.float64(1305.6892924637293),\n",
       " 'Bankroll Peak [$]': np.float64(1305.6892924637293),\n",
       " 'Bankroll Valley [$]': np.float64(875.1124844618936),\n",
       " 'Sharpe Ratio [-]': np.float64(1.1282080939737171),\n",
       " 'Sortino Ratio [-]': np.float64(15.701799445019583),\n",
       " 'Calmar Ratio [-]': np.float64(1.3003556137214456),\n",
       " 'Max Drawdown [%]': np.float64(15.366568563360786),\n",
       " 'Max. Drawdown Duration [bets]': np.int64(82),\n",
       " 'Win Rate [%]': np.float64(48.76712328767123),\n",
       " 'Average Odds [-]': np.float64(2.2156884264822603),\n",
       " 'Highest Winning Odds [-]': np.float64(2.9894471941789504),\n",
       " 'Highest Losing Odds [-]': np.float64(2.980330404900776),\n",
       " 'Average Stake [$]': np.float64(10.0),\n",
       " 'Best Bet [$]': np.float64(19.894471941789504),\n",
       " 'Worst Bet [$]': np.float64(-10.0),\n",
       " 'Total Bets': 365,\n",
       " 'Total Opportunities': 365,\n",
       " 'Bet Frequency [%]': 100.0}"
      ]
     },
     "execution_count": 10,
     "metadata": {},
     "output_type": "execute_result"
    }
   ],
   "source": [
    "backtest.calculate_metrics()"
   ]
  },
  {
   "cell_type": "code",
   "execution_count": 11,
   "metadata": {},
   "outputs": [
    {
     "data": {
      "text/plain": [
       "{'Backtest Start Date': Timestamp('2023-01-01 00:00:00'),\n",
       " 'Backtest End Date': Timestamp('2023-12-31 00:00:00'),\n",
       " 'Backtest Duration': Timedelta('364 days 00:00:00'),\n",
       " 'ROI [%]': np.float64(30.56892924637293),\n",
       " 'Total Profit [$]': np.float64(305.6892924637296),\n",
       " 'Bankroll Final [$]': np.float64(1305.6892924637293),\n",
       " 'Bankroll Peak [$]': np.float64(1305.6892924637293),\n",
       " 'Bankroll Valley [$]': np.float64(875.1124844618936),\n",
       " 'Sharpe Ratio [-]': np.float64(1.1282080939737171),\n",
       " 'Sortino Ratio [-]': np.float64(15.701799445019583),\n",
       " 'Calmar Ratio [-]': np.float64(1.3003556137214456),\n",
       " 'Max Drawdown [%]': np.float64(15.366568563360786),\n",
       " 'Max. Drawdown Duration [bets]': np.int64(82),\n",
       " 'Win Rate [%]': np.float64(48.76712328767123),\n",
       " 'Average Odds [-]': np.float64(2.2156884264822603),\n",
       " 'Highest Winning Odds [-]': np.float64(2.9894471941789504),\n",
       " 'Highest Losing Odds [-]': np.float64(2.980330404900776),\n",
       " 'Average Stake [$]': np.float64(10.0),\n",
       " 'Best Bet [$]': np.float64(19.894471941789504),\n",
       " 'Worst Bet [$]': np.float64(-10.0),\n",
       " 'Total Bets': 365,\n",
       " 'Total Opportunities': 365,\n",
       " 'Bet Frequency [%]': 100.0}"
      ]
     },
     "execution_count": 11,
     "metadata": {},
     "output_type": "execute_result"
    }
   ],
   "source": [
    "backtest.metrics"
   ]
  },
  {
   "cell_type": "code",
   "execution_count": 12,
   "metadata": {},
   "outputs": [
    {
     "data": {
      "application/vnd.plotly.v1+json": {
       "config": {
        "plotlyServerURL": "https://plot.ly"
       },
       "data": [
        {
         "customdata": [
          [
           "2023-01-01",
           1000,
           10,
           1
          ],
          [
           "2023-01-02",
           1010.6181017827105,
           10,
           0.9894934577522604
          ],
          [
           "2023-01-03",
           1000.6181017827105,
           10,
           0.9993822800311035
          ],
          [
           "2023-01-04",
           990.6181017827105,
           10,
           1.0094707518471608
          ],
          [
           "2023-01-05",
           980.6181017827105,
           10,
           1.0197649810686282
          ],
          [
           "2023-01-06",
           987.958381389347,
           10,
           1.0121883865125159
          ],
          [
           "2023-01-07",
           994.4700514100084,
           10,
           1.0055606989694168
          ],
          [
           "2023-01-08",
           984.4700514100084,
           10,
           1.015774932480423
          ],
          [
           "2023-01-09",
           990.8866958213473,
           10,
           1.0091971203338224
          ],
          [
           "2023-01-10",
           980.8866958213473,
           10,
           1.019485741074965
          ],
          [
           "2023-01-11",
           970.8866958213473,
           10,
           1.0299863045852364
          ],
          [
           "2023-01-12",
           960.8866958213473,
           10,
           1.0407054279643442
          ],
          [
           "2023-01-13",
           978.5598254858892,
           10,
           1.0219099271763634
          ],
          [
           "2023-01-14",
           968.5598254858892,
           10,
           1.0324607460342872
          ],
          [
           "2023-01-15",
           985.7768527247232,
           10,
           1.0144283640216987
          ],
          [
           "2023-01-16",
           975.7768527247232,
           10,
           1.0248244741691064
          ],
          [
           "2023-01-17",
           982.549325139048,
           10,
           1.017760609482361
          ],
          [
           "2023-01-18",
           972.549325139048,
           10,
           1.0282254834293645
          ],
          [
           "2023-01-19",
           986.9834678407464,
           10,
           1.0131881967463248
          ],
          [
           "2023-01-20",
           976.9834678407464,
           10,
           1.0235587734254326
          ],
          [
           "2023-01-21",
           993.0095334978047,
           10,
           1.0070396771293544
          ],
          [
           "2023-01-22",
           1007.1873269186403,
           10,
           0.9928639621185178
          ],
          [
           "2023-01-23",
           997.1873269186403,
           10,
           1.0028206065254068
          ],
          [
           "2023-01-24",
           1004.8489200753362,
           10,
           0.9951744784927741
          ],
          [
           "2023-01-25",
           1015.3443477247415,
           10,
           0.9848875430693772
          ],
          [
           "2023-01-26",
           1005.3443477247415,
           10,
           0.9946840624937747
          ],
          [
           "2023-01-27",
           1022.1219871456367,
           10,
           0.9783568033719593
          ],
          [
           "2023-01-28",
           1030.1170938780122,
           10,
           0.9707634267434274
          ],
          [
           "2023-01-29",
           1020.1170938780122,
           10,
           0.9802796228014018
          ],
          [
           "2023-01-30",
           1034.0033124109427,
           10,
           0.9671148902495694
          ],
          [
           "2023-01-31",
           1024.0033124109427,
           10,
           0.976559341048977
          ],
          [
           "2023-02-01",
           1014.0033124109427,
           10,
           0.9861900723207226
          ],
          [
           "2023-02-02",
           1021.5611742662521,
           10,
           0.9788938980754249
          ],
          [
           "2023-02-03",
           1027.5369481610312,
           10,
           0.9732010141238097
          ],
          [
           "2023-02-04",
           1017.5369481610312,
           10,
           0.9827652959504564
          ],
          [
           "2023-02-05",
           1007.5369481610312,
           10,
           0.9925194324885179
          ],
          [
           "2023-02-06",
           997.5369481610312,
           10,
           1.0024691334426354
          ],
          [
           "2023-02-07",
           1016.0752417612247,
           10,
           0.9841790832996182
          ],
          [
           "2023-02-08",
           1006.0752417612247,
           10,
           0.9939614439268086
          ],
          [
           "2023-02-09",
           996.0752417612247,
           10,
           1.0039402226601233
          ],
          [
           "2023-02-10",
           986.0752417612247,
           10,
           1.014121395253677
          ],
          [
           "2023-02-11",
           976.0752417612247,
           10,
           1.0245111823506614
          ],
          [
           "2023-02-12",
           986.9132669422371,
           10,
           1.0132602666273904
          ],
          [
           "2023-02-13",
           976.9132669422371,
           10,
           1.0236323262657954
          ],
          [
           "2023-02-14",
           995.5530729734188,
           10,
           1.004466790518058
          ],
          [
           "2023-02-15",
           985.5530729734188,
           10,
           1.0146587001986558
          ],
          [
           "2023-02-16",
           1000.4909072387285,
           10,
           0.9995093336329429
          ],
          [
           "2023-02-17",
           990.4909072387285,
           10,
           1.0096003837004226
          ],
          [
           "2023-02-18",
           980.4909072387285,
           10,
           1.0198972704562996
          ],
          [
           "2023-02-19",
           994.0924755605778,
           10,
           1.0059426306753714
          ],
          [
           "2023-02-20",
           1008.5700337431248,
           10,
           0.9915027876534079
          ],
          [
           "2023-02-21",
           998.5700337431248,
           10,
           1.0014320139885582
          ],
          [
           "2023-02-22",
           1015.1970260935415,
           10,
           0.985030466300695
          ],
          [
           "2023-02-23",
           1005.1970260935415,
           10,
           0.9948298433454997
          ],
          [
           "2023-02-24",
           995.1970260935415,
           10,
           1.004826153797215
          ],
          [
           "2023-02-25",
           985.1970260935415,
           10,
           1.0150253944281122
          ],
          [
           "2023-02-26",
           1002.0707117494292,
           10,
           0.9979335672371722
          ],
          [
           "2023-02-27",
           992.0707117494292,
           10,
           1.0079926643904125
          ],
          [
           "2023-02-28",
           1000.0104546857164,
           10,
           0.999989545423583
          ],
          [
           "2023-03-01",
           990.0104546857164,
           10,
           1.0100903432554709
          ],
          [
           "2023-03-02",
           999.8904096471654,
           10,
           1.0001096023641964
          ],
          [
           "2023-03-03",
           1013.1333428820215,
           10,
           0.9870369058778962
          ],
          [
           "2023-03-04",
           1003.1333428820215,
           10,
           0.9968764442890321
          ],
          [
           "2023-03-05",
           993.1333428820215,
           10,
           1.0069141341061532
          ],
          [
           "2023-03-06",
           1003.4846427824253,
           10,
           0.9965274577867347
          ],
          [
           "2023-03-07",
           1012.6986604277361,
           10,
           0.9874605734914546
          ],
          [
           "2023-03-08",
           1002.6986604277361,
           10,
           0.997308602739546
          ],
          [
           "2023-03-09",
           992.6986604277361,
           10,
           1.0073550412258216
          ],
          [
           "2023-03-10",
           1009.7316151390467,
           10,
           0.9903621764505149
          ],
          [
           "2023-03-11",
           999.7316151390467,
           10,
           1.000268456910724
          ],
          [
           "2023-03-12",
           989.7316151390467,
           10,
           1.0103749185171889
          ],
          [
           "2023-03-13",
           979.7316151390467,
           10,
           1.020687690942868
          ],
          [
           "2023-03-14",
           985.8230602345095,
           10,
           1.0143808157237852
          ],
          [
           "2023-03-15",
           975.8230602345095,
           10,
           1.024775946327483
          ],
          [
           "2023-03-16",
           965.8230602345095,
           10,
           1.0353863364550357
          ],
          [
           "2023-03-17",
           955.8230602345095,
           10,
           1.0462187423628926
          ],
          [
           "2023-03-18",
           962.0956259457873,
           10,
           1.039397719968793
          ],
          [
           "2023-03-19",
           978.6646811460765,
           10,
           1.0218004381530745
          ],
          [
           "2023-03-20",
           968.6646811460765,
           10,
           1.0323489846009963
          ],
          [
           "2023-03-21",
           958.6646811460765,
           10,
           1.0431175985376946
          ],
          [
           "2023-03-22",
           965.4027170389535,
           10,
           1.0358371510152387
          ],
          [
           "2023-03-23",
           955.4027170389535,
           10,
           1.046679041377719
          ],
          [
           "2023-03-24",
           969.7521889413669,
           10,
           1.0311912789716446
          ],
          [
           "2023-03-25",
           959.7521889413669,
           10,
           1.0419356283032055
          ],
          [
           "2023-03-26",
           949.7521889413669,
           10,
           1.052906233482485
          ],
          [
           "2023-03-27",
           939.7521889413669,
           10,
           1.0641103173449402
          ],
          [
           "2023-03-28",
           956.4093926802784,
           10,
           1.0455773517630997
          ],
          [
           "2023-03-29",
           969.7854564263155,
           10,
           1.0311559050235977
          ],
          [
           "2023-03-30",
           959.7854564263155,
           10,
           1.04189951338023
          ],
          [
           "2023-03-31",
           949.7854564263155,
           10,
           1.052869354056676
          ],
          [
           "2023-04-01",
           956.4534186609078,
           10,
           1.045529223367783
          ],
          [
           "2023-04-02",
           946.4534186609078,
           10,
           1.0565760345763797
          ],
          [
           "2023-04-03",
           936.4534186609078,
           10,
           1.0678587744705565
          ],
          [
           "2023-04-04",
           926.4534186609078,
           10,
           1.0793850827874283
          ],
          [
           "2023-04-05",
           916.4534186609078,
           10,
           1.0911629327120278
          ],
          [
           "2023-04-06",
           906.4534186609078,
           10,
           1.103200649270304
          ],
          [
           "2023-04-07",
           918.8603526063737,
           10,
           1.0883046560486274
          ],
          [
           "2023-04-08",
           908.8603526063737,
           10,
           1.100279044115261
          ],
          [
           "2023-04-09",
           898.8603526063737,
           10,
           1.1125198670742986
          ],
          [
           "2023-04-10",
           904.2416395075351,
           10,
           1.1058990830643638
          ],
          [
           "2023-04-11",
           894.2416395075351,
           10,
           1.118265976241843
          ],
          [
           "2023-04-12",
           899.713077292836,
           10,
           1.1114654496396998
          ],
          [
           "2023-04-13",
           889.713077292836,
           10,
           1.1239578528425571
          ],
          [
           "2023-04-14",
           879.713077292836,
           10,
           1.136734266901347
          ],
          [
           "2023-04-15",
           888.0670148706279,
           10,
           1.1260411469574494
          ],
          [
           "2023-04-16",
           906.6805119795192,
           10,
           1.1029243341921402
          ],
          [
           "2023-04-17",
           896.6805119795192,
           10,
           1.1152244156532316
          ],
          [
           "2023-04-18",
           886.6805119795192,
           10,
           1.1278019382285671
          ],
          [
           "2023-04-19",
           876.6805119795192,
           10,
           1.1406663959508223
          ],
          [
           "2023-04-20",
           885.1124844618936,
           10,
           1.1297999040290936
          ],
          [
           "2023-04-21",
           875.1124844618936,
           10,
           1.1427102432607845
          ],
          [
           "2023-04-22",
           895.006956403683,
           10,
           1.117309751443944
          ],
          [
           "2023-04-23",
           885.006956403683,
           10,
           1.1299346211510055
          ],
          [
           "2023-04-24",
           898.3147706697029,
           10,
           1.113195544201605
          ],
          [
           "2023-04-25",
           917.8543087039893,
           10,
           1.0894975275673113
          ],
          [
           "2023-04-26",
           907.8543087039893,
           10,
           1.1014983245798036
          ],
          [
           "2023-04-27",
           925.9262175568051,
           10,
           1.0799996598418495
          ],
          [
           "2023-04-28",
           915.9262175568051,
           10,
           1.09179099891633
          ],
          [
           "2023-04-29",
           927.7443335283217,
           10,
           1.0778831665798285
          ],
          [
           "2023-04-30",
           942.1577047295826,
           10,
           1.0613934323097418
          ],
          [
           "2023-05-01",
           955.2478383583174,
           10,
           1.0468487442155257
          ],
          [
           "2023-05-02",
           973.7652085156822,
           10,
           1.0269415987086945
          ],
          [
           "2023-05-03",
           963.7652085156822,
           10,
           1.0375971151107686
          ],
          [
           "2023-05-04",
           953.7652085156822,
           10,
           1.048476072592616
          ],
          [
           "2023-05-05",
           973.0213807768305,
           10,
           1.0277266458437229
          ],
          [
           "2023-05-06",
           963.0213807768305,
           10,
           1.0383985443743111
          ],
          [
           "2023-05-07",
           974.8562320686161,
           10,
           1.0257922831123822
          ],
          [
           "2023-05-08",
           992.1264535574535,
           10,
           1.0079360311523944
          ],
          [
           "2023-05-09",
           1010.0374123062986,
           10,
           0.9900623361233923
          ],
          [
           "2023-05-10",
           1000.0374123062986,
           10,
           0.9999625890933297
          ],
          [
           "2023-05-11",
           990.0374123062986,
           10,
           1.0100628396158216
          ],
          [
           "2023-05-12",
           980.0374123062986,
           10,
           1.0203692098312083
          ],
          [
           "2023-05-13",
           970.0374123062986,
           10,
           1.0308880743294881
          ],
          [
           "2023-05-14",
           960.0374123062986,
           10,
           1.041626073298226
          ],
          [
           "2023-05-15",
           950.0374123062986,
           10,
           1.0525901265008215
          ],
          [
           "2023-05-16",
           940.0374123062986,
           10,
           1.0637874481469716
          ],
          [
           "2023-05-17",
           955.5098380165948,
           10,
           1.0465616995380769
          ],
          [
           "2023-05-18",
           945.5098380165948,
           10,
           1.0576304548006712
          ],
          [
           "2023-05-19",
           935.5098380165948,
           10,
           1.0689358458486475
          ],
          [
           "2023-05-20",
           952.7167633121991,
           10,
           1.049629898946479
          ],
          [
           "2023-05-21",
           972.2934945530135,
           10,
           1.0284960308818314
          ],
          [
           "2023-05-22",
           962.2934945530135,
           10,
           1.0391839970449985
          ],
          [
           "2023-05-23",
           971.070228990394,
           10,
           1.0297916362235549
          ],
          [
           "2023-05-24",
           988.4082876342414,
           10,
           1.0117276559806103
          ],
          [
           "2023-05-25",
           997.921462281493,
           10,
           1.0020828670362045
          ],
          [
           "2023-05-26",
           987.921462281493,
           10,
           1.012226212487188
          ],
          [
           "2023-05-27",
           993.4747664918109,
           10,
           1.006568091841156
          ],
          [
           "2023-05-28",
           983.4747664918109,
           10,
           1.0168029054442718
          ],
          [
           "2023-05-29",
           996.0149518402438,
           10,
           1.0040009923067856
          ],
          [
           "2023-05-30",
           1014.00591018275,
           10,
           0.986187545810038
          ],
          [
           "2023-05-31",
           1004.00591018275,
           10,
           0.9960100731060231
          ],
          [
           "2023-06-01",
           1022.6298984722498,
           10,
           0.977870881238601
          ],
          [
           "2023-06-02",
           1012.6298984722498,
           10,
           0.9875276263407742
          ],
          [
           "2023-06-03",
           1002.6298984722498,
           10,
           0.9973769997520948
          ],
          [
           "2023-06-04",
           1014.9716898764133,
           10,
           0.9852491551973865
          ],
          [
           "2023-06-05",
           1022.2279432429661,
           10,
           0.9782553946114513
          ],
          [
           "2023-06-06",
           1030.8587723156386,
           10,
           0.9700649854816485
          ],
          [
           "2023-06-07",
           1020.8587723156386,
           10,
           0.9795674260913444
          ],
          [
           "2023-06-08",
           1010.8587723156386,
           10,
           0.9892578739849448
          ],
          [
           "2023-06-09",
           1000.8587723156386,
           10,
           0.9991419645414591
          ],
          [
           "2023-06-10",
           990.8587723156386,
           10,
           1.0092255606346385
          ],
          [
           "2023-06-11",
           980.8587723156386,
           10,
           1.0195147642296887
          ],
          [
           "2023-06-12",
           992.0810648507036,
           10,
           1.0079821452398026
          ],
          [
           "2023-06-13",
           1001.1821709296642,
           10,
           0.9988192249482765
          ],
          [
           "2023-06-14",
           991.1821709296642,
           10,
           1.0088962749017825
          ],
          [
           "2023-06-15",
           981.1821709296642,
           10,
           1.0191787311549965
          ],
          [
           "2023-06-16",
           971.1821709296642,
           10,
           1.0296729387471661
          ],
          [
           "2023-06-17",
           980.9938719042402,
           10,
           1.0193743596571774
          ],
          [
           "2023-06-18",
           988.791649560238,
           10,
           1.011335401593194
          ],
          [
           "2023-06-19",
           994.4032766835595,
           10,
           1.0056282229229032
          ],
          [
           "2023-06-20",
           984.4032766835595,
           10,
           1.0158438352308068
          ],
          [
           "2023-06-21",
           999.5667421111938,
           10,
           1.0004334456825676
          ],
          [
           "2023-06-22",
           989.5667421111938,
           10,
           1.010543258422921
          ],
          [
           "2023-06-23",
           979.5667421111938,
           10,
           1.0208594851278512
          ],
          [
           "2023-06-24",
           987.9641787391629,
           10,
           1.012182447015637
          ],
          [
           "2023-06-25",
           1002.6417705953046,
           10,
           0.9973651899683612
          ],
          [
           "2023-06-26",
           1010.2572670303795,
           10,
           0.9898468762709023
          ],
          [
           "2023-06-27",
           1000.2572670303795,
           10,
           0.9997427991389222
          ],
          [
           "2023-06-28",
           990.2572670303795,
           10,
           1.0098385877024032
          ],
          [
           "2023-06-29",
           980.2572670303795,
           10,
           1.0201403586932132
          ],
          [
           "2023-06-30",
           994.5291906372479,
           10,
           1.0055009037585378
          ],
          [
           "2023-07-01",
           984.5291906372479,
           10,
           1.0157139163672115
          ],
          [
           "2023-07-02",
           974.5291906372479,
           10,
           1.0261365278818344
          ],
          [
           "2023-07-03",
           993.3995949114263,
           10,
           1.006644259895397
          ],
          [
           "2023-07-04",
           983.3995949114263,
           10,
           1.0168806303912183
          ],
          [
           "2023-07-05",
           992.2687193271537,
           10,
           1.0077915190938285
          ],
          [
           "2023-07-06",
           1007.1684800176664,
           10,
           0.9928825413424965
          ],
          [
           "2023-07-07",
           1024.4268130206847,
           10,
           0.9761556289720119
          ],
          [
           "2023-07-08",
           1037.7054156023019,
           10,
           0.9636646248199283
          ],
          [
           "2023-07-09",
           1027.7054156023019,
           10,
           0.9730414813606245
          ],
          [
           "2023-07-10",
           1045.855219642177,
           10,
           0.9561552892016301
          ],
          [
           "2023-07-11",
           1035.855219642177,
           10,
           0.965385877328916
          ],
          [
           "2023-07-12",
           1025.855219642177,
           10,
           0.9747964243422231
          ],
          [
           "2023-07-13",
           1031.286959786877,
           10,
           0.9696622172034999
          ],
          [
           "2023-07-14",
           1045.783481645976,
           10,
           0.9562208789395711
          ],
          [
           "2023-07-15",
           1060.088124916278,
           10,
           0.9433178020732723
          ],
          [
           "2023-07-16",
           1070.326268535468,
           10,
           0.9342945505470068
          ],
          [
           "2023-07-17",
           1060.326268535468,
           10,
           0.9431059379309813
          ],
          [
           "2023-07-18",
           1050.326268535468,
           10,
           0.9520851091293367
          ],
          [
           "2023-07-19",
           1068.6325648994448,
           10,
           0.9357753383587905
          ],
          [
           "2023-07-20",
           1058.6325648994448,
           10,
           0.9446148108007483
          ],
          [
           "2023-07-21",
           1048.6325648994448,
           10,
           0.953622873704949
          ],
          [
           "2023-07-22",
           1054.8946643743704,
           10,
           0.9479619470756098
          ],
          [
           "2023-07-23",
           1066.4567882047263,
           10,
           0.9376844997943146
          ],
          [
           "2023-07-24",
           1056.4567882047263,
           10,
           0.9465602485259569
          ],
          [
           "2023-07-25",
           1046.4567882047263,
           10,
           0.955605631567046
          ],
          [
           "2023-07-26",
           1036.4567882047263,
           10,
           0.9648255589431045
          ],
          [
           "2023-07-27",
           1026.4567882047263,
           10,
           0.9742251320184658
          ],
          [
           "2023-07-28",
           1041.409314741347,
           10,
           0.960237234144932
          ],
          [
           "2023-07-29",
           1031.409314741347,
           10,
           0.9695471872394097
          ],
          [
           "2023-07-30",
           1021.4093147413471,
           10,
           0.9790394365585273
          ],
          [
           "2023-07-31",
           1040.6521240962118,
           10,
           0.9609359139765199
          ],
          [
           "2023-08-01",
           1030.6521240962118,
           10,
           0.970259485834669
          ],
          [
           "2023-08-02",
           1020.6521240962118,
           10,
           0.9797657560214267
          ],
          [
           "2023-08-03",
           1010.6521240962118,
           10,
           0.9894601477182493
          ],
          [
           "2023-08-04",
           1026.3348124164247,
           10,
           0.9743409147796308
          ],
          [
           "2023-08-05",
           1034.8935487288768,
           10,
           0.9662829585016398
          ],
          [
           "2023-08-06",
           1044.7745442012658,
           10,
           0.9571443002226895
          ],
          [
           "2023-08-07",
           1060.9719152780362,
           10,
           0.9425320176716854
          ],
          [
           "2023-08-08",
           1050.9719152780362,
           10,
           0.9515002118162678
          ],
          [
           "2023-08-09",
           1065.4729280927872,
           10,
           0.9385503597825008
          ],
          [
           "2023-08-10",
           1074.07511237446,
           10,
           0.9310335827345426
          ],
          [
           "2023-08-11",
           1080.2130622960901,
           10,
           0.9257432953776823
          ],
          [
           "2023-08-12",
           1086.6181838135115,
           10,
           0.9202864583864012
          ],
          [
           "2023-08-13",
           1097.133920859403,
           10,
           0.9114657572675209
          ],
          [
           "2023-08-14",
           1106.1119563746288,
           10,
           0.9040676165164877
          ],
          [
           "2023-08-15",
           1096.1119563746288,
           10,
           0.9123155661101285
          ],
          [
           "2023-08-16",
           1086.1119563746288,
           10,
           0.9207153959872932
          ],
          [
           "2023-08-17",
           1076.1119563746288,
           10,
           0.9292713402878205
          ],
          [
           "2023-08-18",
           1066.1119563746288,
           10,
           0.937987792014409
          ],
          [
           "2023-08-19",
           1056.1119563746288,
           10,
           0.9468693105537339
          ],
          [
           "2023-08-20",
           1046.1119563746288,
           10,
           0.9559206296289426
          ],
          [
           "2023-08-21",
           1061.1253224524442,
           10,
           0.9423957555633741
          ],
          [
           "2023-08-22",
           1051.1253224524442,
           10,
           0.9513613444939556
          ],
          [
           "2023-08-23",
           1041.1253224524442,
           10,
           0.9604991622376732
          ],
          [
           "2023-08-24",
           1049.053967269415,
           10,
           0.9532398057679553
          ],
          [
           "2023-08-25",
           1039.053967269415,
           10,
           0.9624139183337639
          ],
          [
           "2023-08-26",
           1029.053967269415,
           10,
           0.971766332774063
          ],
          [
           "2023-08-27",
           1034.4187067658868,
           10,
           0.9667265232726726
          ],
          [
           "2023-08-28",
           1024.4187067658868,
           10,
           0.9761633533196818
          ],
          [
           "2023-08-29",
           1014.4187067658868,
           10,
           0.9857862373103747
          ],
          [
           "2023-08-30",
           1004.4187067658868,
           10,
           0.9956007323080287
          ],
          [
           "2023-08-31",
           1012.5137125419736,
           10,
           0.9876409451181088
          ],
          [
           "2023-09-01",
           1031.2366783952803,
           10,
           0.9697094963264029
          ],
          [
           "2023-09-02",
           1021.2366783952803,
           10,
           0.9792049396143405
          ],
          [
           "2023-09-03",
           1026.4685276432133,
           10,
           0.9742139900733388
          ],
          [
           "2023-09-04",
           1016.4685276432133,
           10,
           0.9837982906550021
          ],
          [
           "2023-09-05",
           1027.891289867973,
           10,
           0.9728655256223103
          ],
          [
           "2023-09-06",
           1042.3097957103366,
           10,
           0.9594076579876116
          ],
          [
           "2023-09-07",
           1048.5361811895698,
           10,
           0.9537105327786541
          ],
          [
           "2023-09-08",
           1038.5361811895698,
           10,
           0.9628937519100883
          ],
          [
           "2023-09-09",
           1047.9529145706135,
           10,
           0.9542413462438228
          ],
          [
           "2023-09-10",
           1037.9529145706135,
           10,
           0.9634348398295948
          ],
          [
           "2023-09-11",
           1055.7199646433664,
           10,
           0.9472208857372615
          ],
          [
           "2023-09-12",
           1065.4737947207107,
           10,
           0.9385495963907089
          ],
          [
           "2023-09-13",
           1081.6976900764655,
           10,
           0.9244727146725344
          ],
          [
           "2023-09-14",
           1071.6976900764655,
           10,
           0.9330989599582417
          ],
          [
           "2023-09-15",
           1079.8379299265162,
           10,
           0.9260648957460226
          ],
          [
           "2023-09-16",
           1095.2783768766408,
           10,
           0.913009898772637
          ],
          [
           "2023-09-17",
           1107.546221654506,
           10,
           0.902896854730046
          ],
          [
           "2023-09-18",
           1114.0038690610677,
           10,
           0.897662950527133
          ],
          [
           "2023-09-19",
           1104.0038690610677,
           10,
           0.9057939270180994
          ],
          [
           "2023-09-20",
           1094.0038690610677,
           10,
           0.9140735497199413
          ],
          [
           "2023-09-21",
           1101.1051292896157,
           10,
           0.9081784957673894
          ],
          [
           "2023-09-22",
           1106.6553773329747,
           10,
           0.9036236758818154
          ],
          [
           "2023-09-23",
           1096.6553773329747,
           10,
           0.911863490271632
          ],
          [
           "2023-09-24",
           1112.355621121243,
           10,
           0.8989930747075384
          ],
          [
           "2023-09-25",
           1130.783723686551,
           10,
           0.884342406998773
          ],
          [
           "2023-09-26",
           1120.783723686551,
           10,
           0.892232800018489
          ],
          [
           "2023-09-27",
           1133.7654259655308,
           10,
           0.8820166650860656
          ],
          [
           "2023-09-28",
           1123.7654259655308,
           10,
           0.8898654264441421
          ],
          [
           "2023-09-29",
           1113.7654259655308,
           10,
           0.8978551288150225
          ],
          [
           "2023-09-30",
           1103.7654259655308,
           10,
           0.9059896029314736
          ],
          [
           "2023-10-01",
           1093.7654259655308,
           10,
           0.914272819619656
          ],
          [
           "2023-10-02",
           1102.8040744297714,
           10,
           0.9067793846491469
          ],
          [
           "2023-10-03",
           1115.4742104126854,
           10,
           0.8964797129913348
          ],
          [
           "2023-10-04",
           1105.4742104126854,
           10,
           0.9045891713988419
          ],
          [
           "2023-10-05",
           1122.448638097187,
           10,
           0.8909093619599681
          ],
          [
           "2023-10-06",
           1137.1980970588536,
           10,
           0.8793542678151763
          ],
          [
           "2023-10-07",
           1127.1980970588536,
           10,
           0.8871555076337106
          ],
          [
           "2023-10-08",
           1117.1980970588536,
           10,
           0.8950964046865186
          ],
          [
           "2023-10-09",
           1135.556006269952,
           10,
           0.8806258735619539
          ],
          [
           "2023-10-10",
           1125.556006269952,
           10,
           0.8884497923066134
          ],
          [
           "2023-10-11",
           1115.556006269952,
           10,
           0.8964139804541659
          ],
          [
           "2023-10-12",
           1121.965735367565,
           10,
           0.8912928162395192
          ],
          [
           "2023-10-13",
           1134.4423683515008,
           10,
           0.8814903497064696
          ],
          [
           "2023-10-14",
           1140.7461726728122,
           10,
           0.876619202374321
          ],
          [
           "2023-10-15",
           1130.7461726728122,
           10,
           0.8843717751758915
          ],
          [
           "2023-10-16",
           1120.7461726728122,
           10,
           0.8922626946074234
          ],
          [
           "2023-10-17",
           1130.0442914547366,
           10,
           0.8849210668660367
          ],
          [
           "2023-10-18",
           1143.9067903632717,
           10,
           0.8741971010438961
          ],
          [
           "2023-10-19",
           1150.8204949052051,
           10,
           0.868945247696837
          ],
          [
           "2023-10-20",
           1140.8204949052051,
           10,
           0.8765620923413492
          ],
          [
           "2023-10-21",
           1151.2667293511847,
           10,
           0.8686084419060441
          ],
          [
           "2023-10-22",
           1161.6695889723537,
           10,
           0.8608299722166514
          ],
          [
           "2023-10-23",
           1151.6695889723537,
           10,
           0.8683045984502464
          ],
          [
           "2023-10-24",
           1162.0110398608215,
           10,
           0.860577021815364
          ],
          [
           "2023-10-25",
           1152.0110398608215,
           10,
           0.8680472368744083
          ],
          [
           "2023-10-26",
           1160.2483552732742,
           10,
           0.8618844365993256
          ],
          [
           "2023-10-27",
           1174.5917124105592,
           10,
           0.8513596592195829
          ],
          [
           "2023-10-28",
           1164.5917124105592,
           10,
           0.8586700294561816
          ],
          [
           "2023-10-29",
           1171.8845994983242,
           10,
           0.8533263432492355
          ],
          [
           "2023-10-30",
           1184.8549189718465,
           10,
           0.843985186699268
          ],
          [
           "2023-10-31",
           1197.964445795998,
           10,
           0.83474931456379
          ],
          [
           "2023-11-01",
           1212.525894318471,
           10,
           0.8247246551069112
          ],
          [
           "2023-11-02",
           1202.525894318471,
           10,
           0.8315829245130292
          ],
          [
           "2023-11-03",
           1192.525894318471,
           10,
           0.8385562148078137
          ],
          [
           "2023-11-04",
           1182.525894318471,
           10,
           0.8456474440048801
          ],
          [
           "2023-11-05",
           1172.525894318471,
           10,
           0.852859629664084
          ],
          [
           "2023-11-06",
           1189.4536872400015,
           10,
           0.840722098495816
          ],
          [
           "2023-11-07",
           1198.5161710089326,
           10,
           0.8343650458701628
          ],
          [
           "2023-11-08",
           1210.1007423195172,
           10,
           0.8263774783603581
          ],
          [
           "2023-11-09",
           1200.1007423195172,
           10,
           0.8332633792620037
          ],
          [
           "2023-11-10",
           1190.1007423195172,
           10,
           0.8402649997940433
          ],
          [
           "2023-11-11",
           1209.6427988186476,
           10,
           0.8266903262488832
          ],
          [
           "2023-11-12",
           1199.6427988186476,
           10,
           0.8335814635696172
          ],
          [
           "2023-11-13",
           1216.8988798828868,
           10,
           0.82176096677502
          ],
          [
           "2023-11-14",
           1225.767422288561,
           10,
           0.8158154490131224
          ],
          [
           "2023-11-15",
           1215.767422288561,
           10,
           0.8225257410809708
          ],
          [
           "2023-11-16",
           1205.767422288561,
           10,
           0.8293473364058784
          ],
          [
           "2023-11-17",
           1195.767422288561,
           10,
           0.836283027418589
          ],
          [
           "2023-11-18",
           1209.1188656837699,
           10,
           0.8270485461613315
          ],
          [
           "2023-11-19",
           1199.1188656837699,
           10,
           0.8339456817984205
          ],
          [
           "2023-11-20",
           1189.1188656837699,
           10,
           0.8409588215766619
          ],
          [
           "2023-11-21",
           1205.661259681649,
           10,
           0.8294203632818449
          ],
          [
           "2023-11-22",
           1224.984238891597,
           10,
           0.8163370337767206
          ],
          [
           "2023-11-23",
           1214.984238891597,
           10,
           0.8230559442584027
          ],
          [
           "2023-11-24",
           1204.984238891597,
           10,
           0.8298863733851395
          ],
          [
           "2023-11-25",
           1194.984238891597,
           10,
           0.8368311208251134
          ],
          [
           "2023-11-26",
           1206.2782398280137,
           10,
           0.8289961362003644
          ],
          [
           "2023-11-27",
           1213.0007921991019,
           10,
           0.8244017699172781
          ],
          [
           "2023-11-28",
           1203.0007921991019,
           10,
           0.8312546479474767
          ],
          [
           "2023-11-29",
           1212.3302504977057,
           10,
           0.8248577477873406
          ],
          [
           "2023-11-30",
           1217.5461528271521,
           10,
           0.8213241014954478
          ],
          [
           "2023-12-01",
           1207.5461528271521,
           10,
           0.8281256974391933
          ],
          [
           "2023-12-02",
           1197.5461528271521,
           10,
           0.8350408855969453
          ],
          [
           "2023-12-03",
           1187.5461528271521,
           10,
           0.8420725355552143
          ],
          [
           "2023-12-04",
           1205.3780615873172,
           10,
           0.8296152318245592
          ],
          [
           "2023-12-05",
           1195.3780615873172,
           10,
           0.8365554230367263
          ],
          [
           "2023-12-06",
           1185.3780615873172,
           10,
           0.8436127109193493
          ],
          [
           "2023-12-07",
           1175.3780615873172,
           10,
           0.8507900842130116
          ],
          [
           "2023-12-08",
           1187.7522997140697,
           10,
           0.8419263850221398
          ],
          [
           "2023-12-09",
           1177.7522997140697,
           10,
           0.8490749712335744
          ],
          [
           "2023-12-10",
           1185.3503277627199,
           10,
           0.8436324490561723
          ],
          [
           "2023-12-11",
           1194.1699375841763,
           10,
           0.8374017537428675
          ],
          [
           "2023-12-12",
           1184.1699375841763,
           10,
           0.8444733887098155
          ],
          [
           "2023-12-13",
           1198.4076890549595,
           10,
           0.8344405740492037
          ],
          [
           "2023-12-14",
           1212.3422701640773,
           10,
           0.8248495698039638
          ],
          [
           "2023-12-15",
           1218.0218303106578,
           10,
           0.8210033474892227
          ],
          [
           "2023-12-16",
           1229.1994440228668,
           10,
           0.8135376279761781
          ],
          [
           "2023-12-17",
           1219.1994440228668,
           10,
           0.8202103477839549
          ],
          [
           "2023-12-18",
           1209.1994440228668,
           10,
           0.8269934335010242
          ],
          [
           "2023-12-19",
           1199.1994440228668,
           10,
           0.8338896461170571
          ],
          [
           "2023-12-20",
           1189.1994440228668,
           10,
           0.8409018394905768
          ],
          [
           "2023-12-21",
           1196.6434604290882,
           10,
           0.8356708017619747
          ],
          [
           "2023-12-22",
           1212.606472557143,
           10,
           0.8246698517872837
          ],
          [
           "2023-12-23",
           1202.606472557143,
           10,
           0.8315272059642803
          ],
          [
           "2023-12-24",
           1192.606472557143,
           10,
           0.8384995579101937
          ],
          [
           "2023-12-25",
           1206.393106276245,
           10,
           0.8289172035197421
          ],
          [
           "2023-12-26",
           1222.5099160155958,
           10,
           0.817989275096598
          ],
          [
           "2023-12-27",
           1236.142028683734,
           10,
           0.8089685301492563
          ],
          [
           "2023-12-28",
           1246.9645775768317,
           10,
           0.8019473992944158
          ],
          [
           "2023-12-29",
           1261.613900853467,
           10,
           0.7926355276551026
          ],
          [
           "2023-12-30",
           1278.5429105313654,
           10,
           0.7821403503652433
          ],
          [
           "2023-12-31",
           1286.5673203320814,
           10,
           0.7772620866367768
          ]
         ],
         "hovertemplate": "Game: %{x}<br>Date: %{customdata[0]}<br>Starting Bankroll: $%{customdata[1]:.2f}<br>Ending Bankroll: $%{y:.2f}<br>Stake: $%{customdata[2]:.2f}<br>Stake Percentage: %{customdata[3]:.2f}%<extra></extra>",
         "line": {
          "color": "blue"
         },
         "name": "Main Strategy",
         "type": "scatter",
         "x": [
          1,
          2,
          3,
          4,
          5,
          6,
          7,
          8,
          9,
          10,
          11,
          12,
          13,
          14,
          15,
          16,
          17,
          18,
          19,
          20,
          21,
          22,
          23,
          24,
          25,
          26,
          27,
          28,
          29,
          30,
          31,
          32,
          33,
          34,
          35,
          36,
          37,
          38,
          39,
          40,
          41,
          42,
          43,
          44,
          45,
          46,
          47,
          48,
          49,
          50,
          51,
          52,
          53,
          54,
          55,
          56,
          57,
          58,
          59,
          60,
          61,
          62,
          63,
          64,
          65,
          66,
          67,
          68,
          69,
          70,
          71,
          72,
          73,
          74,
          75,
          76,
          77,
          78,
          79,
          80,
          81,
          82,
          83,
          84,
          85,
          86,
          87,
          88,
          89,
          90,
          91,
          92,
          93,
          94,
          95,
          96,
          97,
          98,
          99,
          100,
          101,
          102,
          103,
          104,
          105,
          106,
          107,
          108,
          109,
          110,
          111,
          112,
          113,
          114,
          115,
          116,
          117,
          118,
          119,
          120,
          121,
          122,
          123,
          124,
          125,
          126,
          127,
          128,
          129,
          130,
          131,
          132,
          133,
          134,
          135,
          136,
          137,
          138,
          139,
          140,
          141,
          142,
          143,
          144,
          145,
          146,
          147,
          148,
          149,
          150,
          151,
          152,
          153,
          154,
          155,
          156,
          157,
          158,
          159,
          160,
          161,
          162,
          163,
          164,
          165,
          166,
          167,
          168,
          169,
          170,
          171,
          172,
          173,
          174,
          175,
          176,
          177,
          178,
          179,
          180,
          181,
          182,
          183,
          184,
          185,
          186,
          187,
          188,
          189,
          190,
          191,
          192,
          193,
          194,
          195,
          196,
          197,
          198,
          199,
          200,
          201,
          202,
          203,
          204,
          205,
          206,
          207,
          208,
          209,
          210,
          211,
          212,
          213,
          214,
          215,
          216,
          217,
          218,
          219,
          220,
          221,
          222,
          223,
          224,
          225,
          226,
          227,
          228,
          229,
          230,
          231,
          232,
          233,
          234,
          235,
          236,
          237,
          238,
          239,
          240,
          241,
          242,
          243,
          244,
          245,
          246,
          247,
          248,
          249,
          250,
          251,
          252,
          253,
          254,
          255,
          256,
          257,
          258,
          259,
          260,
          261,
          262,
          263,
          264,
          265,
          266,
          267,
          268,
          269,
          270,
          271,
          272,
          273,
          274,
          275,
          276,
          277,
          278,
          279,
          280,
          281,
          282,
          283,
          284,
          285,
          286,
          287,
          288,
          289,
          290,
          291,
          292,
          293,
          294,
          295,
          296,
          297,
          298,
          299,
          300,
          301,
          302,
          303,
          304,
          305,
          306,
          307,
          308,
          309,
          310,
          311,
          312,
          313,
          314,
          315,
          316,
          317,
          318,
          319,
          320,
          321,
          322,
          323,
          324,
          325,
          326,
          327,
          328,
          329,
          330,
          331,
          332,
          333,
          334,
          335,
          336,
          337,
          338,
          339,
          340,
          341,
          342,
          343,
          344,
          345,
          346,
          347,
          348,
          349,
          350,
          351,
          352,
          353,
          354,
          355,
          356,
          357,
          358,
          359,
          360,
          361,
          362,
          363,
          364,
          365
         ],
         "xaxis": "x",
         "y": [
          1010.6181017827105,
          1000.6181017827105,
          990.6181017827105,
          980.6181017827105,
          987.958381389347,
          994.4700514100084,
          984.4700514100084,
          990.8866958213473,
          980.8866958213473,
          970.8866958213473,
          960.8866958213473,
          978.5598254858892,
          968.5598254858892,
          985.7768527247232,
          975.7768527247232,
          982.549325139048,
          972.549325139048,
          986.9834678407464,
          976.9834678407464,
          993.0095334978047,
          1007.1873269186403,
          997.1873269186403,
          1004.8489200753362,
          1015.3443477247415,
          1005.3443477247415,
          1022.1219871456367,
          1030.1170938780122,
          1020.1170938780122,
          1034.0033124109427,
          1024.0033124109427,
          1014.0033124109427,
          1021.5611742662521,
          1027.5369481610312,
          1017.5369481610312,
          1007.5369481610312,
          997.5369481610312,
          1016.0752417612247,
          1006.0752417612247,
          996.0752417612247,
          986.0752417612247,
          976.0752417612247,
          986.9132669422371,
          976.9132669422371,
          995.5530729734188,
          985.5530729734188,
          1000.4909072387285,
          990.4909072387285,
          980.4909072387285,
          994.0924755605778,
          1008.5700337431248,
          998.5700337431248,
          1015.1970260935415,
          1005.1970260935415,
          995.1970260935415,
          985.1970260935415,
          1002.0707117494292,
          992.0707117494292,
          1000.0104546857164,
          990.0104546857164,
          999.8904096471654,
          1013.1333428820215,
          1003.1333428820215,
          993.1333428820215,
          1003.4846427824253,
          1012.6986604277361,
          1002.6986604277361,
          992.6986604277361,
          1009.7316151390467,
          999.7316151390467,
          989.7316151390467,
          979.7316151390467,
          985.8230602345095,
          975.8230602345095,
          965.8230602345095,
          955.8230602345095,
          962.0956259457873,
          978.6646811460765,
          968.6646811460765,
          958.6646811460765,
          965.4027170389535,
          955.4027170389535,
          969.7521889413669,
          959.7521889413669,
          949.7521889413669,
          939.7521889413669,
          956.4093926802784,
          969.7854564263155,
          959.7854564263155,
          949.7854564263155,
          956.4534186609078,
          946.4534186609078,
          936.4534186609078,
          926.4534186609078,
          916.4534186609078,
          906.4534186609078,
          918.8603526063737,
          908.8603526063737,
          898.8603526063737,
          904.2416395075351,
          894.2416395075351,
          899.713077292836,
          889.713077292836,
          879.713077292836,
          888.0670148706279,
          906.6805119795192,
          896.6805119795192,
          886.6805119795192,
          876.6805119795192,
          885.1124844618936,
          875.1124844618936,
          895.006956403683,
          885.006956403683,
          898.3147706697029,
          917.8543087039893,
          907.8543087039893,
          925.9262175568051,
          915.9262175568051,
          927.7443335283217,
          942.1577047295826,
          955.2478383583174,
          973.7652085156822,
          963.7652085156822,
          953.7652085156822,
          973.0213807768305,
          963.0213807768305,
          974.8562320686161,
          992.1264535574535,
          1010.0374123062986,
          1000.0374123062986,
          990.0374123062986,
          980.0374123062986,
          970.0374123062986,
          960.0374123062986,
          950.0374123062986,
          940.0374123062986,
          955.5098380165948,
          945.5098380165948,
          935.5098380165948,
          952.7167633121991,
          972.2934945530135,
          962.2934945530135,
          971.070228990394,
          988.4082876342414,
          997.921462281493,
          987.921462281493,
          993.4747664918109,
          983.4747664918109,
          996.0149518402438,
          1014.00591018275,
          1004.00591018275,
          1022.6298984722498,
          1012.6298984722498,
          1002.6298984722498,
          1014.9716898764133,
          1022.2279432429661,
          1030.8587723156386,
          1020.8587723156386,
          1010.8587723156386,
          1000.8587723156386,
          990.8587723156386,
          980.8587723156386,
          992.0810648507036,
          1001.1821709296642,
          991.1821709296642,
          981.1821709296642,
          971.1821709296642,
          980.9938719042402,
          988.791649560238,
          994.4032766835595,
          984.4032766835595,
          999.5667421111938,
          989.5667421111938,
          979.5667421111938,
          987.9641787391629,
          1002.6417705953046,
          1010.2572670303795,
          1000.2572670303795,
          990.2572670303795,
          980.2572670303795,
          994.5291906372479,
          984.5291906372479,
          974.5291906372479,
          993.3995949114263,
          983.3995949114263,
          992.2687193271537,
          1007.1684800176664,
          1024.4268130206847,
          1037.7054156023019,
          1027.7054156023019,
          1045.855219642177,
          1035.855219642177,
          1025.855219642177,
          1031.286959786877,
          1045.783481645976,
          1060.088124916278,
          1070.326268535468,
          1060.326268535468,
          1050.326268535468,
          1068.6325648994448,
          1058.6325648994448,
          1048.6325648994448,
          1054.8946643743704,
          1066.4567882047263,
          1056.4567882047263,
          1046.4567882047263,
          1036.4567882047263,
          1026.4567882047263,
          1041.409314741347,
          1031.409314741347,
          1021.4093147413471,
          1040.6521240962118,
          1030.6521240962118,
          1020.6521240962118,
          1010.6521240962118,
          1026.3348124164247,
          1034.8935487288768,
          1044.7745442012658,
          1060.9719152780362,
          1050.9719152780362,
          1065.4729280927872,
          1074.07511237446,
          1080.2130622960901,
          1086.6181838135115,
          1097.133920859403,
          1106.1119563746288,
          1096.1119563746288,
          1086.1119563746288,
          1076.1119563746288,
          1066.1119563746288,
          1056.1119563746288,
          1046.1119563746288,
          1061.1253224524442,
          1051.1253224524442,
          1041.1253224524442,
          1049.053967269415,
          1039.053967269415,
          1029.053967269415,
          1034.4187067658868,
          1024.4187067658868,
          1014.4187067658868,
          1004.4187067658868,
          1012.5137125419736,
          1031.2366783952803,
          1021.2366783952803,
          1026.4685276432133,
          1016.4685276432133,
          1027.891289867973,
          1042.3097957103366,
          1048.5361811895698,
          1038.5361811895698,
          1047.9529145706135,
          1037.9529145706135,
          1055.7199646433664,
          1065.4737947207107,
          1081.6976900764655,
          1071.6976900764655,
          1079.8379299265162,
          1095.2783768766408,
          1107.546221654506,
          1114.0038690610677,
          1104.0038690610677,
          1094.0038690610677,
          1101.1051292896157,
          1106.6553773329747,
          1096.6553773329747,
          1112.355621121243,
          1130.783723686551,
          1120.783723686551,
          1133.7654259655308,
          1123.7654259655308,
          1113.7654259655308,
          1103.7654259655308,
          1093.7654259655308,
          1102.8040744297714,
          1115.4742104126854,
          1105.4742104126854,
          1122.448638097187,
          1137.1980970588536,
          1127.1980970588536,
          1117.1980970588536,
          1135.556006269952,
          1125.556006269952,
          1115.556006269952,
          1121.965735367565,
          1134.4423683515008,
          1140.7461726728122,
          1130.7461726728122,
          1120.7461726728122,
          1130.0442914547366,
          1143.9067903632717,
          1150.8204949052051,
          1140.8204949052051,
          1151.2667293511847,
          1161.6695889723537,
          1151.6695889723537,
          1162.0110398608215,
          1152.0110398608215,
          1160.2483552732742,
          1174.5917124105592,
          1164.5917124105592,
          1171.8845994983242,
          1184.8549189718465,
          1197.964445795998,
          1212.525894318471,
          1202.525894318471,
          1192.525894318471,
          1182.525894318471,
          1172.525894318471,
          1189.4536872400015,
          1198.5161710089326,
          1210.1007423195172,
          1200.1007423195172,
          1190.1007423195172,
          1209.6427988186476,
          1199.6427988186476,
          1216.8988798828868,
          1225.767422288561,
          1215.767422288561,
          1205.767422288561,
          1195.767422288561,
          1209.1188656837699,
          1199.1188656837699,
          1189.1188656837699,
          1205.661259681649,
          1224.984238891597,
          1214.984238891597,
          1204.984238891597,
          1194.984238891597,
          1206.2782398280137,
          1213.0007921991019,
          1203.0007921991019,
          1212.3302504977057,
          1217.5461528271521,
          1207.5461528271521,
          1197.5461528271521,
          1187.5461528271521,
          1205.3780615873172,
          1195.3780615873172,
          1185.3780615873172,
          1175.3780615873172,
          1187.7522997140697,
          1177.7522997140697,
          1185.3503277627199,
          1194.1699375841763,
          1184.1699375841763,
          1198.4076890549595,
          1212.3422701640773,
          1218.0218303106578,
          1229.1994440228668,
          1219.1994440228668,
          1209.1994440228668,
          1199.1994440228668,
          1189.1994440228668,
          1196.6434604290882,
          1212.606472557143,
          1202.606472557143,
          1192.606472557143,
          1206.393106276245,
          1222.5099160155958,
          1236.142028683734,
          1246.9645775768317,
          1261.613900853467,
          1278.5429105313654,
          1286.5673203320814,
          1305.6892924637293
         ],
         "yaxis": "y"
        },
        {
         "marker": {
          "opacity": 0.5,
          "size": 5
         },
         "mode": "markers",
         "name": "ROI",
         "type": "scatter",
         "x": [
          1,
          2,
          3,
          4,
          5,
          6,
          7,
          8,
          9,
          10,
          11,
          12,
          13,
          14,
          15,
          16,
          17,
          18,
          19,
          20,
          21,
          22,
          23,
          24,
          25,
          26,
          27,
          28,
          29,
          30,
          31,
          32,
          33,
          34,
          35,
          36,
          37,
          38,
          39,
          40,
          41,
          42,
          43,
          44,
          45,
          46,
          47,
          48,
          49,
          50,
          51,
          52,
          53,
          54,
          55,
          56,
          57,
          58,
          59,
          60,
          61,
          62,
          63,
          64,
          65,
          66,
          67,
          68,
          69,
          70,
          71,
          72,
          73,
          74,
          75,
          76,
          77,
          78,
          79,
          80,
          81,
          82,
          83,
          84,
          85,
          86,
          87,
          88,
          89,
          90,
          91,
          92,
          93,
          94,
          95,
          96,
          97,
          98,
          99,
          100,
          101,
          102,
          103,
          104,
          105,
          106,
          107,
          108,
          109,
          110,
          111,
          112,
          113,
          114,
          115,
          116,
          117,
          118,
          119,
          120,
          121,
          122,
          123,
          124,
          125,
          126,
          127,
          128,
          129,
          130,
          131,
          132,
          133,
          134,
          135,
          136,
          137,
          138,
          139,
          140,
          141,
          142,
          143,
          144,
          145,
          146,
          147,
          148,
          149,
          150,
          151,
          152,
          153,
          154,
          155,
          156,
          157,
          158,
          159,
          160,
          161,
          162,
          163,
          164,
          165,
          166,
          167,
          168,
          169,
          170,
          171,
          172,
          173,
          174,
          175,
          176,
          177,
          178,
          179,
          180,
          181,
          182,
          183,
          184,
          185,
          186,
          187,
          188,
          189,
          190,
          191,
          192,
          193,
          194,
          195,
          196,
          197,
          198,
          199,
          200,
          201,
          202,
          203,
          204,
          205,
          206,
          207,
          208,
          209,
          210,
          211,
          212,
          213,
          214,
          215,
          216,
          217,
          218,
          219,
          220,
          221,
          222,
          223,
          224,
          225,
          226,
          227,
          228,
          229,
          230,
          231,
          232,
          233,
          234,
          235,
          236,
          237,
          238,
          239,
          240,
          241,
          242,
          243,
          244,
          245,
          246,
          247,
          248,
          249,
          250,
          251,
          252,
          253,
          254,
          255,
          256,
          257,
          258,
          259,
          260,
          261,
          262,
          263,
          264,
          265,
          266,
          267,
          268,
          269,
          270,
          271,
          272,
          273,
          274,
          275,
          276,
          277,
          278,
          279,
          280,
          281,
          282,
          283,
          284,
          285,
          286,
          287,
          288,
          289,
          290,
          291,
          292,
          293,
          294,
          295,
          296,
          297,
          298,
          299,
          300,
          301,
          302,
          303,
          304,
          305,
          306,
          307,
          308,
          309,
          310,
          311,
          312,
          313,
          314,
          315,
          316,
          317,
          318,
          319,
          320,
          321,
          322,
          323,
          324,
          325,
          326,
          327,
          328,
          329,
          330,
          331,
          332,
          333,
          334,
          335,
          336,
          337,
          338,
          339,
          340,
          341,
          342,
          343,
          344,
          345,
          346,
          347,
          348,
          349,
          350,
          351,
          352,
          353,
          354,
          355,
          356,
          357,
          358,
          359,
          360,
          361,
          362,
          363,
          364,
          365
         ],
         "xaxis": "x2",
         "y": [
          106.18101782710437,
          -100,
          -100,
          -100,
          73.4027960663655,
          65.11670020661398,
          -100,
          64.16644411338925,
          -100,
          -100,
          -100,
          176.73129664541818,
          -100,
          172.17027238834035,
          -100,
          67.72472414324845,
          -100,
          144.34142701698255,
          -100,
          160.26065657058285,
          141.77793420835692,
          -100,
          76.61593156695844,
          104.95427649405372,
          -100,
          167.77639420895204,
          79.95106732375397,
          -100,
          138.86218532930633,
          -100,
          -100,
          75.57861855309372,
          59.75773894779193,
          -100,
          -100,
          -100,
          185.382936001935,
          -100,
          -100,
          -100,
          -100,
          108.38025181012448,
          -100,
          186.39806031181726,
          -100,
          149.3783426530973,
          -100,
          -100,
          136.01568321849288,
          144.7755818254699,
          -100,
          166.2699235041672,
          -100,
          -100,
          -100,
          168.7368565588773,
          -100,
          79.39742936287179,
          -100,
          98.79954961448966,
          132.42933234856037,
          -100,
          -100,
          103.51299900403839,
          92.14017645310712,
          -100,
          -100,
          170.32954711310595,
          -100,
          -100,
          -100,
          60.91445095462902,
          -100,
          -100,
          -100,
          62.72565711277878,
          165.69055200289185,
          -100,
          -100,
          67.38035892876944,
          -100,
          143.49471902413367,
          -100,
          -100,
          -100,
          166.57203738911554,
          133.76063746037076,
          -100,
          -100,
          66.67962234592271,
          -100,
          -100,
          -100,
          -100,
          -100,
          124.06933945465859,
          -100,
          -100,
          53.812869011614275,
          -100,
          54.714377853010134,
          -100,
          -100,
          83.5393757779179,
          186.13497108891394,
          -100,
          -100,
          -100,
          84.31972482374339,
          -100,
          198.94471941789504,
          -100,
          133.0781426601981,
          195.39538034286483,
          -100,
          180.71908852815764,
          -100,
          118.18115971516599,
          144.13371201260952,
          130.90133628734762,
          185.1737015736483,
          -100,
          -100,
          192.5617226114838,
          -100,
          118.34851291785694,
          172.70221488837402,
          179.10958748845155,
          -100,
          -100,
          -100,
          -100,
          -100,
          -100,
          -100,
          154.72425710296176,
          -100,
          -100,
          172.0692529560423,
          195.7673124081441,
          -100,
          87.76734437380462,
          173.38058643847532,
          95.13174647251546,
          -100,
          55.53304210317993,
          -100,
          125.40185348432922,
          179.90958342506124,
          -100,
          186.23988289499806,
          -100,
          -100,
          123.41791404163445,
          72.56253366552923,
          86.30829072672505,
          -100,
          -100,
          -100,
          -100,
          -100,
          112.22292535064973,
          91.0110607896059,
          -100,
          -100,
          -100,
          98.11700974576037,
          77.97777655997812,
          56.11627123321459,
          -100,
          151.63465427634236,
          -100,
          -100,
          83.97436627969071,
          146.77591856141746,
          76.15496435074871,
          -100,
          -100,
          -100,
          142.71923606868438,
          -100,
          -100,
          188.7040427417844,
          -100,
          88.69124415727335,
          148.99760690512687,
          172.5833300301824,
          132.78602581617284,
          -100,
          181.49804039875175,
          -100,
          -100,
          54.317401447000826,
          144.9652185909902,
          143.0464327030197,
          102.38143619189913,
          -100,
          -100,
          183.0629636397676,
          -100,
          -100,
          62.62099474925733,
          115.62123830355937,
          -100,
          -100,
          -100,
          -100,
          149.52526536620837,
          -100,
          -100,
          192.4280935486463,
          -100,
          -100,
          -100,
          156.82688320213038,
          85.58736312451998,
          98.80995472389017,
          161.9737107677036,
          -100,
          145.01012814750885,
          86.02184281672895,
          61.37949921629961,
          64.05121517421385,
          105.15737045891498,
          89.78035515225884,
          -100,
          -100,
          -100,
          -100,
          -100,
          -100,
          150.13366077815408,
          -100,
          -100,
          79.28644816970667,
          -100,
          -100,
          53.647394964718096,
          -100,
          -100,
          -100,
          80.95005776086886,
          187.22965853306727,
          -100,
          52.31849247933012,
          -100,
          114.22762224759715,
          144.18505842363615,
          62.26385479233081,
          -100,
          94.16733381043784,
          -100,
          177.67050072752855,
          97.53830077344165,
          162.23895355754877,
          -100,
          81.40239850050655,
          154.40446950124596,
          122.6784477786532,
          64.57647406561527,
          -100,
          -100,
          71.01260228547861,
          55.502480433589696,
          -100,
          157.0024378826829,
          184.2810256530799,
          -100,
          129.8170227897973,
          -100,
          -100,
          -100,
          -100,
          90.38648464240715,
          126.70135982914066,
          -100,
          169.74427684501626,
          147.49458961666477,
          -100,
          -100,
          183.57909211098425,
          -100,
          -100,
          64.09729097613035,
          124.7663298393586,
          63.03804321311354,
          -100,
          -100,
          92.98118781924266,
          138.62498908535161,
          69.13704541933456,
          -100,
          104.46234445979528,
          104.02859621168943,
          -100,
          103.41450888467698,
          -100,
          82.37315412452648,
          143.43357137285005,
          -100,
          72.92887087764981,
          129.7031947352222,
          131.09526824151598,
          145.61448522473097,
          -100,
          -100,
          -100,
          -100,
          169.27792921530553,
          90.62483768931114,
          115.84571310584543,
          -100,
          -100,
          195.4205649913053,
          -100,
          172.56081064239197,
          88.68542405674098,
          -100,
          -100,
          -100,
          133.51443395208946,
          -100,
          -100,
          165.42393997879051,
          193.2297920994791,
          -100,
          -100,
          -100,
          112.9400093641685,
          67.22552371088054,
          -100,
          93.29458298603835,
          52.15902329446338,
          -100,
          -100,
          -100,
          178.31908760165106,
          -100,
          -100,
          -100,
          123.74238126752488,
          -100,
          75.98028048650228,
          88.19609821456457,
          -100,
          142.37751470783243,
          139.34581109117664,
          56.7956014658067,
          111.77613712209026,
          -100,
          -100,
          -100,
          -100,
          74.44016406221444,
          159.6301212805466,
          -100,
          -100,
          137.8663371910195,
          161.16809739350887,
          136.32112668138183,
          108.22548893097832,
          146.49323276635297,
          169.29009677898352,
          80.24409800716168,
          191.2197213164788
         ],
         "yaxis": "y2"
        },
        {
         "marker": {
          "color": "green",
          "size": 8,
          "symbol": "triangle-up"
         },
         "mode": "markers",
         "name": "Wins",
         "type": "scatter",
         "x": [
          1,
          5,
          6,
          8,
          12,
          14,
          16,
          18,
          20,
          21,
          23,
          24,
          26,
          27,
          29,
          32,
          33,
          37,
          42,
          44,
          46,
          49,
          50,
          52,
          56,
          58,
          60,
          61,
          64,
          65,
          68,
          72,
          76,
          77,
          80,
          82,
          86,
          87,
          90,
          96,
          99,
          101,
          104,
          105,
          109,
          111,
          113,
          114,
          116,
          118,
          119,
          120,
          121,
          124,
          126,
          127,
          128,
          136,
          139,
          140,
          142,
          143,
          144,
          146,
          148,
          149,
          151,
          154,
          155,
          156,
          162,
          163,
          167,
          168,
          169,
          171,
          174,
          175,
          176,
          180,
          183,
          185,
          186,
          187,
          188,
          190,
          193,
          194,
          195,
          196,
          199,
          202,
          203,
          208,
          211,
          215,
          216,
          217,
          218,
          220,
          221,
          222,
          223,
          224,
          225,
          232,
          235,
          238,
          242,
          243,
          245,
          247,
          248,
          249,
          251,
          253,
          254,
          255,
          257,
          258,
          259,
          260,
          263,
          264,
          266,
          267,
          269,
          274,
          275,
          277,
          278,
          281,
          284,
          285,
          286,
          289,
          290,
          291,
          293,
          294,
          296,
          298,
          299,
          301,
          302,
          303,
          304,
          309,
          310,
          311,
          314,
          316,
          317,
          321,
          324,
          325,
          329,
          330,
          332,
          333,
          337,
          341,
          343,
          344,
          346,
          347,
          348,
          349,
          354,
          355,
          358,
          359,
          360,
          361,
          362,
          363,
          364,
          365
         ],
         "xaxis": "x",
         "y": [
          1010.6181017827105,
          987.958381389347,
          994.4700514100084,
          990.8866958213473,
          978.5598254858892,
          985.7768527247232,
          982.549325139048,
          986.9834678407464,
          993.0095334978047,
          1007.1873269186403,
          1004.8489200753362,
          1015.3443477247415,
          1022.1219871456367,
          1030.1170938780122,
          1034.0033124109427,
          1021.5611742662521,
          1027.5369481610312,
          1016.0752417612247,
          986.9132669422371,
          995.5530729734188,
          1000.4909072387285,
          994.0924755605778,
          1008.5700337431248,
          1015.1970260935415,
          1002.0707117494292,
          1000.0104546857164,
          999.8904096471654,
          1013.1333428820215,
          1003.4846427824253,
          1012.6986604277361,
          1009.7316151390467,
          985.8230602345095,
          962.0956259457873,
          978.6646811460765,
          965.4027170389535,
          969.7521889413669,
          956.4093926802784,
          969.7854564263155,
          956.4534186609078,
          918.8603526063737,
          904.2416395075351,
          899.713077292836,
          888.0670148706279,
          906.6805119795192,
          885.1124844618936,
          895.006956403683,
          898.3147706697029,
          917.8543087039893,
          925.9262175568051,
          927.7443335283217,
          942.1577047295826,
          955.2478383583174,
          973.7652085156822,
          973.0213807768305,
          974.8562320686161,
          992.1264535574535,
          1010.0374123062986,
          955.5098380165948,
          952.7167633121991,
          972.2934945530135,
          971.070228990394,
          988.4082876342414,
          997.921462281493,
          993.4747664918109,
          996.0149518402438,
          1014.00591018275,
          1022.6298984722498,
          1014.9716898764133,
          1022.2279432429661,
          1030.8587723156386,
          992.0810648507036,
          1001.1821709296642,
          980.9938719042402,
          988.791649560238,
          994.4032766835595,
          999.5667421111938,
          987.9641787391629,
          1002.6417705953046,
          1010.2572670303795,
          994.5291906372479,
          993.3995949114263,
          992.2687193271537,
          1007.1684800176664,
          1024.4268130206847,
          1037.7054156023019,
          1045.855219642177,
          1031.286959786877,
          1045.783481645976,
          1060.088124916278,
          1070.326268535468,
          1068.6325648994448,
          1054.8946643743704,
          1066.4567882047263,
          1041.409314741347,
          1040.6521240962118,
          1026.3348124164247,
          1034.8935487288768,
          1044.7745442012658,
          1060.9719152780362,
          1065.4729280927872,
          1074.07511237446,
          1080.2130622960901,
          1086.6181838135115,
          1097.133920859403,
          1106.1119563746288,
          1061.1253224524442,
          1049.053967269415,
          1034.4187067658868,
          1012.5137125419736,
          1031.2366783952803,
          1026.4685276432133,
          1027.891289867973,
          1042.3097957103366,
          1048.5361811895698,
          1047.9529145706135,
          1055.7199646433664,
          1065.4737947207107,
          1081.6976900764655,
          1079.8379299265162,
          1095.2783768766408,
          1107.546221654506,
          1114.0038690610677,
          1101.1051292896157,
          1106.6553773329747,
          1112.355621121243,
          1130.783723686551,
          1133.7654259655308,
          1102.8040744297714,
          1115.4742104126854,
          1122.448638097187,
          1137.1980970588536,
          1135.556006269952,
          1121.965735367565,
          1134.4423683515008,
          1140.7461726728122,
          1130.0442914547366,
          1143.9067903632717,
          1150.8204949052051,
          1151.2667293511847,
          1161.6695889723537,
          1162.0110398608215,
          1160.2483552732742,
          1174.5917124105592,
          1171.8845994983242,
          1184.8549189718465,
          1197.964445795998,
          1212.525894318471,
          1189.4536872400015,
          1198.5161710089326,
          1210.1007423195172,
          1209.6427988186476,
          1216.8988798828868,
          1225.767422288561,
          1209.1188656837699,
          1205.661259681649,
          1224.984238891597,
          1206.2782398280137,
          1213.0007921991019,
          1212.3302504977057,
          1217.5461528271521,
          1205.3780615873172,
          1187.7522997140697,
          1185.3503277627199,
          1194.1699375841763,
          1198.4076890549595,
          1212.3422701640773,
          1218.0218303106578,
          1229.1994440228668,
          1196.6434604290882,
          1212.606472557143,
          1206.393106276245,
          1222.5099160155958,
          1236.142028683734,
          1246.9645775768317,
          1261.613900853467,
          1278.5429105313654,
          1286.5673203320814,
          1305.6892924637293
         ],
         "yaxis": "y"
        },
        {
         "marker": {
          "color": "red",
          "size": 8,
          "symbol": "triangle-down"
         },
         "mode": "markers",
         "name": "Losses",
         "type": "scatter",
         "x": [
          2,
          3,
          4,
          7,
          9,
          10,
          11,
          13,
          15,
          17,
          19,
          22,
          25,
          28,
          30,
          31,
          34,
          35,
          36,
          38,
          39,
          40,
          41,
          43,
          45,
          47,
          48,
          51,
          53,
          54,
          55,
          57,
          59,
          62,
          63,
          66,
          67,
          69,
          70,
          71,
          73,
          74,
          75,
          78,
          79,
          81,
          83,
          84,
          85,
          88,
          89,
          91,
          92,
          93,
          94,
          95,
          97,
          98,
          100,
          102,
          103,
          106,
          107,
          108,
          110,
          112,
          115,
          117,
          122,
          123,
          125,
          129,
          130,
          131,
          132,
          133,
          134,
          135,
          137,
          138,
          141,
          145,
          147,
          150,
          152,
          153,
          157,
          158,
          159,
          160,
          161,
          164,
          165,
          166,
          170,
          172,
          173,
          177,
          178,
          179,
          181,
          182,
          184,
          189,
          191,
          192,
          197,
          198,
          200,
          201,
          204,
          205,
          206,
          207,
          209,
          210,
          212,
          213,
          214,
          219,
          226,
          227,
          228,
          229,
          230,
          231,
          233,
          234,
          236,
          237,
          239,
          240,
          241,
          244,
          246,
          250,
          252,
          256,
          261,
          262,
          265,
          268,
          270,
          271,
          272,
          273,
          276,
          279,
          280,
          282,
          283,
          287,
          288,
          292,
          295,
          297,
          300,
          305,
          306,
          307,
          308,
          312,
          313,
          315,
          318,
          319,
          320,
          322,
          323,
          326,
          327,
          328,
          331,
          334,
          335,
          336,
          338,
          339,
          340,
          342,
          345,
          350,
          351,
          352,
          353,
          356,
          357
         ],
         "xaxis": "x",
         "y": [
          1000.6181017827105,
          990.6181017827105,
          980.6181017827105,
          984.4700514100084,
          980.8866958213473,
          970.8866958213473,
          960.8866958213473,
          968.5598254858892,
          975.7768527247232,
          972.549325139048,
          976.9834678407464,
          997.1873269186403,
          1005.3443477247415,
          1020.1170938780122,
          1024.0033124109427,
          1014.0033124109427,
          1017.5369481610312,
          1007.5369481610312,
          997.5369481610312,
          1006.0752417612247,
          996.0752417612247,
          986.0752417612247,
          976.0752417612247,
          976.9132669422371,
          985.5530729734188,
          990.4909072387285,
          980.4909072387285,
          998.5700337431248,
          1005.1970260935415,
          995.1970260935415,
          985.1970260935415,
          992.0707117494292,
          990.0104546857164,
          1003.1333428820215,
          993.1333428820215,
          1002.6986604277361,
          992.6986604277361,
          999.7316151390467,
          989.7316151390467,
          979.7316151390467,
          975.8230602345095,
          965.8230602345095,
          955.8230602345095,
          968.6646811460765,
          958.6646811460765,
          955.4027170389535,
          959.7521889413669,
          949.7521889413669,
          939.7521889413669,
          959.7854564263155,
          949.7854564263155,
          946.4534186609078,
          936.4534186609078,
          926.4534186609078,
          916.4534186609078,
          906.4534186609078,
          908.8603526063737,
          898.8603526063737,
          894.2416395075351,
          889.713077292836,
          879.713077292836,
          896.6805119795192,
          886.6805119795192,
          876.6805119795192,
          875.1124844618936,
          885.006956403683,
          907.8543087039893,
          915.9262175568051,
          963.7652085156822,
          953.7652085156822,
          963.0213807768305,
          1000.0374123062986,
          990.0374123062986,
          980.0374123062986,
          970.0374123062986,
          960.0374123062986,
          950.0374123062986,
          940.0374123062986,
          945.5098380165948,
          935.5098380165948,
          962.2934945530135,
          987.921462281493,
          983.4747664918109,
          1004.00591018275,
          1012.6298984722498,
          1002.6298984722498,
          1020.8587723156386,
          1010.8587723156386,
          1000.8587723156386,
          990.8587723156386,
          980.8587723156386,
          991.1821709296642,
          981.1821709296642,
          971.1821709296642,
          984.4032766835595,
          989.5667421111938,
          979.5667421111938,
          1000.2572670303795,
          990.2572670303795,
          980.2572670303795,
          984.5291906372479,
          974.5291906372479,
          983.3995949114263,
          1027.7054156023019,
          1035.855219642177,
          1025.855219642177,
          1060.326268535468,
          1050.326268535468,
          1058.6325648994448,
          1048.6325648994448,
          1056.4567882047263,
          1046.4567882047263,
          1036.4567882047263,
          1026.4567882047263,
          1031.409314741347,
          1021.4093147413471,
          1030.6521240962118,
          1020.6521240962118,
          1010.6521240962118,
          1050.9719152780362,
          1096.1119563746288,
          1086.1119563746288,
          1076.1119563746288,
          1066.1119563746288,
          1056.1119563746288,
          1046.1119563746288,
          1051.1253224524442,
          1041.1253224524442,
          1039.053967269415,
          1029.053967269415,
          1024.4187067658868,
          1014.4187067658868,
          1004.4187067658868,
          1021.2366783952803,
          1016.4685276432133,
          1038.5361811895698,
          1037.9529145706135,
          1071.6976900764655,
          1104.0038690610677,
          1094.0038690610677,
          1096.6553773329747,
          1120.783723686551,
          1123.7654259655308,
          1113.7654259655308,
          1103.7654259655308,
          1093.7654259655308,
          1105.4742104126854,
          1127.1980970588536,
          1117.1980970588536,
          1125.556006269952,
          1115.556006269952,
          1130.7461726728122,
          1120.7461726728122,
          1140.8204949052051,
          1151.6695889723537,
          1152.0110398608215,
          1164.5917124105592,
          1202.525894318471,
          1192.525894318471,
          1182.525894318471,
          1172.525894318471,
          1200.1007423195172,
          1190.1007423195172,
          1199.6427988186476,
          1215.767422288561,
          1205.767422288561,
          1195.767422288561,
          1199.1188656837699,
          1189.1188656837699,
          1214.984238891597,
          1204.984238891597,
          1194.984238891597,
          1203.0007921991019,
          1207.5461528271521,
          1197.5461528271521,
          1187.5461528271521,
          1195.3780615873172,
          1185.3780615873172,
          1175.3780615873172,
          1177.7522997140697,
          1184.1699375841763,
          1219.1994440228668,
          1209.1994440228668,
          1199.1994440228668,
          1189.1994440228668,
          1202.606472557143,
          1192.606472557143
         ],
         "yaxis": "y"
        },
        {
         "marker": {
          "color": "rgba(0, 128, 128, 0.7)"
         },
         "name": "Stake Percentage",
         "type": "bar",
         "x": [
          1,
          2,
          3,
          4,
          5,
          6,
          7,
          8,
          9,
          10,
          11,
          12,
          13,
          14,
          15,
          16,
          17,
          18,
          19,
          20,
          21,
          22,
          23,
          24,
          25,
          26,
          27,
          28,
          29,
          30,
          31,
          32,
          33,
          34,
          35,
          36,
          37,
          38,
          39,
          40,
          41,
          42,
          43,
          44,
          45,
          46,
          47,
          48,
          49,
          50,
          51,
          52,
          53,
          54,
          55,
          56,
          57,
          58,
          59,
          60,
          61,
          62,
          63,
          64,
          65,
          66,
          67,
          68,
          69,
          70,
          71,
          72,
          73,
          74,
          75,
          76,
          77,
          78,
          79,
          80,
          81,
          82,
          83,
          84,
          85,
          86,
          87,
          88,
          89,
          90,
          91,
          92,
          93,
          94,
          95,
          96,
          97,
          98,
          99,
          100,
          101,
          102,
          103,
          104,
          105,
          106,
          107,
          108,
          109,
          110,
          111,
          112,
          113,
          114,
          115,
          116,
          117,
          118,
          119,
          120,
          121,
          122,
          123,
          124,
          125,
          126,
          127,
          128,
          129,
          130,
          131,
          132,
          133,
          134,
          135,
          136,
          137,
          138,
          139,
          140,
          141,
          142,
          143,
          144,
          145,
          146,
          147,
          148,
          149,
          150,
          151,
          152,
          153,
          154,
          155,
          156,
          157,
          158,
          159,
          160,
          161,
          162,
          163,
          164,
          165,
          166,
          167,
          168,
          169,
          170,
          171,
          172,
          173,
          174,
          175,
          176,
          177,
          178,
          179,
          180,
          181,
          182,
          183,
          184,
          185,
          186,
          187,
          188,
          189,
          190,
          191,
          192,
          193,
          194,
          195,
          196,
          197,
          198,
          199,
          200,
          201,
          202,
          203,
          204,
          205,
          206,
          207,
          208,
          209,
          210,
          211,
          212,
          213,
          214,
          215,
          216,
          217,
          218,
          219,
          220,
          221,
          222,
          223,
          224,
          225,
          226,
          227,
          228,
          229,
          230,
          231,
          232,
          233,
          234,
          235,
          236,
          237,
          238,
          239,
          240,
          241,
          242,
          243,
          244,
          245,
          246,
          247,
          248,
          249,
          250,
          251,
          252,
          253,
          254,
          255,
          256,
          257,
          258,
          259,
          260,
          261,
          262,
          263,
          264,
          265,
          266,
          267,
          268,
          269,
          270,
          271,
          272,
          273,
          274,
          275,
          276,
          277,
          278,
          279,
          280,
          281,
          282,
          283,
          284,
          285,
          286,
          287,
          288,
          289,
          290,
          291,
          292,
          293,
          294,
          295,
          296,
          297,
          298,
          299,
          300,
          301,
          302,
          303,
          304,
          305,
          306,
          307,
          308,
          309,
          310,
          311,
          312,
          313,
          314,
          315,
          316,
          317,
          318,
          319,
          320,
          321,
          322,
          323,
          324,
          325,
          326,
          327,
          328,
          329,
          330,
          331,
          332,
          333,
          334,
          335,
          336,
          337,
          338,
          339,
          340,
          341,
          342,
          343,
          344,
          345,
          346,
          347,
          348,
          349,
          350,
          351,
          352,
          353,
          354,
          355,
          356,
          357,
          358,
          359,
          360,
          361,
          362,
          363,
          364,
          365
         ],
         "xaxis": "x3",
         "y": [
          1,
          0.9894934577522604,
          0.9993822800311035,
          1.0094707518471608,
          1.0197649810686282,
          1.0121883865125159,
          1.0055606989694168,
          1.015774932480423,
          1.0091971203338224,
          1.019485741074965,
          1.0299863045852364,
          1.0407054279643442,
          1.0219099271763634,
          1.0324607460342872,
          1.0144283640216987,
          1.0248244741691064,
          1.017760609482361,
          1.0282254834293645,
          1.0131881967463248,
          1.0235587734254326,
          1.0070396771293544,
          0.9928639621185178,
          1.0028206065254068,
          0.9951744784927741,
          0.9848875430693772,
          0.9946840624937747,
          0.9783568033719593,
          0.9707634267434274,
          0.9802796228014018,
          0.9671148902495694,
          0.976559341048977,
          0.9861900723207226,
          0.9788938980754249,
          0.9732010141238097,
          0.9827652959504564,
          0.9925194324885179,
          1.0024691334426354,
          0.9841790832996182,
          0.9939614439268086,
          1.0039402226601233,
          1.014121395253677,
          1.0245111823506614,
          1.0132602666273904,
          1.0236323262657954,
          1.004466790518058,
          1.0146587001986558,
          0.9995093336329429,
          1.0096003837004226,
          1.0198972704562996,
          1.0059426306753714,
          0.9915027876534079,
          1.0014320139885582,
          0.985030466300695,
          0.9948298433454997,
          1.004826153797215,
          1.0150253944281122,
          0.9979335672371722,
          1.0079926643904125,
          0.999989545423583,
          1.0100903432554709,
          1.0001096023641964,
          0.9870369058778962,
          0.9968764442890321,
          1.0069141341061532,
          0.9965274577867347,
          0.9874605734914546,
          0.997308602739546,
          1.0073550412258216,
          0.9903621764505149,
          1.000268456910724,
          1.0103749185171889,
          1.020687690942868,
          1.0143808157237852,
          1.024775946327483,
          1.0353863364550357,
          1.0462187423628926,
          1.039397719968793,
          1.0218004381530745,
          1.0323489846009963,
          1.0431175985376946,
          1.0358371510152387,
          1.046679041377719,
          1.0311912789716446,
          1.0419356283032055,
          1.052906233482485,
          1.0641103173449402,
          1.0455773517630997,
          1.0311559050235977,
          1.04189951338023,
          1.052869354056676,
          1.045529223367783,
          1.0565760345763797,
          1.0678587744705565,
          1.0793850827874283,
          1.0911629327120278,
          1.103200649270304,
          1.0883046560486274,
          1.100279044115261,
          1.1125198670742986,
          1.1058990830643638,
          1.118265976241843,
          1.1114654496396998,
          1.1239578528425571,
          1.136734266901347,
          1.1260411469574494,
          1.1029243341921402,
          1.1152244156532316,
          1.1278019382285671,
          1.1406663959508223,
          1.1297999040290936,
          1.1427102432607845,
          1.117309751443944,
          1.1299346211510055,
          1.113195544201605,
          1.0894975275673113,
          1.1014983245798036,
          1.0799996598418495,
          1.09179099891633,
          1.0778831665798285,
          1.0613934323097418,
          1.0468487442155257,
          1.0269415987086945,
          1.0375971151107686,
          1.048476072592616,
          1.0277266458437229,
          1.0383985443743111,
          1.0257922831123822,
          1.0079360311523944,
          0.9900623361233923,
          0.9999625890933297,
          1.0100628396158216,
          1.0203692098312083,
          1.0308880743294881,
          1.041626073298226,
          1.0525901265008215,
          1.0637874481469716,
          1.0465616995380769,
          1.0576304548006712,
          1.0689358458486475,
          1.049629898946479,
          1.0284960308818314,
          1.0391839970449985,
          1.0297916362235549,
          1.0117276559806103,
          1.0020828670362045,
          1.012226212487188,
          1.006568091841156,
          1.0168029054442718,
          1.0040009923067856,
          0.986187545810038,
          0.9960100731060231,
          0.977870881238601,
          0.9875276263407742,
          0.9973769997520948,
          0.9852491551973865,
          0.9782553946114513,
          0.9700649854816485,
          0.9795674260913444,
          0.9892578739849448,
          0.9991419645414591,
          1.0092255606346385,
          1.0195147642296887,
          1.0079821452398026,
          0.9988192249482765,
          1.0088962749017825,
          1.0191787311549965,
          1.0296729387471661,
          1.0193743596571774,
          1.011335401593194,
          1.0056282229229032,
          1.0158438352308068,
          1.0004334456825676,
          1.010543258422921,
          1.0208594851278512,
          1.012182447015637,
          0.9973651899683612,
          0.9898468762709023,
          0.9997427991389222,
          1.0098385877024032,
          1.0201403586932132,
          1.0055009037585378,
          1.0157139163672115,
          1.0261365278818344,
          1.006644259895397,
          1.0168806303912183,
          1.0077915190938285,
          0.9928825413424965,
          0.9761556289720119,
          0.9636646248199283,
          0.9730414813606245,
          0.9561552892016301,
          0.965385877328916,
          0.9747964243422231,
          0.9696622172034999,
          0.9562208789395711,
          0.9433178020732723,
          0.9342945505470068,
          0.9431059379309813,
          0.9520851091293367,
          0.9357753383587905,
          0.9446148108007483,
          0.953622873704949,
          0.9479619470756098,
          0.9376844997943146,
          0.9465602485259569,
          0.955605631567046,
          0.9648255589431045,
          0.9742251320184658,
          0.960237234144932,
          0.9695471872394097,
          0.9790394365585273,
          0.9609359139765199,
          0.970259485834669,
          0.9797657560214267,
          0.9894601477182493,
          0.9743409147796308,
          0.9662829585016398,
          0.9571443002226895,
          0.9425320176716854,
          0.9515002118162678,
          0.9385503597825008,
          0.9310335827345426,
          0.9257432953776823,
          0.9202864583864012,
          0.9114657572675209,
          0.9040676165164877,
          0.9123155661101285,
          0.9207153959872932,
          0.9292713402878205,
          0.937987792014409,
          0.9468693105537339,
          0.9559206296289426,
          0.9423957555633741,
          0.9513613444939556,
          0.9604991622376732,
          0.9532398057679553,
          0.9624139183337639,
          0.971766332774063,
          0.9667265232726726,
          0.9761633533196818,
          0.9857862373103747,
          0.9956007323080287,
          0.9876409451181088,
          0.9697094963264029,
          0.9792049396143405,
          0.9742139900733388,
          0.9837982906550021,
          0.9728655256223103,
          0.9594076579876116,
          0.9537105327786541,
          0.9628937519100883,
          0.9542413462438228,
          0.9634348398295948,
          0.9472208857372615,
          0.9385495963907089,
          0.9244727146725344,
          0.9330989599582417,
          0.9260648957460226,
          0.913009898772637,
          0.902896854730046,
          0.897662950527133,
          0.9057939270180994,
          0.9140735497199413,
          0.9081784957673894,
          0.9036236758818154,
          0.911863490271632,
          0.8989930747075384,
          0.884342406998773,
          0.892232800018489,
          0.8820166650860656,
          0.8898654264441421,
          0.8978551288150225,
          0.9059896029314736,
          0.914272819619656,
          0.9067793846491469,
          0.8964797129913348,
          0.9045891713988419,
          0.8909093619599681,
          0.8793542678151763,
          0.8871555076337106,
          0.8950964046865186,
          0.8806258735619539,
          0.8884497923066134,
          0.8964139804541659,
          0.8912928162395192,
          0.8814903497064696,
          0.876619202374321,
          0.8843717751758915,
          0.8922626946074234,
          0.8849210668660367,
          0.8741971010438961,
          0.868945247696837,
          0.8765620923413492,
          0.8686084419060441,
          0.8608299722166514,
          0.8683045984502464,
          0.860577021815364,
          0.8680472368744083,
          0.8618844365993256,
          0.8513596592195829,
          0.8586700294561816,
          0.8533263432492355,
          0.843985186699268,
          0.83474931456379,
          0.8247246551069112,
          0.8315829245130292,
          0.8385562148078137,
          0.8456474440048801,
          0.852859629664084,
          0.840722098495816,
          0.8343650458701628,
          0.8263774783603581,
          0.8332633792620037,
          0.8402649997940433,
          0.8266903262488832,
          0.8335814635696172,
          0.82176096677502,
          0.8158154490131224,
          0.8225257410809708,
          0.8293473364058784,
          0.836283027418589,
          0.8270485461613315,
          0.8339456817984205,
          0.8409588215766619,
          0.8294203632818449,
          0.8163370337767206,
          0.8230559442584027,
          0.8298863733851395,
          0.8368311208251134,
          0.8289961362003644,
          0.8244017699172781,
          0.8312546479474767,
          0.8248577477873406,
          0.8213241014954478,
          0.8281256974391933,
          0.8350408855969453,
          0.8420725355552143,
          0.8296152318245592,
          0.8365554230367263,
          0.8436127109193493,
          0.8507900842130116,
          0.8419263850221398,
          0.8490749712335744,
          0.8436324490561723,
          0.8374017537428675,
          0.8444733887098155,
          0.8344405740492037,
          0.8248495698039638,
          0.8210033474892227,
          0.8135376279761781,
          0.8202103477839549,
          0.8269934335010242,
          0.8338896461170571,
          0.8409018394905768,
          0.8356708017619747,
          0.8246698517872837,
          0.8315272059642803,
          0.8384995579101937,
          0.8289172035197421,
          0.817989275096598,
          0.8089685301492563,
          0.8019473992944158,
          0.7926355276551026,
          0.7821403503652433,
          0.7772620866367768
         ],
         "yaxis": "y3"
        }
       ],
       "layout": {
        "annotations": [
         {
          "font": {
           "size": 16
          },
          "showarrow": false,
          "text": "Bankroll Over Time",
          "x": 0.5,
          "xanchor": "center",
          "xref": "paper",
          "y": 1,
          "yanchor": "bottom",
          "yref": "paper"
         },
         {
          "font": {
           "size": 16
          },
          "showarrow": false,
          "text": "ROI",
          "x": 0.5,
          "xanchor": "center",
          "xref": "paper",
          "y": 0.5,
          "yanchor": "bottom",
          "yref": "paper"
         },
         {
          "font": {
           "size": 16
          },
          "showarrow": false,
          "text": "Stake Percentage",
          "x": 0.5,
          "xanchor": "center",
          "xref": "paper",
          "y": 0.225,
          "yanchor": "bottom",
          "yref": "paper"
         },
         {
          "showarrow": false,
          "text": "Max Drawdown: 15.37%<br>Length: 82 bets",
          "x": 29,
          "xanchor": "left",
          "xref": "x",
          "y": 1,
          "yanchor": "top",
          "yref": "y domain"
         },
         {
          "font": {
           "size": 8
          },
          "showarrow": false,
          "text": "Total Profit [$]: 305.69",
          "x": 1.02,
          "xanchor": "left",
          "xref": "paper",
          "y": 0.12000000000000001,
          "yanchor": "bottom",
          "yref": "paper"
         },
         {
          "font": {
           "size": 8
          },
          "showarrow": false,
          "text": "Bankroll Final [$]: 1305.69",
          "x": 1.02,
          "xanchor": "left",
          "xref": "paper",
          "y": 0.145,
          "yanchor": "bottom",
          "yref": "paper"
         },
         {
          "font": {
           "size": 8
          },
          "showarrow": false,
          "text": "Bankroll Peak [$]: 1305.69",
          "x": 1.02,
          "xanchor": "left",
          "xref": "paper",
          "y": 0.17,
          "yanchor": "bottom",
          "yref": "paper"
         },
         {
          "font": {
           "size": 8
          },
          "showarrow": false,
          "text": "Bankroll Valley [$]: 875.11",
          "x": 1.02,
          "xanchor": "left",
          "xref": "paper",
          "y": 0.195,
          "yanchor": "bottom",
          "yref": "paper"
         },
         {
          "font": {
           "size": 8
          },
          "showarrow": false,
          "text": "Sharpe Ratio [-]: 1.13",
          "x": 1.02,
          "xanchor": "left",
          "xref": "paper",
          "y": 0.22,
          "yanchor": "bottom",
          "yref": "paper"
         },
         {
          "font": {
           "size": 8
          },
          "showarrow": false,
          "text": "Sortino Ratio [-]: 15.70",
          "x": 1.02,
          "xanchor": "left",
          "xref": "paper",
          "y": 0.245,
          "yanchor": "bottom",
          "yref": "paper"
         },
         {
          "font": {
           "size": 8
          },
          "showarrow": false,
          "text": "Calmar Ratio [-]: 1.30",
          "x": 1.02,
          "xanchor": "left",
          "xref": "paper",
          "y": 0.27,
          "yanchor": "bottom",
          "yref": "paper"
         },
         {
          "font": {
           "size": 8
          },
          "showarrow": false,
          "text": "Max Drawdown [%]: 15.37",
          "x": 1.02,
          "xanchor": "left",
          "xref": "paper",
          "y": 0.29500000000000004,
          "yanchor": "bottom",
          "yref": "paper"
         },
         {
          "font": {
           "size": 8
          },
          "showarrow": false,
          "text": "Max. Drawdown Duration [bets]: 82",
          "x": 1.02,
          "xanchor": "left",
          "xref": "paper",
          "y": 0.32000000000000006,
          "yanchor": "bottom",
          "yref": "paper"
         },
         {
          "font": {
           "size": 8
          },
          "showarrow": false,
          "text": "Win Rate [%]: 48.77",
          "x": 1.02,
          "xanchor": "left",
          "xref": "paper",
          "y": 0.34500000000000003,
          "yanchor": "bottom",
          "yref": "paper"
         },
         {
          "font": {
           "size": 8
          },
          "showarrow": false,
          "text": "Average Odds [-]: 2.22",
          "x": 1.02,
          "xanchor": "left",
          "xref": "paper",
          "y": 0.37000000000000005,
          "yanchor": "bottom",
          "yref": "paper"
         },
         {
          "font": {
           "size": 8
          },
          "showarrow": false,
          "text": "Highest Winning Odds [-]: 2.99",
          "x": 1.02,
          "xanchor": "left",
          "xref": "paper",
          "y": 0.395,
          "yanchor": "bottom",
          "yref": "paper"
         },
         {
          "font": {
           "size": 8
          },
          "showarrow": false,
          "text": "Highest Losing Odds [-]: 2.98",
          "x": 1.02,
          "xanchor": "left",
          "xref": "paper",
          "y": 0.42000000000000004,
          "yanchor": "bottom",
          "yref": "paper"
         },
         {
          "font": {
           "size": 8
          },
          "showarrow": false,
          "text": "Average Stake [$]: 10.00",
          "x": 1.02,
          "xanchor": "left",
          "xref": "paper",
          "y": 0.44500000000000006,
          "yanchor": "bottom",
          "yref": "paper"
         },
         {
          "font": {
           "size": 8
          },
          "showarrow": false,
          "text": "Best Bet [$]: 19.89",
          "x": 1.02,
          "xanchor": "left",
          "xref": "paper",
          "y": 0.47000000000000003,
          "yanchor": "bottom",
          "yref": "paper"
         },
         {
          "font": {
           "size": 8
          },
          "showarrow": false,
          "text": "Worst Bet [$]: -10.00",
          "x": 1.02,
          "xanchor": "left",
          "xref": "paper",
          "y": 0.49500000000000005,
          "yanchor": "bottom",
          "yref": "paper"
         },
         {
          "font": {
           "size": 8
          },
          "showarrow": false,
          "text": "Total Bets: 365",
          "x": 1.02,
          "xanchor": "left",
          "xref": "paper",
          "y": 0.52,
          "yanchor": "bottom",
          "yref": "paper"
         },
         {
          "font": {
           "size": 8
          },
          "showarrow": false,
          "text": "Total Opportunities: 365",
          "x": 1.02,
          "xanchor": "left",
          "xref": "paper",
          "y": 0.545,
          "yanchor": "bottom",
          "yref": "paper"
         },
         {
          "font": {
           "size": 8
          },
          "showarrow": false,
          "text": "Bet Frequency [%]: 100.00",
          "x": 1.02,
          "xanchor": "left",
          "xref": "paper",
          "y": 0.5700000000000001,
          "yanchor": "bottom",
          "yref": "paper"
         }
        ],
        "height": 1000,
        "hoverlabel": {
         "bgcolor": "white",
         "font": {
          "size": 12
         }
        },
        "hovermode": "x unified",
        "margin": {
         "b": 100,
         "l": 100,
         "r": 100,
         "t": 100
        },
        "shapes": [
         {
          "fillcolor": "rgba(255, 0, 0, 0.2)",
          "layer": "below",
          "line": {
           "width": 0
          },
          "opacity": 0.5,
          "type": "rect",
          "x0": 29,
          "x1": 110,
          "xref": "x",
          "y0": 0,
          "y1": 1,
          "yref": "y domain"
         },
         {
          "line": {
           "color": "gray",
           "dash": "dash"
          },
          "type": "line",
          "x0": 0,
          "x1": 1,
          "xref": "x2 domain",
          "y0": 0,
          "y1": 0,
          "yref": "y2"
         }
        ],
        "showlegend": true,
        "template": {
         "data": {
          "bar": [
           {
            "error_x": {
             "color": "#2a3f5f"
            },
            "error_y": {
             "color": "#2a3f5f"
            },
            "marker": {
             "line": {
              "color": "#E5ECF6",
              "width": 0.5
             },
             "pattern": {
              "fillmode": "overlay",
              "size": 10,
              "solidity": 0.2
             }
            },
            "type": "bar"
           }
          ],
          "barpolar": [
           {
            "marker": {
             "line": {
              "color": "#E5ECF6",
              "width": 0.5
             },
             "pattern": {
              "fillmode": "overlay",
              "size": 10,
              "solidity": 0.2
             }
            },
            "type": "barpolar"
           }
          ],
          "carpet": [
           {
            "aaxis": {
             "endlinecolor": "#2a3f5f",
             "gridcolor": "white",
             "linecolor": "white",
             "minorgridcolor": "white",
             "startlinecolor": "#2a3f5f"
            },
            "baxis": {
             "endlinecolor": "#2a3f5f",
             "gridcolor": "white",
             "linecolor": "white",
             "minorgridcolor": "white",
             "startlinecolor": "#2a3f5f"
            },
            "type": "carpet"
           }
          ],
          "choropleth": [
           {
            "colorbar": {
             "outlinewidth": 0,
             "ticks": ""
            },
            "type": "choropleth"
           }
          ],
          "contour": [
           {
            "colorbar": {
             "outlinewidth": 0,
             "ticks": ""
            },
            "colorscale": [
             [
              0,
              "#0d0887"
             ],
             [
              0.1111111111111111,
              "#46039f"
             ],
             [
              0.2222222222222222,
              "#7201a8"
             ],
             [
              0.3333333333333333,
              "#9c179e"
             ],
             [
              0.4444444444444444,
              "#bd3786"
             ],
             [
              0.5555555555555556,
              "#d8576b"
             ],
             [
              0.6666666666666666,
              "#ed7953"
             ],
             [
              0.7777777777777778,
              "#fb9f3a"
             ],
             [
              0.8888888888888888,
              "#fdca26"
             ],
             [
              1,
              "#f0f921"
             ]
            ],
            "type": "contour"
           }
          ],
          "contourcarpet": [
           {
            "colorbar": {
             "outlinewidth": 0,
             "ticks": ""
            },
            "type": "contourcarpet"
           }
          ],
          "heatmap": [
           {
            "colorbar": {
             "outlinewidth": 0,
             "ticks": ""
            },
            "colorscale": [
             [
              0,
              "#0d0887"
             ],
             [
              0.1111111111111111,
              "#46039f"
             ],
             [
              0.2222222222222222,
              "#7201a8"
             ],
             [
              0.3333333333333333,
              "#9c179e"
             ],
             [
              0.4444444444444444,
              "#bd3786"
             ],
             [
              0.5555555555555556,
              "#d8576b"
             ],
             [
              0.6666666666666666,
              "#ed7953"
             ],
             [
              0.7777777777777778,
              "#fb9f3a"
             ],
             [
              0.8888888888888888,
              "#fdca26"
             ],
             [
              1,
              "#f0f921"
             ]
            ],
            "type": "heatmap"
           }
          ],
          "heatmapgl": [
           {
            "colorbar": {
             "outlinewidth": 0,
             "ticks": ""
            },
            "colorscale": [
             [
              0,
              "#0d0887"
             ],
             [
              0.1111111111111111,
              "#46039f"
             ],
             [
              0.2222222222222222,
              "#7201a8"
             ],
             [
              0.3333333333333333,
              "#9c179e"
             ],
             [
              0.4444444444444444,
              "#bd3786"
             ],
             [
              0.5555555555555556,
              "#d8576b"
             ],
             [
              0.6666666666666666,
              "#ed7953"
             ],
             [
              0.7777777777777778,
              "#fb9f3a"
             ],
             [
              0.8888888888888888,
              "#fdca26"
             ],
             [
              1,
              "#f0f921"
             ]
            ],
            "type": "heatmapgl"
           }
          ],
          "histogram": [
           {
            "marker": {
             "pattern": {
              "fillmode": "overlay",
              "size": 10,
              "solidity": 0.2
             }
            },
            "type": "histogram"
           }
          ],
          "histogram2d": [
           {
            "colorbar": {
             "outlinewidth": 0,
             "ticks": ""
            },
            "colorscale": [
             [
              0,
              "#0d0887"
             ],
             [
              0.1111111111111111,
              "#46039f"
             ],
             [
              0.2222222222222222,
              "#7201a8"
             ],
             [
              0.3333333333333333,
              "#9c179e"
             ],
             [
              0.4444444444444444,
              "#bd3786"
             ],
             [
              0.5555555555555556,
              "#d8576b"
             ],
             [
              0.6666666666666666,
              "#ed7953"
             ],
             [
              0.7777777777777778,
              "#fb9f3a"
             ],
             [
              0.8888888888888888,
              "#fdca26"
             ],
             [
              1,
              "#f0f921"
             ]
            ],
            "type": "histogram2d"
           }
          ],
          "histogram2dcontour": [
           {
            "colorbar": {
             "outlinewidth": 0,
             "ticks": ""
            },
            "colorscale": [
             [
              0,
              "#0d0887"
             ],
             [
              0.1111111111111111,
              "#46039f"
             ],
             [
              0.2222222222222222,
              "#7201a8"
             ],
             [
              0.3333333333333333,
              "#9c179e"
             ],
             [
              0.4444444444444444,
              "#bd3786"
             ],
             [
              0.5555555555555556,
              "#d8576b"
             ],
             [
              0.6666666666666666,
              "#ed7953"
             ],
             [
              0.7777777777777778,
              "#fb9f3a"
             ],
             [
              0.8888888888888888,
              "#fdca26"
             ],
             [
              1,
              "#f0f921"
             ]
            ],
            "type": "histogram2dcontour"
           }
          ],
          "mesh3d": [
           {
            "colorbar": {
             "outlinewidth": 0,
             "ticks": ""
            },
            "type": "mesh3d"
           }
          ],
          "parcoords": [
           {
            "line": {
             "colorbar": {
              "outlinewidth": 0,
              "ticks": ""
             }
            },
            "type": "parcoords"
           }
          ],
          "pie": [
           {
            "automargin": true,
            "type": "pie"
           }
          ],
          "scatter": [
           {
            "fillpattern": {
             "fillmode": "overlay",
             "size": 10,
             "solidity": 0.2
            },
            "type": "scatter"
           }
          ],
          "scatter3d": [
           {
            "line": {
             "colorbar": {
              "outlinewidth": 0,
              "ticks": ""
             }
            },
            "marker": {
             "colorbar": {
              "outlinewidth": 0,
              "ticks": ""
             }
            },
            "type": "scatter3d"
           }
          ],
          "scattercarpet": [
           {
            "marker": {
             "colorbar": {
              "outlinewidth": 0,
              "ticks": ""
             }
            },
            "type": "scattercarpet"
           }
          ],
          "scattergeo": [
           {
            "marker": {
             "colorbar": {
              "outlinewidth": 0,
              "ticks": ""
             }
            },
            "type": "scattergeo"
           }
          ],
          "scattergl": [
           {
            "marker": {
             "colorbar": {
              "outlinewidth": 0,
              "ticks": ""
             }
            },
            "type": "scattergl"
           }
          ],
          "scattermapbox": [
           {
            "marker": {
             "colorbar": {
              "outlinewidth": 0,
              "ticks": ""
             }
            },
            "type": "scattermapbox"
           }
          ],
          "scatterpolar": [
           {
            "marker": {
             "colorbar": {
              "outlinewidth": 0,
              "ticks": ""
             }
            },
            "type": "scatterpolar"
           }
          ],
          "scatterpolargl": [
           {
            "marker": {
             "colorbar": {
              "outlinewidth": 0,
              "ticks": ""
             }
            },
            "type": "scatterpolargl"
           }
          ],
          "scatterternary": [
           {
            "marker": {
             "colorbar": {
              "outlinewidth": 0,
              "ticks": ""
             }
            },
            "type": "scatterternary"
           }
          ],
          "surface": [
           {
            "colorbar": {
             "outlinewidth": 0,
             "ticks": ""
            },
            "colorscale": [
             [
              0,
              "#0d0887"
             ],
             [
              0.1111111111111111,
              "#46039f"
             ],
             [
              0.2222222222222222,
              "#7201a8"
             ],
             [
              0.3333333333333333,
              "#9c179e"
             ],
             [
              0.4444444444444444,
              "#bd3786"
             ],
             [
              0.5555555555555556,
              "#d8576b"
             ],
             [
              0.6666666666666666,
              "#ed7953"
             ],
             [
              0.7777777777777778,
              "#fb9f3a"
             ],
             [
              0.8888888888888888,
              "#fdca26"
             ],
             [
              1,
              "#f0f921"
             ]
            ],
            "type": "surface"
           }
          ],
          "table": [
           {
            "cells": {
             "fill": {
              "color": "#EBF0F8"
             },
             "line": {
              "color": "white"
             }
            },
            "header": {
             "fill": {
              "color": "#C8D4E3"
             },
             "line": {
              "color": "white"
             }
            },
            "type": "table"
           }
          ]
         },
         "layout": {
          "annotationdefaults": {
           "arrowcolor": "#2a3f5f",
           "arrowhead": 0,
           "arrowwidth": 1
          },
          "autotypenumbers": "strict",
          "coloraxis": {
           "colorbar": {
            "outlinewidth": 0,
            "ticks": ""
           }
          },
          "colorscale": {
           "diverging": [
            [
             0,
             "#8e0152"
            ],
            [
             0.1,
             "#c51b7d"
            ],
            [
             0.2,
             "#de77ae"
            ],
            [
             0.3,
             "#f1b6da"
            ],
            [
             0.4,
             "#fde0ef"
            ],
            [
             0.5,
             "#f7f7f7"
            ],
            [
             0.6,
             "#e6f5d0"
            ],
            [
             0.7,
             "#b8e186"
            ],
            [
             0.8,
             "#7fbc41"
            ],
            [
             0.9,
             "#4d9221"
            ],
            [
             1,
             "#276419"
            ]
           ],
           "sequential": [
            [
             0,
             "#0d0887"
            ],
            [
             0.1111111111111111,
             "#46039f"
            ],
            [
             0.2222222222222222,
             "#7201a8"
            ],
            [
             0.3333333333333333,
             "#9c179e"
            ],
            [
             0.4444444444444444,
             "#bd3786"
            ],
            [
             0.5555555555555556,
             "#d8576b"
            ],
            [
             0.6666666666666666,
             "#ed7953"
            ],
            [
             0.7777777777777778,
             "#fb9f3a"
            ],
            [
             0.8888888888888888,
             "#fdca26"
            ],
            [
             1,
             "#f0f921"
            ]
           ],
           "sequentialminus": [
            [
             0,
             "#0d0887"
            ],
            [
             0.1111111111111111,
             "#46039f"
            ],
            [
             0.2222222222222222,
             "#7201a8"
            ],
            [
             0.3333333333333333,
             "#9c179e"
            ],
            [
             0.4444444444444444,
             "#bd3786"
            ],
            [
             0.5555555555555556,
             "#d8576b"
            ],
            [
             0.6666666666666666,
             "#ed7953"
            ],
            [
             0.7777777777777778,
             "#fb9f3a"
            ],
            [
             0.8888888888888888,
             "#fdca26"
            ],
            [
             1,
             "#f0f921"
            ]
           ]
          },
          "colorway": [
           "#636efa",
           "#EF553B",
           "#00cc96",
           "#ab63fa",
           "#FFA15A",
           "#19d3f3",
           "#FF6692",
           "#B6E880",
           "#FF97FF",
           "#FECB52"
          ],
          "font": {
           "color": "#2a3f5f"
          },
          "geo": {
           "bgcolor": "white",
           "lakecolor": "white",
           "landcolor": "#E5ECF6",
           "showlakes": true,
           "showland": true,
           "subunitcolor": "white"
          },
          "hoverlabel": {
           "align": "left"
          },
          "hovermode": "closest",
          "mapbox": {
           "style": "light"
          },
          "paper_bgcolor": "white",
          "plot_bgcolor": "#E5ECF6",
          "polar": {
           "angularaxis": {
            "gridcolor": "white",
            "linecolor": "white",
            "ticks": ""
           },
           "bgcolor": "#E5ECF6",
           "radialaxis": {
            "gridcolor": "white",
            "linecolor": "white",
            "ticks": ""
           }
          },
          "scene": {
           "xaxis": {
            "backgroundcolor": "#E5ECF6",
            "gridcolor": "white",
            "gridwidth": 2,
            "linecolor": "white",
            "showbackground": true,
            "ticks": "",
            "zerolinecolor": "white"
           },
           "yaxis": {
            "backgroundcolor": "#E5ECF6",
            "gridcolor": "white",
            "gridwidth": 2,
            "linecolor": "white",
            "showbackground": true,
            "ticks": "",
            "zerolinecolor": "white"
           },
           "zaxis": {
            "backgroundcolor": "#E5ECF6",
            "gridcolor": "white",
            "gridwidth": 2,
            "linecolor": "white",
            "showbackground": true,
            "ticks": "",
            "zerolinecolor": "white"
           }
          },
          "shapedefaults": {
           "line": {
            "color": "#2a3f5f"
           }
          },
          "ternary": {
           "aaxis": {
            "gridcolor": "white",
            "linecolor": "white",
            "ticks": ""
           },
           "baxis": {
            "gridcolor": "white",
            "linecolor": "white",
            "ticks": ""
           },
           "bgcolor": "#E5ECF6",
           "caxis": {
            "gridcolor": "white",
            "linecolor": "white",
            "ticks": ""
           }
          },
          "title": {
           "x": 0.05
          },
          "xaxis": {
           "automargin": true,
           "gridcolor": "white",
           "linecolor": "white",
           "ticks": "",
           "title": {
            "standoff": 15
           },
           "zerolinecolor": "white",
           "zerolinewidth": 2
          },
          "yaxis": {
           "automargin": true,
           "gridcolor": "white",
           "linecolor": "white",
           "ticks": "",
           "title": {
            "standoff": 15
           },
           "zerolinecolor": "white",
           "zerolinewidth": 2
          }
         }
        },
        "title": {
         "text": "Backtest Results (Bets Placed Only)"
        },
        "xaxis": {
         "anchor": "y",
         "domain": [
          0,
          1
         ],
         "matches": "x3",
         "showticklabels": false,
         "title": {
          "text": "Bet Number"
         }
        },
        "xaxis2": {
         "anchor": "y2",
         "domain": [
          0,
          1
         ],
         "matches": "x3",
         "showticklabels": false,
         "title": {
          "text": "Bet Number"
         }
        },
        "xaxis3": {
         "anchor": "y3",
         "domain": [
          0,
          1
         ],
         "title": {
          "text": "Bet Number"
         }
        },
        "yaxis": {
         "anchor": "x",
         "domain": [
          0.55,
          1
         ],
         "title": {
          "text": "Bankroll"
         }
        },
        "yaxis2": {
         "anchor": "x2",
         "domain": [
          0.275,
          0.5
         ],
         "title": {
          "text": "ROI"
         }
        },
        "yaxis3": {
         "anchor": "x3",
         "domain": [
          0,
          0.225
         ],
         "title": {
          "text": "Stake %"
         }
        }
       }
      }
     },
     "metadata": {},
     "output_type": "display_data"
    }
   ],
   "source": [
    "backtest.plot()"
   ]
  },
  {
   "cell_type": "code",
   "execution_count": 13,
   "metadata": {},
   "outputs": [
    {
     "data": {
      "application/vnd.plotly.v1+json": {
       "config": {
        "plotlyServerURL": "https://plot.ly"
       },
       "data": [
        {
         "marker": {
          "color": "green"
         },
         "name": "Winning Bets",
         "opacity": 0.7,
         "type": "bar",
         "x": [
          1.5359316655458,
          1.5922422997366334,
          1.6506174056706464,
          1.7111326714241608,
          1.7738665599649048,
          1.838900410885636,
          1.9063185458675447,
          1.9762083780101762,
          2.0486605251696317,
          2.123768927451991,
          2.201630969014309,
          2.282347604331102,
          2.36602348909004,
          2.452767115886564,
          2.542690954893369,
          2.6359115996871343,
          2.732549918421589,
          2.832731210542909,
          2.93658536925065
         ],
         "y": [
          9,
          4,
          13,
          5,
          10,
          9,
          11,
          6,
          10,
          6,
          6,
          7,
          11,
          19,
          6,
          10,
          13,
          14,
          9
         ]
        },
        {
         "marker": {
          "color": "red"
         },
         "name": "Losing Bets",
         "opacity": 0.7,
         "type": "bar",
         "x": [
          1.5359316655458,
          1.5922422997366334,
          1.6506174056706464,
          1.7111326714241608,
          1.7738665599649048,
          1.838900410885636,
          1.9063185458675447,
          1.9762083780101762,
          2.0486605251696317,
          2.123768927451991,
          2.201630969014309,
          2.282347604331102,
          2.36602348909004,
          2.452767115886564,
          2.542690954893369,
          2.6359115996871343,
          2.732549918421589,
          2.832731210542909,
          2.93658536925065
         ],
         "y": [
          9,
          11,
          12,
          10,
          7,
          5,
          7,
          14,
          7,
          5,
          9,
          12,
          12,
          13,
          9,
          8,
          10,
          10,
          17
         ]
        },
        {
         "line": {
          "color": "blue",
          "dash": "dot",
          "width": 2
         },
         "mode": "lines",
         "name": "Break-Even Win Rate",
         "type": "scatter",
         "x": [
          null
         ],
         "y": [
          null
         ]
        }
       ],
       "layout": {
        "annotations": [
         {
          "showarrow": false,
          "text": "Avg: 2.22",
          "x": 2.2156884264822603,
          "xanchor": "right",
          "xref": "x",
          "y": 1,
          "yanchor": "top",
          "yref": "y domain"
         },
         {
          "showarrow": false,
          "text": "Median: 2.24",
          "x": 2.238174439619307,
          "xanchor": "left",
          "xref": "x",
          "y": 0,
          "yanchor": "bottom",
          "yref": "y domain"
         }
        ],
        "bargap": 0.1,
        "barmode": "stack",
        "margin": {
         "t": 100
        },
        "shapes": [
         {
          "line": {
           "color": "blue",
           "dash": "dot",
           "width": 2
          },
          "type": "line",
          "x0": 1.5082831756854036,
          "x1": 1.563580155406196,
          "y0": 11.719271373706343,
          "y1": 11.719271373706343
         },
         {
          "line": {
           "color": "blue",
           "dash": "dot",
           "width": 2
          },
          "type": "line",
          "x0": 1.563580155406196,
          "x1": 1.6209044440670706,
          "y0": 9.42067674152426,
          "y1": 9.42067674152426
         },
         {
          "line": {
           "color": "blue",
           "dash": "dot",
           "width": 2
          },
          "type": "line",
          "x0": 1.6209044440670706,
          "x1": 1.680330367274222,
          "y0": 15.145847798595394,
          "y1": 15.145847798595394
         },
         {
          "line": {
           "color": "blue",
           "dash": "dot",
           "width": 2
          },
          "type": "line",
          "x0": 1.680330367274222,
          "x1": 1.7419349755740996,
          "y0": 8.766123311476269,
          "y1": 8.766123311476269
         },
         {
          "line": {
           "color": "blue",
           "dash": "dot",
           "width": 2
          },
          "type": "line",
          "x0": 1.7419349755740996,
          "x1": 1.80579814435571,
          "y0": 9.583584461018498,
          "y1": 9.583584461018498
         },
         {
          "line": {
           "color": "blue",
           "dash": "dot",
           "width": 2
          },
          "type": "line",
          "x0": 1.80579814435571,
          "x1": 1.872002677415562,
          "y0": 7.613245348755692,
          "y1": 7.613245348755692
         },
         {
          "line": {
           "color": "blue",
           "dash": "dot",
           "width": 2
          },
          "type": "line",
          "x0": 1.872002677415562,
          "x1": 1.940634414319527,
          "y0": 9.442283420585616,
          "y1": 9.442283420585616
         },
         {
          "line": {
           "color": "blue",
           "dash": "dot",
           "width": 2
          },
          "type": "line",
          "x0": 1.940634414319527,
          "x1": 2.0117823417008256,
          "y0": 10.12039024960404,
          "y1": 10.12039024960404
         },
         {
          "line": {
           "color": "blue",
           "dash": "dot",
           "width": 2
          },
          "type": "line",
          "x0": 2.0117823417008256,
          "x1": 2.085538708638438,
          "y0": 8.298104928141951,
          "y1": 8.298104928141951
         },
         {
          "line": {
           "color": "blue",
           "dash": "dot",
           "width": 2
          },
          "type": "line",
          "x0": 2.085538708638438,
          "x1": 2.161999146265544,
          "y0": 5.1794712022636755,
          "y1": 5.1794712022636755
         },
         {
          "line": {
           "color": "blue",
           "dash": "dot",
           "width": 2
          },
          "type": "line",
          "x0": 2.161999146265544,
          "x1": 2.241262791763074,
          "y0": 6.813130906636748,
          "y1": 6.813130906636748
         },
         {
          "line": {
           "color": "blue",
           "dash": "dot",
           "width": 2
          },
          "type": "line",
          "x0": 2.241262791763074,
          "x1": 2.32343241689913,
          "y0": 8.324761733902674,
          "y1": 8.324761733902674
         },
         {
          "line": {
           "color": "blue",
           "dash": "dot",
           "width": 2
          },
          "type": "line",
          "x0": 2.32343241689913,
          "x1": 2.4086145612809498,
          "y0": 9.720951675270848,
          "y1": 9.720951675270848
         },
         {
          "line": {
           "color": "blue",
           "dash": "dot",
           "width": 2
          },
          "type": "line",
          "x0": 2.4086145612809498,
          "x1": 2.4969196704921788,
          "y0": 13.046489327395214,
          "y1": 13.046489327395214
         },
         {
          "line": {
           "color": "blue",
           "dash": "dot",
           "width": 2
          },
          "type": "line",
          "x0": 2.4969196704921788,
          "x1": 2.588462239294559,
          "y0": 5.8992619496808025,
          "y1": 5.8992619496808025
         },
         {
          "line": {
           "color": "blue",
           "dash": "dot",
           "width": 2
          },
          "type": "line",
          "x0": 2.588462239294559,
          "x1": 2.6833609600797095,
          "y0": 6.828757080524432,
          "y1": 6.828757080524432
         },
         {
          "line": {
           "color": "blue",
           "dash": "dot",
           "width": 2
          },
          "type": "line",
          "x0": 2.6833609600797095,
          "x1": 2.7817388767634683,
          "y0": 8.417046599933867,
          "y1": 8.417046599933867
         },
         {
          "line": {
           "color": "blue",
           "dash": "dot",
           "width": 2
          },
          "type": "line",
          "x0": 2.7817388767634683,
          "x1": 2.8837235443223497,
          "y0": 8.47238873588725,
          "y1": 8.47238873588725
         },
         {
          "line": {
           "color": "blue",
           "dash": "dot",
           "width": 2
          },
          "type": "line",
          "x0": 2.8837235443223497,
          "x1": 2.9894471941789504,
          "y0": 8.853820587764698,
          "y1": 8.853820587764698
         },
         {
          "line": {
           "color": "blue",
           "dash": "dash"
          },
          "type": "line",
          "x0": 2.2156884264822603,
          "x1": 2.2156884264822603,
          "xref": "x",
          "y0": 0,
          "y1": 1,
          "yref": "y domain"
         },
         {
          "line": {
           "color": "purple",
           "dash": "dot"
          },
          "type": "line",
          "x0": 2.238174439619307,
          "x1": 2.238174439619307,
          "xref": "x",
          "y0": 0,
          "y1": 1,
          "yref": "y domain"
         }
        ],
        "template": {
         "data": {
          "bar": [
           {
            "error_x": {
             "color": "#2a3f5f"
            },
            "error_y": {
             "color": "#2a3f5f"
            },
            "marker": {
             "line": {
              "color": "#E5ECF6",
              "width": 0.5
             },
             "pattern": {
              "fillmode": "overlay",
              "size": 10,
              "solidity": 0.2
             }
            },
            "type": "bar"
           }
          ],
          "barpolar": [
           {
            "marker": {
             "line": {
              "color": "#E5ECF6",
              "width": 0.5
             },
             "pattern": {
              "fillmode": "overlay",
              "size": 10,
              "solidity": 0.2
             }
            },
            "type": "barpolar"
           }
          ],
          "carpet": [
           {
            "aaxis": {
             "endlinecolor": "#2a3f5f",
             "gridcolor": "white",
             "linecolor": "white",
             "minorgridcolor": "white",
             "startlinecolor": "#2a3f5f"
            },
            "baxis": {
             "endlinecolor": "#2a3f5f",
             "gridcolor": "white",
             "linecolor": "white",
             "minorgridcolor": "white",
             "startlinecolor": "#2a3f5f"
            },
            "type": "carpet"
           }
          ],
          "choropleth": [
           {
            "colorbar": {
             "outlinewidth": 0,
             "ticks": ""
            },
            "type": "choropleth"
           }
          ],
          "contour": [
           {
            "colorbar": {
             "outlinewidth": 0,
             "ticks": ""
            },
            "colorscale": [
             [
              0,
              "#0d0887"
             ],
             [
              0.1111111111111111,
              "#46039f"
             ],
             [
              0.2222222222222222,
              "#7201a8"
             ],
             [
              0.3333333333333333,
              "#9c179e"
             ],
             [
              0.4444444444444444,
              "#bd3786"
             ],
             [
              0.5555555555555556,
              "#d8576b"
             ],
             [
              0.6666666666666666,
              "#ed7953"
             ],
             [
              0.7777777777777778,
              "#fb9f3a"
             ],
             [
              0.8888888888888888,
              "#fdca26"
             ],
             [
              1,
              "#f0f921"
             ]
            ],
            "type": "contour"
           }
          ],
          "contourcarpet": [
           {
            "colorbar": {
             "outlinewidth": 0,
             "ticks": ""
            },
            "type": "contourcarpet"
           }
          ],
          "heatmap": [
           {
            "colorbar": {
             "outlinewidth": 0,
             "ticks": ""
            },
            "colorscale": [
             [
              0,
              "#0d0887"
             ],
             [
              0.1111111111111111,
              "#46039f"
             ],
             [
              0.2222222222222222,
              "#7201a8"
             ],
             [
              0.3333333333333333,
              "#9c179e"
             ],
             [
              0.4444444444444444,
              "#bd3786"
             ],
             [
              0.5555555555555556,
              "#d8576b"
             ],
             [
              0.6666666666666666,
              "#ed7953"
             ],
             [
              0.7777777777777778,
              "#fb9f3a"
             ],
             [
              0.8888888888888888,
              "#fdca26"
             ],
             [
              1,
              "#f0f921"
             ]
            ],
            "type": "heatmap"
           }
          ],
          "heatmapgl": [
           {
            "colorbar": {
             "outlinewidth": 0,
             "ticks": ""
            },
            "colorscale": [
             [
              0,
              "#0d0887"
             ],
             [
              0.1111111111111111,
              "#46039f"
             ],
             [
              0.2222222222222222,
              "#7201a8"
             ],
             [
              0.3333333333333333,
              "#9c179e"
             ],
             [
              0.4444444444444444,
              "#bd3786"
             ],
             [
              0.5555555555555556,
              "#d8576b"
             ],
             [
              0.6666666666666666,
              "#ed7953"
             ],
             [
              0.7777777777777778,
              "#fb9f3a"
             ],
             [
              0.8888888888888888,
              "#fdca26"
             ],
             [
              1,
              "#f0f921"
             ]
            ],
            "type": "heatmapgl"
           }
          ],
          "histogram": [
           {
            "marker": {
             "pattern": {
              "fillmode": "overlay",
              "size": 10,
              "solidity": 0.2
             }
            },
            "type": "histogram"
           }
          ],
          "histogram2d": [
           {
            "colorbar": {
             "outlinewidth": 0,
             "ticks": ""
            },
            "colorscale": [
             [
              0,
              "#0d0887"
             ],
             [
              0.1111111111111111,
              "#46039f"
             ],
             [
              0.2222222222222222,
              "#7201a8"
             ],
             [
              0.3333333333333333,
              "#9c179e"
             ],
             [
              0.4444444444444444,
              "#bd3786"
             ],
             [
              0.5555555555555556,
              "#d8576b"
             ],
             [
              0.6666666666666666,
              "#ed7953"
             ],
             [
              0.7777777777777778,
              "#fb9f3a"
             ],
             [
              0.8888888888888888,
              "#fdca26"
             ],
             [
              1,
              "#f0f921"
             ]
            ],
            "type": "histogram2d"
           }
          ],
          "histogram2dcontour": [
           {
            "colorbar": {
             "outlinewidth": 0,
             "ticks": ""
            },
            "colorscale": [
             [
              0,
              "#0d0887"
             ],
             [
              0.1111111111111111,
              "#46039f"
             ],
             [
              0.2222222222222222,
              "#7201a8"
             ],
             [
              0.3333333333333333,
              "#9c179e"
             ],
             [
              0.4444444444444444,
              "#bd3786"
             ],
             [
              0.5555555555555556,
              "#d8576b"
             ],
             [
              0.6666666666666666,
              "#ed7953"
             ],
             [
              0.7777777777777778,
              "#fb9f3a"
             ],
             [
              0.8888888888888888,
              "#fdca26"
             ],
             [
              1,
              "#f0f921"
             ]
            ],
            "type": "histogram2dcontour"
           }
          ],
          "mesh3d": [
           {
            "colorbar": {
             "outlinewidth": 0,
             "ticks": ""
            },
            "type": "mesh3d"
           }
          ],
          "parcoords": [
           {
            "line": {
             "colorbar": {
              "outlinewidth": 0,
              "ticks": ""
             }
            },
            "type": "parcoords"
           }
          ],
          "pie": [
           {
            "automargin": true,
            "type": "pie"
           }
          ],
          "scatter": [
           {
            "fillpattern": {
             "fillmode": "overlay",
             "size": 10,
             "solidity": 0.2
            },
            "type": "scatter"
           }
          ],
          "scatter3d": [
           {
            "line": {
             "colorbar": {
              "outlinewidth": 0,
              "ticks": ""
             }
            },
            "marker": {
             "colorbar": {
              "outlinewidth": 0,
              "ticks": ""
             }
            },
            "type": "scatter3d"
           }
          ],
          "scattercarpet": [
           {
            "marker": {
             "colorbar": {
              "outlinewidth": 0,
              "ticks": ""
             }
            },
            "type": "scattercarpet"
           }
          ],
          "scattergeo": [
           {
            "marker": {
             "colorbar": {
              "outlinewidth": 0,
              "ticks": ""
             }
            },
            "type": "scattergeo"
           }
          ],
          "scattergl": [
           {
            "marker": {
             "colorbar": {
              "outlinewidth": 0,
              "ticks": ""
             }
            },
            "type": "scattergl"
           }
          ],
          "scattermapbox": [
           {
            "marker": {
             "colorbar": {
              "outlinewidth": 0,
              "ticks": ""
             }
            },
            "type": "scattermapbox"
           }
          ],
          "scatterpolar": [
           {
            "marker": {
             "colorbar": {
              "outlinewidth": 0,
              "ticks": ""
             }
            },
            "type": "scatterpolar"
           }
          ],
          "scatterpolargl": [
           {
            "marker": {
             "colorbar": {
              "outlinewidth": 0,
              "ticks": ""
             }
            },
            "type": "scatterpolargl"
           }
          ],
          "scatterternary": [
           {
            "marker": {
             "colorbar": {
              "outlinewidth": 0,
              "ticks": ""
             }
            },
            "type": "scatterternary"
           }
          ],
          "surface": [
           {
            "colorbar": {
             "outlinewidth": 0,
             "ticks": ""
            },
            "colorscale": [
             [
              0,
              "#0d0887"
             ],
             [
              0.1111111111111111,
              "#46039f"
             ],
             [
              0.2222222222222222,
              "#7201a8"
             ],
             [
              0.3333333333333333,
              "#9c179e"
             ],
             [
              0.4444444444444444,
              "#bd3786"
             ],
             [
              0.5555555555555556,
              "#d8576b"
             ],
             [
              0.6666666666666666,
              "#ed7953"
             ],
             [
              0.7777777777777778,
              "#fb9f3a"
             ],
             [
              0.8888888888888888,
              "#fdca26"
             ],
             [
              1,
              "#f0f921"
             ]
            ],
            "type": "surface"
           }
          ],
          "table": [
           {
            "cells": {
             "fill": {
              "color": "#EBF0F8"
             },
             "line": {
              "color": "white"
             }
            },
            "header": {
             "fill": {
              "color": "#C8D4E3"
             },
             "line": {
              "color": "white"
             }
            },
            "type": "table"
           }
          ]
         },
         "layout": {
          "annotationdefaults": {
           "arrowcolor": "#2a3f5f",
           "arrowhead": 0,
           "arrowwidth": 1
          },
          "autotypenumbers": "strict",
          "coloraxis": {
           "colorbar": {
            "outlinewidth": 0,
            "ticks": ""
           }
          },
          "colorscale": {
           "diverging": [
            [
             0,
             "#8e0152"
            ],
            [
             0.1,
             "#c51b7d"
            ],
            [
             0.2,
             "#de77ae"
            ],
            [
             0.3,
             "#f1b6da"
            ],
            [
             0.4,
             "#fde0ef"
            ],
            [
             0.5,
             "#f7f7f7"
            ],
            [
             0.6,
             "#e6f5d0"
            ],
            [
             0.7,
             "#b8e186"
            ],
            [
             0.8,
             "#7fbc41"
            ],
            [
             0.9,
             "#4d9221"
            ],
            [
             1,
             "#276419"
            ]
           ],
           "sequential": [
            [
             0,
             "#0d0887"
            ],
            [
             0.1111111111111111,
             "#46039f"
            ],
            [
             0.2222222222222222,
             "#7201a8"
            ],
            [
             0.3333333333333333,
             "#9c179e"
            ],
            [
             0.4444444444444444,
             "#bd3786"
            ],
            [
             0.5555555555555556,
             "#d8576b"
            ],
            [
             0.6666666666666666,
             "#ed7953"
            ],
            [
             0.7777777777777778,
             "#fb9f3a"
            ],
            [
             0.8888888888888888,
             "#fdca26"
            ],
            [
             1,
             "#f0f921"
            ]
           ],
           "sequentialminus": [
            [
             0,
             "#0d0887"
            ],
            [
             0.1111111111111111,
             "#46039f"
            ],
            [
             0.2222222222222222,
             "#7201a8"
            ],
            [
             0.3333333333333333,
             "#9c179e"
            ],
            [
             0.4444444444444444,
             "#bd3786"
            ],
            [
             0.5555555555555556,
             "#d8576b"
            ],
            [
             0.6666666666666666,
             "#ed7953"
            ],
            [
             0.7777777777777778,
             "#fb9f3a"
            ],
            [
             0.8888888888888888,
             "#fdca26"
            ],
            [
             1,
             "#f0f921"
            ]
           ]
          },
          "colorway": [
           "#636efa",
           "#EF553B",
           "#00cc96",
           "#ab63fa",
           "#FFA15A",
           "#19d3f3",
           "#FF6692",
           "#B6E880",
           "#FF97FF",
           "#FECB52"
          ],
          "font": {
           "color": "#2a3f5f"
          },
          "geo": {
           "bgcolor": "white",
           "lakecolor": "white",
           "landcolor": "#E5ECF6",
           "showlakes": true,
           "showland": true,
           "subunitcolor": "white"
          },
          "hoverlabel": {
           "align": "left"
          },
          "hovermode": "closest",
          "mapbox": {
           "style": "light"
          },
          "paper_bgcolor": "white",
          "plot_bgcolor": "#E5ECF6",
          "polar": {
           "angularaxis": {
            "gridcolor": "white",
            "linecolor": "white",
            "ticks": ""
           },
           "bgcolor": "#E5ECF6",
           "radialaxis": {
            "gridcolor": "white",
            "linecolor": "white",
            "ticks": ""
           }
          },
          "scene": {
           "xaxis": {
            "backgroundcolor": "#E5ECF6",
            "gridcolor": "white",
            "gridwidth": 2,
            "linecolor": "white",
            "showbackground": true,
            "ticks": "",
            "zerolinecolor": "white"
           },
           "yaxis": {
            "backgroundcolor": "#E5ECF6",
            "gridcolor": "white",
            "gridwidth": 2,
            "linecolor": "white",
            "showbackground": true,
            "ticks": "",
            "zerolinecolor": "white"
           },
           "zaxis": {
            "backgroundcolor": "#E5ECF6",
            "gridcolor": "white",
            "gridwidth": 2,
            "linecolor": "white",
            "showbackground": true,
            "ticks": "",
            "zerolinecolor": "white"
           }
          },
          "shapedefaults": {
           "line": {
            "color": "#2a3f5f"
           }
          },
          "ternary": {
           "aaxis": {
            "gridcolor": "white",
            "linecolor": "white",
            "ticks": ""
           },
           "baxis": {
            "gridcolor": "white",
            "linecolor": "white",
            "ticks": ""
           },
           "bgcolor": "#E5ECF6",
           "caxis": {
            "gridcolor": "white",
            "linecolor": "white",
            "ticks": ""
           }
          },
          "title": {
           "x": 0.05
          },
          "xaxis": {
           "automargin": true,
           "gridcolor": "white",
           "linecolor": "white",
           "ticks": "",
           "title": {
            "standoff": 15
           },
           "zerolinecolor": "white",
           "zerolinewidth": 2
          },
          "yaxis": {
           "automargin": true,
           "gridcolor": "white",
           "linecolor": "white",
           "ticks": "",
           "title": {
            "standoff": 15
           },
           "zerolinecolor": "white",
           "zerolinewidth": 2
          }
         }
        },
        "title": {
         "text": "Distribution of played Odds and Break-Even Win Rates"
        },
        "xaxis": {
         "tickangle": 45,
         "tickmode": "array",
         "ticktext": [
          "1.51",
          "1.56",
          "1.62",
          "1.68",
          "1.74",
          "1.81",
          "1.87",
          "1.94",
          "2.01",
          "2.09",
          "2.16",
          "2.24",
          "2.32",
          "2.41",
          "2.50",
          "2.59",
          "2.68",
          "2.78",
          "2.88",
          "2.99"
         ],
         "tickvals": [
          1.5082831756854036,
          1.563580155406196,
          1.6209044440670706,
          1.680330367274222,
          1.7419349755740996,
          1.80579814435571,
          1.872002677415562,
          1.940634414319527,
          2.0117823417008256,
          2.085538708638438,
          2.161999146265544,
          2.241262791763074,
          2.32343241689913,
          2.4086145612809498,
          2.4969196704921788,
          2.588462239294559,
          2.6833609600797095,
          2.7817388767634683,
          2.8837235443223497,
          2.9894471941789504
         ],
         "title": {
          "text": "Odds"
         }
        },
        "yaxis": {
         "range": [
          0,
          22.8
         ],
         "title": {
          "text": "Frequency"
         }
        }
       }
      }
     },
     "metadata": {},
     "output_type": "display_data"
    }
   ],
   "source": [
    "backtest.plot_odds_distribution()\n"
   ]
  },
  {
   "cell_type": "code",
   "execution_count": 14,
   "metadata": {},
   "outputs": [],
   "source": [
    "model = make_pipeline(StandardScaler(), LogisticRegression())\n",
    "\n",
    "# Initialize ModelBacktest with the dummy model\n",
    "model_backtest = ModelBacktest(\n",
    "    data=data,\n",
    "    date_column='date',\n",
    "    odds_columns=['odds_team_a', 'odds_team_b'],\n",
    "    outcome_column='actual_winner',\n",
    "    initial_bankroll=1000,\n",
    "    strategy=strategy,\n",
    "    cv_schema=TimeSeriesSplit(n_splits=5),\n",
    "    model=model\n",
    ")\n"
   ]
  },
  {
   "cell_type": "code",
   "execution_count": 15,
   "metadata": {},
   "outputs": [],
   "source": [
    "# Run the backtest\n",
    "model_backtest.run()"
   ]
  },
  {
   "cell_type": "code",
   "execution_count": 16,
   "metadata": {},
   "outputs": [
    {
     "data": {
      "text/html": [
       "<div>\n",
       "<style scoped>\n",
       "    .dataframe tbody tr th:only-of-type {\n",
       "        vertical-align: middle;\n",
       "    }\n",
       "\n",
       "    .dataframe tbody tr th {\n",
       "        vertical-align: top;\n",
       "    }\n",
       "\n",
       "    .dataframe thead th {\n",
       "        text-align: right;\n",
       "    }\n",
       "</style>\n",
       "<table border=\"1\" class=\"dataframe\">\n",
       "  <thead>\n",
       "    <tr style=\"text-align: right;\">\n",
       "      <th></th>\n",
       "      <th>bt_index</th>\n",
       "      <th>bt_fold</th>\n",
       "      <th>bt_predicted_outcome</th>\n",
       "      <th>bt_bet_on</th>\n",
       "      <th>bt_actual_outcome</th>\n",
       "      <th>bt_starting_bankroll</th>\n",
       "      <th>bt_ending_bankroll</th>\n",
       "      <th>bt_odds</th>\n",
       "      <th>bt_win</th>\n",
       "      <th>bt_profit</th>\n",
       "      <th>bt_roi</th>\n",
       "      <th>bt_stake</th>\n",
       "      <th>bt_potential_return</th>\n",
       "      <th>bt_date_column</th>\n",
       "      <th>bt_odd_0</th>\n",
       "      <th>bt_odd_1</th>\n",
       "      <th>bt_model_prob_0</th>\n",
       "      <th>bt_model_prob_1</th>\n",
       "      <th>date</th>\n",
       "      <th>odds_team_a</th>\n",
       "      <th>odds_team_b</th>\n",
       "      <th>actual_winner</th>\n",
       "      <th>model_predictions</th>\n",
       "    </tr>\n",
       "  </thead>\n",
       "  <tbody>\n",
       "    <tr>\n",
       "      <th>0</th>\n",
       "      <td>65</td>\n",
       "      <td>0</td>\n",
       "      <td>0</td>\n",
       "      <td>0</td>\n",
       "      <td>0</td>\n",
       "      <td>1000.000000</td>\n",
       "      <td>1013.140441</td>\n",
       "      <td>2.314044</td>\n",
       "      <td>True</td>\n",
       "      <td>13.140441</td>\n",
       "      <td>131.404412</td>\n",
       "      <td>10</td>\n",
       "      <td>23.140441</td>\n",
       "      <td>2023-03-07</td>\n",
       "      <td>2.314044</td>\n",
       "      <td>1.714488</td>\n",
       "      <td>0.698902</td>\n",
       "      <td>0.301098</td>\n",
       "      <td>2023-03-07</td>\n",
       "      <td>2.314044</td>\n",
       "      <td>1.714488</td>\n",
       "      <td>0</td>\n",
       "      <td>1</td>\n",
       "    </tr>\n",
       "    <tr>\n",
       "      <th>1</th>\n",
       "      <td>66</td>\n",
       "      <td>0</td>\n",
       "      <td>1</td>\n",
       "      <td>1</td>\n",
       "      <td>0</td>\n",
       "      <td>1013.140441</td>\n",
       "      <td>1003.140441</td>\n",
       "      <td>2.642266</td>\n",
       "      <td>False</td>\n",
       "      <td>-10.000000</td>\n",
       "      <td>-100.000000</td>\n",
       "      <td>10</td>\n",
       "      <td>26.422659</td>\n",
       "      <td>2023-03-08</td>\n",
       "      <td>1.711386</td>\n",
       "      <td>2.642266</td>\n",
       "      <td>0.499435</td>\n",
       "      <td>0.500565</td>\n",
       "      <td>2023-03-08</td>\n",
       "      <td>1.711386</td>\n",
       "      <td>2.642266</td>\n",
       "      <td>0</td>\n",
       "      <td>1</td>\n",
       "    </tr>\n",
       "    <tr>\n",
       "      <th>2</th>\n",
       "      <td>67</td>\n",
       "      <td>0</td>\n",
       "      <td>0</td>\n",
       "      <td>0</td>\n",
       "      <td>0</td>\n",
       "      <td>1003.140441</td>\n",
       "      <td>1020.173396</td>\n",
       "      <td>2.703295</td>\n",
       "      <td>True</td>\n",
       "      <td>17.032955</td>\n",
       "      <td>170.329547</td>\n",
       "      <td>10</td>\n",
       "      <td>27.032955</td>\n",
       "      <td>2023-03-09</td>\n",
       "      <td>2.703295</td>\n",
       "      <td>2.427327</td>\n",
       "      <td>0.634992</td>\n",
       "      <td>0.365008</td>\n",
       "      <td>2023-03-09</td>\n",
       "      <td>2.703295</td>\n",
       "      <td>2.427327</td>\n",
       "      <td>0</td>\n",
       "      <td>0</td>\n",
       "    </tr>\n",
       "    <tr>\n",
       "      <th>3</th>\n",
       "      <td>68</td>\n",
       "      <td>0</td>\n",
       "      <td>0</td>\n",
       "      <td>0</td>\n",
       "      <td>1</td>\n",
       "      <td>1020.173396</td>\n",
       "      <td>1010.173396</td>\n",
       "      <td>1.611826</td>\n",
       "      <td>False</td>\n",
       "      <td>-10.000000</td>\n",
       "      <td>-100.000000</td>\n",
       "      <td>10</td>\n",
       "      <td>16.118260</td>\n",
       "      <td>2023-03-10</td>\n",
       "      <td>1.611826</td>\n",
       "      <td>1.651684</td>\n",
       "      <td>0.584585</td>\n",
       "      <td>0.415415</td>\n",
       "      <td>2023-03-10</td>\n",
       "      <td>1.611826</td>\n",
       "      <td>1.651684</td>\n",
       "      <td>1</td>\n",
       "      <td>0</td>\n",
       "    </tr>\n",
       "    <tr>\n",
       "      <th>4</th>\n",
       "      <td>69</td>\n",
       "      <td>0</td>\n",
       "      <td>0</td>\n",
       "      <td>0</td>\n",
       "      <td>1</td>\n",
       "      <td>1010.173396</td>\n",
       "      <td>1000.173396</td>\n",
       "      <td>2.980330</td>\n",
       "      <td>False</td>\n",
       "      <td>-10.000000</td>\n",
       "      <td>-100.000000</td>\n",
       "      <td>10</td>\n",
       "      <td>29.803304</td>\n",
       "      <td>2023-03-11</td>\n",
       "      <td>2.980330</td>\n",
       "      <td>1.626160</td>\n",
       "      <td>0.758186</td>\n",
       "      <td>0.241814</td>\n",
       "      <td>2023-03-11</td>\n",
       "      <td>2.980330</td>\n",
       "      <td>1.626160</td>\n",
       "      <td>1</td>\n",
       "      <td>0</td>\n",
       "    </tr>\n",
       "    <tr>\n",
       "      <th>...</th>\n",
       "      <td>...</td>\n",
       "      <td>...</td>\n",
       "      <td>...</td>\n",
       "      <td>...</td>\n",
       "      <td>...</td>\n",
       "      <td>...</td>\n",
       "      <td>...</td>\n",
       "      <td>...</td>\n",
       "      <td>...</td>\n",
       "      <td>...</td>\n",
       "      <td>...</td>\n",
       "      <td>...</td>\n",
       "      <td>...</td>\n",
       "      <td>...</td>\n",
       "      <td>...</td>\n",
       "      <td>...</td>\n",
       "      <td>...</td>\n",
       "      <td>...</td>\n",
       "      <td>...</td>\n",
       "      <td>...</td>\n",
       "      <td>...</td>\n",
       "      <td>...</td>\n",
       "      <td>...</td>\n",
       "    </tr>\n",
       "    <tr>\n",
       "      <th>295</th>\n",
       "      <td>360</td>\n",
       "      <td>4</td>\n",
       "      <td>0</td>\n",
       "      <td>0</td>\n",
       "      <td>0</td>\n",
       "      <td>1384.902240</td>\n",
       "      <td>1395.724789</td>\n",
       "      <td>2.082255</td>\n",
       "      <td>True</td>\n",
       "      <td>10.822549</td>\n",
       "      <td>108.225489</td>\n",
       "      <td>10</td>\n",
       "      <td>20.822549</td>\n",
       "      <td>2023-12-27</td>\n",
       "      <td>2.082255</td>\n",
       "      <td>2.762743</td>\n",
       "      <td>0.551387</td>\n",
       "      <td>0.448613</td>\n",
       "      <td>2023-12-27</td>\n",
       "      <td>2.082255</td>\n",
       "      <td>2.762743</td>\n",
       "      <td>0</td>\n",
       "      <td>0</td>\n",
       "    </tr>\n",
       "    <tr>\n",
       "      <th>296</th>\n",
       "      <td>361</td>\n",
       "      <td>4</td>\n",
       "      <td>1</td>\n",
       "      <td>1</td>\n",
       "      <td>0</td>\n",
       "      <td>1395.724789</td>\n",
       "      <td>1385.724789</td>\n",
       "      <td>1.709659</td>\n",
       "      <td>False</td>\n",
       "      <td>-10.000000</td>\n",
       "      <td>-100.000000</td>\n",
       "      <td>10</td>\n",
       "      <td>17.096586</td>\n",
       "      <td>2023-12-28</td>\n",
       "      <td>2.464932</td>\n",
       "      <td>1.709659</td>\n",
       "      <td>0.494482</td>\n",
       "      <td>0.505518</td>\n",
       "      <td>2023-12-28</td>\n",
       "      <td>2.464932</td>\n",
       "      <td>1.709659</td>\n",
       "      <td>0</td>\n",
       "      <td>0</td>\n",
       "    </tr>\n",
       "    <tr>\n",
       "      <th>297</th>\n",
       "      <td>362</td>\n",
       "      <td>4</td>\n",
       "      <td>0</td>\n",
       "      <td>0</td>\n",
       "      <td>1</td>\n",
       "      <td>1385.724789</td>\n",
       "      <td>1375.724789</td>\n",
       "      <td>2.187379</td>\n",
       "      <td>False</td>\n",
       "      <td>-10.000000</td>\n",
       "      <td>-100.000000</td>\n",
       "      <td>10</td>\n",
       "      <td>21.873793</td>\n",
       "      <td>2023-12-29</td>\n",
       "      <td>2.187379</td>\n",
       "      <td>2.692901</td>\n",
       "      <td>0.587897</td>\n",
       "      <td>0.412103</td>\n",
       "      <td>2023-12-29</td>\n",
       "      <td>2.187379</td>\n",
       "      <td>2.692901</td>\n",
       "      <td>1</td>\n",
       "      <td>1</td>\n",
       "    </tr>\n",
       "    <tr>\n",
       "      <th>298</th>\n",
       "      <td>363</td>\n",
       "      <td>4</td>\n",
       "      <td>0</td>\n",
       "      <td>0</td>\n",
       "      <td>1</td>\n",
       "      <td>1375.724789</td>\n",
       "      <td>1365.724789</td>\n",
       "      <td>2.318425</td>\n",
       "      <td>False</td>\n",
       "      <td>-10.000000</td>\n",
       "      <td>-100.000000</td>\n",
       "      <td>10</td>\n",
       "      <td>23.184252</td>\n",
       "      <td>2023-12-30</td>\n",
       "      <td>2.318425</td>\n",
       "      <td>1.802441</td>\n",
       "      <td>0.544288</td>\n",
       "      <td>0.455712</td>\n",
       "      <td>2023-12-30</td>\n",
       "      <td>2.318425</td>\n",
       "      <td>1.802441</td>\n",
       "      <td>1</td>\n",
       "      <td>1</td>\n",
       "    </tr>\n",
       "    <tr>\n",
       "      <th>299</th>\n",
       "      <td>364</td>\n",
       "      <td>4</td>\n",
       "      <td>1</td>\n",
       "      <td>1</td>\n",
       "      <td>0</td>\n",
       "      <td>1365.724789</td>\n",
       "      <td>1355.724789</td>\n",
       "      <td>1.745484</td>\n",
       "      <td>False</td>\n",
       "      <td>-10.000000</td>\n",
       "      <td>-100.000000</td>\n",
       "      <td>10</td>\n",
       "      <td>17.454839</td>\n",
       "      <td>2023-12-31</td>\n",
       "      <td>2.912197</td>\n",
       "      <td>1.745484</td>\n",
       "      <td>0.487208</td>\n",
       "      <td>0.512792</td>\n",
       "      <td>2023-12-31</td>\n",
       "      <td>2.912197</td>\n",
       "      <td>1.745484</td>\n",
       "      <td>0</td>\n",
       "      <td>0</td>\n",
       "    </tr>\n",
       "  </tbody>\n",
       "</table>\n",
       "<p>300 rows × 23 columns</p>\n",
       "</div>"
      ],
      "text/plain": [
       "     bt_index  bt_fold  bt_predicted_outcome  bt_bet_on  bt_actual_outcome  \\\n",
       "0          65        0                     0          0                  0   \n",
       "1          66        0                     1          1                  0   \n",
       "2          67        0                     0          0                  0   \n",
       "3          68        0                     0          0                  1   \n",
       "4          69        0                     0          0                  1   \n",
       "..        ...      ...                   ...        ...                ...   \n",
       "295       360        4                     0          0                  0   \n",
       "296       361        4                     1          1                  0   \n",
       "297       362        4                     0          0                  1   \n",
       "298       363        4                     0          0                  1   \n",
       "299       364        4                     1          1                  0   \n",
       "\n",
       "     bt_starting_bankroll  bt_ending_bankroll   bt_odds  bt_win  bt_profit  \\\n",
       "0             1000.000000         1013.140441  2.314044    True  13.140441   \n",
       "1             1013.140441         1003.140441  2.642266   False -10.000000   \n",
       "2             1003.140441         1020.173396  2.703295    True  17.032955   \n",
       "3             1020.173396         1010.173396  1.611826   False -10.000000   \n",
       "4             1010.173396         1000.173396  2.980330   False -10.000000   \n",
       "..                    ...                 ...       ...     ...        ...   \n",
       "295           1384.902240         1395.724789  2.082255    True  10.822549   \n",
       "296           1395.724789         1385.724789  1.709659   False -10.000000   \n",
       "297           1385.724789         1375.724789  2.187379   False -10.000000   \n",
       "298           1375.724789         1365.724789  2.318425   False -10.000000   \n",
       "299           1365.724789         1355.724789  1.745484   False -10.000000   \n",
       "\n",
       "         bt_roi  bt_stake  bt_potential_return bt_date_column  bt_odd_0  \\\n",
       "0    131.404412        10            23.140441     2023-03-07  2.314044   \n",
       "1   -100.000000        10            26.422659     2023-03-08  1.711386   \n",
       "2    170.329547        10            27.032955     2023-03-09  2.703295   \n",
       "3   -100.000000        10            16.118260     2023-03-10  1.611826   \n",
       "4   -100.000000        10            29.803304     2023-03-11  2.980330   \n",
       "..          ...       ...                  ...            ...       ...   \n",
       "295  108.225489        10            20.822549     2023-12-27  2.082255   \n",
       "296 -100.000000        10            17.096586     2023-12-28  2.464932   \n",
       "297 -100.000000        10            21.873793     2023-12-29  2.187379   \n",
       "298 -100.000000        10            23.184252     2023-12-30  2.318425   \n",
       "299 -100.000000        10            17.454839     2023-12-31  2.912197   \n",
       "\n",
       "     bt_odd_1  bt_model_prob_0  bt_model_prob_1       date  odds_team_a  \\\n",
       "0    1.714488         0.698902         0.301098 2023-03-07     2.314044   \n",
       "1    2.642266         0.499435         0.500565 2023-03-08     1.711386   \n",
       "2    2.427327         0.634992         0.365008 2023-03-09     2.703295   \n",
       "3    1.651684         0.584585         0.415415 2023-03-10     1.611826   \n",
       "4    1.626160         0.758186         0.241814 2023-03-11     2.980330   \n",
       "..        ...              ...              ...        ...          ...   \n",
       "295  2.762743         0.551387         0.448613 2023-12-27     2.082255   \n",
       "296  1.709659         0.494482         0.505518 2023-12-28     2.464932   \n",
       "297  2.692901         0.587897         0.412103 2023-12-29     2.187379   \n",
       "298  1.802441         0.544288         0.455712 2023-12-30     2.318425   \n",
       "299  1.745484         0.487208         0.512792 2023-12-31     2.912197   \n",
       "\n",
       "     odds_team_b  actual_winner  model_predictions  \n",
       "0       1.714488              0                  1  \n",
       "1       2.642266              0                  1  \n",
       "2       2.427327              0                  0  \n",
       "3       1.651684              1                  0  \n",
       "4       1.626160              1                  0  \n",
       "..           ...            ...                ...  \n",
       "295     2.762743              0                  0  \n",
       "296     1.709659              0                  0  \n",
       "297     2.692901              1                  1  \n",
       "298     1.802441              1                  1  \n",
       "299     1.745484              0                  0  \n",
       "\n",
       "[300 rows x 23 columns]"
      ]
     },
     "execution_count": 16,
     "metadata": {},
     "output_type": "execute_result"
    }
   ],
   "source": [
    "model_backtest.get_bookie_results()\n",
    "model_backtest.detailed_results"
   ]
  },
  {
   "cell_type": "code",
   "execution_count": 17,
   "metadata": {},
   "outputs": [
    {
     "data": {
      "text/plain": [
       "{'Backtest Start Date': Timestamp('2023-03-07 00:00:00'),\n",
       " 'Backtest End Date': Timestamp('2023-12-31 00:00:00'),\n",
       " 'Backtest Duration': Timedelta('299 days 00:00:00'),\n",
       " 'ROI [%]': np.float64(35.57247886718092),\n",
       " 'Total Profit [$]': np.float64(355.72478867180985),\n",
       " 'Bankroll Final [$]': np.float64(1355.7247886718092),\n",
       " 'Bankroll Peak [$]': np.float64(1463.722726368339),\n",
       " 'Bankroll Valley [$]': np.float64(980.1733959586843),\n",
       " 'Sharpe Ratio [-]': np.float64(1.7791357673650765),\n",
       " 'Sortino Ratio [-]': np.float64(16.72765213888011),\n",
       " 'Calmar Ratio [-]': np.float64(2.8150722427794648),\n",
       " 'Max Drawdown [%]': np.float64(9.483353619172444),\n",
       " 'Max. Drawdown Duration [bets]': np.int64(24),\n",
       " 'Win Rate [%]': np.float64(50.33333333333333),\n",
       " 'Average Odds [-]': np.float64(2.2349962234426966),\n",
       " 'Highest Winning Odds [-]': np.float64(2.9894471941789504),\n",
       " 'Highest Losing Odds [-]': np.float64(2.999576509929196),\n",
       " 'Average Stake [$]': np.float64(10.0),\n",
       " 'Best Bet [$]': np.float64(19.894471941789504),\n",
       " 'Worst Bet [$]': np.float64(-10.0),\n",
       " 'Total Bets': 300,\n",
       " 'Total Opportunities': 300,\n",
       " 'Bet Frequency [%]': 100.0}"
      ]
     },
     "execution_count": 17,
     "metadata": {},
     "output_type": "execute_result"
    }
   ],
   "source": [
    "model_backtest.calculate_metrics()"
   ]
  },
  {
   "cell_type": "code",
   "execution_count": 18,
   "metadata": {},
   "outputs": [
    {
     "data": {
      "application/vnd.plotly.v1+json": {
       "config": {
        "plotlyServerURL": "https://plot.ly"
       },
       "data": [
        {
         "customdata": [
          [
           "2023-03-07",
           1000,
           10,
           1
          ],
          [
           "2023-03-08",
           1013.1404412473737,
           10,
           0.9870299904017302
          ],
          [
           "2023-03-09",
           1003.1404412473737,
           10,
           0.9968693902486189
          ],
          [
           "2023-03-10",
           1020.1733959586843,
           10,
           0.9802255224076621
          ],
          [
           "2023-03-11",
           1010.1733959586843,
           10,
           0.989929059704617
          ],
          [
           "2023-03-12",
           1000.1733959586843,
           10,
           0.9998266341022617
          ],
          [
           "2023-03-13",
           990.1733959586843,
           10,
           1.0099241244830675
          ],
          [
           "2023-03-14",
           980.1733959586843,
           10,
           1.020227649641443
          ],
          [
           "2023-03-15",
           997.5012968480396,
           10,
           1.002504962309178
          ],
          [
           "2023-03-16",
           1014.7332182748621,
           10,
           0.9854806977740318
          ],
          [
           "2023-03-17",
           1030.3360784325764,
           10,
           0.9705571035824293
          ],
          [
           "2023-03-18",
           1020.3360784325764,
           10,
           0.9800692351643427
          ],
          [
           "2023-03-19",
           1036.9051336328655,
           10,
           0.9644083798644473
          ],
          [
           "2023-03-20",
           1026.9051336328655,
           10,
           0.9737997866096125
          ],
          [
           "2023-03-21",
           1016.9051336328655,
           10,
           0.9833758990157987
          ],
          [
           "2023-03-22",
           1006.9051336328655,
           10,
           0.9931422202527143
          ],
          [
           "2023-03-23",
           1024.8516850209994,
           10,
           0.9757509448594114
          ],
          [
           "2023-03-24",
           1039.2011569234128,
           10,
           0.9622776046175036
          ],
          [
           "2023-03-25",
           1029.2011569234128,
           10,
           0.9716273570749729
          ],
          [
           "2023-03-26",
           1035.1545321777032,
           10,
           0.9660393389731415
          ],
          [
           "2023-03-27",
           1025.1545321777032,
           10,
           0.9754626923179393
          ],
          [
           "2023-03-28",
           1015.1545321777032,
           10,
           0.9850716992365746
          ],
          [
           "2023-03-29",
           1005.1545321777032,
           10,
           0.9948719007747637
          ],
          [
           "2023-03-30",
           1019.7178942480314,
           10,
           0.9806633831187479
          ],
          [
           "2023-03-31",
           1038.0260853866762,
           10,
           0.9633669269761067
          ],
          [
           "2023-04-01",
           1028.0260853866762,
           10,
           0.9727379627958228
          ],
          [
           "2023-04-02",
           1034.8199990757507,
           10,
           0.9663516368964166
          ],
          [
           "2023-04-03",
           1050.5186708840956,
           10,
           0.9519107348738693
          ],
          [
           "2023-04-04",
           1066.930446613349,
           10,
           0.9372682194741001
          ],
          [
           "2023-04-05",
           1056.930446613349,
           10,
           0.9461360520025065
          ],
          [
           "2023-04-06",
           1046.930446613349,
           10,
           0.9551732908664932
          ],
          [
           "2023-04-07",
           1059.3373805588149,
           10,
           0.9439863242364642
          ],
          [
           "2023-04-08",
           1049.3373805588149,
           10,
           0.9529823472670528
          ],
          [
           "2023-04-09",
           1060.750495834193,
           10,
           0.9427287603703473
          ],
          [
           "2023-04-10",
           1050.750495834193,
           10,
           0.9517007167397031
          ],
          [
           "2023-04-11",
           1040.750495834193,
           10,
           0.9608450863129012
          ],
          [
           "2023-04-12",
           1046.2219336194942,
           10,
           0.9558201447186397
          ],
          [
           "2023-04-13",
           1036.2219336194942,
           10,
           0.9650442318925136
          ],
          [
           "2023-04-14",
           1054.250920542336,
           10,
           0.9485407890235202
          ],
          [
           "2023-04-15",
           1044.250920542336,
           10,
           0.9576242455986018
          ],
          [
           "2023-04-16",
           1062.8644176512273,
           10,
           0.9408537753195763
          ],
          [
           "2023-04-17",
           1071.6038010884604,
           10,
           0.9331807137901804
          ],
          [
           "2023-04-18",
           1082.759544933995,
           10,
           0.9235660906235281
          ],
          [
           "2023-04-19",
           1072.759544933995,
           10,
           0.9321753460245635
          ],
          [
           "2023-04-20",
           1062.759544933995,
           10,
           0.9409466184207333
          ],
          [
           "2023-04-21",
           1052.759544933995,
           10,
           0.9498845247351305
          ],
          [
           "2023-04-22",
           1072.6540168757845,
           10,
           0.9322670537445087
          ],
          [
           "2023-04-23",
           1062.6540168757845,
           10,
           0.9410400601881805
          ],
          [
           "2023-04-24",
           1052.6540168757845,
           10,
           0.9499797502012498
          ],
          [
           "2023-04-25",
           1042.6540168757845,
           10,
           0.959090919724653
          ],
          [
           "2023-04-26",
           1032.6540168757845,
           10,
           0.9683785504707795
          ],
          [
           "2023-04-27",
           1050.7259257286003,
           10,
           0.9517229712463546
          ],
          [
           "2023-04-28",
           1067.781006882087,
           10,
           0.9365216215261152
          ],
          [
           "2023-04-29",
           1057.781006882087,
           10,
           0.945375265290117
          ],
          [
           "2023-04-30",
           1047.781006882087,
           10,
           0.9543979070356787
          ],
          [
           "2023-05-01",
           1060.8711405108218,
           10,
           0.9426215511136333
          ],
          [
           "2023-05-02",
           1050.8711405108218,
           10,
           0.9515914572684016
          ],
          [
           "2023-05-03",
           1040.8711405108218,
           10,
           0.9607337172488387
          ],
          [
           "2023-05-04",
           1050.6411926353996,
           10,
           0.9517997266903531
          ],
          [
           "2023-05-05",
           1069.897364896548,
           10,
           0.9346690933262495
          ],
          [
           "2023-05-06",
           1088.2513216549116,
           10,
           0.9189053852737737
          ],
          [
           "2023-05-07",
           1078.2513216549116,
           10,
           0.9274275671326694
          ],
          [
           "2023-05-08",
           1068.2513216549116,
           10,
           0.9361093028659416
          ],
          [
           "2023-05-09",
           1058.2513216549116,
           10,
           0.9449551156110845
          ],
          [
           "2023-05-10",
           1063.3556036128796,
           10,
           0.9404191754878413
          ],
          [
           "2023-05-11",
           1075.3110796869794,
           10,
           0.9299634486153511
          ],
          [
           "2023-05-12",
           1085.6113631073702,
           10,
           0.9211399530101428
          ],
          [
           "2023-05-13",
           1093.942980264431,
           10,
           0.9141244269955251
          ],
          [
           "2023-05-14",
           1100.1089998189059,
           10,
           0.9090008355214027
          ],
          [
           "2023-05-15",
           1119.7249219338985,
           10,
           0.8930764872794656
          ],
          [
           "2023-05-16",
           1109.7249219338985,
           10,
           0.9011242157717042
          ],
          [
           "2023-05-17",
           1099.7249219338985,
           10,
           0.9093183032002863
          ],
          [
           "2023-05-18",
           1112.7663674290602,
           10,
           0.8986612367791129
          ],
          [
           "2023-05-19",
           1128.311651812488,
           10,
           0.8862799550050097
          ],
          [
           "2023-05-20",
           1118.311651812488,
           10,
           0.8942051157021067
          ],
          [
           "2023-05-21",
           1137.8883830533023,
           10,
           0.8788208183624253
          ],
          [
           "2023-05-22",
           1145.3276371434756,
           10,
           0.8731126077548146
          ],
          [
           "2023-05-23",
           1135.3276371434756,
           10,
           0.880803009883592
          ],
          [
           "2023-05-24",
           1125.3276371434756,
           10,
           0.888630090467158
          ],
          [
           "2023-05-25",
           1115.3276371434756,
           10,
           0.8965975258724448
          ],
          [
           "2023-05-26",
           1131.213429769301,
           10,
           0.884006478073673
          ],
          [
           "2023-05-27",
           1121.213429769301,
           10,
           0.8918908509736263
          ],
          [
           "2023-05-28",
           1132.4870753136602,
           10,
           0.8830122849066815
          ],
          [
           "2023-05-29",
           1145.027260662093,
           10,
           0.8733416525138158
          ],
          [
           "2023-05-30",
           1135.027260662093,
           10,
           0.8810361078170686
          ],
          [
           "2023-05-31",
           1144.2069576256422,
           10,
           0.8739677672255308
          ],
          [
           "2023-06-01",
           1134.2069576256422,
           10,
           0.8816733077474749
          ],
          [
           "2023-06-02",
           1144.853908128813,
           10,
           0.8734738929567294
          ],
          [
           "2023-06-03",
           1162.0122080905403,
           10,
           0.8605761566337031
          ],
          [
           "2023-06-04",
           1174.3539994947037,
           10,
           0.8515319915717714
          ],
          [
           "2023-06-05",
           1164.3539994947037,
           10,
           0.8588453343518994
          ],
          [
           "2023-06-06",
           1154.3539994947037,
           10,
           0.8662853859714877
          ],
          [
           "2023-06-07",
           1169.4360327057918,
           10,
           0.8551130391341218
          ],
          [
           "2023-06-08",
           1185.8603269357227,
           10,
           0.8432696307363717
          ],
          [
           "2023-06-09",
           1203.4921107827583,
           10,
           0.8309152931211108
          ],
          [
           "2023-06-10",
           1219.4153560119362,
           10,
           0.8200651197886109
          ],
          [
           "2023-06-11",
           1229.932103002725,
           10,
           0.8130530112667402
          ],
          [
           "2023-06-12",
           1219.932103002725,
           10,
           0.8197177511261594
          ],
          [
           "2023-06-13",
           1209.932103002725,
           10,
           0.8264926581568254
          ],
          [
           "2023-06-14",
           1215.7777354524887,
           10,
           0.8225187637835952
          ],
          [
           "2023-06-15",
           1233.7485710963144,
           10,
           0.81053791949797
          ],
          [
           "2023-06-16",
           1251.278108530153,
           10,
           0.7991828460698289
          ],
          [
           "2023-06-17",
           1241.278108530153,
           10,
           0.8056212327663943
          ],
          [
           "2023-06-18",
           1231.278108530153,
           10,
           0.8121642000065744
          ],
          [
           "2023-06-19",
           1221.278108530153,
           10,
           0.8188143167517608
          ],
          [
           "2023-06-20",
           1237.8129197578608,
           10,
           0.8078765248270463
          ],
          [
           "2023-06-21",
           1252.976385185495,
           10,
           0.7980996384476604
          ],
          [
           "2023-06-22",
           1258.2252026194128,
           10,
           0.794770282711051
          ],
          [
           "2023-06-23",
           1266.9354241455608,
           10,
           0.7893062116203864
          ],
          [
           "2023-06-24",
           1256.9354241455608,
           10,
           0.7955858199157524
          ],
          [
           "2023-06-25",
           1246.9354241455608,
           10,
           0.8019661488767402
          ],
          [
           "2023-06-26",
           1236.9354241455608,
           10,
           0.8084496413309297
          ],
          [
           "2023-06-27",
           1252.2994902170979,
           10,
           0.7985310285694044
          ],
          [
           "2023-06-28",
           1263.1005204116059,
           10,
           0.7917026268615032
          ],
          [
           "2023-06-29",
           1282.1514702426568,
           10,
           0.7799390502673935
          ],
          [
           "2023-06-30",
           1272.1514702426568,
           10,
           0.7860699165086487
          ],
          [
           "2023-07-01",
           1282.5239110131495,
           10,
           0.7797125585050766
          ],
          [
           "2023-07-02",
           1289.2260138317583,
           10,
           0.7756591856441536
          ],
          [
           "2023-07-03",
           1308.0964181059367,
           10,
           0.7644696416552794
          ],
          [
           "2023-07-04",
           1320.9010336194935,
           10,
           0.7570589881815974
          ],
          [
           "2023-07-05",
           1310.9010336194935,
           10,
           0.7628340922418277
          ],
          [
           "2023-07-06",
           1300.9010336194935,
           10,
           0.7686979825188567
          ],
          [
           "2023-07-07",
           1318.1593666225117,
           10,
           0.7586336108677634
          ],
          [
           "2023-07-08",
           1308.1593666225117,
           10,
           0.76443285544166
          ],
          [
           "2023-07-09",
           1321.1041252978519,
           10,
           0.7569426064539335
          ],
          [
           "2023-07-10",
           1311.1041252978519,
           10,
           0.7627159282813054
          ],
          [
           "2023-07-11",
           1317.5006668149404,
           10,
           0.7590128985797794
          ],
          [
           "2023-07-12",
           1324.5108952417,
           10,
           0.7549956769646032
          ],
          [
           "2023-07-13",
           1314.5108952417,
           10,
           0.760739225228049
          ],
          [
           "2023-07-14",
           1329.0074171007989,
           10,
           0.7524412483577244
          ],
          [
           "2023-07-15",
           1319.0074171007989,
           10,
           0.7581458504592926
          ],
          [
           "2023-07-16",
           1309.0074171007989,
           10,
           0.7639376117629714
          ],
          [
           "2023-07-17",
           1317.2018795234326,
           10,
           0.7591850691572068
          ],
          [
           "2023-07-18",
           1335.6585334227211,
           10,
           0.7486943518695816
          ],
          [
           "2023-07-19",
           1325.6585334227211,
           10,
           0.7543420683289365
          ],
          [
           "2023-07-20",
           1335.91734680482,
           10,
           0.7485493038860149
          ],
          [
           "2023-07-21",
           1350.5478214971342,
           10,
           0.740440274740854
          ],
          [
           "2023-07-22",
           1340.5478214971342,
           10,
           0.7459636903390677
          ],
          [
           "2023-07-23",
           1330.5478214971342,
           10,
           0.7515701306209337
          ],
          [
           "2023-07-24",
           1349.0261343250404,
           10,
           0.7412754835178422
          ],
          [
           "2023-07-25",
           1363.1225702199342,
           10,
           0.7336097441616377
          ],
          [
           "2023-07-26",
           1375.8324125573313,
           10,
           0.7268327093277647
          ],
          [
           "2023-07-27",
           1392.5872077484485,
           10,
           0.7180878830682438
          ],
          [
           "2023-07-28",
           1382.5872077484485,
           10,
           0.7232816811812587
          ],
          [
           "2023-07-29",
           1387.6631315061418,
           10,
           0.7206359939206715
          ],
          [
           "2023-07-30",
           1377.6631315061418,
           10,
           0.72586685172212
          ],
          [
           "2023-07-31",
           1367.6631315061418,
           10,
           0.7311742028892363
          ],
          [
           "2023-08-01",
           1383.041559471532,
           10,
           0.7230440713452643
          ],
          [
           "2023-08-02",
           1373.041559471532,
           10,
           0.7283100741574702
          ],
          [
           "2023-08-03",
           1381.4055991134405,
           10,
           0.7239003523959804
          ],
          [
           "2023-08-04",
           1371.4055991134405,
           10,
           0.7291788808842988
          ],
          [
           "2023-08-05",
           1361.4055991134405,
           10,
           0.7345349546462927
          ],
          [
           "2023-08-06",
           1371.2865945858296,
           10,
           0.7292421613018324
          ],
          [
           "2023-08-07",
           1361.2865945858296,
           10,
           0.7345991681525735
          ],
          [
           "2023-08-08",
           1371.2178687401422,
           10,
           0.7292787111349325
          ],
          [
           "2023-08-09",
           1361.2178687401422,
           10,
           0.7346362569612293
          ],
          [
           "2023-08-10",
           1351.2178687401422,
           10,
           0.7400731022987336
          ],
          [
           "2023-08-11",
           1341.2178687401422,
           10,
           0.7455910208975508
          ],
          [
           "2023-08-12",
           1331.2178687401422,
           10,
           0.7511918398048509
          ],
          [
           "2023-08-13",
           1321.2178687401422,
           10,
           0.7568774413818351
          ],
          [
           "2023-08-14",
           1311.2178687401422,
           10,
           0.7626497654129976
          ],
          [
           "2023-08-15",
           1319.8777133908284,
           10,
           0.7576459469346994
          ],
          [
           "2023-08-16",
           1309.8777133908284,
           10,
           0.7634300437186153
          ],
          [
           "2023-08-17",
           1320.77417926083,
           10,
           0.7571317002575332
          ],
          [
           "2023-08-18",
           1339.1548775884867,
           10,
           0.7467396167057037
          ],
          [
           "2023-08-19",
           1329.1548775884867,
           10,
           0.7523577702354152
          ],
          [
           "2023-08-20",
           1341.2643021924298,
           10,
           0.7455652091578078
          ],
          [
           "2023-08-21",
           1331.2643021924298,
           10,
           0.7511656388240276
          ],
          [
           "2023-08-22",
           1338.8491002604542,
           10,
           0.7469101632181432
          ],
          [
           "2023-08-23",
           1351.2368656677372,
           10,
           0.7400626976720566
          ],
          [
           "2023-08-24",
           1341.2368656677372,
           10,
           0.7455804605416569
          ],
          [
           "2023-08-25",
           1348.7708916138197,
           10,
           0.7414157632090418
          ],
          [
           "2023-08-26",
           1357.9824770504324,
           10,
           0.7363865269985087
          ],
          [
           "2023-08-27",
           1347.9824770504324,
           10,
           0.7418494060754669
          ],
          [
           "2023-08-28",
           1362.66456148904,
           10,
           0.73385631964132
          ],
          [
           "2023-08-29",
           1369.474099555549,
           10,
           0.7302073112040173
          ],
          [
           "2023-08-30",
           1388.5809783208426,
           10,
           0.7201596562335612
          ],
          [
           "2023-08-31",
           1378.5809783208426,
           10,
           0.725383576101589
          ],
          [
           "2023-09-01",
           1368.5809783208426,
           10,
           0.730683836645847
          ],
          [
           "2023-09-02",
           1379.1333588246744,
           10,
           0.7250930402062208
          ],
          [
           "2023-09-03",
           1369.1333588246744,
           10,
           0.7303890403038934
          ],
          [
           "2023-09-04",
           1374.723040922291,
           10,
           0.7274192475373861
          ],
          [
           "2023-09-05",
           1386.1458031470506,
           10,
           0.72142482971823
          ],
          [
           "2023-09-06",
           1376.1458031470506,
           10,
           0.7266671872363681
          ],
          [
           "2023-09-07",
           1366.1458031470506,
           10,
           0.7319862914312675
          ],
          [
           "2023-09-08",
           1356.1458031470506,
           10,
           0.7373838400557048
          ],
          [
           "2023-09-09",
           1365.5625365280944,
           10,
           0.7322989414622291
          ],
          [
           "2023-09-10",
           1376.3390024571233,
           10,
           0.7265651835883018
          ],
          [
           "2023-09-11",
           1366.3390024571233,
           10,
           0.7318827891187134
          ],
          [
           "2023-09-12",
           1376.0928325344676,
           10,
           0.7266951591908335
          ],
          [
           "2023-09-13",
           1366.0928325344676,
           10,
           0.732014674394223
          ],
          [
           "2023-09-14",
           1373.8606478248132,
           10,
           0.7278758595955609
          ],
          [
           "2023-09-15",
           1363.8606478248132,
           10,
           0.7332127381157852
          ],
          [
           "2023-09-16",
           1353.8606478248132,
           10,
           0.7386284560428393
          ],
          [
           "2023-09-17",
           1343.8606478248132,
           10,
           0.7441247733673952
          ],
          [
           "2023-09-18",
           1350.3182952313748,
           10,
           0.7405661343192064
          ],
          [
           "2023-09-19",
           1360.8519998249214,
           10,
           0.7348337660000158
          ],
          [
           "2023-09-20",
           1380.7028075764854,
           10,
           0.7242688249148099
          ],
          [
           "2023-09-21",
           1387.8040678050334,
           10,
           0.7205628108452019
          ],
          [
           "2023-09-22",
           1377.8040678050334,
           10,
           0.7257926024221213
          ],
          [
           "2023-09-23",
           1386.5906219701938,
           10,
           0.7211933963458582
          ],
          [
           "2023-09-24",
           1376.5906219701938,
           10,
           0.7264323786898879
          ],
          [
           "2023-09-25",
           1366.5906219701938,
           10,
           0.7317480333344558
          ],
          [
           "2023-09-26",
           1382.1278832300004,
           10,
           0.7235220504075379
          ],
          [
           "2023-09-27",
           1372.1278832300004,
           10,
           0.7287950432477123
          ],
          [
           "2023-09-28",
           1378.7354634000972,
           10,
           0.7253022980448343
          ],
          [
           "2023-09-29",
           1390.446648902449,
           10,
           0.7191933619239195
          ],
          [
           "2023-09-30",
           1407.5983498226367,
           10,
           0.7104299320370788
          ],
          [
           "2023-10-01",
           1425.6044346013382,
           10,
           0.701456852776727
          ],
          [
           "2023-10-02",
           1415.6044346013382,
           10,
           0.7064120283584867
          ],
          [
           "2023-10-03",
           1405.6044346013382,
           10,
           0.7114377099156087
          ],
          [
           "2023-10-04",
           1410.905502568004,
           10,
           0.7087646891871138
          ],
          [
           "2023-10-05",
           1400.905502568004,
           10,
           0.713824021796543
          ],
          [
           "2023-10-06",
           1390.905502568004,
           10,
           0.7189561031671222
          ],
          [
           "2023-10-07",
           1406.4350057268696,
           10,
           0.7110175699041158
          ],
          [
           "2023-10-08",
           1423.3718957684112,
           10,
           0.7025570780011413
          ],
          [
           "2023-10-09",
           1413.3718957684112,
           10,
           0.707527865096205
          ],
          [
           "2023-10-10",
           1403.3718957684112,
           10,
           0.7125694928160533
          ],
          [
           "2023-10-11",
           1393.3718957684112,
           10,
           0.7176834863950834
          ],
          [
           "2023-10-12",
           1399.7816248660242,
           10,
           0.7143971475520061
          ],
          [
           "2023-10-13",
           1389.7816248660242,
           10,
           0.7195375029486382
          ],
          [
           "2023-10-14",
           1379.7816248660242,
           10,
           0.7247523680401957
          ],
          [
           "2023-10-15",
           1369.7816248660242,
           10,
           0.7300433746859527
          ],
          [
           "2023-10-16",
           1382.9212943866378,
           10,
           0.7231069505249945
          ],
          [
           "2023-10-17",
           1392.2194131685621,
           10,
           0.7182775865221509
          ],
          [
           "2023-10-18",
           1406.0819120770973,
           10,
           0.7111961198069723
          ],
          [
           "2023-10-19",
           1396.0819120770973,
           10,
           0.7162903489754374
          ],
          [
           "2023-10-20",
           1405.3385506640782,
           10,
           0.7115723108338986
          ],
          [
           "2023-10-21",
           1395.3385506640782,
           10,
           0.7166719499895375
          ],
          [
           "2023-10-22",
           1405.7414102852472,
           10,
           0.711368387303241
          ],
          [
           "2023-10-23",
           1412.6473179750255,
           10,
           0.7078907716566232
          ],
          [
           "2023-10-24",
           1402.6473179750255,
           10,
           0.7129375910714892
          ],
          [
           "2023-10-25",
           1419.1972212715048,
           10,
           0.7046237020560593
          ],
          [
           "2023-10-26",
           1427.4345366839575,
           10,
           0.7005575207134042
          ],
          [
           "2023-10-27",
           1417.4345366839575,
           10,
           0.7054999536976627
          ],
          [
           "2023-10-28",
           1423.714748658864,
           10,
           0.7023878912134596
          ],
          [
           "2023-10-29",
           1413.714748658864,
           10,
           0.707356276044132
          ],
          [
           "2023-10-30",
           1403.714748658864,
           10,
           0.7123954499697458
          ],
          [
           "2023-10-31",
           1393.714748658864,
           10,
           0.717506936740301
          ],
          [
           "2023-11-01",
           1383.714748658864,
           10,
           0.7226923041538935
          ],
          [
           "2023-11-02",
           1399.606118664704,
           10,
           0.7144867307053868
          ],
          [
           "2023-11-03",
           1407.2067225941253,
           10,
           0.7106276454937217
          ],
          [
           "2023-11-04",
           1397.2067225941253,
           10,
           0.7157137049436385
          ],
          [
           "2023-11-05",
           1407.0510696882438,
           10,
           0.7107062576069588
          ],
          [
           "2023-11-06",
           1423.9788626097743,
           10,
           0.7022576150935739
          ],
          [
           "2023-11-07",
           1433.0413463787054,
           10,
           0.6978165720947266
          ],
          [
           "2023-11-08",
           1444.62591768929,
           10,
           0.6922207249330825
          ],
          [
           "2023-11-09",
           1450.802763409424,
           10,
           0.689273569930329
          ],
          [
           "2023-11-10",
           1456.183024560656,
           10,
           0.6867268627181734
          ],
          [
           "2023-11-11",
           1446.183024560656,
           10,
           0.6914754101084789
          ],
          [
           "2023-11-12",
           1463.722726368339,
           10,
           0.6831895016627313
          ],
          [
           "2023-11-13",
           1453.722726368339,
           10,
           0.6878890876929331
          ],
          [
           "2023-11-14",
           1443.722726368339,
           10,
           0.6926537774434595
          ],
          [
           "2023-11-15",
           1451.3221411694017,
           10,
           0.6890269028723359
          ],
          [
           "2023-11-16",
           1441.3221411694017,
           10,
           0.6938074226686481
          ],
          [
           "2023-11-17",
           1431.3221411694017,
           10,
           0.6986547411213746
          ],
          [
           "2023-11-18",
           1421.3221411694017,
           10,
           0.7035702681569737
          ],
          [
           "2023-11-19",
           1411.3221411694017,
           10,
           0.7085554536623467
          ],
          [
           "2023-11-20",
           1401.3221411694017,
           10,
           0.7136117889106506
          ],
          [
           "2023-11-21",
           1391.3221411694017,
           10,
           0.7187408080485971
          ],
          [
           "2023-11-22",
           1381.3221411694017,
           10,
           0.7239440896483558
          ],
          [
           "2023-11-23",
           1371.3221411694017,
           10,
           0.7292232583273578
          ],
          [
           "2023-11-24",
           1361.3221411694017,
           10,
           0.7345799864394925
          ],
          [
           "2023-11-25",
           1351.3221411694017,
           10,
           0.7400159958413943
          ],
          [
           "2023-11-26",
           1362.6161421058184,
           10,
           0.7338823965893849
          ],
          [
           "2023-11-27",
           1352.6161421058184,
           10,
           0.7393080482117798
          ],
          [
           "2023-11-28",
           1362.9557322855874,
           10,
           0.7336995445355114
          ],
          [
           "2023-11-29",
           1352.9557322855874,
           10,
           0.7391224828255623
          ],
          [
           "2023-11-30",
           1358.1716346150338,
           10,
           0.7362839677353772
          ],
          [
           "2023-12-01",
           1364.9127242226375,
           10,
           0.7326475768401476
          ],
          [
           "2023-12-02",
           1354.9127242226375,
           10,
           0.7380549183149314
          ],
          [
           "2023-12-03",
           1344.9127242226375,
           10,
           0.7435426715722406
          ],
          [
           "2023-12-04",
           1334.9127242226375,
           10,
           0.7491126437365649
          ],
          [
           "2023-12-05",
           1324.9127242226375,
           10,
           0.7547666964906895
          ],
          [
           "2023-12-06",
           1337.0253316589474,
           10,
           0.7479289855781753
          ],
          [
           "2023-12-07",
           1343.4928440687124,
           10,
           0.7443284900361221
          ],
          [
           "2023-12-08",
           1355.867082195465,
           10,
           0.7375354215258083
          ],
          [
           "2023-12-09",
           1367.9691587571733,
           10,
           0.7310106325120075
          ],
          [
           "2023-12-10",
           1375.5671868058234,
           10,
           0.7269728513385665
          ],
          [
           "2023-12-11",
           1365.5671868058234,
           10,
           0.7322964477046964
          ],
          [
           "2023-12-12",
           1376.544757821784,
           10,
           0.7264565821908903
          ],
          [
           "2023-12-13",
           1390.7825092925673,
           10,
           0.719019683752464
          ],
          [
           "2023-12-14",
           1380.7825092925673,
           10,
           0.7242270185710433
          ],
          [
           "2023-12-15",
           1386.4620694391479,
           10,
           0.7212602652768715
          ],
          [
           "2023-12-16",
           1376.4620694391479,
           10,
           0.7265002227104298
          ],
          [
           "2023-12-17",
           1366.4620694391479,
           10,
           0.731816873929359
          ],
          [
           "2023-12-18",
           1356.4620694391479,
           10,
           0.7372119151208312
          ],
          [
           "2023-12-19",
           1374.3094170569727,
           10,
           0.7276381778285846
          ],
          [
           "2023-12-20",
           1389.189821531257,
           10,
           0.719844030312383
          ],
          [
           "2023-12-21",
           1396.6338379374783,
           10,
           0.7160072832524097
          ],
          [
           "2023-12-22",
           1386.6338379374783,
           10,
           0.7211709195611659
          ],
          [
           "2023-12-23",
           1401.2701271105732,
           10,
           0.7136382776260317
          ],
          [
           "2023-12-24",
           1391.2701271105732,
           10,
           0.7187676789099372
          ],
          [
           "2023-12-25",
           1381.2701271105732,
           10,
           0.7239713509853878
          ],
          [
           "2023-12-26",
           1371.2701271105732,
           10,
           0.7292509187136725
          ],
          [
           "2023-12-27",
           1384.9022397787114,
           10,
           0.7220726281443421
          ],
          [
           "2023-12-28",
           1395.7247886718092,
           10,
           0.7164736258296406
          ],
          [
           "2023-12-29",
           1385.7247886718092,
           10,
           0.7216440148685519
          ],
          [
           "2023-12-30",
           1375.7247886718092,
           10,
           0.7268895699447621
          ],
          [
           "2023-12-31",
           1365.7247886718092,
           10,
           0.7322119421823756
          ]
         ],
         "hovertemplate": "Game: %{x}<br>Date: %{customdata[0]}<br>Starting Bankroll: $%{customdata[1]:.2f}<br>Ending Bankroll: $%{y:.2f}<br>Stake: $%{customdata[2]:.2f}<br>Stake Percentage: %{customdata[3]:.2f}%<extra></extra>",
         "line": {
          "color": "blue"
         },
         "name": "Main Strategy",
         "type": "scatter",
         "x": [
          1,
          2,
          3,
          4,
          5,
          6,
          7,
          8,
          9,
          10,
          11,
          12,
          13,
          14,
          15,
          16,
          17,
          18,
          19,
          20,
          21,
          22,
          23,
          24,
          25,
          26,
          27,
          28,
          29,
          30,
          31,
          32,
          33,
          34,
          35,
          36,
          37,
          38,
          39,
          40,
          41,
          42,
          43,
          44,
          45,
          46,
          47,
          48,
          49,
          50,
          51,
          52,
          53,
          54,
          55,
          56,
          57,
          58,
          59,
          60,
          61,
          62,
          63,
          64,
          65,
          66,
          67,
          68,
          69,
          70,
          71,
          72,
          73,
          74,
          75,
          76,
          77,
          78,
          79,
          80,
          81,
          82,
          83,
          84,
          85,
          86,
          87,
          88,
          89,
          90,
          91,
          92,
          93,
          94,
          95,
          96,
          97,
          98,
          99,
          100,
          101,
          102,
          103,
          104,
          105,
          106,
          107,
          108,
          109,
          110,
          111,
          112,
          113,
          114,
          115,
          116,
          117,
          118,
          119,
          120,
          121,
          122,
          123,
          124,
          125,
          126,
          127,
          128,
          129,
          130,
          131,
          132,
          133,
          134,
          135,
          136,
          137,
          138,
          139,
          140,
          141,
          142,
          143,
          144,
          145,
          146,
          147,
          148,
          149,
          150,
          151,
          152,
          153,
          154,
          155,
          156,
          157,
          158,
          159,
          160,
          161,
          162,
          163,
          164,
          165,
          166,
          167,
          168,
          169,
          170,
          171,
          172,
          173,
          174,
          175,
          176,
          177,
          178,
          179,
          180,
          181,
          182,
          183,
          184,
          185,
          186,
          187,
          188,
          189,
          190,
          191,
          192,
          193,
          194,
          195,
          196,
          197,
          198,
          199,
          200,
          201,
          202,
          203,
          204,
          205,
          206,
          207,
          208,
          209,
          210,
          211,
          212,
          213,
          214,
          215,
          216,
          217,
          218,
          219,
          220,
          221,
          222,
          223,
          224,
          225,
          226,
          227,
          228,
          229,
          230,
          231,
          232,
          233,
          234,
          235,
          236,
          237,
          238,
          239,
          240,
          241,
          242,
          243,
          244,
          245,
          246,
          247,
          248,
          249,
          250,
          251,
          252,
          253,
          254,
          255,
          256,
          257,
          258,
          259,
          260,
          261,
          262,
          263,
          264,
          265,
          266,
          267,
          268,
          269,
          270,
          271,
          272,
          273,
          274,
          275,
          276,
          277,
          278,
          279,
          280,
          281,
          282,
          283,
          284,
          285,
          286,
          287,
          288,
          289,
          290,
          291,
          292,
          293,
          294,
          295,
          296,
          297,
          298,
          299,
          300
         ],
         "xaxis": "x",
         "y": [
          1013.1404412473737,
          1003.1404412473737,
          1020.1733959586843,
          1010.1733959586843,
          1000.1733959586843,
          990.1733959586843,
          980.1733959586843,
          997.5012968480396,
          1014.7332182748621,
          1030.3360784325764,
          1020.3360784325764,
          1036.9051336328655,
          1026.9051336328655,
          1016.9051336328655,
          1006.9051336328655,
          1024.8516850209994,
          1039.2011569234128,
          1029.2011569234128,
          1035.1545321777032,
          1025.1545321777032,
          1015.1545321777032,
          1005.1545321777032,
          1019.7178942480314,
          1038.0260853866762,
          1028.0260853866762,
          1034.8199990757507,
          1050.5186708840956,
          1066.930446613349,
          1056.930446613349,
          1046.930446613349,
          1059.3373805588149,
          1049.3373805588149,
          1060.750495834193,
          1050.750495834193,
          1040.750495834193,
          1046.2219336194942,
          1036.2219336194942,
          1054.250920542336,
          1044.250920542336,
          1062.8644176512273,
          1071.6038010884604,
          1082.759544933995,
          1072.759544933995,
          1062.759544933995,
          1052.759544933995,
          1072.6540168757845,
          1062.6540168757845,
          1052.6540168757845,
          1042.6540168757845,
          1032.6540168757845,
          1050.7259257286003,
          1067.781006882087,
          1057.781006882087,
          1047.781006882087,
          1060.8711405108218,
          1050.8711405108218,
          1040.8711405108218,
          1050.6411926353996,
          1069.897364896548,
          1088.2513216549116,
          1078.2513216549116,
          1068.2513216549116,
          1058.2513216549116,
          1063.3556036128796,
          1075.3110796869794,
          1085.6113631073702,
          1093.942980264431,
          1100.1089998189059,
          1119.7249219338985,
          1109.7249219338985,
          1099.7249219338985,
          1112.7663674290602,
          1128.311651812488,
          1118.311651812488,
          1137.8883830533023,
          1145.3276371434756,
          1135.3276371434756,
          1125.3276371434756,
          1115.3276371434756,
          1131.213429769301,
          1121.213429769301,
          1132.4870753136602,
          1145.027260662093,
          1135.027260662093,
          1144.2069576256422,
          1134.2069576256422,
          1144.853908128813,
          1162.0122080905403,
          1174.3539994947037,
          1164.3539994947037,
          1154.3539994947037,
          1169.4360327057918,
          1185.8603269357227,
          1203.4921107827583,
          1219.4153560119362,
          1229.932103002725,
          1219.932103002725,
          1209.932103002725,
          1215.7777354524887,
          1233.7485710963144,
          1251.278108530153,
          1241.278108530153,
          1231.278108530153,
          1221.278108530153,
          1237.8129197578608,
          1252.976385185495,
          1258.2252026194128,
          1266.9354241455608,
          1256.9354241455608,
          1246.9354241455608,
          1236.9354241455608,
          1252.2994902170979,
          1263.1005204116059,
          1282.1514702426568,
          1272.1514702426568,
          1282.5239110131495,
          1289.2260138317583,
          1308.0964181059367,
          1320.9010336194935,
          1310.9010336194935,
          1300.9010336194935,
          1318.1593666225117,
          1308.1593666225117,
          1321.1041252978519,
          1311.1041252978519,
          1317.5006668149404,
          1324.5108952417,
          1314.5108952417,
          1329.0074171007989,
          1319.0074171007989,
          1309.0074171007989,
          1317.2018795234326,
          1335.6585334227211,
          1325.6585334227211,
          1335.91734680482,
          1350.5478214971342,
          1340.5478214971342,
          1330.5478214971342,
          1349.0261343250404,
          1363.1225702199342,
          1375.8324125573313,
          1392.5872077484485,
          1382.5872077484485,
          1387.6631315061418,
          1377.6631315061418,
          1367.6631315061418,
          1383.041559471532,
          1373.041559471532,
          1381.4055991134405,
          1371.4055991134405,
          1361.4055991134405,
          1371.2865945858296,
          1361.2865945858296,
          1371.2178687401422,
          1361.2178687401422,
          1351.2178687401422,
          1341.2178687401422,
          1331.2178687401422,
          1321.2178687401422,
          1311.2178687401422,
          1319.8777133908284,
          1309.8777133908284,
          1320.77417926083,
          1339.1548775884867,
          1329.1548775884867,
          1341.2643021924298,
          1331.2643021924298,
          1338.8491002604542,
          1351.2368656677372,
          1341.2368656677372,
          1348.7708916138197,
          1357.9824770504324,
          1347.9824770504324,
          1362.66456148904,
          1369.474099555549,
          1388.5809783208426,
          1378.5809783208426,
          1368.5809783208426,
          1379.1333588246744,
          1369.1333588246744,
          1374.723040922291,
          1386.1458031470506,
          1376.1458031470506,
          1366.1458031470506,
          1356.1458031470506,
          1365.5625365280944,
          1376.3390024571233,
          1366.3390024571233,
          1376.0928325344676,
          1366.0928325344676,
          1373.8606478248132,
          1363.8606478248132,
          1353.8606478248132,
          1343.8606478248132,
          1350.3182952313748,
          1360.8519998249214,
          1380.7028075764854,
          1387.8040678050334,
          1377.8040678050334,
          1386.5906219701938,
          1376.5906219701938,
          1366.5906219701938,
          1382.1278832300004,
          1372.1278832300004,
          1378.7354634000972,
          1390.446648902449,
          1407.5983498226367,
          1425.6044346013382,
          1415.6044346013382,
          1405.6044346013382,
          1410.905502568004,
          1400.905502568004,
          1390.905502568004,
          1406.4350057268696,
          1423.3718957684112,
          1413.3718957684112,
          1403.3718957684112,
          1393.3718957684112,
          1399.7816248660242,
          1389.7816248660242,
          1379.7816248660242,
          1369.7816248660242,
          1382.9212943866378,
          1392.2194131685621,
          1406.0819120770973,
          1396.0819120770973,
          1405.3385506640782,
          1395.3385506640782,
          1405.7414102852472,
          1412.6473179750255,
          1402.6473179750255,
          1419.1972212715048,
          1427.4345366839575,
          1417.4345366839575,
          1423.714748658864,
          1413.714748658864,
          1403.714748658864,
          1393.714748658864,
          1383.714748658864,
          1399.606118664704,
          1407.2067225941253,
          1397.2067225941253,
          1407.0510696882438,
          1423.9788626097743,
          1433.0413463787054,
          1444.62591768929,
          1450.802763409424,
          1456.183024560656,
          1446.183024560656,
          1463.722726368339,
          1453.722726368339,
          1443.722726368339,
          1451.3221411694017,
          1441.3221411694017,
          1431.3221411694017,
          1421.3221411694017,
          1411.3221411694017,
          1401.3221411694017,
          1391.3221411694017,
          1381.3221411694017,
          1371.3221411694017,
          1361.3221411694017,
          1351.3221411694017,
          1362.6161421058184,
          1352.6161421058184,
          1362.9557322855874,
          1352.9557322855874,
          1358.1716346150338,
          1364.9127242226375,
          1354.9127242226375,
          1344.9127242226375,
          1334.9127242226375,
          1324.9127242226375,
          1337.0253316589474,
          1343.4928440687124,
          1355.867082195465,
          1367.9691587571733,
          1375.5671868058234,
          1365.5671868058234,
          1376.544757821784,
          1390.7825092925673,
          1380.7825092925673,
          1386.4620694391479,
          1376.4620694391479,
          1366.4620694391479,
          1356.4620694391479,
          1374.3094170569727,
          1389.189821531257,
          1396.6338379374783,
          1386.6338379374783,
          1401.2701271105732,
          1391.2701271105732,
          1381.2701271105732,
          1371.2701271105732,
          1384.9022397787114,
          1395.7247886718092,
          1385.7247886718092,
          1375.7247886718092,
          1365.7247886718092,
          1355.7247886718092
         ],
         "yaxis": "y"
        },
        {
         "marker": {
          "opacity": 0.5,
          "size": 5
         },
         "mode": "markers",
         "name": "ROI",
         "type": "scatter",
         "x": [
          1,
          2,
          3,
          4,
          5,
          6,
          7,
          8,
          9,
          10,
          11,
          12,
          13,
          14,
          15,
          16,
          17,
          18,
          19,
          20,
          21,
          22,
          23,
          24,
          25,
          26,
          27,
          28,
          29,
          30,
          31,
          32,
          33,
          34,
          35,
          36,
          37,
          38,
          39,
          40,
          41,
          42,
          43,
          44,
          45,
          46,
          47,
          48,
          49,
          50,
          51,
          52,
          53,
          54,
          55,
          56,
          57,
          58,
          59,
          60,
          61,
          62,
          63,
          64,
          65,
          66,
          67,
          68,
          69,
          70,
          71,
          72,
          73,
          74,
          75,
          76,
          77,
          78,
          79,
          80,
          81,
          82,
          83,
          84,
          85,
          86,
          87,
          88,
          89,
          90,
          91,
          92,
          93,
          94,
          95,
          96,
          97,
          98,
          99,
          100,
          101,
          102,
          103,
          104,
          105,
          106,
          107,
          108,
          109,
          110,
          111,
          112,
          113,
          114,
          115,
          116,
          117,
          118,
          119,
          120,
          121,
          122,
          123,
          124,
          125,
          126,
          127,
          128,
          129,
          130,
          131,
          132,
          133,
          134,
          135,
          136,
          137,
          138,
          139,
          140,
          141,
          142,
          143,
          144,
          145,
          146,
          147,
          148,
          149,
          150,
          151,
          152,
          153,
          154,
          155,
          156,
          157,
          158,
          159,
          160,
          161,
          162,
          163,
          164,
          165,
          166,
          167,
          168,
          169,
          170,
          171,
          172,
          173,
          174,
          175,
          176,
          177,
          178,
          179,
          180,
          181,
          182,
          183,
          184,
          185,
          186,
          187,
          188,
          189,
          190,
          191,
          192,
          193,
          194,
          195,
          196,
          197,
          198,
          199,
          200,
          201,
          202,
          203,
          204,
          205,
          206,
          207,
          208,
          209,
          210,
          211,
          212,
          213,
          214,
          215,
          216,
          217,
          218,
          219,
          220,
          221,
          222,
          223,
          224,
          225,
          226,
          227,
          228,
          229,
          230,
          231,
          232,
          233,
          234,
          235,
          236,
          237,
          238,
          239,
          240,
          241,
          242,
          243,
          244,
          245,
          246,
          247,
          248,
          249,
          250,
          251,
          252,
          253,
          254,
          255,
          256,
          257,
          258,
          259,
          260,
          261,
          262,
          263,
          264,
          265,
          266,
          267,
          268,
          269,
          270,
          271,
          272,
          273,
          274,
          275,
          276,
          277,
          278,
          279,
          280,
          281,
          282,
          283,
          284,
          285,
          286,
          287,
          288,
          289,
          290,
          291,
          292,
          293,
          294,
          295,
          296,
          297,
          298,
          299,
          300
         ],
         "xaxis": "x2",
         "y": [
          131.4044124737372,
          -100,
          170.32954711310595,
          -100,
          -100,
          -100,
          -100,
          173.2790088935534,
          172.3192142682251,
          156.02860157714252,
          -100,
          165.69055200289185,
          -100,
          -100,
          -100,
          179.46551388133904,
          143.49471902413367,
          -100,
          59.53375254290354,
          -100,
          -100,
          -100,
          145.63362070328196,
          183.08191138644898,
          -100,
          67.93913689074526,
          156.98671808344926,
          164.11775729253463,
          -100,
          -100,
          124.06933945465859,
          -100,
          114.13115275378244,
          -100,
          -100,
          54.714377853010134,
          -100,
          180.28986922841904,
          -100,
          186.13497108891394,
          87.39383437233123,
          111.55743845534445,
          -100,
          -100,
          -100,
          198.94471941789504,
          -100,
          -100,
          -100,
          -100,
          180.71908852815764,
          170.55081153486717,
          -100,
          -100,
          130.90133628734762,
          -100,
          -100,
          97.70052124577958,
          192.5617226114838,
          183.53956758363742,
          -100,
          -100,
          -100,
          51.0428195796786,
          119.55476074099735,
          103.00283420390795,
          83.31617157060954,
          61.66019554474772,
          196.15922114992497,
          -100,
          -100,
          130.41445495161804,
          155.4528438342767,
          -100,
          195.7673124081441,
          74.39254090173367,
          -100,
          -100,
          -100,
          158.857926258254,
          -100,
          112.73645544359283,
          125.40185348432922,
          -100,
          91.79696963549169,
          -100,
          106.46950503170743,
          171.58299961727494,
          123.41791404163445,
          -100,
          -100,
          150.82033211088176,
          164.24294229930766,
          176.31783847035632,
          159.23245229177894,
          105.16746990788799,
          -100,
          -100,
          58.456324497639066,
          179.70835643825794,
          175.2953743383857,
          -100,
          -100,
          -100,
          165.34811227707658,
          151.63465427634236,
          52.48817433917843,
          87.10221526147966,
          -100,
          -100,
          -100,
          153.64066071536988,
          108.01030194508061,
          190.5094983105102,
          -100,
          103.72440770492605,
          67.02102818608836,
          188.7040427417844,
          128.04615513556897,
          -100,
          -100,
          172.5833300301824,
          -100,
          129.44758675340097,
          -100,
          63.96541517088487,
          70.1022842675961,
          -100,
          144.9652185909902,
          -100,
          -100,
          81.94462422633663,
          184.56653899288654,
          -100,
          102.58813382098957,
          146.3047469231432,
          -100,
          -100,
          184.78312827906188,
          140.9643589489385,
          127.0984233739716,
          167.54795191117148,
          -100,
          50.75923757693278,
          -100,
          -100,
          153.784279653904,
          -100,
          83.64039641908396,
          -100,
          -100,
          98.80995472389017,
          -100,
          99.31274154312625,
          -100,
          -100,
          -100,
          -100,
          -100,
          -100,
          86.59844650686253,
          -100,
          108.96465870001406,
          183.80698327656694,
          -100,
          121.09424603943086,
          -100,
          75.84798068024448,
          123.87765407282956,
          -100,
          75.34025946082468,
          92.11585436612836,
          -100,
          146.82084438607515,
          68.09538066509013,
          191.06878765293715,
          -100,
          -100,
          105.52380503831667,
          -100,
          55.89682097616484,
          114.22762224759715,
          -100,
          -100,
          -100,
          94.16733381043784,
          107.76465929028878,
          -100,
          97.53830077344165,
          -100,
          77.67815290345659,
          -100,
          -100,
          -100,
          64.57647406561527,
          105.33704593546585,
          198.50807751563949,
          71.01260228547861,
          -100,
          87.86554165160311,
          -100,
          -100,
          155.37261259806638,
          -100,
          66.0758017009664,
          117.11185502351817,
          171.51700920187707,
          180.06084778701558,
          -100,
          -100,
          53.01067966665896,
          -100,
          -100,
          155.29503158865552,
          169.36890041541517,
          -100,
          -100,
          -100,
          64.09729097613035,
          -100,
          -100,
          -100,
          131.3966952061365,
          92.98118781924266,
          138.62498908535161,
          -100,
          92.56638586980867,
          -100,
          104.02859621168943,
          69.05907689778272,
          -100,
          165.49903296479164,
          82.37315412452648,
          -100,
          62.80211974906521,
          -100,
          -100,
          -100,
          -100,
          158.91370005839923,
          76.00603929421325,
          -100,
          98.44347094118689,
          169.27792921530553,
          90.62483768931114,
          115.84571310584543,
          61.7684572013399,
          53.80261151231862,
          -100,
          175.39701807683088,
          -100,
          -100,
          75.99414801062686,
          -100,
          -100,
          -100,
          -100,
          -100,
          -100,
          -100,
          -100,
          -100,
          -100,
          112.9400093641685,
          -100,
          103.39590179768922,
          -100,
          52.15902329446338,
          67.41089607603745,
          -100,
          -100,
          -100,
          -100,
          121.12607436309877,
          64.67512409765021,
          123.74238126752488,
          121.02076561708486,
          75.98028048650228,
          -100,
          109.77571015960599,
          142.37751470783243,
          -100,
          56.7956014658067,
          -100,
          -100,
          -100,
          178.47347617824838,
          148.80404474284177,
          74.44016406221444,
          -100,
          146.36289173094738,
          -100,
          -100,
          -100,
          136.32112668138183,
          108.22548893097832,
          -100,
          -100,
          -100,
          -100
         ],
         "yaxis": "y2"
        },
        {
         "marker": {
          "color": "green",
          "size": 8,
          "symbol": "triangle-up"
         },
         "mode": "markers",
         "name": "Wins",
         "type": "scatter",
         "x": [
          1,
          3,
          8,
          9,
          10,
          12,
          16,
          17,
          19,
          23,
          24,
          26,
          27,
          28,
          31,
          33,
          36,
          38,
          40,
          41,
          42,
          46,
          51,
          52,
          55,
          58,
          59,
          60,
          64,
          65,
          66,
          67,
          68,
          69,
          72,
          73,
          75,
          76,
          80,
          82,
          83,
          85,
          87,
          88,
          89,
          92,
          93,
          94,
          95,
          96,
          99,
          100,
          101,
          105,
          106,
          107,
          108,
          112,
          113,
          114,
          116,
          117,
          118,
          119,
          122,
          124,
          126,
          127,
          129,
          132,
          133,
          135,
          136,
          139,
          140,
          141,
          142,
          144,
          147,
          149,
          152,
          154,
          161,
          163,
          164,
          166,
          168,
          169,
          171,
          172,
          174,
          175,
          176,
          179,
          181,
          182,
          186,
          187,
          189,
          191,
          195,
          196,
          197,
          198,
          200,
          203,
          205,
          206,
          207,
          208,
          211,
          214,
          215,
          219,
          223,
          224,
          225,
          227,
          229,
          230,
          232,
          233,
          235,
          240,
          241,
          243,
          244,
          245,
          246,
          247,
          248,
          250,
          253,
          264,
          266,
          268,
          269,
          274,
          275,
          276,
          277,
          278,
          280,
          281,
          283,
          287,
          288,
          289,
          291,
          295,
          296
         ],
         "xaxis": "x",
         "y": [
          1013.1404412473737,
          1020.1733959586843,
          997.5012968480396,
          1014.7332182748621,
          1030.3360784325764,
          1036.9051336328655,
          1024.8516850209994,
          1039.2011569234128,
          1035.1545321777032,
          1019.7178942480314,
          1038.0260853866762,
          1034.8199990757507,
          1050.5186708840956,
          1066.930446613349,
          1059.3373805588149,
          1060.750495834193,
          1046.2219336194942,
          1054.250920542336,
          1062.8644176512273,
          1071.6038010884604,
          1082.759544933995,
          1072.6540168757845,
          1050.7259257286003,
          1067.781006882087,
          1060.8711405108218,
          1050.6411926353996,
          1069.897364896548,
          1088.2513216549116,
          1063.3556036128796,
          1075.3110796869794,
          1085.6113631073702,
          1093.942980264431,
          1100.1089998189059,
          1119.7249219338985,
          1112.7663674290602,
          1128.311651812488,
          1137.8883830533023,
          1145.3276371434756,
          1131.213429769301,
          1132.4870753136602,
          1145.027260662093,
          1144.2069576256422,
          1144.853908128813,
          1162.0122080905403,
          1174.3539994947037,
          1169.4360327057918,
          1185.8603269357227,
          1203.4921107827583,
          1219.4153560119362,
          1229.932103002725,
          1215.7777354524887,
          1233.7485710963144,
          1251.278108530153,
          1237.8129197578608,
          1252.976385185495,
          1258.2252026194128,
          1266.9354241455608,
          1252.2994902170979,
          1263.1005204116059,
          1282.1514702426568,
          1282.5239110131495,
          1289.2260138317583,
          1308.0964181059367,
          1320.9010336194935,
          1318.1593666225117,
          1321.1041252978519,
          1317.5006668149404,
          1324.5108952417,
          1329.0074171007989,
          1317.2018795234326,
          1335.6585334227211,
          1335.91734680482,
          1350.5478214971342,
          1349.0261343250404,
          1363.1225702199342,
          1375.8324125573313,
          1392.5872077484485,
          1387.6631315061418,
          1383.041559471532,
          1381.4055991134405,
          1371.2865945858296,
          1371.2178687401422,
          1319.8777133908284,
          1320.77417926083,
          1339.1548775884867,
          1341.2643021924298,
          1338.8491002604542,
          1351.2368656677372,
          1348.7708916138197,
          1357.9824770504324,
          1362.66456148904,
          1369.474099555549,
          1388.5809783208426,
          1379.1333588246744,
          1374.723040922291,
          1386.1458031470506,
          1365.5625365280944,
          1376.3390024571233,
          1376.0928325344676,
          1373.8606478248132,
          1350.3182952313748,
          1360.8519998249214,
          1380.7028075764854,
          1387.8040678050334,
          1386.5906219701938,
          1382.1278832300004,
          1378.7354634000972,
          1390.446648902449,
          1407.5983498226367,
          1425.6044346013382,
          1410.905502568004,
          1406.4350057268696,
          1423.3718957684112,
          1399.7816248660242,
          1382.9212943866378,
          1392.2194131685621,
          1406.0819120770973,
          1405.3385506640782,
          1405.7414102852472,
          1412.6473179750255,
          1419.1972212715048,
          1427.4345366839575,
          1423.714748658864,
          1399.606118664704,
          1407.2067225941253,
          1407.0510696882438,
          1423.9788626097743,
          1433.0413463787054,
          1444.62591768929,
          1450.802763409424,
          1456.183024560656,
          1463.722726368339,
          1451.3221411694017,
          1362.6161421058184,
          1362.9557322855874,
          1358.1716346150338,
          1364.9127242226375,
          1337.0253316589474,
          1343.4928440687124,
          1355.867082195465,
          1367.9691587571733,
          1375.5671868058234,
          1376.544757821784,
          1390.7825092925673,
          1386.4620694391479,
          1374.3094170569727,
          1389.189821531257,
          1396.6338379374783,
          1401.2701271105732,
          1384.9022397787114,
          1395.7247886718092
         ],
         "yaxis": "y"
        },
        {
         "marker": {
          "color": "red",
          "size": 8,
          "symbol": "triangle-down"
         },
         "mode": "markers",
         "name": "Losses",
         "type": "scatter",
         "x": [
          2,
          4,
          5,
          6,
          7,
          11,
          13,
          14,
          15,
          18,
          20,
          21,
          22,
          25,
          29,
          30,
          32,
          34,
          35,
          37,
          39,
          43,
          44,
          45,
          47,
          48,
          49,
          50,
          53,
          54,
          56,
          57,
          61,
          62,
          63,
          70,
          71,
          74,
          77,
          78,
          79,
          81,
          84,
          86,
          90,
          91,
          97,
          98,
          102,
          103,
          104,
          109,
          110,
          111,
          115,
          120,
          121,
          123,
          125,
          128,
          130,
          131,
          134,
          137,
          138,
          143,
          145,
          146,
          148,
          150,
          151,
          153,
          155,
          156,
          157,
          158,
          159,
          160,
          162,
          165,
          167,
          170,
          173,
          177,
          178,
          180,
          183,
          184,
          185,
          188,
          190,
          192,
          193,
          194,
          199,
          201,
          202,
          204,
          209,
          210,
          212,
          213,
          216,
          217,
          218,
          220,
          221,
          222,
          226,
          228,
          231,
          234,
          236,
          237,
          238,
          239,
          242,
          249,
          251,
          252,
          254,
          255,
          256,
          257,
          258,
          259,
          260,
          261,
          262,
          263,
          265,
          267,
          270,
          271,
          272,
          273,
          279,
          282,
          284,
          285,
          286,
          290,
          292,
          293,
          294,
          297,
          298,
          299,
          300
         ],
         "xaxis": "x",
         "y": [
          1003.1404412473737,
          1010.1733959586843,
          1000.1733959586843,
          990.1733959586843,
          980.1733959586843,
          1020.3360784325764,
          1026.9051336328655,
          1016.9051336328655,
          1006.9051336328655,
          1029.2011569234128,
          1025.1545321777032,
          1015.1545321777032,
          1005.1545321777032,
          1028.0260853866762,
          1056.930446613349,
          1046.930446613349,
          1049.3373805588149,
          1050.750495834193,
          1040.750495834193,
          1036.2219336194942,
          1044.250920542336,
          1072.759544933995,
          1062.759544933995,
          1052.759544933995,
          1062.6540168757845,
          1052.6540168757845,
          1042.6540168757845,
          1032.6540168757845,
          1057.781006882087,
          1047.781006882087,
          1050.8711405108218,
          1040.8711405108218,
          1078.2513216549116,
          1068.2513216549116,
          1058.2513216549116,
          1109.7249219338985,
          1099.7249219338985,
          1118.311651812488,
          1135.3276371434756,
          1125.3276371434756,
          1115.3276371434756,
          1121.213429769301,
          1135.027260662093,
          1134.2069576256422,
          1164.3539994947037,
          1154.3539994947037,
          1219.932103002725,
          1209.932103002725,
          1241.278108530153,
          1231.278108530153,
          1221.278108530153,
          1256.9354241455608,
          1246.9354241455608,
          1236.9354241455608,
          1272.1514702426568,
          1310.9010336194935,
          1300.9010336194935,
          1308.1593666225117,
          1311.1041252978519,
          1314.5108952417,
          1319.0074171007989,
          1309.0074171007989,
          1325.6585334227211,
          1340.5478214971342,
          1330.5478214971342,
          1382.5872077484485,
          1377.6631315061418,
          1367.6631315061418,
          1373.041559471532,
          1371.4055991134405,
          1361.4055991134405,
          1361.2865945858296,
          1361.2178687401422,
          1351.2178687401422,
          1341.2178687401422,
          1331.2178687401422,
          1321.2178687401422,
          1311.2178687401422,
          1309.8777133908284,
          1329.1548775884867,
          1331.2643021924298,
          1341.2368656677372,
          1347.9824770504324,
          1378.5809783208426,
          1368.5809783208426,
          1369.1333588246744,
          1376.1458031470506,
          1366.1458031470506,
          1356.1458031470506,
          1366.3390024571233,
          1366.0928325344676,
          1363.8606478248132,
          1353.8606478248132,
          1343.8606478248132,
          1377.8040678050334,
          1376.5906219701938,
          1366.5906219701938,
          1372.1278832300004,
          1415.6044346013382,
          1405.6044346013382,
          1400.905502568004,
          1390.905502568004,
          1413.3718957684112,
          1403.3718957684112,
          1393.3718957684112,
          1389.7816248660242,
          1379.7816248660242,
          1369.7816248660242,
          1396.0819120770973,
          1395.3385506640782,
          1402.6473179750255,
          1417.4345366839575,
          1413.714748658864,
          1403.714748658864,
          1393.714748658864,
          1383.714748658864,
          1397.2067225941253,
          1446.183024560656,
          1453.722726368339,
          1443.722726368339,
          1441.3221411694017,
          1431.3221411694017,
          1421.3221411694017,
          1411.3221411694017,
          1401.3221411694017,
          1391.3221411694017,
          1381.3221411694017,
          1371.3221411694017,
          1361.3221411694017,
          1351.3221411694017,
          1352.6161421058184,
          1352.9557322855874,
          1354.9127242226375,
          1344.9127242226375,
          1334.9127242226375,
          1324.9127242226375,
          1365.5671868058234,
          1380.7825092925673,
          1376.4620694391479,
          1366.4620694391479,
          1356.4620694391479,
          1386.6338379374783,
          1391.2701271105732,
          1381.2701271105732,
          1371.2701271105732,
          1385.7247886718092,
          1375.7247886718092,
          1365.7247886718092,
          1355.7247886718092
         ],
         "yaxis": "y"
        },
        {
         "marker": {
          "color": "rgba(0, 128, 128, 0.7)"
         },
         "name": "Stake Percentage",
         "type": "bar",
         "x": [
          1,
          2,
          3,
          4,
          5,
          6,
          7,
          8,
          9,
          10,
          11,
          12,
          13,
          14,
          15,
          16,
          17,
          18,
          19,
          20,
          21,
          22,
          23,
          24,
          25,
          26,
          27,
          28,
          29,
          30,
          31,
          32,
          33,
          34,
          35,
          36,
          37,
          38,
          39,
          40,
          41,
          42,
          43,
          44,
          45,
          46,
          47,
          48,
          49,
          50,
          51,
          52,
          53,
          54,
          55,
          56,
          57,
          58,
          59,
          60,
          61,
          62,
          63,
          64,
          65,
          66,
          67,
          68,
          69,
          70,
          71,
          72,
          73,
          74,
          75,
          76,
          77,
          78,
          79,
          80,
          81,
          82,
          83,
          84,
          85,
          86,
          87,
          88,
          89,
          90,
          91,
          92,
          93,
          94,
          95,
          96,
          97,
          98,
          99,
          100,
          101,
          102,
          103,
          104,
          105,
          106,
          107,
          108,
          109,
          110,
          111,
          112,
          113,
          114,
          115,
          116,
          117,
          118,
          119,
          120,
          121,
          122,
          123,
          124,
          125,
          126,
          127,
          128,
          129,
          130,
          131,
          132,
          133,
          134,
          135,
          136,
          137,
          138,
          139,
          140,
          141,
          142,
          143,
          144,
          145,
          146,
          147,
          148,
          149,
          150,
          151,
          152,
          153,
          154,
          155,
          156,
          157,
          158,
          159,
          160,
          161,
          162,
          163,
          164,
          165,
          166,
          167,
          168,
          169,
          170,
          171,
          172,
          173,
          174,
          175,
          176,
          177,
          178,
          179,
          180,
          181,
          182,
          183,
          184,
          185,
          186,
          187,
          188,
          189,
          190,
          191,
          192,
          193,
          194,
          195,
          196,
          197,
          198,
          199,
          200,
          201,
          202,
          203,
          204,
          205,
          206,
          207,
          208,
          209,
          210,
          211,
          212,
          213,
          214,
          215,
          216,
          217,
          218,
          219,
          220,
          221,
          222,
          223,
          224,
          225,
          226,
          227,
          228,
          229,
          230,
          231,
          232,
          233,
          234,
          235,
          236,
          237,
          238,
          239,
          240,
          241,
          242,
          243,
          244,
          245,
          246,
          247,
          248,
          249,
          250,
          251,
          252,
          253,
          254,
          255,
          256,
          257,
          258,
          259,
          260,
          261,
          262,
          263,
          264,
          265,
          266,
          267,
          268,
          269,
          270,
          271,
          272,
          273,
          274,
          275,
          276,
          277,
          278,
          279,
          280,
          281,
          282,
          283,
          284,
          285,
          286,
          287,
          288,
          289,
          290,
          291,
          292,
          293,
          294,
          295,
          296,
          297,
          298,
          299,
          300
         ],
         "xaxis": "x3",
         "y": [
          1,
          0.9870299904017302,
          0.9968693902486189,
          0.9802255224076621,
          0.989929059704617,
          0.9998266341022617,
          1.0099241244830675,
          1.020227649641443,
          1.002504962309178,
          0.9854806977740318,
          0.9705571035824293,
          0.9800692351643427,
          0.9644083798644473,
          0.9737997866096125,
          0.9833758990157987,
          0.9931422202527143,
          0.9757509448594114,
          0.9622776046175036,
          0.9716273570749729,
          0.9660393389731415,
          0.9754626923179393,
          0.9850716992365746,
          0.9948719007747637,
          0.9806633831187479,
          0.9633669269761067,
          0.9727379627958228,
          0.9663516368964166,
          0.9519107348738693,
          0.9372682194741001,
          0.9461360520025065,
          0.9551732908664932,
          0.9439863242364642,
          0.9529823472670528,
          0.9427287603703473,
          0.9517007167397031,
          0.9608450863129012,
          0.9558201447186397,
          0.9650442318925136,
          0.9485407890235202,
          0.9576242455986018,
          0.9408537753195763,
          0.9331807137901804,
          0.9235660906235281,
          0.9321753460245635,
          0.9409466184207333,
          0.9498845247351305,
          0.9322670537445087,
          0.9410400601881805,
          0.9499797502012498,
          0.959090919724653,
          0.9683785504707795,
          0.9517229712463546,
          0.9365216215261152,
          0.945375265290117,
          0.9543979070356787,
          0.9426215511136333,
          0.9515914572684016,
          0.9607337172488387,
          0.9517997266903531,
          0.9346690933262495,
          0.9189053852737737,
          0.9274275671326694,
          0.9361093028659416,
          0.9449551156110845,
          0.9404191754878413,
          0.9299634486153511,
          0.9211399530101428,
          0.9141244269955251,
          0.9090008355214027,
          0.8930764872794656,
          0.9011242157717042,
          0.9093183032002863,
          0.8986612367791129,
          0.8862799550050097,
          0.8942051157021067,
          0.8788208183624253,
          0.8731126077548146,
          0.880803009883592,
          0.888630090467158,
          0.8965975258724448,
          0.884006478073673,
          0.8918908509736263,
          0.8830122849066815,
          0.8733416525138158,
          0.8810361078170686,
          0.8739677672255308,
          0.8816733077474749,
          0.8734738929567294,
          0.8605761566337031,
          0.8515319915717714,
          0.8588453343518994,
          0.8662853859714877,
          0.8551130391341218,
          0.8432696307363717,
          0.8309152931211108,
          0.8200651197886109,
          0.8130530112667402,
          0.8197177511261594,
          0.8264926581568254,
          0.8225187637835952,
          0.81053791949797,
          0.7991828460698289,
          0.8056212327663943,
          0.8121642000065744,
          0.8188143167517608,
          0.8078765248270463,
          0.7980996384476604,
          0.794770282711051,
          0.7893062116203864,
          0.7955858199157524,
          0.8019661488767402,
          0.8084496413309297,
          0.7985310285694044,
          0.7917026268615032,
          0.7799390502673935,
          0.7860699165086487,
          0.7797125585050766,
          0.7756591856441536,
          0.7644696416552794,
          0.7570589881815974,
          0.7628340922418277,
          0.7686979825188567,
          0.7586336108677634,
          0.76443285544166,
          0.7569426064539335,
          0.7627159282813054,
          0.7590128985797794,
          0.7549956769646032,
          0.760739225228049,
          0.7524412483577244,
          0.7581458504592926,
          0.7639376117629714,
          0.7591850691572068,
          0.7486943518695816,
          0.7543420683289365,
          0.7485493038860149,
          0.740440274740854,
          0.7459636903390677,
          0.7515701306209337,
          0.7412754835178422,
          0.7336097441616377,
          0.7268327093277647,
          0.7180878830682438,
          0.7232816811812587,
          0.7206359939206715,
          0.72586685172212,
          0.7311742028892363,
          0.7230440713452643,
          0.7283100741574702,
          0.7239003523959804,
          0.7291788808842988,
          0.7345349546462927,
          0.7292421613018324,
          0.7345991681525735,
          0.7292787111349325,
          0.7346362569612293,
          0.7400731022987336,
          0.7455910208975508,
          0.7511918398048509,
          0.7568774413818351,
          0.7626497654129976,
          0.7576459469346994,
          0.7634300437186153,
          0.7571317002575332,
          0.7467396167057037,
          0.7523577702354152,
          0.7455652091578078,
          0.7511656388240276,
          0.7469101632181432,
          0.7400626976720566,
          0.7455804605416569,
          0.7414157632090418,
          0.7363865269985087,
          0.7418494060754669,
          0.73385631964132,
          0.7302073112040173,
          0.7201596562335612,
          0.725383576101589,
          0.730683836645847,
          0.7250930402062208,
          0.7303890403038934,
          0.7274192475373861,
          0.72142482971823,
          0.7266671872363681,
          0.7319862914312675,
          0.7373838400557048,
          0.7322989414622291,
          0.7265651835883018,
          0.7318827891187134,
          0.7266951591908335,
          0.732014674394223,
          0.7278758595955609,
          0.7332127381157852,
          0.7386284560428393,
          0.7441247733673952,
          0.7405661343192064,
          0.7348337660000158,
          0.7242688249148099,
          0.7205628108452019,
          0.7257926024221213,
          0.7211933963458582,
          0.7264323786898879,
          0.7317480333344558,
          0.7235220504075379,
          0.7287950432477123,
          0.7253022980448343,
          0.7191933619239195,
          0.7104299320370788,
          0.701456852776727,
          0.7064120283584867,
          0.7114377099156087,
          0.7087646891871138,
          0.713824021796543,
          0.7189561031671222,
          0.7110175699041158,
          0.7025570780011413,
          0.707527865096205,
          0.7125694928160533,
          0.7176834863950834,
          0.7143971475520061,
          0.7195375029486382,
          0.7247523680401957,
          0.7300433746859527,
          0.7231069505249945,
          0.7182775865221509,
          0.7111961198069723,
          0.7162903489754374,
          0.7115723108338986,
          0.7166719499895375,
          0.711368387303241,
          0.7078907716566232,
          0.7129375910714892,
          0.7046237020560593,
          0.7005575207134042,
          0.7054999536976627,
          0.7023878912134596,
          0.707356276044132,
          0.7123954499697458,
          0.717506936740301,
          0.7226923041538935,
          0.7144867307053868,
          0.7106276454937217,
          0.7157137049436385,
          0.7107062576069588,
          0.7022576150935739,
          0.6978165720947266,
          0.6922207249330825,
          0.689273569930329,
          0.6867268627181734,
          0.6914754101084789,
          0.6831895016627313,
          0.6878890876929331,
          0.6926537774434595,
          0.6890269028723359,
          0.6938074226686481,
          0.6986547411213746,
          0.7035702681569737,
          0.7085554536623467,
          0.7136117889106506,
          0.7187408080485971,
          0.7239440896483558,
          0.7292232583273578,
          0.7345799864394925,
          0.7400159958413943,
          0.7338823965893849,
          0.7393080482117798,
          0.7336995445355114,
          0.7391224828255623,
          0.7362839677353772,
          0.7326475768401476,
          0.7380549183149314,
          0.7435426715722406,
          0.7491126437365649,
          0.7547666964906895,
          0.7479289855781753,
          0.7443284900361221,
          0.7375354215258083,
          0.7310106325120075,
          0.7269728513385665,
          0.7322964477046964,
          0.7264565821908903,
          0.719019683752464,
          0.7242270185710433,
          0.7212602652768715,
          0.7265002227104298,
          0.731816873929359,
          0.7372119151208312,
          0.7276381778285846,
          0.719844030312383,
          0.7160072832524097,
          0.7211709195611659,
          0.7136382776260317,
          0.7187676789099372,
          0.7239713509853878,
          0.7292509187136725,
          0.7220726281443421,
          0.7164736258296406,
          0.7216440148685519,
          0.7268895699447621,
          0.7322119421823756
         ],
         "yaxis": "y3"
        }
       ],
       "layout": {
        "annotations": [
         {
          "font": {
           "size": 16
          },
          "showarrow": false,
          "text": "Bankroll Over Time",
          "x": 0.5,
          "xanchor": "center",
          "xref": "paper",
          "y": 1,
          "yanchor": "bottom",
          "yref": "paper"
         },
         {
          "font": {
           "size": 16
          },
          "showarrow": false,
          "text": "ROI",
          "x": 0.5,
          "xanchor": "center",
          "xref": "paper",
          "y": 0.5,
          "yanchor": "bottom",
          "yref": "paper"
         },
         {
          "font": {
           "size": 16
          },
          "showarrow": false,
          "text": "Stake Percentage",
          "x": 0.5,
          "xanchor": "center",
          "xref": "paper",
          "y": 0.225,
          "yanchor": "bottom",
          "yref": "paper"
         },
         {
          "showarrow": false,
          "text": "Max Drawdown: 9.48%<br>Length: 24 bets",
          "x": 250,
          "xanchor": "left",
          "xref": "x",
          "y": 1,
          "yanchor": "top",
          "yref": "y domain"
         },
         {
          "font": {
           "size": 8
          },
          "showarrow": false,
          "text": "Total Profit [$]: 355.72",
          "x": 1.02,
          "xanchor": "left",
          "xref": "paper",
          "y": 0.12000000000000001,
          "yanchor": "bottom",
          "yref": "paper"
         },
         {
          "font": {
           "size": 8
          },
          "showarrow": false,
          "text": "Bankroll Final [$]: 1355.72",
          "x": 1.02,
          "xanchor": "left",
          "xref": "paper",
          "y": 0.145,
          "yanchor": "bottom",
          "yref": "paper"
         },
         {
          "font": {
           "size": 8
          },
          "showarrow": false,
          "text": "Bankroll Peak [$]: 1463.72",
          "x": 1.02,
          "xanchor": "left",
          "xref": "paper",
          "y": 0.17,
          "yanchor": "bottom",
          "yref": "paper"
         },
         {
          "font": {
           "size": 8
          },
          "showarrow": false,
          "text": "Bankroll Valley [$]: 980.17",
          "x": 1.02,
          "xanchor": "left",
          "xref": "paper",
          "y": 0.195,
          "yanchor": "bottom",
          "yref": "paper"
         },
         {
          "font": {
           "size": 8
          },
          "showarrow": false,
          "text": "Sharpe Ratio [-]: 1.78",
          "x": 1.02,
          "xanchor": "left",
          "xref": "paper",
          "y": 0.22,
          "yanchor": "bottom",
          "yref": "paper"
         },
         {
          "font": {
           "size": 8
          },
          "showarrow": false,
          "text": "Sortino Ratio [-]: 16.73",
          "x": 1.02,
          "xanchor": "left",
          "xref": "paper",
          "y": 0.245,
          "yanchor": "bottom",
          "yref": "paper"
         },
         {
          "font": {
           "size": 8
          },
          "showarrow": false,
          "text": "Calmar Ratio [-]: 2.82",
          "x": 1.02,
          "xanchor": "left",
          "xref": "paper",
          "y": 0.27,
          "yanchor": "bottom",
          "yref": "paper"
         },
         {
          "font": {
           "size": 8
          },
          "showarrow": false,
          "text": "Max Drawdown [%]: 9.48",
          "x": 1.02,
          "xanchor": "left",
          "xref": "paper",
          "y": 0.29500000000000004,
          "yanchor": "bottom",
          "yref": "paper"
         },
         {
          "font": {
           "size": 8
          },
          "showarrow": false,
          "text": "Max. Drawdown Duration [bets]: 24",
          "x": 1.02,
          "xanchor": "left",
          "xref": "paper",
          "y": 0.32000000000000006,
          "yanchor": "bottom",
          "yref": "paper"
         },
         {
          "font": {
           "size": 8
          },
          "showarrow": false,
          "text": "Win Rate [%]: 50.33",
          "x": 1.02,
          "xanchor": "left",
          "xref": "paper",
          "y": 0.34500000000000003,
          "yanchor": "bottom",
          "yref": "paper"
         },
         {
          "font": {
           "size": 8
          },
          "showarrow": false,
          "text": "Average Odds [-]: 2.23",
          "x": 1.02,
          "xanchor": "left",
          "xref": "paper",
          "y": 0.37000000000000005,
          "yanchor": "bottom",
          "yref": "paper"
         },
         {
          "font": {
           "size": 8
          },
          "showarrow": false,
          "text": "Highest Winning Odds [-]: 2.99",
          "x": 1.02,
          "xanchor": "left",
          "xref": "paper",
          "y": 0.395,
          "yanchor": "bottom",
          "yref": "paper"
         },
         {
          "font": {
           "size": 8
          },
          "showarrow": false,
          "text": "Highest Losing Odds [-]: 3.00",
          "x": 1.02,
          "xanchor": "left",
          "xref": "paper",
          "y": 0.42000000000000004,
          "yanchor": "bottom",
          "yref": "paper"
         },
         {
          "font": {
           "size": 8
          },
          "showarrow": false,
          "text": "Average Stake [$]: 10.00",
          "x": 1.02,
          "xanchor": "left",
          "xref": "paper",
          "y": 0.44500000000000006,
          "yanchor": "bottom",
          "yref": "paper"
         },
         {
          "font": {
           "size": 8
          },
          "showarrow": false,
          "text": "Best Bet [$]: 19.89",
          "x": 1.02,
          "xanchor": "left",
          "xref": "paper",
          "y": 0.47000000000000003,
          "yanchor": "bottom",
          "yref": "paper"
         },
         {
          "font": {
           "size": 8
          },
          "showarrow": false,
          "text": "Worst Bet [$]: -10.00",
          "x": 1.02,
          "xanchor": "left",
          "xref": "paper",
          "y": 0.49500000000000005,
          "yanchor": "bottom",
          "yref": "paper"
         },
         {
          "font": {
           "size": 8
          },
          "showarrow": false,
          "text": "Total Bets: 300",
          "x": 1.02,
          "xanchor": "left",
          "xref": "paper",
          "y": 0.52,
          "yanchor": "bottom",
          "yref": "paper"
         },
         {
          "font": {
           "size": 8
          },
          "showarrow": false,
          "text": "Total Opportunities: 300",
          "x": 1.02,
          "xanchor": "left",
          "xref": "paper",
          "y": 0.545,
          "yanchor": "bottom",
          "yref": "paper"
         },
         {
          "font": {
           "size": 8
          },
          "showarrow": false,
          "text": "Bet Frequency [%]: 100.00",
          "x": 1.02,
          "xanchor": "left",
          "xref": "paper",
          "y": 0.5700000000000001,
          "yanchor": "bottom",
          "yref": "paper"
         }
        ],
        "height": 1000,
        "hoverlabel": {
         "bgcolor": "white",
         "font": {
          "size": 12
         }
        },
        "hovermode": "x unified",
        "margin": {
         "b": 100,
         "l": 100,
         "r": 100,
         "t": 100
        },
        "shapes": [
         {
          "fillcolor": "rgba(255, 0, 0, 0.2)",
          "layer": "below",
          "line": {
           "width": 0
          },
          "opacity": 0.5,
          "type": "rect",
          "x0": 250,
          "x1": 273,
          "xref": "x",
          "y0": 0,
          "y1": 1,
          "yref": "y domain"
         },
         {
          "line": {
           "color": "gray",
           "dash": "dash"
          },
          "type": "line",
          "x0": 0,
          "x1": 1,
          "xref": "x2 domain",
          "y0": 0,
          "y1": 0,
          "yref": "y2"
         }
        ],
        "showlegend": true,
        "template": {
         "data": {
          "bar": [
           {
            "error_x": {
             "color": "#2a3f5f"
            },
            "error_y": {
             "color": "#2a3f5f"
            },
            "marker": {
             "line": {
              "color": "#E5ECF6",
              "width": 0.5
             },
             "pattern": {
              "fillmode": "overlay",
              "size": 10,
              "solidity": 0.2
             }
            },
            "type": "bar"
           }
          ],
          "barpolar": [
           {
            "marker": {
             "line": {
              "color": "#E5ECF6",
              "width": 0.5
             },
             "pattern": {
              "fillmode": "overlay",
              "size": 10,
              "solidity": 0.2
             }
            },
            "type": "barpolar"
           }
          ],
          "carpet": [
           {
            "aaxis": {
             "endlinecolor": "#2a3f5f",
             "gridcolor": "white",
             "linecolor": "white",
             "minorgridcolor": "white",
             "startlinecolor": "#2a3f5f"
            },
            "baxis": {
             "endlinecolor": "#2a3f5f",
             "gridcolor": "white",
             "linecolor": "white",
             "minorgridcolor": "white",
             "startlinecolor": "#2a3f5f"
            },
            "type": "carpet"
           }
          ],
          "choropleth": [
           {
            "colorbar": {
             "outlinewidth": 0,
             "ticks": ""
            },
            "type": "choropleth"
           }
          ],
          "contour": [
           {
            "colorbar": {
             "outlinewidth": 0,
             "ticks": ""
            },
            "colorscale": [
             [
              0,
              "#0d0887"
             ],
             [
              0.1111111111111111,
              "#46039f"
             ],
             [
              0.2222222222222222,
              "#7201a8"
             ],
             [
              0.3333333333333333,
              "#9c179e"
             ],
             [
              0.4444444444444444,
              "#bd3786"
             ],
             [
              0.5555555555555556,
              "#d8576b"
             ],
             [
              0.6666666666666666,
              "#ed7953"
             ],
             [
              0.7777777777777778,
              "#fb9f3a"
             ],
             [
              0.8888888888888888,
              "#fdca26"
             ],
             [
              1,
              "#f0f921"
             ]
            ],
            "type": "contour"
           }
          ],
          "contourcarpet": [
           {
            "colorbar": {
             "outlinewidth": 0,
             "ticks": ""
            },
            "type": "contourcarpet"
           }
          ],
          "heatmap": [
           {
            "colorbar": {
             "outlinewidth": 0,
             "ticks": ""
            },
            "colorscale": [
             [
              0,
              "#0d0887"
             ],
             [
              0.1111111111111111,
              "#46039f"
             ],
             [
              0.2222222222222222,
              "#7201a8"
             ],
             [
              0.3333333333333333,
              "#9c179e"
             ],
             [
              0.4444444444444444,
              "#bd3786"
             ],
             [
              0.5555555555555556,
              "#d8576b"
             ],
             [
              0.6666666666666666,
              "#ed7953"
             ],
             [
              0.7777777777777778,
              "#fb9f3a"
             ],
             [
              0.8888888888888888,
              "#fdca26"
             ],
             [
              1,
              "#f0f921"
             ]
            ],
            "type": "heatmap"
           }
          ],
          "heatmapgl": [
           {
            "colorbar": {
             "outlinewidth": 0,
             "ticks": ""
            },
            "colorscale": [
             [
              0,
              "#0d0887"
             ],
             [
              0.1111111111111111,
              "#46039f"
             ],
             [
              0.2222222222222222,
              "#7201a8"
             ],
             [
              0.3333333333333333,
              "#9c179e"
             ],
             [
              0.4444444444444444,
              "#bd3786"
             ],
             [
              0.5555555555555556,
              "#d8576b"
             ],
             [
              0.6666666666666666,
              "#ed7953"
             ],
             [
              0.7777777777777778,
              "#fb9f3a"
             ],
             [
              0.8888888888888888,
              "#fdca26"
             ],
             [
              1,
              "#f0f921"
             ]
            ],
            "type": "heatmapgl"
           }
          ],
          "histogram": [
           {
            "marker": {
             "pattern": {
              "fillmode": "overlay",
              "size": 10,
              "solidity": 0.2
             }
            },
            "type": "histogram"
           }
          ],
          "histogram2d": [
           {
            "colorbar": {
             "outlinewidth": 0,
             "ticks": ""
            },
            "colorscale": [
             [
              0,
              "#0d0887"
             ],
             [
              0.1111111111111111,
              "#46039f"
             ],
             [
              0.2222222222222222,
              "#7201a8"
             ],
             [
              0.3333333333333333,
              "#9c179e"
             ],
             [
              0.4444444444444444,
              "#bd3786"
             ],
             [
              0.5555555555555556,
              "#d8576b"
             ],
             [
              0.6666666666666666,
              "#ed7953"
             ],
             [
              0.7777777777777778,
              "#fb9f3a"
             ],
             [
              0.8888888888888888,
              "#fdca26"
             ],
             [
              1,
              "#f0f921"
             ]
            ],
            "type": "histogram2d"
           }
          ],
          "histogram2dcontour": [
           {
            "colorbar": {
             "outlinewidth": 0,
             "ticks": ""
            },
            "colorscale": [
             [
              0,
              "#0d0887"
             ],
             [
              0.1111111111111111,
              "#46039f"
             ],
             [
              0.2222222222222222,
              "#7201a8"
             ],
             [
              0.3333333333333333,
              "#9c179e"
             ],
             [
              0.4444444444444444,
              "#bd3786"
             ],
             [
              0.5555555555555556,
              "#d8576b"
             ],
             [
              0.6666666666666666,
              "#ed7953"
             ],
             [
              0.7777777777777778,
              "#fb9f3a"
             ],
             [
              0.8888888888888888,
              "#fdca26"
             ],
             [
              1,
              "#f0f921"
             ]
            ],
            "type": "histogram2dcontour"
           }
          ],
          "mesh3d": [
           {
            "colorbar": {
             "outlinewidth": 0,
             "ticks": ""
            },
            "type": "mesh3d"
           }
          ],
          "parcoords": [
           {
            "line": {
             "colorbar": {
              "outlinewidth": 0,
              "ticks": ""
             }
            },
            "type": "parcoords"
           }
          ],
          "pie": [
           {
            "automargin": true,
            "type": "pie"
           }
          ],
          "scatter": [
           {
            "fillpattern": {
             "fillmode": "overlay",
             "size": 10,
             "solidity": 0.2
            },
            "type": "scatter"
           }
          ],
          "scatter3d": [
           {
            "line": {
             "colorbar": {
              "outlinewidth": 0,
              "ticks": ""
             }
            },
            "marker": {
             "colorbar": {
              "outlinewidth": 0,
              "ticks": ""
             }
            },
            "type": "scatter3d"
           }
          ],
          "scattercarpet": [
           {
            "marker": {
             "colorbar": {
              "outlinewidth": 0,
              "ticks": ""
             }
            },
            "type": "scattercarpet"
           }
          ],
          "scattergeo": [
           {
            "marker": {
             "colorbar": {
              "outlinewidth": 0,
              "ticks": ""
             }
            },
            "type": "scattergeo"
           }
          ],
          "scattergl": [
           {
            "marker": {
             "colorbar": {
              "outlinewidth": 0,
              "ticks": ""
             }
            },
            "type": "scattergl"
           }
          ],
          "scattermapbox": [
           {
            "marker": {
             "colorbar": {
              "outlinewidth": 0,
              "ticks": ""
             }
            },
            "type": "scattermapbox"
           }
          ],
          "scatterpolar": [
           {
            "marker": {
             "colorbar": {
              "outlinewidth": 0,
              "ticks": ""
             }
            },
            "type": "scatterpolar"
           }
          ],
          "scatterpolargl": [
           {
            "marker": {
             "colorbar": {
              "outlinewidth": 0,
              "ticks": ""
             }
            },
            "type": "scatterpolargl"
           }
          ],
          "scatterternary": [
           {
            "marker": {
             "colorbar": {
              "outlinewidth": 0,
              "ticks": ""
             }
            },
            "type": "scatterternary"
           }
          ],
          "surface": [
           {
            "colorbar": {
             "outlinewidth": 0,
             "ticks": ""
            },
            "colorscale": [
             [
              0,
              "#0d0887"
             ],
             [
              0.1111111111111111,
              "#46039f"
             ],
             [
              0.2222222222222222,
              "#7201a8"
             ],
             [
              0.3333333333333333,
              "#9c179e"
             ],
             [
              0.4444444444444444,
              "#bd3786"
             ],
             [
              0.5555555555555556,
              "#d8576b"
             ],
             [
              0.6666666666666666,
              "#ed7953"
             ],
             [
              0.7777777777777778,
              "#fb9f3a"
             ],
             [
              0.8888888888888888,
              "#fdca26"
             ],
             [
              1,
              "#f0f921"
             ]
            ],
            "type": "surface"
           }
          ],
          "table": [
           {
            "cells": {
             "fill": {
              "color": "#EBF0F8"
             },
             "line": {
              "color": "white"
             }
            },
            "header": {
             "fill": {
              "color": "#C8D4E3"
             },
             "line": {
              "color": "white"
             }
            },
            "type": "table"
           }
          ]
         },
         "layout": {
          "annotationdefaults": {
           "arrowcolor": "#2a3f5f",
           "arrowhead": 0,
           "arrowwidth": 1
          },
          "autotypenumbers": "strict",
          "coloraxis": {
           "colorbar": {
            "outlinewidth": 0,
            "ticks": ""
           }
          },
          "colorscale": {
           "diverging": [
            [
             0,
             "#8e0152"
            ],
            [
             0.1,
             "#c51b7d"
            ],
            [
             0.2,
             "#de77ae"
            ],
            [
             0.3,
             "#f1b6da"
            ],
            [
             0.4,
             "#fde0ef"
            ],
            [
             0.5,
             "#f7f7f7"
            ],
            [
             0.6,
             "#e6f5d0"
            ],
            [
             0.7,
             "#b8e186"
            ],
            [
             0.8,
             "#7fbc41"
            ],
            [
             0.9,
             "#4d9221"
            ],
            [
             1,
             "#276419"
            ]
           ],
           "sequential": [
            [
             0,
             "#0d0887"
            ],
            [
             0.1111111111111111,
             "#46039f"
            ],
            [
             0.2222222222222222,
             "#7201a8"
            ],
            [
             0.3333333333333333,
             "#9c179e"
            ],
            [
             0.4444444444444444,
             "#bd3786"
            ],
            [
             0.5555555555555556,
             "#d8576b"
            ],
            [
             0.6666666666666666,
             "#ed7953"
            ],
            [
             0.7777777777777778,
             "#fb9f3a"
            ],
            [
             0.8888888888888888,
             "#fdca26"
            ],
            [
             1,
             "#f0f921"
            ]
           ],
           "sequentialminus": [
            [
             0,
             "#0d0887"
            ],
            [
             0.1111111111111111,
             "#46039f"
            ],
            [
             0.2222222222222222,
             "#7201a8"
            ],
            [
             0.3333333333333333,
             "#9c179e"
            ],
            [
             0.4444444444444444,
             "#bd3786"
            ],
            [
             0.5555555555555556,
             "#d8576b"
            ],
            [
             0.6666666666666666,
             "#ed7953"
            ],
            [
             0.7777777777777778,
             "#fb9f3a"
            ],
            [
             0.8888888888888888,
             "#fdca26"
            ],
            [
             1,
             "#f0f921"
            ]
           ]
          },
          "colorway": [
           "#636efa",
           "#EF553B",
           "#00cc96",
           "#ab63fa",
           "#FFA15A",
           "#19d3f3",
           "#FF6692",
           "#B6E880",
           "#FF97FF",
           "#FECB52"
          ],
          "font": {
           "color": "#2a3f5f"
          },
          "geo": {
           "bgcolor": "white",
           "lakecolor": "white",
           "landcolor": "#E5ECF6",
           "showlakes": true,
           "showland": true,
           "subunitcolor": "white"
          },
          "hoverlabel": {
           "align": "left"
          },
          "hovermode": "closest",
          "mapbox": {
           "style": "light"
          },
          "paper_bgcolor": "white",
          "plot_bgcolor": "#E5ECF6",
          "polar": {
           "angularaxis": {
            "gridcolor": "white",
            "linecolor": "white",
            "ticks": ""
           },
           "bgcolor": "#E5ECF6",
           "radialaxis": {
            "gridcolor": "white",
            "linecolor": "white",
            "ticks": ""
           }
          },
          "scene": {
           "xaxis": {
            "backgroundcolor": "#E5ECF6",
            "gridcolor": "white",
            "gridwidth": 2,
            "linecolor": "white",
            "showbackground": true,
            "ticks": "",
            "zerolinecolor": "white"
           },
           "yaxis": {
            "backgroundcolor": "#E5ECF6",
            "gridcolor": "white",
            "gridwidth": 2,
            "linecolor": "white",
            "showbackground": true,
            "ticks": "",
            "zerolinecolor": "white"
           },
           "zaxis": {
            "backgroundcolor": "#E5ECF6",
            "gridcolor": "white",
            "gridwidth": 2,
            "linecolor": "white",
            "showbackground": true,
            "ticks": "",
            "zerolinecolor": "white"
           }
          },
          "shapedefaults": {
           "line": {
            "color": "#2a3f5f"
           }
          },
          "ternary": {
           "aaxis": {
            "gridcolor": "white",
            "linecolor": "white",
            "ticks": ""
           },
           "baxis": {
            "gridcolor": "white",
            "linecolor": "white",
            "ticks": ""
           },
           "bgcolor": "#E5ECF6",
           "caxis": {
            "gridcolor": "white",
            "linecolor": "white",
            "ticks": ""
           }
          },
          "title": {
           "x": 0.05
          },
          "xaxis": {
           "automargin": true,
           "gridcolor": "white",
           "linecolor": "white",
           "ticks": "",
           "title": {
            "standoff": 15
           },
           "zerolinecolor": "white",
           "zerolinewidth": 2
          },
          "yaxis": {
           "automargin": true,
           "gridcolor": "white",
           "linecolor": "white",
           "ticks": "",
           "title": {
            "standoff": 15
           },
           "zerolinecolor": "white",
           "zerolinewidth": 2
          }
         }
        },
        "title": {
         "text": "Backtest Results (Bets Placed Only)"
        },
        "xaxis": {
         "anchor": "y",
         "domain": [
          0,
          1
         ],
         "matches": "x3",
         "showticklabels": false,
         "title": {
          "text": "Bet Number"
         }
        },
        "xaxis2": {
         "anchor": "y2",
         "domain": [
          0,
          1
         ],
         "matches": "x3",
         "showticklabels": false,
         "title": {
          "text": "Bet Number"
         }
        },
        "xaxis3": {
         "anchor": "y3",
         "domain": [
          0,
          1
         ],
         "title": {
          "text": "Bet Number"
         }
        },
        "yaxis": {
         "anchor": "x",
         "domain": [
          0.55,
          1
         ],
         "title": {
          "text": "Bankroll"
         }
        },
        "yaxis2": {
         "anchor": "x2",
         "domain": [
          0.275,
          0.5
         ],
         "title": {
          "text": "ROI"
         }
        },
        "yaxis3": {
         "anchor": "x3",
         "domain": [
          0,
          0.225
         ],
         "title": {
          "text": "Stake %"
         }
        }
       }
      }
     },
     "metadata": {},
     "output_type": "display_data"
    }
   ],
   "source": [
    "model_backtest.plot()"
   ]
  },
  {
   "cell_type": "code",
   "execution_count": 19,
   "metadata": {},
   "outputs": [
    {
     "data": {
      "application/vnd.plotly.v1+json": {
       "config": {
        "plotlyServerURL": "https://plot.ly"
       },
       "data": [
        {
         "marker": {
          "color": "green"
         },
         "name": "Winning Bets",
         "opacity": 0.7,
         "type": "bar",
         "x": [
          1.538722696366559,
          1.6022689594254746,
          1.668439559902879,
          1.7373428778443418,
          1.8090917691811146,
          1.8838037505755294,
          1.9616011919001535,
          2.042611516665958,
          2.1269674107277847,
          2.2148070396089397,
          2.3062742748008747,
          2.4015189294086032,
          2.5006970035278204,
          2.603970939755616,
          2.7115098892532856,
          2.823489988797027,
          2.9400946492702795
         ],
         "y": [
          9,
          5,
          11,
          8,
          5,
          7,
          8,
          12,
          8,
          10,
          7,
          6,
          9,
          12,
          14,
          12,
          8
         ]
        },
        {
         "marker": {
          "color": "red"
         },
         "name": "Losing Bets",
         "opacity": 0.7,
         "type": "bar",
         "x": [
          1.538722696366559,
          1.6022689594254746,
          1.668439559902879,
          1.7373428778443418,
          1.8090917691811146,
          1.8838037505755294,
          1.9616011919001535,
          2.042611516665958,
          2.1269674107277847,
          2.2148070396089397,
          2.3062742748008747,
          2.4015189294086032,
          2.5006970035278204,
          2.603970939755616,
          2.7115098892532856,
          2.823489988797027,
          2.9400946492702795
         ],
         "y": [
          8,
          8,
          3,
          11,
          5,
          9,
          5,
          10,
          5,
          9,
          14,
          10,
          10,
          11,
          6,
          9,
          16
         ]
        },
        {
         "line": {
          "color": "blue",
          "dash": "dot",
          "width": 2
         },
         "mode": "lines",
         "name": "Break-Even Win Rate",
         "type": "scatter",
         "x": [
          null
         ],
         "y": [
          null
         ]
        }
       ],
       "layout": {
        "annotations": [
         {
          "showarrow": false,
          "text": "Avg: 2.23",
          "x": 2.2349962234426966,
          "xanchor": "right",
          "xref": "x",
          "y": 1,
          "yanchor": "top",
          "yref": "y domain"
         },
         {
          "showarrow": false,
          "text": "Median: 2.24",
          "x": 2.2388518408588,
          "xanchor": "left",
          "xref": "x",
          "y": 0,
          "yanchor": "bottom",
          "yref": "y domain"
         }
        ],
        "bargap": 0.1,
        "barmode": "stack",
        "margin": {
         "t": 100
        },
        "shapes": [
         {
          "line": {
           "color": "blue",
           "dash": "dot",
           "width": 2
          },
          "type": "line",
          "x0": 1.507592375769328,
          "x1": 1.5698530169637899,
          "y0": 11.048124551709485,
          "y1": 11.048124551709485
         },
         {
          "line": {
           "color": "blue",
           "dash": "dot",
           "width": 2
          },
          "type": "line",
          "x0": 1.5698530169637899,
          "x1": 1.6346849018871592,
          "y0": 8.113494256707941,
          "y1": 8.113494256707941
         },
         {
          "line": {
           "color": "blue",
           "dash": "dot",
           "width": 2
          },
          "type": "line",
          "x0": 1.6346849018871592,
          "x1": 1.702194217918599,
          "y0": 8.391074112876435,
          "y1": 8.391074112876435
         },
         {
          "line": {
           "color": "blue",
           "dash": "dot",
           "width": 2
          },
          "type": "line",
          "x0": 1.702194217918599,
          "x1": 1.7724915377700847,
          "y0": 10.93624076300632,
          "y1": 10.93624076300632
         },
         {
          "line": {
           "color": "blue",
           "dash": "dot",
           "width": 2
          },
          "type": "line",
          "x0": 1.7724915377700847,
          "x1": 1.8456920005921444,
          "y0": 5.527635562968981,
          "y1": 5.527635562968981
         },
         {
          "line": {
           "color": "blue",
           "dash": "dot",
           "width": 2
          },
          "type": "line",
          "x0": 1.8456920005921444,
          "x1": 1.9219155005589144,
          "y0": 8.493453734292528,
          "y1": 8.493453734292528
         },
         {
          "line": {
           "color": "blue",
           "dash": "dot",
           "width": 2
          },
          "type": "line",
          "x0": 1.9219155005589144,
          "x1": 2.0012868832413924,
          "y0": 6.627239040065646,
          "y1": 6.627239040065646
         },
         {
          "line": {
           "color": "blue",
           "dash": "dot",
           "width": 2
          },
          "type": "line",
          "x0": 2.0012868832413924,
          "x1": 2.0839361500905236,
          "y0": 10.770525780599428,
          "y1": 10.770525780599428
         },
         {
          "line": {
           "color": "blue",
           "dash": "dot",
           "width": 2
          },
          "type": "line",
          "x0": 2.0839361500905236,
          "x1": 2.1699986713650454,
          "y0": 6.1119883334516105,
          "y1": 6.1119883334516105
         },
         {
          "line": {
           "color": "blue",
           "dash": "dot",
           "width": 2
          },
          "type": "line",
          "x0": 2.1699986713650454,
          "x1": 2.259615407852834,
          "y0": 8.57862543337173,
          "y1": 8.57862543337173
         },
         {
          "line": {
           "color": "blue",
           "dash": "dot",
           "width": 2
          },
          "type": "line",
          "x0": 2.259615407852834,
          "x1": 2.352933141748915,
          "y0": 9.105595214521117,
          "y1": 9.105595214521117
         },
         {
          "line": {
           "color": "blue",
           "dash": "dot",
           "width": 2
          },
          "type": "line",
          "x0": 2.352933141748915,
          "x1": 2.4501047170682915,
          "y0": 6.662450086929005,
          "y1": 6.662450086929005
         },
         {
          "line": {
           "color": "blue",
           "dash": "dot",
           "width": 2
          },
          "type": "line",
          "x0": 2.4501047170682915,
          "x1": 2.55128928998735,
          "y0": 7.597881699860494,
          "y1": 7.597881699860494
         },
         {
          "line": {
           "color": "blue",
           "dash": "dot",
           "width": 2
          },
          "type": "line",
          "x0": 2.55128928998735,
          "x1": 2.656652589523882,
          "y0": 8.8326638553649,
          "y1": 8.8326638553649
         },
         {
          "line": {
           "color": "blue",
           "dash": "dot",
           "width": 2
          },
          "type": "line",
          "x0": 2.656652589523882,
          "x1": 2.7663671889826897,
          "y0": 7.375964247546129,
          "y1": 7.375964247546129
         },
         {
          "line": {
           "color": "blue",
           "dash": "dot",
           "width": 2
          },
          "type": "line",
          "x0": 2.7663671889826897,
          "x1": 2.8806127886113635,
          "y0": 7.437603846064012,
          "y1": 7.437603846064012
         },
         {
          "line": {
           "color": "blue",
           "dash": "dot",
           "width": 2
          },
          "type": "line",
          "x0": 2.8806127886113635,
          "x1": 2.999576509929196,
          "y0": 8.163002509445302,
          "y1": 8.163002509445302
         },
         {
          "line": {
           "color": "blue",
           "dash": "dash"
          },
          "type": "line",
          "x0": 2.2349962234426966,
          "x1": 2.2349962234426966,
          "xref": "x",
          "y0": 0,
          "y1": 1,
          "yref": "y domain"
         },
         {
          "line": {
           "color": "purple",
           "dash": "dot"
          },
          "type": "line",
          "x0": 2.2388518408588,
          "x1": 2.2388518408588,
          "xref": "x",
          "y0": 0,
          "y1": 1,
          "yref": "y domain"
         }
        ],
        "template": {
         "data": {
          "bar": [
           {
            "error_x": {
             "color": "#2a3f5f"
            },
            "error_y": {
             "color": "#2a3f5f"
            },
            "marker": {
             "line": {
              "color": "#E5ECF6",
              "width": 0.5
             },
             "pattern": {
              "fillmode": "overlay",
              "size": 10,
              "solidity": 0.2
             }
            },
            "type": "bar"
           }
          ],
          "barpolar": [
           {
            "marker": {
             "line": {
              "color": "#E5ECF6",
              "width": 0.5
             },
             "pattern": {
              "fillmode": "overlay",
              "size": 10,
              "solidity": 0.2
             }
            },
            "type": "barpolar"
           }
          ],
          "carpet": [
           {
            "aaxis": {
             "endlinecolor": "#2a3f5f",
             "gridcolor": "white",
             "linecolor": "white",
             "minorgridcolor": "white",
             "startlinecolor": "#2a3f5f"
            },
            "baxis": {
             "endlinecolor": "#2a3f5f",
             "gridcolor": "white",
             "linecolor": "white",
             "minorgridcolor": "white",
             "startlinecolor": "#2a3f5f"
            },
            "type": "carpet"
           }
          ],
          "choropleth": [
           {
            "colorbar": {
             "outlinewidth": 0,
             "ticks": ""
            },
            "type": "choropleth"
           }
          ],
          "contour": [
           {
            "colorbar": {
             "outlinewidth": 0,
             "ticks": ""
            },
            "colorscale": [
             [
              0,
              "#0d0887"
             ],
             [
              0.1111111111111111,
              "#46039f"
             ],
             [
              0.2222222222222222,
              "#7201a8"
             ],
             [
              0.3333333333333333,
              "#9c179e"
             ],
             [
              0.4444444444444444,
              "#bd3786"
             ],
             [
              0.5555555555555556,
              "#d8576b"
             ],
             [
              0.6666666666666666,
              "#ed7953"
             ],
             [
              0.7777777777777778,
              "#fb9f3a"
             ],
             [
              0.8888888888888888,
              "#fdca26"
             ],
             [
              1,
              "#f0f921"
             ]
            ],
            "type": "contour"
           }
          ],
          "contourcarpet": [
           {
            "colorbar": {
             "outlinewidth": 0,
             "ticks": ""
            },
            "type": "contourcarpet"
           }
          ],
          "heatmap": [
           {
            "colorbar": {
             "outlinewidth": 0,
             "ticks": ""
            },
            "colorscale": [
             [
              0,
              "#0d0887"
             ],
             [
              0.1111111111111111,
              "#46039f"
             ],
             [
              0.2222222222222222,
              "#7201a8"
             ],
             [
              0.3333333333333333,
              "#9c179e"
             ],
             [
              0.4444444444444444,
              "#bd3786"
             ],
             [
              0.5555555555555556,
              "#d8576b"
             ],
             [
              0.6666666666666666,
              "#ed7953"
             ],
             [
              0.7777777777777778,
              "#fb9f3a"
             ],
             [
              0.8888888888888888,
              "#fdca26"
             ],
             [
              1,
              "#f0f921"
             ]
            ],
            "type": "heatmap"
           }
          ],
          "heatmapgl": [
           {
            "colorbar": {
             "outlinewidth": 0,
             "ticks": ""
            },
            "colorscale": [
             [
              0,
              "#0d0887"
             ],
             [
              0.1111111111111111,
              "#46039f"
             ],
             [
              0.2222222222222222,
              "#7201a8"
             ],
             [
              0.3333333333333333,
              "#9c179e"
             ],
             [
              0.4444444444444444,
              "#bd3786"
             ],
             [
              0.5555555555555556,
              "#d8576b"
             ],
             [
              0.6666666666666666,
              "#ed7953"
             ],
             [
              0.7777777777777778,
              "#fb9f3a"
             ],
             [
              0.8888888888888888,
              "#fdca26"
             ],
             [
              1,
              "#f0f921"
             ]
            ],
            "type": "heatmapgl"
           }
          ],
          "histogram": [
           {
            "marker": {
             "pattern": {
              "fillmode": "overlay",
              "size": 10,
              "solidity": 0.2
             }
            },
            "type": "histogram"
           }
          ],
          "histogram2d": [
           {
            "colorbar": {
             "outlinewidth": 0,
             "ticks": ""
            },
            "colorscale": [
             [
              0,
              "#0d0887"
             ],
             [
              0.1111111111111111,
              "#46039f"
             ],
             [
              0.2222222222222222,
              "#7201a8"
             ],
             [
              0.3333333333333333,
              "#9c179e"
             ],
             [
              0.4444444444444444,
              "#bd3786"
             ],
             [
              0.5555555555555556,
              "#d8576b"
             ],
             [
              0.6666666666666666,
              "#ed7953"
             ],
             [
              0.7777777777777778,
              "#fb9f3a"
             ],
             [
              0.8888888888888888,
              "#fdca26"
             ],
             [
              1,
              "#f0f921"
             ]
            ],
            "type": "histogram2d"
           }
          ],
          "histogram2dcontour": [
           {
            "colorbar": {
             "outlinewidth": 0,
             "ticks": ""
            },
            "colorscale": [
             [
              0,
              "#0d0887"
             ],
             [
              0.1111111111111111,
              "#46039f"
             ],
             [
              0.2222222222222222,
              "#7201a8"
             ],
             [
              0.3333333333333333,
              "#9c179e"
             ],
             [
              0.4444444444444444,
              "#bd3786"
             ],
             [
              0.5555555555555556,
              "#d8576b"
             ],
             [
              0.6666666666666666,
              "#ed7953"
             ],
             [
              0.7777777777777778,
              "#fb9f3a"
             ],
             [
              0.8888888888888888,
              "#fdca26"
             ],
             [
              1,
              "#f0f921"
             ]
            ],
            "type": "histogram2dcontour"
           }
          ],
          "mesh3d": [
           {
            "colorbar": {
             "outlinewidth": 0,
             "ticks": ""
            },
            "type": "mesh3d"
           }
          ],
          "parcoords": [
           {
            "line": {
             "colorbar": {
              "outlinewidth": 0,
              "ticks": ""
             }
            },
            "type": "parcoords"
           }
          ],
          "pie": [
           {
            "automargin": true,
            "type": "pie"
           }
          ],
          "scatter": [
           {
            "fillpattern": {
             "fillmode": "overlay",
             "size": 10,
             "solidity": 0.2
            },
            "type": "scatter"
           }
          ],
          "scatter3d": [
           {
            "line": {
             "colorbar": {
              "outlinewidth": 0,
              "ticks": ""
             }
            },
            "marker": {
             "colorbar": {
              "outlinewidth": 0,
              "ticks": ""
             }
            },
            "type": "scatter3d"
           }
          ],
          "scattercarpet": [
           {
            "marker": {
             "colorbar": {
              "outlinewidth": 0,
              "ticks": ""
             }
            },
            "type": "scattercarpet"
           }
          ],
          "scattergeo": [
           {
            "marker": {
             "colorbar": {
              "outlinewidth": 0,
              "ticks": ""
             }
            },
            "type": "scattergeo"
           }
          ],
          "scattergl": [
           {
            "marker": {
             "colorbar": {
              "outlinewidth": 0,
              "ticks": ""
             }
            },
            "type": "scattergl"
           }
          ],
          "scattermapbox": [
           {
            "marker": {
             "colorbar": {
              "outlinewidth": 0,
              "ticks": ""
             }
            },
            "type": "scattermapbox"
           }
          ],
          "scatterpolar": [
           {
            "marker": {
             "colorbar": {
              "outlinewidth": 0,
              "ticks": ""
             }
            },
            "type": "scatterpolar"
           }
          ],
          "scatterpolargl": [
           {
            "marker": {
             "colorbar": {
              "outlinewidth": 0,
              "ticks": ""
             }
            },
            "type": "scatterpolargl"
           }
          ],
          "scatterternary": [
           {
            "marker": {
             "colorbar": {
              "outlinewidth": 0,
              "ticks": ""
             }
            },
            "type": "scatterternary"
           }
          ],
          "surface": [
           {
            "colorbar": {
             "outlinewidth": 0,
             "ticks": ""
            },
            "colorscale": [
             [
              0,
              "#0d0887"
             ],
             [
              0.1111111111111111,
              "#46039f"
             ],
             [
              0.2222222222222222,
              "#7201a8"
             ],
             [
              0.3333333333333333,
              "#9c179e"
             ],
             [
              0.4444444444444444,
              "#bd3786"
             ],
             [
              0.5555555555555556,
              "#d8576b"
             ],
             [
              0.6666666666666666,
              "#ed7953"
             ],
             [
              0.7777777777777778,
              "#fb9f3a"
             ],
             [
              0.8888888888888888,
              "#fdca26"
             ],
             [
              1,
              "#f0f921"
             ]
            ],
            "type": "surface"
           }
          ],
          "table": [
           {
            "cells": {
             "fill": {
              "color": "#EBF0F8"
             },
             "line": {
              "color": "white"
             }
            },
            "header": {
             "fill": {
              "color": "#C8D4E3"
             },
             "line": {
              "color": "white"
             }
            },
            "type": "table"
           }
          ]
         },
         "layout": {
          "annotationdefaults": {
           "arrowcolor": "#2a3f5f",
           "arrowhead": 0,
           "arrowwidth": 1
          },
          "autotypenumbers": "strict",
          "coloraxis": {
           "colorbar": {
            "outlinewidth": 0,
            "ticks": ""
           }
          },
          "colorscale": {
           "diverging": [
            [
             0,
             "#8e0152"
            ],
            [
             0.1,
             "#c51b7d"
            ],
            [
             0.2,
             "#de77ae"
            ],
            [
             0.3,
             "#f1b6da"
            ],
            [
             0.4,
             "#fde0ef"
            ],
            [
             0.5,
             "#f7f7f7"
            ],
            [
             0.6,
             "#e6f5d0"
            ],
            [
             0.7,
             "#b8e186"
            ],
            [
             0.8,
             "#7fbc41"
            ],
            [
             0.9,
             "#4d9221"
            ],
            [
             1,
             "#276419"
            ]
           ],
           "sequential": [
            [
             0,
             "#0d0887"
            ],
            [
             0.1111111111111111,
             "#46039f"
            ],
            [
             0.2222222222222222,
             "#7201a8"
            ],
            [
             0.3333333333333333,
             "#9c179e"
            ],
            [
             0.4444444444444444,
             "#bd3786"
            ],
            [
             0.5555555555555556,
             "#d8576b"
            ],
            [
             0.6666666666666666,
             "#ed7953"
            ],
            [
             0.7777777777777778,
             "#fb9f3a"
            ],
            [
             0.8888888888888888,
             "#fdca26"
            ],
            [
             1,
             "#f0f921"
            ]
           ],
           "sequentialminus": [
            [
             0,
             "#0d0887"
            ],
            [
             0.1111111111111111,
             "#46039f"
            ],
            [
             0.2222222222222222,
             "#7201a8"
            ],
            [
             0.3333333333333333,
             "#9c179e"
            ],
            [
             0.4444444444444444,
             "#bd3786"
            ],
            [
             0.5555555555555556,
             "#d8576b"
            ],
            [
             0.6666666666666666,
             "#ed7953"
            ],
            [
             0.7777777777777778,
             "#fb9f3a"
            ],
            [
             0.8888888888888888,
             "#fdca26"
            ],
            [
             1,
             "#f0f921"
            ]
           ]
          },
          "colorway": [
           "#636efa",
           "#EF553B",
           "#00cc96",
           "#ab63fa",
           "#FFA15A",
           "#19d3f3",
           "#FF6692",
           "#B6E880",
           "#FF97FF",
           "#FECB52"
          ],
          "font": {
           "color": "#2a3f5f"
          },
          "geo": {
           "bgcolor": "white",
           "lakecolor": "white",
           "landcolor": "#E5ECF6",
           "showlakes": true,
           "showland": true,
           "subunitcolor": "white"
          },
          "hoverlabel": {
           "align": "left"
          },
          "hovermode": "closest",
          "mapbox": {
           "style": "light"
          },
          "paper_bgcolor": "white",
          "plot_bgcolor": "#E5ECF6",
          "polar": {
           "angularaxis": {
            "gridcolor": "white",
            "linecolor": "white",
            "ticks": ""
           },
           "bgcolor": "#E5ECF6",
           "radialaxis": {
            "gridcolor": "white",
            "linecolor": "white",
            "ticks": ""
           }
          },
          "scene": {
           "xaxis": {
            "backgroundcolor": "#E5ECF6",
            "gridcolor": "white",
            "gridwidth": 2,
            "linecolor": "white",
            "showbackground": true,
            "ticks": "",
            "zerolinecolor": "white"
           },
           "yaxis": {
            "backgroundcolor": "#E5ECF6",
            "gridcolor": "white",
            "gridwidth": 2,
            "linecolor": "white",
            "showbackground": true,
            "ticks": "",
            "zerolinecolor": "white"
           },
           "zaxis": {
            "backgroundcolor": "#E5ECF6",
            "gridcolor": "white",
            "gridwidth": 2,
            "linecolor": "white",
            "showbackground": true,
            "ticks": "",
            "zerolinecolor": "white"
           }
          },
          "shapedefaults": {
           "line": {
            "color": "#2a3f5f"
           }
          },
          "ternary": {
           "aaxis": {
            "gridcolor": "white",
            "linecolor": "white",
            "ticks": ""
           },
           "baxis": {
            "gridcolor": "white",
            "linecolor": "white",
            "ticks": ""
           },
           "bgcolor": "#E5ECF6",
           "caxis": {
            "gridcolor": "white",
            "linecolor": "white",
            "ticks": ""
           }
          },
          "title": {
           "x": 0.05
          },
          "xaxis": {
           "automargin": true,
           "gridcolor": "white",
           "linecolor": "white",
           "ticks": "",
           "title": {
            "standoff": 15
           },
           "zerolinecolor": "white",
           "zerolinewidth": 2
          },
          "yaxis": {
           "automargin": true,
           "gridcolor": "white",
           "linecolor": "white",
           "ticks": "",
           "title": {
            "standoff": 15
           },
           "zerolinecolor": "white",
           "zerolinewidth": 2
          }
         }
        },
        "title": {
         "text": "Distribution of played Odds and Break-Even Win Rates"
        },
        "xaxis": {
         "tickangle": 45,
         "tickmode": "array",
         "ticktext": [
          "1.51",
          "1.57",
          "1.63",
          "1.70",
          "1.77",
          "1.85",
          "1.92",
          "2.00",
          "2.08",
          "2.17",
          "2.26",
          "2.35",
          "2.45",
          "2.55",
          "2.66",
          "2.77",
          "2.88",
          "3.00"
         ],
         "tickvals": [
          1.507592375769328,
          1.5698530169637899,
          1.6346849018871592,
          1.702194217918599,
          1.7724915377700847,
          1.8456920005921444,
          1.9219155005589144,
          2.0012868832413924,
          2.0839361500905236,
          2.1699986713650454,
          2.259615407852834,
          2.352933141748915,
          2.4501047170682915,
          2.55128928998735,
          2.656652589523882,
          2.7663671889826897,
          2.8806127886113635,
          2.999576509929196
         ],
         "title": {
          "text": "Odds"
         }
        },
        "yaxis": {
         "range": [
          0,
          19.2
         ],
         "title": {
          "text": "Frequency"
         }
        }
       }
      }
     },
     "metadata": {},
     "output_type": "display_data"
    }
   ],
   "source": [
    "model_backtest.plot_odds_distribution()"
   ]
  },
  {
   "cell_type": "code",
   "execution_count": 20,
   "metadata": {},
   "outputs": [],
   "source": [
    "# Cell 4: Set up the backtester\n",
    "strategy = KellyCriterion()\n",
    "model = make_pipeline(StandardScaler(), LogisticRegression())\n",
    "\n",
    "# Initialize ModelBacktest with the dummy model\n",
    "model_backtest = ModelBacktest(\n",
    "    data=data,\n",
    "    date_column='date',\n",
    "    odds_columns=['odds_team_a', 'odds_team_b'],\n",
    "    outcome_column='actual_winner',\n",
    "    initial_bankroll=1000,\n",
    "    strategy=strategy,\n",
    "    cv_schema=TimeSeriesSplit(n_splits=5),\n",
    "    model=model\n",
    ")\n",
    "# Run the backtest\n",
    "model_backtest.run()"
   ]
  },
  {
   "cell_type": "code",
   "execution_count": 21,
   "metadata": {},
   "outputs": [
    {
     "data": {
      "text/html": [
       "<div>\n",
       "<style scoped>\n",
       "    .dataframe tbody tr th:only-of-type {\n",
       "        vertical-align: middle;\n",
       "    }\n",
       "\n",
       "    .dataframe tbody tr th {\n",
       "        vertical-align: top;\n",
       "    }\n",
       "\n",
       "    .dataframe thead th {\n",
       "        text-align: right;\n",
       "    }\n",
       "</style>\n",
       "<table border=\"1\" class=\"dataframe\">\n",
       "  <thead>\n",
       "    <tr style=\"text-align: right;\">\n",
       "      <th></th>\n",
       "      <th>bt_index</th>\n",
       "      <th>bt_fold</th>\n",
       "      <th>bt_predicted_outcome</th>\n",
       "      <th>bt_bet_on</th>\n",
       "      <th>bt_actual_outcome</th>\n",
       "      <th>bt_starting_bankroll</th>\n",
       "      <th>bt_ending_bankroll</th>\n",
       "      <th>bt_odds</th>\n",
       "      <th>bt_win</th>\n",
       "      <th>bt_profit</th>\n",
       "      <th>bt_roi</th>\n",
       "      <th>bt_stake</th>\n",
       "      <th>bt_potential_return</th>\n",
       "      <th>bt_date_column</th>\n",
       "      <th>bt_odd_0</th>\n",
       "      <th>bt_odd_1</th>\n",
       "      <th>bt_model_prob_0</th>\n",
       "      <th>bt_model_prob_1</th>\n",
       "      <th>bt_kelly_fraction_0</th>\n",
       "      <th>bt_kelly_fraction_1</th>\n",
       "      <th>date</th>\n",
       "      <th>odds_team_a</th>\n",
       "      <th>odds_team_b</th>\n",
       "      <th>actual_winner</th>\n",
       "      <th>model_predictions</th>\n",
       "    </tr>\n",
       "  </thead>\n",
       "  <tbody>\n",
       "    <tr>\n",
       "      <th>0</th>\n",
       "      <td>65</td>\n",
       "      <td>0</td>\n",
       "      <td>0</td>\n",
       "      <td>0</td>\n",
       "      <td>0</td>\n",
       "      <td>1000.000000</td>\n",
       "      <td>1131.404412</td>\n",
       "      <td>2.314044</td>\n",
       "      <td>True</td>\n",
       "      <td>131.404412</td>\n",
       "      <td>131.404412</td>\n",
       "      <td>100.000000</td>\n",
       "      <td>231.404412</td>\n",
       "      <td>2023-03-07</td>\n",
       "      <td>2.314044</td>\n",
       "      <td>1.714488</td>\n",
       "      <td>0.698902</td>\n",
       "      <td>0.301098</td>\n",
       "      <td>0.469764</td>\n",
       "      <td>0.000000</td>\n",
       "      <td>2023-03-07</td>\n",
       "      <td>2.314044</td>\n",
       "      <td>1.714488</td>\n",
       "      <td>0</td>\n",
       "      <td>1</td>\n",
       "    </tr>\n",
       "    <tr>\n",
       "      <th>1</th>\n",
       "      <td>66</td>\n",
       "      <td>0</td>\n",
       "      <td>1</td>\n",
       "      <td>1</td>\n",
       "      <td>0</td>\n",
       "      <td>1131.404412</td>\n",
       "      <td>1020.271350</td>\n",
       "      <td>2.642266</td>\n",
       "      <td>False</td>\n",
       "      <td>-111.133063</td>\n",
       "      <td>-100.000000</td>\n",
       "      <td>111.133063</td>\n",
       "      <td>293.643108</td>\n",
       "      <td>2023-03-08</td>\n",
       "      <td>1.711386</td>\n",
       "      <td>2.642266</td>\n",
       "      <td>0.499435</td>\n",
       "      <td>0.500565</td>\n",
       "      <td>0.000000</td>\n",
       "      <td>0.196452</td>\n",
       "      <td>2023-03-08</td>\n",
       "      <td>1.711386</td>\n",
       "      <td>2.642266</td>\n",
       "      <td>0</td>\n",
       "      <td>1</td>\n",
       "    </tr>\n",
       "    <tr>\n",
       "      <th>2</th>\n",
       "      <td>67</td>\n",
       "      <td>0</td>\n",
       "      <td>0</td>\n",
       "      <td>0</td>\n",
       "      <td>0</td>\n",
       "      <td>1020.271350</td>\n",
       "      <td>1194.053707</td>\n",
       "      <td>2.703295</td>\n",
       "      <td>True</td>\n",
       "      <td>173.782357</td>\n",
       "      <td>170.329547</td>\n",
       "      <td>102.027135</td>\n",
       "      <td>275.809492</td>\n",
       "      <td>2023-03-09</td>\n",
       "      <td>2.703295</td>\n",
       "      <td>2.427327</td>\n",
       "      <td>0.634992</td>\n",
       "      <td>0.365008</td>\n",
       "      <td>0.420696</td>\n",
       "      <td>0.000000</td>\n",
       "      <td>2023-03-09</td>\n",
       "      <td>2.703295</td>\n",
       "      <td>2.427327</td>\n",
       "      <td>0</td>\n",
       "      <td>0</td>\n",
       "    </tr>\n",
       "    <tr>\n",
       "      <th>3</th>\n",
       "      <td>68</td>\n",
       "      <td>0</td>\n",
       "      <td>0</td>\n",
       "      <td>-1</td>\n",
       "      <td>1</td>\n",
       "      <td>1194.053707</td>\n",
       "      <td>1194.053707</td>\n",
       "      <td>NaN</td>\n",
       "      <td>None</td>\n",
       "      <td>0.000000</td>\n",
       "      <td>0.000000</td>\n",
       "      <td>0.000000</td>\n",
       "      <td>0.000000</td>\n",
       "      <td>2023-03-10</td>\n",
       "      <td>1.611826</td>\n",
       "      <td>1.651684</td>\n",
       "      <td>0.584585</td>\n",
       "      <td>0.415415</td>\n",
       "      <td>0.000000</td>\n",
       "      <td>0.000000</td>\n",
       "      <td>2023-03-10</td>\n",
       "      <td>1.611826</td>\n",
       "      <td>1.651684</td>\n",
       "      <td>1</td>\n",
       "      <td>0</td>\n",
       "    </tr>\n",
       "    <tr>\n",
       "      <th>4</th>\n",
       "      <td>69</td>\n",
       "      <td>0</td>\n",
       "      <td>0</td>\n",
       "      <td>0</td>\n",
       "      <td>1</td>\n",
       "      <td>1194.053707</td>\n",
       "      <td>1074.648336</td>\n",
       "      <td>2.980330</td>\n",
       "      <td>False</td>\n",
       "      <td>-119.405371</td>\n",
       "      <td>-100.000000</td>\n",
       "      <td>119.405371</td>\n",
       "      <td>355.867457</td>\n",
       "      <td>2023-03-11</td>\n",
       "      <td>2.980330</td>\n",
       "      <td>1.626160</td>\n",
       "      <td>0.758186</td>\n",
       "      <td>0.241814</td>\n",
       "      <td>0.636078</td>\n",
       "      <td>0.000000</td>\n",
       "      <td>2023-03-11</td>\n",
       "      <td>2.980330</td>\n",
       "      <td>1.626160</td>\n",
       "      <td>1</td>\n",
       "      <td>0</td>\n",
       "    </tr>\n",
       "    <tr>\n",
       "      <th>...</th>\n",
       "      <td>...</td>\n",
       "      <td>...</td>\n",
       "      <td>...</td>\n",
       "      <td>...</td>\n",
       "      <td>...</td>\n",
       "      <td>...</td>\n",
       "      <td>...</td>\n",
       "      <td>...</td>\n",
       "      <td>...</td>\n",
       "      <td>...</td>\n",
       "      <td>...</td>\n",
       "      <td>...</td>\n",
       "      <td>...</td>\n",
       "      <td>...</td>\n",
       "      <td>...</td>\n",
       "      <td>...</td>\n",
       "      <td>...</td>\n",
       "      <td>...</td>\n",
       "      <td>...</td>\n",
       "      <td>...</td>\n",
       "      <td>...</td>\n",
       "      <td>...</td>\n",
       "      <td>...</td>\n",
       "      <td>...</td>\n",
       "      <td>...</td>\n",
       "    </tr>\n",
       "    <tr>\n",
       "      <th>295</th>\n",
       "      <td>360</td>\n",
       "      <td>4</td>\n",
       "      <td>0</td>\n",
       "      <td>0</td>\n",
       "      <td>0</td>\n",
       "      <td>23513.708637</td>\n",
       "      <td>25255.219466</td>\n",
       "      <td>2.082255</td>\n",
       "      <td>True</td>\n",
       "      <td>1741.510829</td>\n",
       "      <td>108.225489</td>\n",
       "      <td>1609.150345</td>\n",
       "      <td>3350.661174</td>\n",
       "      <td>2023-12-27</td>\n",
       "      <td>2.082255</td>\n",
       "      <td>2.762743</td>\n",
       "      <td>0.551387</td>\n",
       "      <td>0.448613</td>\n",
       "      <td>0.136869</td>\n",
       "      <td>0.135813</td>\n",
       "      <td>2023-12-27</td>\n",
       "      <td>2.082255</td>\n",
       "      <td>2.762743</td>\n",
       "      <td>0</td>\n",
       "      <td>0</td>\n",
       "    </tr>\n",
       "    <tr>\n",
       "      <th>296</th>\n",
       "      <td>361</td>\n",
       "      <td>4</td>\n",
       "      <td>1</td>\n",
       "      <td>0</td>\n",
       "      <td>0</td>\n",
       "      <td>25255.219466</td>\n",
       "      <td>28018.951551</td>\n",
       "      <td>2.464932</td>\n",
       "      <td>True</td>\n",
       "      <td>2763.732085</td>\n",
       "      <td>146.493233</td>\n",
       "      <td>1886.593690</td>\n",
       "      <td>4650.325775</td>\n",
       "      <td>2023-12-28</td>\n",
       "      <td>2.464932</td>\n",
       "      <td>1.709659</td>\n",
       "      <td>0.494482</td>\n",
       "      <td>0.505518</td>\n",
       "      <td>0.149402</td>\n",
       "      <td>0.000000</td>\n",
       "      <td>2023-12-28</td>\n",
       "      <td>2.464932</td>\n",
       "      <td>1.709659</td>\n",
       "      <td>0</td>\n",
       "      <td>0</td>\n",
       "    </tr>\n",
       "    <tr>\n",
       "      <th>297</th>\n",
       "      <td>362</td>\n",
       "      <td>4</td>\n",
       "      <td>0</td>\n",
       "      <td>0</td>\n",
       "      <td>1</td>\n",
       "      <td>28018.951551</td>\n",
       "      <td>25217.056396</td>\n",
       "      <td>2.187379</td>\n",
       "      <td>False</td>\n",
       "      <td>-2801.895155</td>\n",
       "      <td>-100.000000</td>\n",
       "      <td>2801.895155</td>\n",
       "      <td>6128.807563</td>\n",
       "      <td>2023-12-29</td>\n",
       "      <td>2.187379</td>\n",
       "      <td>2.692901</td>\n",
       "      <td>0.587897</td>\n",
       "      <td>0.412103</td>\n",
       "      <td>0.240827</td>\n",
       "      <td>0.064832</td>\n",
       "      <td>2023-12-29</td>\n",
       "      <td>2.187379</td>\n",
       "      <td>2.692901</td>\n",
       "      <td>1</td>\n",
       "      <td>1</td>\n",
       "    </tr>\n",
       "    <tr>\n",
       "      <th>298</th>\n",
       "      <td>363</td>\n",
       "      <td>4</td>\n",
       "      <td>0</td>\n",
       "      <td>0</td>\n",
       "      <td>1</td>\n",
       "      <td>25217.056396</td>\n",
       "      <td>22712.518008</td>\n",
       "      <td>2.318425</td>\n",
       "      <td>False</td>\n",
       "      <td>-2504.538388</td>\n",
       "      <td>-100.000000</td>\n",
       "      <td>2504.538388</td>\n",
       "      <td>5806.584873</td>\n",
       "      <td>2023-12-30</td>\n",
       "      <td>2.318425</td>\n",
       "      <td>1.802441</td>\n",
       "      <td>0.544288</td>\n",
       "      <td>0.455712</td>\n",
       "      <td>0.198638</td>\n",
       "      <td>0.000000</td>\n",
       "      <td>2023-12-30</td>\n",
       "      <td>2.318425</td>\n",
       "      <td>1.802441</td>\n",
       "      <td>1</td>\n",
       "      <td>1</td>\n",
       "    </tr>\n",
       "    <tr>\n",
       "      <th>299</th>\n",
       "      <td>364</td>\n",
       "      <td>4</td>\n",
       "      <td>1</td>\n",
       "      <td>0</td>\n",
       "      <td>0</td>\n",
       "      <td>22712.518008</td>\n",
       "      <td>27055.599372</td>\n",
       "      <td>2.912197</td>\n",
       "      <td>True</td>\n",
       "      <td>4343.081364</td>\n",
       "      <td>191.219721</td>\n",
       "      <td>2271.251801</td>\n",
       "      <td>6614.333165</td>\n",
       "      <td>2023-12-31</td>\n",
       "      <td>2.912197</td>\n",
       "      <td>1.745484</td>\n",
       "      <td>0.487208</td>\n",
       "      <td>0.512792</td>\n",
       "      <td>0.219040</td>\n",
       "      <td>0.000000</td>\n",
       "      <td>2023-12-31</td>\n",
       "      <td>2.912197</td>\n",
       "      <td>1.745484</td>\n",
       "      <td>0</td>\n",
       "      <td>0</td>\n",
       "    </tr>\n",
       "  </tbody>\n",
       "</table>\n",
       "<p>300 rows × 25 columns</p>\n",
       "</div>"
      ],
      "text/plain": [
       "     bt_index  bt_fold  bt_predicted_outcome  bt_bet_on  bt_actual_outcome  \\\n",
       "0          65        0                     0          0                  0   \n",
       "1          66        0                     1          1                  0   \n",
       "2          67        0                     0          0                  0   \n",
       "3          68        0                     0         -1                  1   \n",
       "4          69        0                     0          0                  1   \n",
       "..        ...      ...                   ...        ...                ...   \n",
       "295       360        4                     0          0                  0   \n",
       "296       361        4                     1          0                  0   \n",
       "297       362        4                     0          0                  1   \n",
       "298       363        4                     0          0                  1   \n",
       "299       364        4                     1          0                  0   \n",
       "\n",
       "     bt_starting_bankroll  bt_ending_bankroll   bt_odds bt_win    bt_profit  \\\n",
       "0             1000.000000         1131.404412  2.314044   True   131.404412   \n",
       "1             1131.404412         1020.271350  2.642266  False  -111.133063   \n",
       "2             1020.271350         1194.053707  2.703295   True   173.782357   \n",
       "3             1194.053707         1194.053707       NaN   None     0.000000   \n",
       "4             1194.053707         1074.648336  2.980330  False  -119.405371   \n",
       "..                    ...                 ...       ...    ...          ...   \n",
       "295          23513.708637        25255.219466  2.082255   True  1741.510829   \n",
       "296          25255.219466        28018.951551  2.464932   True  2763.732085   \n",
       "297          28018.951551        25217.056396  2.187379  False -2801.895155   \n",
       "298          25217.056396        22712.518008  2.318425  False -2504.538388   \n",
       "299          22712.518008        27055.599372  2.912197   True  4343.081364   \n",
       "\n",
       "         bt_roi     bt_stake  bt_potential_return bt_date_column  bt_odd_0  \\\n",
       "0    131.404412   100.000000           231.404412     2023-03-07  2.314044   \n",
       "1   -100.000000   111.133063           293.643108     2023-03-08  1.711386   \n",
       "2    170.329547   102.027135           275.809492     2023-03-09  2.703295   \n",
       "3      0.000000     0.000000             0.000000     2023-03-10  1.611826   \n",
       "4   -100.000000   119.405371           355.867457     2023-03-11  2.980330   \n",
       "..          ...          ...                  ...            ...       ...   \n",
       "295  108.225489  1609.150345          3350.661174     2023-12-27  2.082255   \n",
       "296  146.493233  1886.593690          4650.325775     2023-12-28  2.464932   \n",
       "297 -100.000000  2801.895155          6128.807563     2023-12-29  2.187379   \n",
       "298 -100.000000  2504.538388          5806.584873     2023-12-30  2.318425   \n",
       "299  191.219721  2271.251801          6614.333165     2023-12-31  2.912197   \n",
       "\n",
       "     bt_odd_1  bt_model_prob_0  bt_model_prob_1  bt_kelly_fraction_0  \\\n",
       "0    1.714488         0.698902         0.301098             0.469764   \n",
       "1    2.642266         0.499435         0.500565             0.000000   \n",
       "2    2.427327         0.634992         0.365008             0.420696   \n",
       "3    1.651684         0.584585         0.415415             0.000000   \n",
       "4    1.626160         0.758186         0.241814             0.636078   \n",
       "..        ...              ...              ...                  ...   \n",
       "295  2.762743         0.551387         0.448613             0.136869   \n",
       "296  1.709659         0.494482         0.505518             0.149402   \n",
       "297  2.692901         0.587897         0.412103             0.240827   \n",
       "298  1.802441         0.544288         0.455712             0.198638   \n",
       "299  1.745484         0.487208         0.512792             0.219040   \n",
       "\n",
       "     bt_kelly_fraction_1       date  odds_team_a  odds_team_b  actual_winner  \\\n",
       "0               0.000000 2023-03-07     2.314044     1.714488              0   \n",
       "1               0.196452 2023-03-08     1.711386     2.642266              0   \n",
       "2               0.000000 2023-03-09     2.703295     2.427327              0   \n",
       "3               0.000000 2023-03-10     1.611826     1.651684              1   \n",
       "4               0.000000 2023-03-11     2.980330     1.626160              1   \n",
       "..                   ...        ...          ...          ...            ...   \n",
       "295             0.135813 2023-12-27     2.082255     2.762743              0   \n",
       "296             0.000000 2023-12-28     2.464932     1.709659              0   \n",
       "297             0.064832 2023-12-29     2.187379     2.692901              1   \n",
       "298             0.000000 2023-12-30     2.318425     1.802441              1   \n",
       "299             0.000000 2023-12-31     2.912197     1.745484              0   \n",
       "\n",
       "     model_predictions  \n",
       "0                    1  \n",
       "1                    1  \n",
       "2                    0  \n",
       "3                    0  \n",
       "4                    0  \n",
       "..                 ...  \n",
       "295                  0  \n",
       "296                  0  \n",
       "297                  1  \n",
       "298                  1  \n",
       "299                  0  \n",
       "\n",
       "[300 rows x 25 columns]"
      ]
     },
     "execution_count": 21,
     "metadata": {},
     "output_type": "execute_result"
    }
   ],
   "source": [
    "model_backtest.get_bookie_results()\n",
    "model_backtest.detailed_results"
   ]
  },
  {
   "cell_type": "code",
   "execution_count": 22,
   "metadata": {},
   "outputs": [
    {
     "data": {
      "text/plain": [
       "{'Backtest Start Date': Timestamp('2023-03-07 00:00:00'),\n",
       " 'Backtest End Date': Timestamp('2023-12-31 00:00:00'),\n",
       " 'Backtest Duration': Timedelta('299 days 00:00:00'),\n",
       " 'ROI [%]': np.float64(2605.5599371708777),\n",
       " 'Total Profit [$]': np.float64(26055.599371708773),\n",
       " 'Bankroll Final [$]': np.float64(27055.599371708777),\n",
       " 'Bankroll Peak [$]': np.float64(28018.951550722377),\n",
       " 'Bankroll Valley [$]': np.float64(870.4651520767808),\n",
       " 'Sharpe Ratio [-]': np.float64(2.4399622527496097),\n",
       " 'Sortino Ratio [-]': np.float64(10.636453046521737),\n",
       " 'Calmar Ratio [-]': np.float64(5.750320913343403),\n",
       " 'Max Drawdown [%]': np.float64(73.91477374771705),\n",
       " 'Max. Drawdown Duration [bets]': np.int64(51),\n",
       " 'Win Rate [%]': 49.08424908424908,\n",
       " 'Average Odds [-]': np.float64(2.501414572717206),\n",
       " 'Highest Winning Odds [-]': np.float64(2.9894471941789504),\n",
       " 'Highest Losing Odds [-]': np.float64(2.999576509929196),\n",
       " 'Average Stake [$]': np.float64(749.4753621813271),\n",
       " 'Best Bet [$]': np.float64(4343.081363856936),\n",
       " 'Worst Bet [$]': np.float64(-2801.8951550722377),\n",
       " 'Total Bets': 273,\n",
       " 'Total Opportunities': 300,\n",
       " 'Bet Frequency [%]': 91.0}"
      ]
     },
     "execution_count": 22,
     "metadata": {},
     "output_type": "execute_result"
    }
   ],
   "source": [
    "model_backtest.calculate_metrics()"
   ]
  },
  {
   "cell_type": "code",
   "execution_count": 23,
   "metadata": {},
   "outputs": [
    {
     "data": {
      "application/vnd.plotly.v1+json": {
       "config": {
        "plotlyServerURL": "https://plot.ly"
       },
       "data": [
        {
         "customdata": [
          [
           "2023-03-07",
           1000,
           100,
           10
          ],
          [
           "2023-03-08",
           1131.4044124737372,
           111.13306283728097,
           9.822576402569991
          ],
          [
           "2023-03-09",
           1020.2713496364563,
           102.02713496364564,
           10
          ],
          [
           "2023-03-11",
           1194.0537065525114,
           119.40537065525115,
           10
          ],
          [
           "2023-03-12",
           1074.6483358972603,
           107.46483358972603,
           10
          ],
          [
           "2023-03-13",
           967.1835023075342,
           96.71835023075343,
           10
          ],
          [
           "2023-03-14",
           870.4651520767808,
           87.04651520767808,
           10
          ],
          [
           "2023-03-15",
           1021.2984909050216,
           102.12984909050216,
           10
          ],
          [
           "2023-03-16",
           1197.287844391099,
           119.72878443910992,
           10
          ],
          [
           "2023-03-17",
           1384.0989924367536,
           138.40989924367537,
           10
          ],
          [
           "2023-03-18",
           1245.6890931930782,
           124.56890931930782,
           10
          ],
          [
           "2023-03-20",
           1452.0880066682212,
           143.53478916585368,
           9.884716939105543
          ],
          [
           "2023-03-21",
           1308.5532175023675,
           130.85532175023675,
           10
          ],
          [
           "2023-03-22",
           1177.6978957521308,
           117.76978957521308,
           10
          ],
          [
           "2023-03-23",
           1389.0540538102587,
           138.90540538102587,
           10
          ],
          [
           "2023-03-24",
           1250.1486484292327,
           111.17919345669492,
           8.893277899103248
          ],
          [
           "2023-03-26",
           1431.3782136650166,
           143.13782136650167,
           10
          ],
          [
           "2023-03-27",
           1288.240392298515,
           91.6182838924711,
           7.1118934354327425
          ],
          [
           "2023-03-28",
           1440.850834399148,
           144.0850834399148,
           10
          ],
          [
           "2023-03-29",
           1296.7657509592332,
           129.6765750959233,
           10
          ],
          [
           "2023-03-30",
           1485.6184424754367,
           148.5618442475437,
           10
          ],
          [
           "2023-03-31",
           1757.608306514799,
           175.76083065147992,
           10
          ],
          [
           "2023-04-01",
           1581.8474758633192,
           6.584694183428735,
           0.4162660612923525
          ],
          [
           "2023-04-02",
           1575.2627816798904,
           157.52627816798906,
           10.000000000000002
          ],
          [
           "2023-04-03",
           1822.5581158948214,
           182.25581158948216,
           10
          ],
          [
           "2023-04-04",
           2121.672266410787,
           212.1672266410787,
           10
          ],
          [
           "2023-04-05",
           1909.5050397697082,
           190.95050397697082,
           10
          ],
          [
           "2023-04-06",
           1718.5545357927374,
           171.85545357927376,
           10
          ],
          [
           "2023-04-07",
           1931.7744618653498,
           193.177446186535,
           10
          ],
          [
           "2023-04-08",
           1738.5970156788148,
           158.25870238325987,
           9.102667320607912
          ],
          [
           "2023-04-09",
           1919.219497042007,
           167.60822546700118,
           8.733145204356614
          ],
          [
           "2023-04-10",
           1751.611271575006,
           175.1611271575006,
           10
          ],
          [
           "2023-04-12",
           1576.4501444175053,
           157.64501444175053,
           10
          ],
          [
           "2023-04-13",
           1418.8051299757547,
           141.88051299757547,
           10
          ],
          [
           "2023-04-14",
           1674.6013213196934,
           167.46013213196935,
           10
          ],
          [
           "2023-04-15",
           1507.141189187724,
           150.7141189187724,
           10
          ],
          [
           "2023-04-16",
           1787.6728708640924,
           178.76728708640925,
           10
          ],
          [
           "2023-04-17",
           1943.9044576522988,
           194.39044576522988,
           10
          ],
          [
           "2023-04-18",
           1749.5140118870688,
           174.95140118870688,
           10
          ],
          [
           "2023-04-19",
           1574.5626106983618,
           157.4562610698362,
           10
          ],
          [
           "2023-04-20",
           1417.1063496285255,
           79.79629410983084,
           5.630931943163498
          ],
          [
           "2023-04-21",
           1520.1673860375424,
           152.01673860375425,
           10
          ],
          [
           "2023-04-22",
           1822.5966601210162,
           72.26438167916257,
           3.9649135357443472
          ],
          [
           "2023-04-23",
           1750.3322784418535,
           175.03322784418538,
           10.000000000000002
          ],
          [
           "2023-04-24",
           1575.2990505976682,
           157.52990505976683,
           10
          ],
          [
           "2023-04-25",
           1417.7691455379013,
           141.77691455379014,
           10
          ],
          [
           "2023-04-26",
           1275.992230984111,
           127.59922309841112,
           10
          ],
          [
           "2023-04-27",
           1506.58838393657,
           150.658838393657,
           10
          ],
          [
           "2023-04-28",
           1763.538255465956,
           17.51196010416031,
           0.9930014304982206
          ],
          [
           "2023-04-29",
           1746.0262953617955,
           174.60262953617956,
           10
          ],
          [
           "2023-04-30",
           1571.423665825616,
           157.1423665825616,
           10
          ],
          [
           "2023-05-01",
           1777.1251235557515,
           177.71251235557517,
           10
          ],
          [
           "2023-05-02",
           1599.4126112001763,
           159.94126112001766,
           10.000000000000002
          ],
          [
           "2023-05-03",
           1439.4713500801586,
           143.94713500801586,
           10
          ],
          [
           "2023-05-04",
           1580.1084513013561,
           158.01084513013564,
           10.000000000000002
          ],
          [
           "2023-05-05",
           1884.3768565969092,
           188.43768565969094,
           10
          ],
          [
           "2023-05-06",
           2230.23457002132,
           223.023457002132,
           10
          ],
          [
           "2023-05-07",
           2007.211113019188,
           200.7211113019188,
           10
          ],
          [
           "2023-05-08",
           2353.86091798616,
           218.47362715665002,
           9.281501106852337
          ],
          [
           "2023-05-10",
           2745.1681303574937,
           191.05278118245468,
           6.959602185006225
          ],
          [
           "2023-05-11",
           2973.5808257891986,
           152.76355750591193,
           5.13736018812833
          ],
          [
           "2023-05-12",
           3130.9316196510044,
           125.99085114026282,
           4.024069077379168
          ],
          [
           "2023-05-14",
           3235.9023733502972,
           323.59023733502977,
           10.000000000000002
          ],
          [
           "2023-05-15",
           3870.6544626238856,
           387.0654462623886,
           10
          ],
          [
           "2023-05-16",
           3483.5890163614968,
           323.4198484360186,
           9.284098868063973
          ],
          [
           "2023-05-17",
           3160.169167925478,
           255.98420503259882,
           8.100332337608432
          ],
          [
           "2023-05-18",
           3494.0095736809744,
           349.40095736809747,
           10
          ],
          [
           "2023-05-19",
           4037.163298293871,
           403.7163298293871,
           10
          ],
          [
           "2023-05-20",
           3633.4469684644837,
           363.3446968464484,
           10.000000000000002
          ],
          [
           "2023-05-21",
           4344.757116258294,
           434.4757116258295,
           10
          ],
          [
           "2023-05-22",
           3910.2814046324647,
           391.0281404632465,
           10
          ],
          [
           "2023-05-23",
           3519.2532641692183,
           351.92532641692185,
           10
          ],
          [
           "2023-05-24",
           3167.3279377522963,
           316.73279377522965,
           10
          ],
          [
           "2023-05-25",
           2850.5951439770665,
           285.05951439770666,
           10
          ],
          [
           "2023-05-26",
           3303.4347771511125,
           330.34347771511125,
           10
          ],
          [
           "2023-05-27",
           2973.0912994360015,
           163.40277910622044,
           5.496056550204769
          ],
          [
           "2023-05-28",
           3157.305800696678,
           315.73058006966784,
           10
          ],
          [
           "2023-05-29",
           2841.5752206270104,
           114.32869754175867,
           4.023426749777589
          ],
          [
           "2023-05-30",
           3047.2635041096864,
           85.97801172909965,
           2.821482671687091
          ],
          [
           "2023-05-31",
           3126.1887134298477,
           272.5096055971626,
           8.716991537538469
          ],
          [
           "2023-06-01",
           3633.7102837716243,
           245.76469172410745,
           6.763464132561911
          ],
          [
           "2023-06-02",
           3895.3747345929833,
           389.5374734592983,
           10
          ],
          [
           "2023-06-03",
           4563.754816187793,
           456.3754816187793,
           10
          ],
          [
           "2023-06-04",
           4107.379334569014,
           410.7379334569014,
           10
          ],
          [
           "2023-06-05",
           3696.6414011121124,
           369.6641401112113,
           10
          ],
          [
           "2023-06-06",
           3326.9772610009013,
           332.69772610009016,
           10
          ],
          [
           "2023-06-07",
           3828.7530764304092,
           382.87530764304097,
           10
          ],
          [
           "2023-06-08",
           4457.598747040865,
           445.75987470408654,
           10
          ],
          [
           "2023-06-09",
           5243.552922887279,
           524.3552922887279,
           10
          ],
          [
           "2023-06-10",
           6078.496713520346,
           567.0718030083062,
           9.329145506437035
          ],
          [
           "2023-06-11",
           6674.871781305224,
           667.4871781305225,
           10
          ],
          [
           "2023-06-12",
           6007.384603174702,
           600.7384603174702,
           10
          ],
          [
           "2023-06-13",
           5406.646142857231,
           37.38542046603231,
           0.6914715607090826
          ],
          [
           "2023-06-14",
           5369.260722391199,
           536.9260722391199,
           10
          ],
          [
           "2023-06-15",
           6334.161742100615,
           633.4161742100615,
           10
          ],
          [
           "2023-06-16",
           7444.510995802024,
           744.4510995802025,
           10
          ],
          [
           "2023-06-17",
           6700.059896221821,
           670.0059896221821,
           10
          ],
          [
           "2023-06-18",
           6030.053906599639,
           603.005390659964,
           10
          ],
          [
           "2023-06-19",
           5427.048515939675,
           542.7048515939675,
           10
          ],
          [
           "2023-06-20",
           6324.40074328641,
           632.440074328641,
           10
          ],
          [
           "2023-06-21",
           5691.960668957769,
           230.35308063608025,
           4.046990027396996
          ],
          [
           "2023-06-22",
           5461.607588321688,
           69.27674246827998,
           1.2684313427499139
          ],
          [
           "2023-06-23",
           5521.94916567255,
           460.57572960025675,
           8.340817993462288
          ],
          [
           "2023-06-24",
           5061.373436072294,
           206.26722374154676,
           4.075321182023143
          ],
          [
           "2023-06-25",
           5364.124048410084,
           536.4124048410084,
           10.000000000000002
          ],
          [
           "2023-06-26",
           4827.711643569075,
           482.77116435690755,
           10
          ],
          [
           "2023-06-27",
           5569.444450230312,
           466.48927073037737,
           8.375867196432612
          ],
          [
           "2023-06-28",
           6073.300920087598,
           607.3300920087598,
           10
          ],
          [
           "2023-06-29",
           7230.322431462246,
           53.39959211477677,
           0.7385506334048417
          ],
          [
           "2023-06-30",
           7306.533921392249,
           417.9740594779489,
           5.720551823542408
          ],
          [
           "2023-07-02",
           7740.075038945986,
           774.0075038945987,
           10
          ],
          [
           "2023-07-03",
           9200.658489919868,
           920.0658489919869,
           10
          ],
          [
           "2023-07-04",
           8280.592640927882,
           828.0592640927882,
           10
          ],
          [
           "2023-07-05",
           7452.533376835094,
           574.9744900031699,
           7.715154846409387
          ],
          [
           "2023-07-06",
           8309.231607254775,
           830.9231607254775,
           10
          ],
          [
           "2023-07-07",
           9743.266468026848,
           974.3266468026849,
           10
          ],
          [
           "2023-07-08",
           8768.939821224163,
           876.8939821224163,
           10
          ],
          [
           "2023-07-09",
           9904.05791946743,
           943.3663257679618,
           9.525048555235927
          ],
          [
           "2023-07-11",
           8960.691593699468,
           759.6389175520385,
           8.477458571235323
          ],
          [
           "2023-07-12",
           8201.05267614743,
           820.1052676147431,
           10
          ],
          [
           "2023-07-13",
           7380.947408532687,
           700.5079926292635,
           9.490759842285918
          ],
          [
           "2023-07-14",
           8396.440351295058,
           839.6440351295058,
           10
          ],
          [
           "2023-07-15",
           7556.796316165552,
           686.6966738004425,
           9.087140172502151
          ],
          [
           "2023-07-16",
           6870.0996423651095,
           418.27752074058276,
           6.088376333892385
          ],
          [
           "2023-07-17",
           6451.8221216245265,
           645.1822121624527,
           10.000000000000002
          ],
          [
           "2023-07-18",
           7642.6126008105075,
           551.3549682702635,
           7.2142210663901984
          ],
          [
           "2023-07-19",
           8651.939345901152,
           732.8616031194167,
           8.470489376079703
          ],
          [
           "2023-07-20",
           7919.077742781735,
           791.9077742781735,
           10
          ],
          [
           "2023-07-21",
           9077.676407804112,
           656.6440310854728,
           7.233613554686234
          ],
          [
           "2023-07-23",
           8421.03237671864,
           842.103237671864,
           10
          ],
          [
           "2023-07-24",
           9977.097082627974,
           997.7097082627974,
           10
          ],
          [
           "2023-07-25",
           11383.51217705195,
           1054.7740130997745,
           9.265804759502045
          ],
          [
           "2023-07-26",
           12724.113317860132,
           1272.4113317860133,
           10
          ],
          [
           "2023-07-27",
           14856.012444153257,
           974.0582054393109,
           6.556659864825718
          ],
          [
           "2023-07-28",
           16312.475560657715,
           84.59516132010705,
           0.518591804202502
          ],
          [
           "2023-07-29",
           16227.880399337608,
           1622.788039933761,
           10
          ],
          [
           "2023-07-30",
           19138.4246882452,
           1913.84246882452,
           10
          ],
          [
           "2023-07-31",
           17224.582219420678,
           1722.458221942068,
           10
          ],
          [
           "2023-08-01",
           19873.45218837373,
           1987.345218837373,
           10
          ],
          [
           "2023-08-02",
           17886.106969536355,
           695.9746754903294,
           3.8911467804353097
          ],
          [
           "2023-08-03",
           18468.2229470929,
           1152.8642957137372,
           6.242421368945031
          ],
          [
           "2023-08-04",
           20276.224089610947,
           1506.09655022575,
           7.427894580221363
          ],
          [
           "2023-08-05",
           18770.127539385197,
           1877.0127539385198,
           10
          ],
          [
           "2023-08-06",
           16893.114785446676,
           1555.9155719319397,
           9.210353399553954
          ],
          [
           "2023-08-07",
           19413.288973717375,
           1080.2203963830918,
           5.564334811301398
          ],
          [
           "2023-08-08",
           18333.068577334285,
           1833.3068577334286,
           10
          ],
          [
           "2023-08-09",
           16499.761719600858,
           1649.9761719600858,
           10
          ],
          [
           "2023-08-10",
           14849.785547640771,
           1484.9785547640772,
           10
          ],
          [
           "2023-08-14",
           13364.806992876694,
           50.09635495645343,
           0.3748378482618887
          ],
          [
           "2023-08-15",
           13408.189658025547,
           1340.8189658025549,
           10.000000000000002
          ],
          [
           "2023-08-16",
           12067.370692222992,
           861.3851527159309,
           7.138134517331634
          ],
          [
           "2023-08-17",
           13005.9760839725,
           1300.59760839725,
           10
          ],
          [
           "2023-08-18",
           15396.565312534663,
           1539.6565312534665,
           10
          ],
          [
           "2023-08-19",
           13856.908781281198,
           1374.6178352708591,
           9.920090093454185
          ],
          [
           "2023-08-20",
           12482.290946010338,
           1248.229094601034,
           10
          ],
          [
           "2023-08-21",
           11234.061851409304,
           242.3637613512977,
           2.157400987790479
          ],
          [
           "2023-08-22",
           10991.698090058006,
           1099.1698090058005,
           10
          ],
          [
           "2023-08-24",
           12353.323863731193,
           690.3468155338595,
           5.588348716094839
          ],
          [
           "2023-08-25",
           11662.977048197334,
           456.70431829943607,
           3.9158468409232245
          ],
          [
           "2023-08-26",
           12083.674132925862,
           230.00108106176475,
           1.9034035387883619
          ],
          [
           "2023-08-27",
           11853.673051864098,
           1185.3673051864098,
           10
          ],
          [
           "2023-08-29",
           13594.039338415248,
           1359.403933841525,
           10.000000000000002
          ],
          [
           "2023-08-30",
           16191.435954112587,
           1619.1435954112587,
           10
          ],
          [
           "2023-08-31",
           14572.292358701328,
           1457.229235870133,
           10
          ],
          [
           "2023-09-01",
           17300.657681065004,
           1730.0657681065004,
           10
          ],
          [
           "2023-09-02",
           19126.288909236362,
           1912.6288909236364,
           10
          ],
          [
           "2023-09-03",
           17213.660018312727,
           1721.3660018312728,
           10
          ],
          [
           "2023-09-04",
           15492.294016481454,
           1401.5834448414373,
           9.046971632157025
          ],
          [
           "2023-09-05",
           14090.710571640016,
           1409.0710571640018,
           10
          ],
          [
           "2023-09-06",
           12681.639514476015,
           1268.1639514476017,
           10
          ],
          [
           "2023-09-07",
           11413.475563028414,
           1141.3475563028414,
           10
          ],
          [
           "2023-09-08",
           10272.128006725572,
           1027.2128006725573,
           10
          ],
          [
           "2023-09-09",
           9244.915206053014,
           924.4915206053015,
           10
          ],
          [
           "2023-09-10",
           10241.190343400927,
           1024.1190343400929,
           10.000000000000002
          ],
          [
           "2023-09-11",
           12060.7477597589,
           1091.7774149163383,
           9.0523194470503
          ],
          [
           "2023-09-12",
           10968.970344842563,
           539.3252449378953,
           4.916826538704953
          ],
          [
           "2023-09-13",
           10429.645099904666,
           572.9343333665158,
           5.493325303770431
          ],
          [
           "2023-09-14",
           9856.71076653815,
           985.671076653815,
           10
          ],
          [
           "2023-09-15",
           8871.039689884336,
           760.7617296252461,
           8.575789943683198
          ],
          [
           "2023-09-16",
           10045.6898026807,
           1004.5689802680699,
           10
          ],
          [
           "2023-09-17",
           9041.12082241263,
           591.6689489043259,
           6.544199115640606
          ],
          [
           "2023-09-18",
           8449.451873508304,
           610.8954931650728,
           7.230001452288554
          ],
          [
           "2023-09-19",
           7838.556380343231,
           783.8556380343231,
           10
          ],
          [
           "2023-09-20",
           9394.573137903115,
           780.5791360534068,
           8.3088302639755
          ],
          [
           "2023-09-21",
           8613.994001849707,
           861.3994001849708,
           10
          ],
          [
           "2023-09-22",
           7752.594601664737,
           775.2594601664737,
           10
          ],
          [
           "2023-09-23",
           6977.335141498263,
           697.7335141498263,
           10
          ],
          [
           "2023-09-24",
           6279.6016273484365,
           627.9601627348437,
           10
          ],
          [
           "2023-09-25",
           5651.641464613593,
           565.1641464613593,
           10
          ],
          [
           "2023-09-26",
           6529.751764438169,
           652.975176443817,
           10.000000000000002
          ],
          [
           "2023-09-28",
           5876.776587994352,
           587.6776587994352,
           10
          ],
          [
           "2023-09-29",
           5289.098929194916,
           528.9098929194917,
           10
          ],
          [
           "2023-09-30",
           6196.269358903279,
           619.6269358903279,
           10
          ],
          [
           "2023-10-01",
           7311.974872784111,
           731.1974872784111,
           10
          ],
          [
           "2023-10-02",
           6580.777385505699,
           339.55573423953086,
           5.159811893765158
          ],
          [
           "2023-10-03",
           7010.9991181650075,
           259.3861968487821,
           3.6997037437464604
          ],
          [
           "2023-10-04",
           6751.612921316226,
           664.3677657500568,
           9.840134105622548
          ],
          [
           "2023-10-05",
           7879.339180880052,
           577.4533416544338,
           7.328702679225662
          ],
          [
           "2023-10-06",
           8731.051617380976,
           873.1051617380976,
           10
          ],
          [
           "2023-10-07",
           10086.940554104336,
           1008.6940554104336,
           10
          ],
          [
           "2023-10-08",
           11795.354584308647,
           1179.5354584308648,
           10
          ],
          [
           "2023-10-09",
           10615.819125877782,
           668.8631431306944,
           6.300626783478553
          ],
          [
           "2023-10-10",
           11545.798868777361,
           876.9174474306494,
           7.595121458438417
          ],
          [
           "2023-10-11",
           12877.532600865316,
           1126.1821446764761,
           8.745325518343487
          ],
          [
           "2023-10-12",
           11751.35045618884,
           1175.135045618884,
           10
          ],
          [
           "2023-10-14",
           10576.215410569956,
           569.87245236675,
           5.388245513581492
          ],
          [
           "2023-10-15",
           11320.27497000587,
           1132.0274970005871,
           10
          ],
          [
           "2023-10-16",
           12807.721689889388,
           1072.2308800292979,
           8.371753431179984
          ],
          [
           "2023-10-17",
           11735.49080986009,
           820.4141335302731,
           6.990880456750611
          ],
          [
           "2023-10-20",
           12872.789812921113,
           1287.2789812921114,
           10
          ],
          [
           "2023-10-21",
           11585.510831629002,
           825.1443668831799,
           7.122209619195178
          ],
          [
           "2023-10-22",
           10760.366464745823,
           192.56842212446222,
           1.789608400005464
          ],
          [
           "2023-10-23",
           10893.352439461602,
           1089.3352439461603,
           10.000000000000002
          ],
          [
           "2023-10-24",
           9804.017195515442,
           980.4017195515443,
           10
          ],
          [
           "2023-10-25",
           11426.572560543436,
           733.7475198557337,
           6.421413910146626
          ],
          [
           "2023-10-26",
           10692.825040687703,
           742.2288078180795,
           6.941372415557109
          ],
          [
           "2023-10-29",
           11757.430327499302,
           606.4339035430343,
           5.157877926137091
          ],
          [
           "2023-10-30",
           12543.994474352134,
           636.0431367252908,
           5.0704991781187845
          ],
          [
           "2023-10-31",
           13377.816930573907,
           940.8920921378527,
           7.0332259517434474
          ],
          [
           "2023-11-01",
           14747.892107060643,
           1474.7892107060643,
           10
          ],
          [
           "2023-11-02",
           17091.534209855712,
           1709.1534209855713,
           10
          ],
          [
           "2023-11-03",
           15382.380788870141,
           1533.7270182771474,
           9.9706738464495
          ],
          [
           "2023-11-04",
           13848.653770592993,
           537.7040997048495,
           3.882717472846642
          ],
          [
           "2023-11-05",
           14377.988349735508,
           1437.7988349735508,
           10
          ],
          [
           "2023-11-06",
           16811.864443860522,
           41.73749580070967,
           0.2482621480804984
          ],
          [
           "2023-11-07",
           16770.126948059813,
           1505.4125726028806,
           8.976751203287977
          ],
          [
           "2023-11-10",
           18514.082877976674,
           1851.4082877976675,
           10
          ],
          [
           "2023-11-11",
           16662.674590179005,
           1666.2674590179006,
           10
          ],
          [
           "2023-11-12",
           19585.258026480984,
           1958.5258026480985,
           10
          ],
          [
           "2023-11-13",
           17626.732223832885,
           1323.4989400586123,
           7.50847589474994
          ],
          [
           "2023-11-15",
           16303.233283774272,
           736.704123888551,
           4.51876085599384
          ],
          [
           "2023-11-16",
           17410.47367201122,
           1235.7435910969136,
           7.09770230481135
          ],
          [
           "2023-11-17",
           19751.05110098533,
           1975.105110098533,
           10
          ],
          [
           "2023-11-18",
           17775.945990886798,
           1777.5945990886798,
           10
          ],
          [
           "2023-11-19",
           15998.351391798118,
           1367.2127673891787,
           8.54596035495325
          ],
          [
           "2023-11-20",
           14631.138624408939,
           1075.86759615831,
           7.353273205705632
          ],
          [
           "2023-11-21",
           13555.271028250629,
           1355.527102825063,
           10
          ],
          [
           "2023-11-22",
           16174.55323089159,
           1587.300681752438,
           9.813567392519202
          ],
          [
           "2023-11-23",
           14587.252549139152,
           1128.387666981948,
           7.735436561345738
          ],
          [
           "2023-11-24",
           13458.864882157204,
           1235.7420275023112,
           9.181621468988586
          ],
          [
           "2023-11-25",
           12223.122854654894,
           447.2044147156472,
           3.6586756104258558
          ],
          [
           "2023-11-26",
           12728.19556251172,
           174.91283076298163,
           1.3742154565738396
          ],
          [
           "2023-11-27",
           12553.282731748739,
           1069.172582499383,
           8.51707561557041
          ],
          [
           "2023-11-28",
           13658.76336519762,
           1365.876336519762,
           10
          ],
          [
           "2023-11-29",
           12292.887028677858,
           361.888320981478,
           2.9438838910439435
          ],
          [
           "2023-12-01",
           11930.99870769638,
           146.50748358191265,
           1.2279565790867486
          ],
          [
           "2023-12-02",
           12109.98838784698,
           266.3831955157587,
           2.199698191148461
          ],
          [
           "2023-12-03",
           12455.989298016382,
           1191.9848144309485,
           9.569571600553415
          ],
          [
           "2023-12-04",
           14581.525743459883,
           1379.9646664294046,
           9.463787882748466
          ],
          [
           "2023-12-05",
           13201.561077030477,
           1078.3869697035307,
           8.168632205018742
          ],
          [
           "2023-12-07",
           14507.768879875544,
           1450.7768879875546,
           10
          ],
          [
           "2023-12-08",
           16302.994747950237,
           1524.474195417877,
           9.350884417168496
          ],
          [
           "2023-12-09",
           18147.925090879846,
           1093.2670878608467,
           6.0241988127351425
          ],
          [
           "2023-12-10",
           17054.658003018998,
           1376.4158408890387,
           8.070615316034992
          ],
          [
           "2023-12-11",
           15678.24216212996,
           1567.8242162129961,
           10
          ],
          [
           "2023-12-12",
           17399.33232953205,
           1739.9332329532053,
           10
          ],
          [
           "2023-12-13",
           19876.606024186465,
           1987.6606024186467,
           10
          ],
          [
           "2023-12-14",
           17888.945421767818,
           183.6184075470606,
           1.0264350592943734
          ],
          [
           "2023-12-15",
           17705.32701422076,
           1357.9692727048703,
           7.669834460635275
          ],
          [
           "2023-12-16",
           16347.357741515889,
           1381.0889175056661,
           8.448392329472554
          ],
          [
           "2023-12-17",
           14966.268824010223,
           1486.714074859041,
           9.933765672269107
          ],
          [
           "2023-12-18",
           13479.554749151182,
           1347.9554749151184,
           10.000000000000002
          ],
          [
           "2023-12-19",
           15885.29774256721,
           1588.529774256721,
           10
          ],
          [
           "2023-12-21",
           18249.094298605545,
           297.7757383975383,
           1.6317288602113917
          ],
          [
           "2023-12-22",
           18724.43407095358,
           1872.443407095358,
           10
          ],
          [
           "2023-12-24",
           21464.99638760382,
           1308.1967863958796,
           6.094558614281305
          ],
          [
           "2023-12-25",
           23268.559380258444,
           2326.8559380258444,
           10
          ],
          [
           "2023-12-26",
           20941.7034422326,
           1886.725306133237,
           9.009416599455449
          ],
          [
           "2023-12-27",
           23513.70863693618,
           1609.1503452184659,
           6.843456173012005
          ],
          [
           "2023-12-28",
           25255.21946568339,
           1886.5936895849363,
           7.470114018008936
          ],
          [
           "2023-12-29",
           28018.951550722377,
           2801.8951550722377,
           10
          ],
          [
           "2023-12-30",
           25217.05639565014,
           2504.538387798297,
           9.93192206299829
          ],
          [
           "2023-12-31",
           22712.518007851842,
           2271.2518007851845,
           10
          ]
         ],
         "hovertemplate": "Game: %{x}<br>Date: %{customdata[0]}<br>Starting Bankroll: $%{customdata[1]:.2f}<br>Ending Bankroll: $%{y:.2f}<br>Stake: $%{customdata[2]:.2f}<br>Stake Percentage: %{customdata[3]:.2f}%<extra></extra>",
         "line": {
          "color": "blue"
         },
         "name": "Main Strategy",
         "type": "scatter",
         "x": [
          1,
          2,
          3,
          4,
          5,
          6,
          7,
          8,
          9,
          10,
          11,
          12,
          13,
          14,
          15,
          16,
          17,
          18,
          19,
          20,
          21,
          22,
          23,
          24,
          25,
          26,
          27,
          28,
          29,
          30,
          31,
          32,
          33,
          34,
          35,
          36,
          37,
          38,
          39,
          40,
          41,
          42,
          43,
          44,
          45,
          46,
          47,
          48,
          49,
          50,
          51,
          52,
          53,
          54,
          55,
          56,
          57,
          58,
          59,
          60,
          61,
          62,
          63,
          64,
          65,
          66,
          67,
          68,
          69,
          70,
          71,
          72,
          73,
          74,
          75,
          76,
          77,
          78,
          79,
          80,
          81,
          82,
          83,
          84,
          85,
          86,
          87,
          88,
          89,
          90,
          91,
          92,
          93,
          94,
          95,
          96,
          97,
          98,
          99,
          100,
          101,
          102,
          103,
          104,
          105,
          106,
          107,
          108,
          109,
          110,
          111,
          112,
          113,
          114,
          115,
          116,
          117,
          118,
          119,
          120,
          121,
          122,
          123,
          124,
          125,
          126,
          127,
          128,
          129,
          130,
          131,
          132,
          133,
          134,
          135,
          136,
          137,
          138,
          139,
          140,
          141,
          142,
          143,
          144,
          145,
          146,
          147,
          148,
          149,
          150,
          151,
          152,
          153,
          154,
          155,
          156,
          157,
          158,
          159,
          160,
          161,
          162,
          163,
          164,
          165,
          166,
          167,
          168,
          169,
          170,
          171,
          172,
          173,
          174,
          175,
          176,
          177,
          178,
          179,
          180,
          181,
          182,
          183,
          184,
          185,
          186,
          187,
          188,
          189,
          190,
          191,
          192,
          193,
          194,
          195,
          196,
          197,
          198,
          199,
          200,
          201,
          202,
          203,
          204,
          205,
          206,
          207,
          208,
          209,
          210,
          211,
          212,
          213,
          214,
          215,
          216,
          217,
          218,
          219,
          220,
          221,
          222,
          223,
          224,
          225,
          226,
          227,
          228,
          229,
          230,
          231,
          232,
          233,
          234,
          235,
          236,
          237,
          238,
          239,
          240,
          241,
          242,
          243,
          244,
          245,
          246,
          247,
          248,
          249,
          250,
          251,
          252,
          253,
          254,
          255,
          256,
          257,
          258,
          259,
          260,
          261,
          262,
          263,
          264,
          265,
          266,
          267,
          268,
          269,
          270,
          271,
          272,
          273
         ],
         "xaxis": "x",
         "y": [
          1131.4044124737372,
          1020.2713496364563,
          1194.0537065525114,
          1074.6483358972603,
          967.1835023075342,
          870.4651520767808,
          1021.2984909050216,
          1197.287844391099,
          1384.0989924367536,
          1245.6890931930782,
          1452.0880066682212,
          1308.5532175023675,
          1177.6978957521308,
          1389.0540538102587,
          1250.1486484292327,
          1431.3782136650166,
          1288.240392298515,
          1440.850834399148,
          1296.7657509592332,
          1485.6184424754367,
          1757.608306514799,
          1581.8474758633192,
          1575.2627816798904,
          1822.5581158948214,
          2121.672266410787,
          1909.5050397697082,
          1718.5545357927374,
          1931.7744618653498,
          1738.5970156788148,
          1919.219497042007,
          1751.611271575006,
          1576.4501444175053,
          1418.8051299757547,
          1674.6013213196934,
          1507.141189187724,
          1787.6728708640924,
          1943.9044576522988,
          1749.5140118870688,
          1574.5626106983618,
          1417.1063496285255,
          1520.1673860375424,
          1822.5966601210162,
          1750.3322784418535,
          1575.2990505976682,
          1417.7691455379013,
          1275.992230984111,
          1506.58838393657,
          1763.538255465956,
          1746.0262953617955,
          1571.423665825616,
          1777.1251235557515,
          1599.4126112001763,
          1439.4713500801586,
          1580.1084513013561,
          1884.3768565969092,
          2230.23457002132,
          2007.211113019188,
          2353.86091798616,
          2745.1681303574937,
          2973.5808257891986,
          3130.9316196510044,
          3235.9023733502972,
          3870.6544626238856,
          3483.5890163614968,
          3160.169167925478,
          3494.0095736809744,
          4037.163298293871,
          3633.4469684644837,
          4344.757116258294,
          3910.2814046324647,
          3519.2532641692183,
          3167.3279377522963,
          2850.5951439770665,
          3303.4347771511125,
          2973.0912994360015,
          3157.305800696678,
          2841.5752206270104,
          3047.2635041096864,
          3126.1887134298477,
          3633.7102837716243,
          3895.3747345929833,
          4563.754816187793,
          4107.379334569014,
          3696.6414011121124,
          3326.9772610009013,
          3828.7530764304092,
          4457.598747040865,
          5243.552922887279,
          6078.496713520346,
          6674.871781305224,
          6007.384603174702,
          5406.646142857231,
          5369.260722391199,
          6334.161742100615,
          7444.510995802024,
          6700.059896221821,
          6030.053906599639,
          5427.048515939675,
          6324.40074328641,
          5691.960668957769,
          5461.607588321688,
          5521.94916567255,
          5061.373436072294,
          5364.124048410084,
          4827.711643569075,
          5569.444450230312,
          6073.300920087598,
          7230.322431462246,
          7306.533921392249,
          7740.075038945986,
          9200.658489919868,
          8280.592640927882,
          7452.533376835094,
          8309.231607254775,
          9743.266468026848,
          8768.939821224163,
          9904.05791946743,
          8960.691593699468,
          8201.05267614743,
          7380.947408532687,
          8396.440351295058,
          7556.796316165552,
          6870.0996423651095,
          6451.8221216245265,
          7642.6126008105075,
          8651.939345901152,
          7919.077742781735,
          9077.676407804112,
          8421.03237671864,
          9977.097082627974,
          11383.51217705195,
          12724.113317860132,
          14856.012444153257,
          16312.475560657715,
          16227.880399337608,
          19138.4246882452,
          17224.582219420678,
          19873.45218837373,
          17886.106969536355,
          18468.2229470929,
          20276.224089610947,
          18770.127539385197,
          16893.114785446676,
          19413.288973717375,
          18333.068577334285,
          16499.761719600858,
          14849.785547640771,
          13364.806992876694,
          13408.189658025547,
          12067.370692222992,
          13005.9760839725,
          15396.565312534663,
          13856.908781281198,
          12482.290946010338,
          11234.061851409304,
          10991.698090058006,
          12353.323863731193,
          11662.977048197334,
          12083.674132925862,
          11853.673051864098,
          13594.039338415248,
          16191.435954112587,
          14572.292358701328,
          17300.657681065004,
          19126.288909236362,
          17213.660018312727,
          15492.294016481454,
          14090.710571640016,
          12681.639514476015,
          11413.475563028414,
          10272.128006725572,
          9244.915206053014,
          10241.190343400927,
          12060.7477597589,
          10968.970344842563,
          10429.645099904666,
          9856.71076653815,
          8871.039689884336,
          10045.6898026807,
          9041.12082241263,
          8449.451873508304,
          7838.556380343231,
          9394.573137903115,
          8613.994001849707,
          7752.594601664737,
          6977.335141498263,
          6279.6016273484365,
          5651.641464613593,
          6529.751764438169,
          5876.776587994352,
          5289.098929194916,
          6196.269358903279,
          7311.974872784111,
          6580.777385505699,
          7010.9991181650075,
          6751.612921316226,
          7879.339180880052,
          8731.051617380976,
          10086.940554104336,
          11795.354584308647,
          10615.819125877782,
          11545.798868777361,
          12877.532600865316,
          11751.35045618884,
          10576.215410569956,
          11320.27497000587,
          12807.721689889388,
          11735.49080986009,
          12872.789812921113,
          11585.510831629002,
          10760.366464745823,
          10893.352439461602,
          9804.017195515442,
          11426.572560543436,
          10692.825040687703,
          11757.430327499302,
          12543.994474352134,
          13377.816930573907,
          14747.892107060643,
          17091.534209855712,
          15382.380788870141,
          13848.653770592993,
          14377.988349735508,
          16811.864443860522,
          16770.126948059813,
          18514.082877976674,
          16662.674590179005,
          19585.258026480984,
          17626.732223832885,
          16303.233283774272,
          17410.47367201122,
          19751.05110098533,
          17775.945990886798,
          15998.351391798118,
          14631.138624408939,
          13555.271028250629,
          16174.55323089159,
          14587.252549139152,
          13458.864882157204,
          12223.122854654894,
          12728.19556251172,
          12553.282731748739,
          13658.76336519762,
          12292.887028677858,
          11930.99870769638,
          12109.98838784698,
          12455.989298016382,
          14581.525743459883,
          13201.561077030477,
          14507.768879875544,
          16302.994747950237,
          18147.925090879846,
          17054.658003018998,
          15678.24216212996,
          17399.33232953205,
          19876.606024186465,
          17888.945421767818,
          17705.32701422076,
          16347.357741515889,
          14966.268824010223,
          13479.554749151182,
          15885.29774256721,
          18249.094298605545,
          18724.43407095358,
          21464.99638760382,
          23268.559380258444,
          20941.7034422326,
          23513.70863693618,
          25255.21946568339,
          28018.951550722377,
          25217.05639565014,
          22712.518007851842,
          27055.599371708777
         ],
         "yaxis": "y"
        },
        {
         "marker": {
          "opacity": 0.5,
          "size": 5
         },
         "mode": "markers",
         "name": "ROI",
         "type": "scatter",
         "x": [
          1,
          2,
          3,
          4,
          5,
          6,
          7,
          8,
          9,
          10,
          11,
          12,
          13,
          14,
          15,
          16,
          17,
          18,
          19,
          20,
          21,
          22,
          23,
          24,
          25,
          26,
          27,
          28,
          29,
          30,
          31,
          32,
          33,
          34,
          35,
          36,
          37,
          38,
          39,
          40,
          41,
          42,
          43,
          44,
          45,
          46,
          47,
          48,
          49,
          50,
          51,
          52,
          53,
          54,
          55,
          56,
          57,
          58,
          59,
          60,
          61,
          62,
          63,
          64,
          65,
          66,
          67,
          68,
          69,
          70,
          71,
          72,
          73,
          74,
          75,
          76,
          77,
          78,
          79,
          80,
          81,
          82,
          83,
          84,
          85,
          86,
          87,
          88,
          89,
          90,
          91,
          92,
          93,
          94,
          95,
          96,
          97,
          98,
          99,
          100,
          101,
          102,
          103,
          104,
          105,
          106,
          107,
          108,
          109,
          110,
          111,
          112,
          113,
          114,
          115,
          116,
          117,
          118,
          119,
          120,
          121,
          122,
          123,
          124,
          125,
          126,
          127,
          128,
          129,
          130,
          131,
          132,
          133,
          134,
          135,
          136,
          137,
          138,
          139,
          140,
          141,
          142,
          143,
          144,
          145,
          146,
          147,
          148,
          149,
          150,
          151,
          152,
          153,
          154,
          155,
          156,
          157,
          158,
          159,
          160,
          161,
          162,
          163,
          164,
          165,
          166,
          167,
          168,
          169,
          170,
          171,
          172,
          173,
          174,
          175,
          176,
          177,
          178,
          179,
          180,
          181,
          182,
          183,
          184,
          185,
          186,
          187,
          188,
          189,
          190,
          191,
          192,
          193,
          194,
          195,
          196,
          197,
          198,
          199,
          200,
          201,
          202,
          203,
          204,
          205,
          206,
          207,
          208,
          209,
          210,
          211,
          212,
          213,
          214,
          215,
          216,
          217,
          218,
          219,
          220,
          221,
          222,
          223,
          224,
          225,
          226,
          227,
          228,
          229,
          230,
          231,
          232,
          233,
          234,
          235,
          236,
          237,
          238,
          239,
          240,
          241,
          242,
          243,
          244,
          245,
          246,
          247,
          248,
          249,
          250,
          251,
          252,
          253,
          254,
          255,
          256,
          257,
          258,
          259,
          260,
          261,
          262,
          263,
          264,
          265,
          266,
          267,
          268,
          269,
          270,
          271,
          272,
          273
         ],
         "xaxis": "x2",
         "y": [
          131.40441247373724,
          -100,
          170.32954711310592,
          -100,
          -100,
          -100,
          173.27900889355342,
          172.31921426822512,
          156.02860157714252,
          -100,
          165.69055200289188,
          -100,
          -100,
          179.46551388133904,
          -100,
          163.00672778884123,
          -100,
          166.5720373891155,
          -100,
          145.633620703282,
          183.08191138644895,
          -100,
          -100,
          156.98671808344926,
          164.1177572925346,
          -100,
          -100,
          124.06933945465859,
          -100,
          114.13115275378247,
          -100,
          -100,
          -100,
          180.28986922841904,
          -100,
          186.13497108891394,
          87.39383437233124,
          -100,
          -100,
          -100,
          129.15516636294498,
          198.94471941789504,
          -100,
          -100,
          -100,
          -100,
          180.7190885281576,
          170.5508115348672,
          -100,
          -100,
          130.90133628734765,
          -100,
          -100,
          97.7005212457796,
          192.5617226114838,
          183.53956758363748,
          -100,
          172.70221488837402,
          179.10958748845155,
          119.55476074099734,
          103.00283420390795,
          83.31617157060953,
          196.15922114992497,
          -100,
          -100,
          130.41445495161804,
          155.45284383427668,
          -100,
          195.76731240814408,
          -100,
          -100,
          -100,
          -100,
          158.857926258254,
          -100,
          112.7364554435928,
          -100,
          179.90958342506121,
          91.79696963549172,
          186.23988289499803,
          106.46950503170744,
          171.58299961727494,
          -100,
          -100,
          -100,
          150.82033211088176,
          164.24294229930766,
          176.31783847035632,
          159.23245229177897,
          105.167469907888,
          -100,
          -100,
          -100,
          179.70835643825794,
          175.2953743383857,
          -100,
          -100,
          -100,
          165.34811227707655,
          -100,
          -100,
          87.10221526147967,
          -100,
          146.77591856141748,
          -100,
          153.64066071536988,
          108.01030194508061,
          190.50949831051017,
          142.7192360686844,
          103.72440770492605,
          188.70404274178438,
          -100,
          -100,
          148.99760690512687,
          172.58333003018242,
          -100,
          129.447586753401,
          -100,
          -100,
          -100,
          144.96521859099022,
          -100,
          -100,
          -100,
          184.56653899288656,
          183.0629636397676,
          -100,
          146.3047469231432,
          -100,
          184.78312827906188,
          140.9643589489385,
          127.09842337397157,
          167.54795191117145,
          149.5252653662084,
          -100,
          179.3545563120118,
          -100,
          153.784279653904,
          -100,
          83.64039641908396,
          156.8268832021304,
          -100,
          -100,
          161.9737107677036,
          -100,
          -100,
          -100,
          -100,
          86.59844650686253,
          -100,
          108.96465870001406,
          183.80698327656697,
          -100,
          -100,
          -100,
          -100,
          123.87765407282959,
          -100,
          92.11585436612837,
          -100,
          146.82084438607512,
          191.06878765293715,
          -100,
          187.22965853306727,
          105.52380503831667,
          -100,
          -100,
          -100,
          -100,
          -100,
          -100,
          -100,
          107.76465929028878,
          177.67050072752852,
          -100,
          -100,
          -100,
          -100,
          154.40446950124596,
          -100,
          -100,
          -100,
          198.5080775156395,
          -100,
          -100,
          -100,
          -100,
          -100,
          155.37261259806638,
          -100,
          -100,
          171.5170092018771,
          180.06084778701558,
          -100,
          126.70135982914066,
          -100,
          169.74427684501626,
          147.49458961666474,
          155.29503158865552,
          169.3689004154152,
          -100,
          139.0388680331073,
          151.86534787167346,
          -100,
          -100,
          130.56598127278215,
          131.3966952061365,
          -100,
          138.62498908535161,
          -100,
          -100,
          69.05907689778272,
          -100,
          165.4990329647916,
          -100,
          143.43357137285003,
          129.70319473522224,
          131.09526824151595,
          145.614485224731,
          158.91370005839923,
          -100,
          -100,
          98.4434709411869,
          169.2779292153055,
          -100,
          115.84571310584542,
          -100,
          175.39701807683088,
          -100,
          -100,
          150.29648298866462,
          189.40639836913786,
          -100,
          -100,
          -100,
          -100,
          193.2297920994791,
          -100,
          -100,
          -100,
          112.9400093641685,
          -100,
          103.39590179768925,
          -100,
          -100,
          122.17101527822263,
          129.8884148827379,
          178.31908760165106,
          -100,
          121.12607436309877,
          123.74238126752488,
          121.02076561708488,
          -100,
          -100,
          109.775710159606,
          142.37751470783243,
          -100,
          -100,
          -100,
          -100,
          -100,
          178.47347617824838,
          148.80404474284177,
          159.6301212805466,
          146.36289173094735,
          137.8663371910195,
          -100,
          136.32112668138183,
          108.22548893097827,
          146.493232766353,
          -100,
          -100,
          191.2197213164788
         ],
         "yaxis": "y2"
        },
        {
         "marker": {
          "color": "green",
          "size": 8,
          "symbol": "triangle-up"
         },
         "mode": "markers",
         "name": "Wins",
         "type": "scatter",
         "x": [
          1,
          3,
          7,
          8,
          9,
          11,
          14,
          16,
          18,
          20,
          21,
          24,
          25,
          28,
          30,
          34,
          36,
          37,
          41,
          42,
          47,
          48,
          51,
          54,
          55,
          56,
          58,
          59,
          60,
          61,
          62,
          63,
          66,
          67,
          69,
          74,
          76,
          78,
          79,
          80,
          81,
          82,
          86,
          87,
          88,
          89,
          90,
          94,
          95,
          99,
          102,
          104,
          106,
          107,
          108,
          109,
          110,
          111,
          114,
          115,
          117,
          121,
          125,
          126,
          128,
          130,
          131,
          132,
          133,
          134,
          136,
          138,
          140,
          141,
          144,
          149,
          151,
          152,
          157,
          159,
          161,
          162,
          164,
          165,
          173,
          174,
          179,
          183,
          189,
          192,
          193,
          195,
          197,
          198,
          199,
          200,
          202,
          203,
          206,
          207,
          209,
          212,
          214,
          216,
          217,
          218,
          219,
          220,
          223,
          224,
          226,
          228,
          231,
          232,
          237,
          241,
          243,
          246,
          247,
          248,
          250,
          251,
          252,
          255,
          256,
          262,
          263,
          264,
          265,
          266,
          268,
          269,
          270,
          273
         ],
         "xaxis": "x",
         "y": [
          1131.4044124737372,
          1194.0537065525114,
          1021.2984909050216,
          1197.287844391099,
          1384.0989924367536,
          1452.0880066682212,
          1389.0540538102587,
          1431.3782136650166,
          1440.850834399148,
          1485.6184424754367,
          1757.608306514799,
          1822.5581158948214,
          2121.672266410787,
          1931.7744618653498,
          1919.219497042007,
          1674.6013213196934,
          1787.6728708640924,
          1943.9044576522988,
          1520.1673860375424,
          1822.5966601210162,
          1506.58838393657,
          1763.538255465956,
          1777.1251235557515,
          1580.1084513013561,
          1884.3768565969092,
          2230.23457002132,
          2353.86091798616,
          2745.1681303574937,
          2973.5808257891986,
          3130.9316196510044,
          3235.9023733502972,
          3870.6544626238856,
          3494.0095736809744,
          4037.163298293871,
          4344.757116258294,
          3303.4347771511125,
          3157.305800696678,
          3047.2635041096864,
          3126.1887134298477,
          3633.7102837716243,
          3895.3747345929833,
          4563.754816187793,
          3828.7530764304092,
          4457.598747040865,
          5243.552922887279,
          6078.496713520346,
          6674.871781305224,
          6334.161742100615,
          7444.510995802024,
          6324.40074328641,
          5521.94916567255,
          5364.124048410084,
          5569.444450230312,
          6073.300920087598,
          7230.322431462246,
          7306.533921392249,
          7740.075038945986,
          9200.658489919868,
          8309.231607254775,
          9743.266468026848,
          9904.05791946743,
          8396.440351295058,
          7642.6126008105075,
          8651.939345901152,
          9077.676407804112,
          9977.097082627974,
          11383.51217705195,
          12724.113317860132,
          14856.012444153257,
          16312.475560657715,
          19138.4246882452,
          19873.45218837373,
          18468.2229470929,
          20276.224089610947,
          19413.288973717375,
          13408.189658025547,
          13005.9760839725,
          15396.565312534663,
          12353.323863731193,
          12083.674132925862,
          13594.039338415248,
          16191.435954112587,
          17300.657681065004,
          19126.288909236362,
          10241.190343400927,
          12060.7477597589,
          10045.6898026807,
          9394.573137903115,
          6529.751764438169,
          6196.269358903279,
          7311.974872784111,
          7010.9991181650075,
          7879.339180880052,
          8731.051617380976,
          10086.940554104336,
          11795.354584308647,
          11545.798868777361,
          12877.532600865316,
          11320.27497000587,
          12807.721689889388,
          12872.789812921113,
          10893.352439461602,
          11426.572560543436,
          11757.430327499302,
          12543.994474352134,
          13377.816930573907,
          14747.892107060643,
          17091.534209855712,
          14377.988349735508,
          16811.864443860522,
          18514.082877976674,
          19585.258026480984,
          17410.47367201122,
          19751.05110098533,
          16174.55323089159,
          12728.19556251172,
          13658.76336519762,
          12109.98838784698,
          12455.989298016382,
          14581.525743459883,
          14507.768879875544,
          16302.994747950237,
          18147.925090879846,
          17399.33232953205,
          19876.606024186465,
          15885.29774256721,
          18249.094298605545,
          18724.43407095358,
          21464.99638760382,
          23268.559380258444,
          23513.70863693618,
          25255.21946568339,
          28018.951550722377,
          27055.599371708777
         ],
         "yaxis": "y"
        },
        {
         "marker": {
          "color": "red",
          "size": 8,
          "symbol": "triangle-down"
         },
         "mode": "markers",
         "name": "Losses",
         "type": "scatter",
         "x": [
          2,
          4,
          5,
          6,
          10,
          12,
          13,
          15,
          17,
          19,
          22,
          23,
          26,
          27,
          29,
          31,
          32,
          33,
          35,
          38,
          39,
          40,
          43,
          44,
          45,
          46,
          49,
          50,
          52,
          53,
          57,
          64,
          65,
          68,
          70,
          71,
          72,
          73,
          75,
          77,
          83,
          84,
          85,
          91,
          92,
          93,
          96,
          97,
          98,
          100,
          101,
          103,
          105,
          112,
          113,
          116,
          118,
          119,
          120,
          122,
          123,
          124,
          127,
          129,
          135,
          137,
          139,
          142,
          143,
          145,
          146,
          147,
          148,
          150,
          153,
          154,
          155,
          156,
          158,
          160,
          163,
          166,
          167,
          168,
          169,
          170,
          171,
          172,
          175,
          176,
          177,
          178,
          180,
          181,
          182,
          184,
          185,
          186,
          187,
          188,
          190,
          191,
          194,
          196,
          201,
          204,
          205,
          208,
          210,
          211,
          213,
          215,
          221,
          222,
          225,
          227,
          229,
          230,
          233,
          234,
          235,
          236,
          238,
          239,
          240,
          242,
          244,
          245,
          249,
          253,
          254,
          257,
          258,
          259,
          260,
          261,
          267,
          271,
          272
         ],
         "xaxis": "x",
         "y": [
          1020.2713496364563,
          1074.6483358972603,
          967.1835023075342,
          870.4651520767808,
          1245.6890931930782,
          1308.5532175023675,
          1177.6978957521308,
          1250.1486484292327,
          1288.240392298515,
          1296.7657509592332,
          1581.8474758633192,
          1575.2627816798904,
          1909.5050397697082,
          1718.5545357927374,
          1738.5970156788148,
          1751.611271575006,
          1576.4501444175053,
          1418.8051299757547,
          1507.141189187724,
          1749.5140118870688,
          1574.5626106983618,
          1417.1063496285255,
          1750.3322784418535,
          1575.2990505976682,
          1417.7691455379013,
          1275.992230984111,
          1746.0262953617955,
          1571.423665825616,
          1599.4126112001763,
          1439.4713500801586,
          2007.211113019188,
          3483.5890163614968,
          3160.169167925478,
          3633.4469684644837,
          3910.2814046324647,
          3519.2532641692183,
          3167.3279377522963,
          2850.5951439770665,
          2973.0912994360015,
          2841.5752206270104,
          4107.379334569014,
          3696.6414011121124,
          3326.9772610009013,
          6007.384603174702,
          5406.646142857231,
          5369.260722391199,
          6700.059896221821,
          6030.053906599639,
          5427.048515939675,
          5691.960668957769,
          5461.607588321688,
          5061.373436072294,
          4827.711643569075,
          8280.592640927882,
          7452.533376835094,
          8768.939821224163,
          8960.691593699468,
          8201.05267614743,
          7380.947408532687,
          7556.796316165552,
          6870.0996423651095,
          6451.8221216245265,
          7919.077742781735,
          8421.03237671864,
          16227.880399337608,
          17224.582219420678,
          17886.106969536355,
          18770.127539385197,
          16893.114785446676,
          18333.068577334285,
          16499.761719600858,
          14849.785547640771,
          13364.806992876694,
          12067.370692222992,
          13856.908781281198,
          12482.290946010338,
          11234.061851409304,
          10991.698090058006,
          11662.977048197334,
          11853.673051864098,
          14572.292358701328,
          17213.660018312727,
          15492.294016481454,
          14090.710571640016,
          12681.639514476015,
          11413.475563028414,
          10272.128006725572,
          9244.915206053014,
          10968.970344842563,
          10429.645099904666,
          9856.71076653815,
          8871.039689884336,
          9041.12082241263,
          8449.451873508304,
          7838.556380343231,
          8613.994001849707,
          7752.594601664737,
          6977.335141498263,
          6279.6016273484365,
          5651.641464613593,
          5876.776587994352,
          5289.098929194916,
          6580.777385505699,
          6751.612921316226,
          10615.819125877782,
          11751.35045618884,
          10576.215410569956,
          11735.49080986009,
          11585.510831629002,
          10760.366464745823,
          9804.017195515442,
          10692.825040687703,
          15382.380788870141,
          13848.653770592993,
          16770.126948059813,
          16662.674590179005,
          17626.732223832885,
          16303.233283774272,
          17775.945990886798,
          15998.351391798118,
          14631.138624408939,
          13555.271028250629,
          14587.252549139152,
          13458.864882157204,
          12223.122854654894,
          12553.282731748739,
          12292.887028677858,
          11930.99870769638,
          13201.561077030477,
          17054.658003018998,
          15678.24216212996,
          17888.945421767818,
          17705.32701422076,
          16347.357741515889,
          14966.268824010223,
          13479.554749151182,
          20941.7034422326,
          25217.05639565014,
          22712.518007851842
         ],
         "yaxis": "y"
        },
        {
         "marker": {
          "color": "rgba(0, 128, 128, 0.7)"
         },
         "name": "Stake Percentage",
         "type": "bar",
         "x": [
          1,
          2,
          3,
          4,
          5,
          6,
          7,
          8,
          9,
          10,
          11,
          12,
          13,
          14,
          15,
          16,
          17,
          18,
          19,
          20,
          21,
          22,
          23,
          24,
          25,
          26,
          27,
          28,
          29,
          30,
          31,
          32,
          33,
          34,
          35,
          36,
          37,
          38,
          39,
          40,
          41,
          42,
          43,
          44,
          45,
          46,
          47,
          48,
          49,
          50,
          51,
          52,
          53,
          54,
          55,
          56,
          57,
          58,
          59,
          60,
          61,
          62,
          63,
          64,
          65,
          66,
          67,
          68,
          69,
          70,
          71,
          72,
          73,
          74,
          75,
          76,
          77,
          78,
          79,
          80,
          81,
          82,
          83,
          84,
          85,
          86,
          87,
          88,
          89,
          90,
          91,
          92,
          93,
          94,
          95,
          96,
          97,
          98,
          99,
          100,
          101,
          102,
          103,
          104,
          105,
          106,
          107,
          108,
          109,
          110,
          111,
          112,
          113,
          114,
          115,
          116,
          117,
          118,
          119,
          120,
          121,
          122,
          123,
          124,
          125,
          126,
          127,
          128,
          129,
          130,
          131,
          132,
          133,
          134,
          135,
          136,
          137,
          138,
          139,
          140,
          141,
          142,
          143,
          144,
          145,
          146,
          147,
          148,
          149,
          150,
          151,
          152,
          153,
          154,
          155,
          156,
          157,
          158,
          159,
          160,
          161,
          162,
          163,
          164,
          165,
          166,
          167,
          168,
          169,
          170,
          171,
          172,
          173,
          174,
          175,
          176,
          177,
          178,
          179,
          180,
          181,
          182,
          183,
          184,
          185,
          186,
          187,
          188,
          189,
          190,
          191,
          192,
          193,
          194,
          195,
          196,
          197,
          198,
          199,
          200,
          201,
          202,
          203,
          204,
          205,
          206,
          207,
          208,
          209,
          210,
          211,
          212,
          213,
          214,
          215,
          216,
          217,
          218,
          219,
          220,
          221,
          222,
          223,
          224,
          225,
          226,
          227,
          228,
          229,
          230,
          231,
          232,
          233,
          234,
          235,
          236,
          237,
          238,
          239,
          240,
          241,
          242,
          243,
          244,
          245,
          246,
          247,
          248,
          249,
          250,
          251,
          252,
          253,
          254,
          255,
          256,
          257,
          258,
          259,
          260,
          261,
          262,
          263,
          264,
          265,
          266,
          267,
          268,
          269,
          270,
          271,
          272,
          273
         ],
         "xaxis": "x3",
         "y": [
          10,
          9.822576402569991,
          10,
          10,
          10,
          10,
          10,
          10,
          10,
          10,
          10,
          9.884716939105543,
          10,
          10,
          10,
          8.893277899103248,
          10,
          7.1118934354327425,
          10,
          10,
          10,
          10,
          0.4162660612923525,
          10.000000000000002,
          10,
          10,
          10,
          10,
          10,
          9.102667320607912,
          8.733145204356614,
          10,
          10,
          10,
          10,
          10,
          10,
          10,
          10,
          10,
          5.630931943163498,
          10,
          3.9649135357443472,
          10.000000000000002,
          10,
          10,
          10,
          10,
          0.9930014304982206,
          10,
          10,
          10,
          10.000000000000002,
          10,
          10.000000000000002,
          10,
          10,
          10,
          9.281501106852337,
          6.959602185006225,
          5.13736018812833,
          4.024069077379168,
          10.000000000000002,
          10,
          9.284098868063973,
          8.100332337608432,
          10,
          10,
          10.000000000000002,
          10,
          10,
          10,
          10,
          10,
          10,
          5.496056550204769,
          10,
          4.023426749777589,
          2.821482671687091,
          8.716991537538469,
          6.763464132561911,
          10,
          10,
          10,
          10,
          10,
          10,
          10,
          10,
          9.329145506437035,
          10,
          10,
          0.6914715607090826,
          10,
          10,
          10,
          10,
          10,
          10,
          10,
          4.046990027396996,
          1.2684313427499139,
          8.340817993462288,
          4.075321182023143,
          10.000000000000002,
          10,
          8.375867196432612,
          10,
          0.7385506334048417,
          5.720551823542408,
          10,
          10,
          10,
          7.715154846409387,
          10,
          10,
          10,
          9.525048555235927,
          8.477458571235323,
          10,
          9.490759842285918,
          10,
          9.087140172502151,
          6.088376333892385,
          10.000000000000002,
          7.2142210663901984,
          8.470489376079703,
          10,
          7.233613554686234,
          10,
          10,
          9.265804759502045,
          10,
          6.556659864825718,
          0.518591804202502,
          10,
          10,
          10,
          10,
          3.8911467804353097,
          6.242421368945031,
          7.427894580221363,
          10,
          9.210353399553954,
          5.564334811301398,
          10,
          10,
          10,
          0.3748378482618887,
          10.000000000000002,
          7.138134517331634,
          10,
          10,
          9.920090093454185,
          10,
          2.157400987790479,
          10,
          5.588348716094839,
          3.9158468409232245,
          1.9034035387883619,
          10,
          10.000000000000002,
          10,
          10,
          10,
          10,
          10,
          9.046971632157025,
          10,
          10,
          10,
          10,
          10,
          10.000000000000002,
          9.0523194470503,
          4.916826538704953,
          5.493325303770431,
          10,
          8.575789943683198,
          10,
          6.544199115640606,
          7.230001452288554,
          10,
          8.3088302639755,
          10,
          10,
          10,
          10,
          10,
          10.000000000000002,
          10,
          10,
          10,
          10,
          5.159811893765158,
          3.6997037437464604,
          9.840134105622548,
          7.328702679225662,
          10,
          10,
          10,
          6.300626783478553,
          7.595121458438417,
          8.745325518343487,
          10,
          5.388245513581492,
          10,
          8.371753431179984,
          6.990880456750611,
          10,
          7.122209619195178,
          1.789608400005464,
          10.000000000000002,
          10,
          6.421413910146626,
          6.941372415557109,
          5.157877926137091,
          5.0704991781187845,
          7.0332259517434474,
          10,
          10,
          9.9706738464495,
          3.882717472846642,
          10,
          0.2482621480804984,
          8.976751203287977,
          10,
          10,
          10,
          7.50847589474994,
          4.51876085599384,
          7.09770230481135,
          10,
          10,
          8.54596035495325,
          7.353273205705632,
          10,
          9.813567392519202,
          7.735436561345738,
          9.181621468988586,
          3.6586756104258558,
          1.3742154565738396,
          8.51707561557041,
          10,
          2.9438838910439435,
          1.2279565790867486,
          2.199698191148461,
          9.569571600553415,
          9.463787882748466,
          8.168632205018742,
          10,
          9.350884417168496,
          6.0241988127351425,
          8.070615316034992,
          10,
          10,
          10,
          1.0264350592943734,
          7.669834460635275,
          8.448392329472554,
          9.933765672269107,
          10.000000000000002,
          10,
          1.6317288602113917,
          10,
          6.094558614281305,
          10,
          9.009416599455449,
          6.843456173012005,
          7.470114018008936,
          10,
          9.93192206299829,
          10
         ],
         "yaxis": "y3"
        }
       ],
       "layout": {
        "annotations": [
         {
          "font": {
           "size": 16
          },
          "showarrow": false,
          "text": "Bankroll Over Time",
          "x": 0.5,
          "xanchor": "center",
          "xref": "paper",
          "y": 1,
          "yanchor": "bottom",
          "yref": "paper"
         },
         {
          "font": {
           "size": 16
          },
          "showarrow": false,
          "text": "ROI",
          "x": 0.5,
          "xanchor": "center",
          "xref": "paper",
          "y": 0.5,
          "yanchor": "bottom",
          "yref": "paper"
         },
         {
          "font": {
           "size": 16
          },
          "showarrow": false,
          "text": "Stake Percentage",
          "x": 0.5,
          "xanchor": "center",
          "xref": "paper",
          "y": 0.225,
          "yanchor": "bottom",
          "yref": "paper"
         },
         {
          "showarrow": false,
          "text": "Max Drawdown: 73.91%<br>Length: 51 bets",
          "x": 141,
          "xanchor": "left",
          "xref": "x",
          "y": 1,
          "yanchor": "top",
          "yref": "y domain"
         },
         {
          "font": {
           "size": 8
          },
          "showarrow": false,
          "text": "Total Profit [$]: 26055.60",
          "x": 1.02,
          "xanchor": "left",
          "xref": "paper",
          "y": 0.12000000000000001,
          "yanchor": "bottom",
          "yref": "paper"
         },
         {
          "font": {
           "size": 8
          },
          "showarrow": false,
          "text": "Bankroll Final [$]: 27055.60",
          "x": 1.02,
          "xanchor": "left",
          "xref": "paper",
          "y": 0.145,
          "yanchor": "bottom",
          "yref": "paper"
         },
         {
          "font": {
           "size": 8
          },
          "showarrow": false,
          "text": "Bankroll Peak [$]: 28018.95",
          "x": 1.02,
          "xanchor": "left",
          "xref": "paper",
          "y": 0.17,
          "yanchor": "bottom",
          "yref": "paper"
         },
         {
          "font": {
           "size": 8
          },
          "showarrow": false,
          "text": "Bankroll Valley [$]: 870.47",
          "x": 1.02,
          "xanchor": "left",
          "xref": "paper",
          "y": 0.195,
          "yanchor": "bottom",
          "yref": "paper"
         },
         {
          "font": {
           "size": 8
          },
          "showarrow": false,
          "text": "Sharpe Ratio [-]: 2.44",
          "x": 1.02,
          "xanchor": "left",
          "xref": "paper",
          "y": 0.22,
          "yanchor": "bottom",
          "yref": "paper"
         },
         {
          "font": {
           "size": 8
          },
          "showarrow": false,
          "text": "Sortino Ratio [-]: 10.64",
          "x": 1.02,
          "xanchor": "left",
          "xref": "paper",
          "y": 0.245,
          "yanchor": "bottom",
          "yref": "paper"
         },
         {
          "font": {
           "size": 8
          },
          "showarrow": false,
          "text": "Calmar Ratio [-]: 5.75",
          "x": 1.02,
          "xanchor": "left",
          "xref": "paper",
          "y": 0.27,
          "yanchor": "bottom",
          "yref": "paper"
         },
         {
          "font": {
           "size": 8
          },
          "showarrow": false,
          "text": "Max Drawdown [%]: 73.91",
          "x": 1.02,
          "xanchor": "left",
          "xref": "paper",
          "y": 0.29500000000000004,
          "yanchor": "bottom",
          "yref": "paper"
         },
         {
          "font": {
           "size": 8
          },
          "showarrow": false,
          "text": "Max. Drawdown Duration [bets]: 51",
          "x": 1.02,
          "xanchor": "left",
          "xref": "paper",
          "y": 0.32000000000000006,
          "yanchor": "bottom",
          "yref": "paper"
         },
         {
          "font": {
           "size": 8
          },
          "showarrow": false,
          "text": "Win Rate [%]: 49.08",
          "x": 1.02,
          "xanchor": "left",
          "xref": "paper",
          "y": 0.34500000000000003,
          "yanchor": "bottom",
          "yref": "paper"
         },
         {
          "font": {
           "size": 8
          },
          "showarrow": false,
          "text": "Average Odds [-]: 2.50",
          "x": 1.02,
          "xanchor": "left",
          "xref": "paper",
          "y": 0.37000000000000005,
          "yanchor": "bottom",
          "yref": "paper"
         },
         {
          "font": {
           "size": 8
          },
          "showarrow": false,
          "text": "Highest Winning Odds [-]: 2.99",
          "x": 1.02,
          "xanchor": "left",
          "xref": "paper",
          "y": 0.395,
          "yanchor": "bottom",
          "yref": "paper"
         },
         {
          "font": {
           "size": 8
          },
          "showarrow": false,
          "text": "Highest Losing Odds [-]: 3.00",
          "x": 1.02,
          "xanchor": "left",
          "xref": "paper",
          "y": 0.42000000000000004,
          "yanchor": "bottom",
          "yref": "paper"
         },
         {
          "font": {
           "size": 8
          },
          "showarrow": false,
          "text": "Average Stake [$]: 749.48",
          "x": 1.02,
          "xanchor": "left",
          "xref": "paper",
          "y": 0.44500000000000006,
          "yanchor": "bottom",
          "yref": "paper"
         },
         {
          "font": {
           "size": 8
          },
          "showarrow": false,
          "text": "Best Bet [$]: 4343.08",
          "x": 1.02,
          "xanchor": "left",
          "xref": "paper",
          "y": 0.47000000000000003,
          "yanchor": "bottom",
          "yref": "paper"
         },
         {
          "font": {
           "size": 8
          },
          "showarrow": false,
          "text": "Worst Bet [$]: -2801.90",
          "x": 1.02,
          "xanchor": "left",
          "xref": "paper",
          "y": 0.49500000000000005,
          "yanchor": "bottom",
          "yref": "paper"
         },
         {
          "font": {
           "size": 8
          },
          "showarrow": false,
          "text": "Total Bets: 273",
          "x": 1.02,
          "xanchor": "left",
          "xref": "paper",
          "y": 0.52,
          "yanchor": "bottom",
          "yref": "paper"
         },
         {
          "font": {
           "size": 8
          },
          "showarrow": false,
          "text": "Total Opportunities: 300",
          "x": 1.02,
          "xanchor": "left",
          "xref": "paper",
          "y": 0.545,
          "yanchor": "bottom",
          "yref": "paper"
         },
         {
          "font": {
           "size": 8
          },
          "showarrow": false,
          "text": "Bet Frequency [%]: 91.00",
          "x": 1.02,
          "xanchor": "left",
          "xref": "paper",
          "y": 0.5700000000000001,
          "yanchor": "bottom",
          "yref": "paper"
         }
        ],
        "height": 1000,
        "hoverlabel": {
         "bgcolor": "white",
         "font": {
          "size": 12
         }
        },
        "hovermode": "x unified",
        "margin": {
         "b": 100,
         "l": 100,
         "r": 100,
         "t": 100
        },
        "shapes": [
         {
          "fillcolor": "rgba(255, 0, 0, 0.2)",
          "layer": "below",
          "line": {
           "width": 0
          },
          "opacity": 0.5,
          "type": "rect",
          "x0": 141,
          "x1": 191,
          "xref": "x",
          "y0": 0,
          "y1": 1,
          "yref": "y domain"
         },
         {
          "line": {
           "color": "gray",
           "dash": "dash"
          },
          "type": "line",
          "x0": 0,
          "x1": 1,
          "xref": "x2 domain",
          "y0": 0,
          "y1": 0,
          "yref": "y2"
         }
        ],
        "showlegend": true,
        "template": {
         "data": {
          "bar": [
           {
            "error_x": {
             "color": "#2a3f5f"
            },
            "error_y": {
             "color": "#2a3f5f"
            },
            "marker": {
             "line": {
              "color": "#E5ECF6",
              "width": 0.5
             },
             "pattern": {
              "fillmode": "overlay",
              "size": 10,
              "solidity": 0.2
             }
            },
            "type": "bar"
           }
          ],
          "barpolar": [
           {
            "marker": {
             "line": {
              "color": "#E5ECF6",
              "width": 0.5
             },
             "pattern": {
              "fillmode": "overlay",
              "size": 10,
              "solidity": 0.2
             }
            },
            "type": "barpolar"
           }
          ],
          "carpet": [
           {
            "aaxis": {
             "endlinecolor": "#2a3f5f",
             "gridcolor": "white",
             "linecolor": "white",
             "minorgridcolor": "white",
             "startlinecolor": "#2a3f5f"
            },
            "baxis": {
             "endlinecolor": "#2a3f5f",
             "gridcolor": "white",
             "linecolor": "white",
             "minorgridcolor": "white",
             "startlinecolor": "#2a3f5f"
            },
            "type": "carpet"
           }
          ],
          "choropleth": [
           {
            "colorbar": {
             "outlinewidth": 0,
             "ticks": ""
            },
            "type": "choropleth"
           }
          ],
          "contour": [
           {
            "colorbar": {
             "outlinewidth": 0,
             "ticks": ""
            },
            "colorscale": [
             [
              0,
              "#0d0887"
             ],
             [
              0.1111111111111111,
              "#46039f"
             ],
             [
              0.2222222222222222,
              "#7201a8"
             ],
             [
              0.3333333333333333,
              "#9c179e"
             ],
             [
              0.4444444444444444,
              "#bd3786"
             ],
             [
              0.5555555555555556,
              "#d8576b"
             ],
             [
              0.6666666666666666,
              "#ed7953"
             ],
             [
              0.7777777777777778,
              "#fb9f3a"
             ],
             [
              0.8888888888888888,
              "#fdca26"
             ],
             [
              1,
              "#f0f921"
             ]
            ],
            "type": "contour"
           }
          ],
          "contourcarpet": [
           {
            "colorbar": {
             "outlinewidth": 0,
             "ticks": ""
            },
            "type": "contourcarpet"
           }
          ],
          "heatmap": [
           {
            "colorbar": {
             "outlinewidth": 0,
             "ticks": ""
            },
            "colorscale": [
             [
              0,
              "#0d0887"
             ],
             [
              0.1111111111111111,
              "#46039f"
             ],
             [
              0.2222222222222222,
              "#7201a8"
             ],
             [
              0.3333333333333333,
              "#9c179e"
             ],
             [
              0.4444444444444444,
              "#bd3786"
             ],
             [
              0.5555555555555556,
              "#d8576b"
             ],
             [
              0.6666666666666666,
              "#ed7953"
             ],
             [
              0.7777777777777778,
              "#fb9f3a"
             ],
             [
              0.8888888888888888,
              "#fdca26"
             ],
             [
              1,
              "#f0f921"
             ]
            ],
            "type": "heatmap"
           }
          ],
          "heatmapgl": [
           {
            "colorbar": {
             "outlinewidth": 0,
             "ticks": ""
            },
            "colorscale": [
             [
              0,
              "#0d0887"
             ],
             [
              0.1111111111111111,
              "#46039f"
             ],
             [
              0.2222222222222222,
              "#7201a8"
             ],
             [
              0.3333333333333333,
              "#9c179e"
             ],
             [
              0.4444444444444444,
              "#bd3786"
             ],
             [
              0.5555555555555556,
              "#d8576b"
             ],
             [
              0.6666666666666666,
              "#ed7953"
             ],
             [
              0.7777777777777778,
              "#fb9f3a"
             ],
             [
              0.8888888888888888,
              "#fdca26"
             ],
             [
              1,
              "#f0f921"
             ]
            ],
            "type": "heatmapgl"
           }
          ],
          "histogram": [
           {
            "marker": {
             "pattern": {
              "fillmode": "overlay",
              "size": 10,
              "solidity": 0.2
             }
            },
            "type": "histogram"
           }
          ],
          "histogram2d": [
           {
            "colorbar": {
             "outlinewidth": 0,
             "ticks": ""
            },
            "colorscale": [
             [
              0,
              "#0d0887"
             ],
             [
              0.1111111111111111,
              "#46039f"
             ],
             [
              0.2222222222222222,
              "#7201a8"
             ],
             [
              0.3333333333333333,
              "#9c179e"
             ],
             [
              0.4444444444444444,
              "#bd3786"
             ],
             [
              0.5555555555555556,
              "#d8576b"
             ],
             [
              0.6666666666666666,
              "#ed7953"
             ],
             [
              0.7777777777777778,
              "#fb9f3a"
             ],
             [
              0.8888888888888888,
              "#fdca26"
             ],
             [
              1,
              "#f0f921"
             ]
            ],
            "type": "histogram2d"
           }
          ],
          "histogram2dcontour": [
           {
            "colorbar": {
             "outlinewidth": 0,
             "ticks": ""
            },
            "colorscale": [
             [
              0,
              "#0d0887"
             ],
             [
              0.1111111111111111,
              "#46039f"
             ],
             [
              0.2222222222222222,
              "#7201a8"
             ],
             [
              0.3333333333333333,
              "#9c179e"
             ],
             [
              0.4444444444444444,
              "#bd3786"
             ],
             [
              0.5555555555555556,
              "#d8576b"
             ],
             [
              0.6666666666666666,
              "#ed7953"
             ],
             [
              0.7777777777777778,
              "#fb9f3a"
             ],
             [
              0.8888888888888888,
              "#fdca26"
             ],
             [
              1,
              "#f0f921"
             ]
            ],
            "type": "histogram2dcontour"
           }
          ],
          "mesh3d": [
           {
            "colorbar": {
             "outlinewidth": 0,
             "ticks": ""
            },
            "type": "mesh3d"
           }
          ],
          "parcoords": [
           {
            "line": {
             "colorbar": {
              "outlinewidth": 0,
              "ticks": ""
             }
            },
            "type": "parcoords"
           }
          ],
          "pie": [
           {
            "automargin": true,
            "type": "pie"
           }
          ],
          "scatter": [
           {
            "fillpattern": {
             "fillmode": "overlay",
             "size": 10,
             "solidity": 0.2
            },
            "type": "scatter"
           }
          ],
          "scatter3d": [
           {
            "line": {
             "colorbar": {
              "outlinewidth": 0,
              "ticks": ""
             }
            },
            "marker": {
             "colorbar": {
              "outlinewidth": 0,
              "ticks": ""
             }
            },
            "type": "scatter3d"
           }
          ],
          "scattercarpet": [
           {
            "marker": {
             "colorbar": {
              "outlinewidth": 0,
              "ticks": ""
             }
            },
            "type": "scattercarpet"
           }
          ],
          "scattergeo": [
           {
            "marker": {
             "colorbar": {
              "outlinewidth": 0,
              "ticks": ""
             }
            },
            "type": "scattergeo"
           }
          ],
          "scattergl": [
           {
            "marker": {
             "colorbar": {
              "outlinewidth": 0,
              "ticks": ""
             }
            },
            "type": "scattergl"
           }
          ],
          "scattermapbox": [
           {
            "marker": {
             "colorbar": {
              "outlinewidth": 0,
              "ticks": ""
             }
            },
            "type": "scattermapbox"
           }
          ],
          "scatterpolar": [
           {
            "marker": {
             "colorbar": {
              "outlinewidth": 0,
              "ticks": ""
             }
            },
            "type": "scatterpolar"
           }
          ],
          "scatterpolargl": [
           {
            "marker": {
             "colorbar": {
              "outlinewidth": 0,
              "ticks": ""
             }
            },
            "type": "scatterpolargl"
           }
          ],
          "scatterternary": [
           {
            "marker": {
             "colorbar": {
              "outlinewidth": 0,
              "ticks": ""
             }
            },
            "type": "scatterternary"
           }
          ],
          "surface": [
           {
            "colorbar": {
             "outlinewidth": 0,
             "ticks": ""
            },
            "colorscale": [
             [
              0,
              "#0d0887"
             ],
             [
              0.1111111111111111,
              "#46039f"
             ],
             [
              0.2222222222222222,
              "#7201a8"
             ],
             [
              0.3333333333333333,
              "#9c179e"
             ],
             [
              0.4444444444444444,
              "#bd3786"
             ],
             [
              0.5555555555555556,
              "#d8576b"
             ],
             [
              0.6666666666666666,
              "#ed7953"
             ],
             [
              0.7777777777777778,
              "#fb9f3a"
             ],
             [
              0.8888888888888888,
              "#fdca26"
             ],
             [
              1,
              "#f0f921"
             ]
            ],
            "type": "surface"
           }
          ],
          "table": [
           {
            "cells": {
             "fill": {
              "color": "#EBF0F8"
             },
             "line": {
              "color": "white"
             }
            },
            "header": {
             "fill": {
              "color": "#C8D4E3"
             },
             "line": {
              "color": "white"
             }
            },
            "type": "table"
           }
          ]
         },
         "layout": {
          "annotationdefaults": {
           "arrowcolor": "#2a3f5f",
           "arrowhead": 0,
           "arrowwidth": 1
          },
          "autotypenumbers": "strict",
          "coloraxis": {
           "colorbar": {
            "outlinewidth": 0,
            "ticks": ""
           }
          },
          "colorscale": {
           "diverging": [
            [
             0,
             "#8e0152"
            ],
            [
             0.1,
             "#c51b7d"
            ],
            [
             0.2,
             "#de77ae"
            ],
            [
             0.3,
             "#f1b6da"
            ],
            [
             0.4,
             "#fde0ef"
            ],
            [
             0.5,
             "#f7f7f7"
            ],
            [
             0.6,
             "#e6f5d0"
            ],
            [
             0.7,
             "#b8e186"
            ],
            [
             0.8,
             "#7fbc41"
            ],
            [
             0.9,
             "#4d9221"
            ],
            [
             1,
             "#276419"
            ]
           ],
           "sequential": [
            [
             0,
             "#0d0887"
            ],
            [
             0.1111111111111111,
             "#46039f"
            ],
            [
             0.2222222222222222,
             "#7201a8"
            ],
            [
             0.3333333333333333,
             "#9c179e"
            ],
            [
             0.4444444444444444,
             "#bd3786"
            ],
            [
             0.5555555555555556,
             "#d8576b"
            ],
            [
             0.6666666666666666,
             "#ed7953"
            ],
            [
             0.7777777777777778,
             "#fb9f3a"
            ],
            [
             0.8888888888888888,
             "#fdca26"
            ],
            [
             1,
             "#f0f921"
            ]
           ],
           "sequentialminus": [
            [
             0,
             "#0d0887"
            ],
            [
             0.1111111111111111,
             "#46039f"
            ],
            [
             0.2222222222222222,
             "#7201a8"
            ],
            [
             0.3333333333333333,
             "#9c179e"
            ],
            [
             0.4444444444444444,
             "#bd3786"
            ],
            [
             0.5555555555555556,
             "#d8576b"
            ],
            [
             0.6666666666666666,
             "#ed7953"
            ],
            [
             0.7777777777777778,
             "#fb9f3a"
            ],
            [
             0.8888888888888888,
             "#fdca26"
            ],
            [
             1,
             "#f0f921"
            ]
           ]
          },
          "colorway": [
           "#636efa",
           "#EF553B",
           "#00cc96",
           "#ab63fa",
           "#FFA15A",
           "#19d3f3",
           "#FF6692",
           "#B6E880",
           "#FF97FF",
           "#FECB52"
          ],
          "font": {
           "color": "#2a3f5f"
          },
          "geo": {
           "bgcolor": "white",
           "lakecolor": "white",
           "landcolor": "#E5ECF6",
           "showlakes": true,
           "showland": true,
           "subunitcolor": "white"
          },
          "hoverlabel": {
           "align": "left"
          },
          "hovermode": "closest",
          "mapbox": {
           "style": "light"
          },
          "paper_bgcolor": "white",
          "plot_bgcolor": "#E5ECF6",
          "polar": {
           "angularaxis": {
            "gridcolor": "white",
            "linecolor": "white",
            "ticks": ""
           },
           "bgcolor": "#E5ECF6",
           "radialaxis": {
            "gridcolor": "white",
            "linecolor": "white",
            "ticks": ""
           }
          },
          "scene": {
           "xaxis": {
            "backgroundcolor": "#E5ECF6",
            "gridcolor": "white",
            "gridwidth": 2,
            "linecolor": "white",
            "showbackground": true,
            "ticks": "",
            "zerolinecolor": "white"
           },
           "yaxis": {
            "backgroundcolor": "#E5ECF6",
            "gridcolor": "white",
            "gridwidth": 2,
            "linecolor": "white",
            "showbackground": true,
            "ticks": "",
            "zerolinecolor": "white"
           },
           "zaxis": {
            "backgroundcolor": "#E5ECF6",
            "gridcolor": "white",
            "gridwidth": 2,
            "linecolor": "white",
            "showbackground": true,
            "ticks": "",
            "zerolinecolor": "white"
           }
          },
          "shapedefaults": {
           "line": {
            "color": "#2a3f5f"
           }
          },
          "ternary": {
           "aaxis": {
            "gridcolor": "white",
            "linecolor": "white",
            "ticks": ""
           },
           "baxis": {
            "gridcolor": "white",
            "linecolor": "white",
            "ticks": ""
           },
           "bgcolor": "#E5ECF6",
           "caxis": {
            "gridcolor": "white",
            "linecolor": "white",
            "ticks": ""
           }
          },
          "title": {
           "x": 0.05
          },
          "xaxis": {
           "automargin": true,
           "gridcolor": "white",
           "linecolor": "white",
           "ticks": "",
           "title": {
            "standoff": 15
           },
           "zerolinecolor": "white",
           "zerolinewidth": 2
          },
          "yaxis": {
           "automargin": true,
           "gridcolor": "white",
           "linecolor": "white",
           "ticks": "",
           "title": {
            "standoff": 15
           },
           "zerolinecolor": "white",
           "zerolinewidth": 2
          }
         }
        },
        "title": {
         "text": "Backtest Results (Bets Placed Only)"
        },
        "xaxis": {
         "anchor": "y",
         "domain": [
          0,
          1
         ],
         "matches": "x3",
         "showticklabels": false,
         "title": {
          "text": "Bet Number"
         }
        },
        "xaxis2": {
         "anchor": "y2",
         "domain": [
          0,
          1
         ],
         "matches": "x3",
         "showticklabels": false,
         "title": {
          "text": "Bet Number"
         }
        },
        "xaxis3": {
         "anchor": "y3",
         "domain": [
          0,
          1
         ],
         "title": {
          "text": "Bet Number"
         }
        },
        "yaxis": {
         "anchor": "x",
         "domain": [
          0.55,
          1
         ],
         "title": {
          "text": "Bankroll"
         }
        },
        "yaxis2": {
         "anchor": "x2",
         "domain": [
          0.275,
          0.5
         ],
         "title": {
          "text": "ROI"
         }
        },
        "yaxis3": {
         "anchor": "x3",
         "domain": [
          0,
          0.225
         ],
         "title": {
          "text": "Stake %"
         }
        }
       }
      }
     },
     "metadata": {},
     "output_type": "display_data"
    }
   ],
   "source": [
    "model_backtest.plot()"
   ]
  },
  {
   "cell_type": "markdown",
   "metadata": {},
   "source": []
  },
  {
   "cell_type": "code",
   "execution_count": 24,
   "metadata": {},
   "outputs": [
    {
     "data": {
      "application/vnd.plotly.v1+json": {
       "config": {
        "plotlyServerURL": "https://plot.ly"
       },
       "data": [
        {
         "marker": {
          "color": "green"
         },
         "name": "Winning Bets",
         "opacity": 0.7,
         "type": "bar",
         "x": [
          1.7214330239080995,
          1.784242873746407,
          1.849344463769735,
          1.91682141259983,
          1.9867603898473556,
          2.0592512274331876,
          2.1343870349714855,
          2.212264319362741,
          2.292983108750412,
          2.3766470810003586,
          2.4633636968681007,
          2.5532443380249443,
          2.6464044501202593,
          2.742963691063668,
          2.843046084717594,
          2.9467801801975897
         ],
         "y": [
          1,
          0,
          5,
          2,
          2,
          10,
          5,
          7,
          12,
          5,
          16,
          15,
          11,
          16,
          17,
          10
         ]
        },
        {
         "marker": {
          "color": "red"
         },
         "name": "Losing Bets",
         "opacity": 0.7,
         "type": "bar",
         "x": [
          1.7214330239080995,
          1.784242873746407,
          1.849344463769735,
          1.91682141259983,
          1.9867603898473556,
          2.0592512274331876,
          2.1343870349714855,
          2.212264319362741,
          2.292983108750412,
          2.3766470810003586,
          2.4633636968681007,
          2.5532443380249443,
          2.6464044501202593,
          2.742963691063668,
          2.843046084717594,
          2.9467801801975897
         ],
         "y": [
          1,
          4,
          2,
          1,
          3,
          5,
          4,
          7,
          15,
          11,
          16,
          10,
          13,
          11,
          12,
          24
         ]
        },
        {
         "line": {
          "color": "blue",
          "dash": "dot",
          "width": 2
         },
         "mode": "lines",
         "name": "Break-Even Win Rate",
         "type": "scatter",
         "x": [
          null
         ],
         "y": [
          null
         ]
        }
       ],
       "layout": {
        "annotations": [
         {
          "showarrow": false,
          "text": "Avg: 2.50",
          "x": 2.501414572717206,
          "xanchor": "right",
          "xref": "x",
          "y": 1,
          "yanchor": "top",
          "yref": "y domain"
         },
         {
          "showarrow": false,
          "text": "Median: 2.54",
          "x": 2.535592242944048,
          "xanchor": "left",
          "xref": "x",
          "y": 0,
          "yanchor": "bottom",
          "yref": "y domain"
         }
        ],
        "bargap": 0.1,
        "barmode": "stack",
        "margin": {
         "t": 100
        },
        "shapes": [
         {
          "line": {
           "color": "blue",
           "dash": "dot",
           "width": 2
          },
          "type": "line",
          "x0": 1.6905907689778272,
          "x1": 1.7522752788383718,
          "y0": 1.1618227210835548,
          "y1": 1.1618227210835548
         },
         {
          "line": {
           "color": "blue",
           "dash": "dot",
           "width": 2
          },
          "type": "line",
          "x0": 1.7522752788383718,
          "x1": 1.8162104686544425,
          "y0": 2.2418472612986413,
          "y1": 2.2418472612986413
         },
         {
          "line": {
           "color": "blue",
           "dash": "dot",
           "width": 2
          },
          "type": "line",
          "x0": 1.8162104686544425,
          "x1": 1.8824784588850272,
          "y0": 3.785125019776512,
          "y1": 3.785125019776512
         },
         {
          "line": {
           "color": "blue",
           "dash": "dot",
           "width": 2
          },
          "type": "line",
          "x0": 1.8824784588850272,
          "x1": 1.9511643663146325,
          "y0": 1.5650910305363448,
          "y1": 1.5650910305363448
         },
         {
          "line": {
           "color": "blue",
           "dash": "dot",
           "width": 2
          },
          "type": "line",
          "x0": 1.9511643663146325,
          "x1": 2.0223564133800784,
          "y0": 2.516659797301553,
          "y1": 2.516659797301553
         },
         {
          "line": {
           "color": "blue",
           "dash": "dot",
           "width": 2
          },
          "type": "line",
          "x0": 2.0223564133800784,
          "x1": 2.0961460414862967,
          "y0": 7.284201072783712,
          "y1": 7.284201072783712
         },
         {
          "line": {
           "color": "blue",
           "dash": "dot",
           "width": 2
          },
          "type": "line",
          "x0": 2.0961460414862967,
          "x1": 2.1726280284566744,
          "y0": 4.2166672925467035,
          "y1": 4.2166672925467035
         },
         {
          "line": {
           "color": "blue",
           "dash": "dot",
           "width": 2
          },
          "type": "line",
          "x0": 2.1726280284566744,
          "x1": 2.251900610268807,
          "y0": 6.32835772717828,
          "y1": 6.32835772717828
         },
         {
          "line": {
           "color": "blue",
           "dash": "dot",
           "width": 2
          },
          "type": "line",
          "x0": 2.251900610268807,
          "x1": 2.3340656072320165,
          "y0": 11.775054032000249,
          "y1": 11.775054032000249
         },
         {
          "line": {
           "color": "blue",
           "dash": "dot",
           "width": 2
          },
          "type": "line",
          "x0": 2.3340656072320165,
          "x1": 2.4192285547687007,
          "y0": 6.732173290644992,
          "y1": 6.732173290644992
         },
         {
          "line": {
           "color": "blue",
           "dash": "dot",
           "width": 2
          },
          "type": "line",
          "x0": 2.4192285547687007,
          "x1": 2.507498838967501,
          "y0": 12.990367618344186,
          "y1": 12.990367618344186
         },
         {
          "line": {
           "color": "blue",
           "dash": "dot",
           "width": 2
          },
          "type": "line",
          "x0": 2.507498838967501,
          "x1": 2.5989898370823874,
          "y0": 9.79146399256825,
          "y1": 9.79146399256825
         },
         {
          "line": {
           "color": "blue",
           "dash": "dot",
           "width": 2
          },
          "type": "line",
          "x0": 2.5989898370823874,
          "x1": 2.693819063158131,
          "y0": 9.06890857098936,
          "y1": 9.06890857098936
         },
         {
          "line": {
           "color": "blue",
           "dash": "dot",
           "width": 2
          },
          "type": "line",
          "x0": 2.693819063158131,
          "x1": 2.7921083189692046,
          "y0": 9.843367627491242,
          "y1": 9.843367627491242
         },
         {
          "line": {
           "color": "blue",
           "dash": "dot",
           "width": 2
          },
          "type": "line",
          "x0": 2.7921083189692046,
          "x1": 2.8939838504659834,
          "y0": 10.200327091384674,
          "y1": 10.200327091384674
         },
         {
          "line": {
           "color": "blue",
           "dash": "dot",
           "width": 2
          },
          "type": "line",
          "x0": 2.8939838504659834,
          "x1": 2.999576509929196,
          "y0": 11.538017062989818,
          "y1": 11.538017062989818
         },
         {
          "line": {
           "color": "blue",
           "dash": "dash"
          },
          "type": "line",
          "x0": 2.501414572717206,
          "x1": 2.501414572717206,
          "xref": "x",
          "y0": 0,
          "y1": 1,
          "yref": "y domain"
         },
         {
          "line": {
           "color": "purple",
           "dash": "dot"
          },
          "type": "line",
          "x0": 2.535592242944048,
          "x1": 2.535592242944048,
          "xref": "x",
          "y0": 0,
          "y1": 1,
          "yref": "y domain"
         }
        ],
        "template": {
         "data": {
          "bar": [
           {
            "error_x": {
             "color": "#2a3f5f"
            },
            "error_y": {
             "color": "#2a3f5f"
            },
            "marker": {
             "line": {
              "color": "#E5ECF6",
              "width": 0.5
             },
             "pattern": {
              "fillmode": "overlay",
              "size": 10,
              "solidity": 0.2
             }
            },
            "type": "bar"
           }
          ],
          "barpolar": [
           {
            "marker": {
             "line": {
              "color": "#E5ECF6",
              "width": 0.5
             },
             "pattern": {
              "fillmode": "overlay",
              "size": 10,
              "solidity": 0.2
             }
            },
            "type": "barpolar"
           }
          ],
          "carpet": [
           {
            "aaxis": {
             "endlinecolor": "#2a3f5f",
             "gridcolor": "white",
             "linecolor": "white",
             "minorgridcolor": "white",
             "startlinecolor": "#2a3f5f"
            },
            "baxis": {
             "endlinecolor": "#2a3f5f",
             "gridcolor": "white",
             "linecolor": "white",
             "minorgridcolor": "white",
             "startlinecolor": "#2a3f5f"
            },
            "type": "carpet"
           }
          ],
          "choropleth": [
           {
            "colorbar": {
             "outlinewidth": 0,
             "ticks": ""
            },
            "type": "choropleth"
           }
          ],
          "contour": [
           {
            "colorbar": {
             "outlinewidth": 0,
             "ticks": ""
            },
            "colorscale": [
             [
              0,
              "#0d0887"
             ],
             [
              0.1111111111111111,
              "#46039f"
             ],
             [
              0.2222222222222222,
              "#7201a8"
             ],
             [
              0.3333333333333333,
              "#9c179e"
             ],
             [
              0.4444444444444444,
              "#bd3786"
             ],
             [
              0.5555555555555556,
              "#d8576b"
             ],
             [
              0.6666666666666666,
              "#ed7953"
             ],
             [
              0.7777777777777778,
              "#fb9f3a"
             ],
             [
              0.8888888888888888,
              "#fdca26"
             ],
             [
              1,
              "#f0f921"
             ]
            ],
            "type": "contour"
           }
          ],
          "contourcarpet": [
           {
            "colorbar": {
             "outlinewidth": 0,
             "ticks": ""
            },
            "type": "contourcarpet"
           }
          ],
          "heatmap": [
           {
            "colorbar": {
             "outlinewidth": 0,
             "ticks": ""
            },
            "colorscale": [
             [
              0,
              "#0d0887"
             ],
             [
              0.1111111111111111,
              "#46039f"
             ],
             [
              0.2222222222222222,
              "#7201a8"
             ],
             [
              0.3333333333333333,
              "#9c179e"
             ],
             [
              0.4444444444444444,
              "#bd3786"
             ],
             [
              0.5555555555555556,
              "#d8576b"
             ],
             [
              0.6666666666666666,
              "#ed7953"
             ],
             [
              0.7777777777777778,
              "#fb9f3a"
             ],
             [
              0.8888888888888888,
              "#fdca26"
             ],
             [
              1,
              "#f0f921"
             ]
            ],
            "type": "heatmap"
           }
          ],
          "heatmapgl": [
           {
            "colorbar": {
             "outlinewidth": 0,
             "ticks": ""
            },
            "colorscale": [
             [
              0,
              "#0d0887"
             ],
             [
              0.1111111111111111,
              "#46039f"
             ],
             [
              0.2222222222222222,
              "#7201a8"
             ],
             [
              0.3333333333333333,
              "#9c179e"
             ],
             [
              0.4444444444444444,
              "#bd3786"
             ],
             [
              0.5555555555555556,
              "#d8576b"
             ],
             [
              0.6666666666666666,
              "#ed7953"
             ],
             [
              0.7777777777777778,
              "#fb9f3a"
             ],
             [
              0.8888888888888888,
              "#fdca26"
             ],
             [
              1,
              "#f0f921"
             ]
            ],
            "type": "heatmapgl"
           }
          ],
          "histogram": [
           {
            "marker": {
             "pattern": {
              "fillmode": "overlay",
              "size": 10,
              "solidity": 0.2
             }
            },
            "type": "histogram"
           }
          ],
          "histogram2d": [
           {
            "colorbar": {
             "outlinewidth": 0,
             "ticks": ""
            },
            "colorscale": [
             [
              0,
              "#0d0887"
             ],
             [
              0.1111111111111111,
              "#46039f"
             ],
             [
              0.2222222222222222,
              "#7201a8"
             ],
             [
              0.3333333333333333,
              "#9c179e"
             ],
             [
              0.4444444444444444,
              "#bd3786"
             ],
             [
              0.5555555555555556,
              "#d8576b"
             ],
             [
              0.6666666666666666,
              "#ed7953"
             ],
             [
              0.7777777777777778,
              "#fb9f3a"
             ],
             [
              0.8888888888888888,
              "#fdca26"
             ],
             [
              1,
              "#f0f921"
             ]
            ],
            "type": "histogram2d"
           }
          ],
          "histogram2dcontour": [
           {
            "colorbar": {
             "outlinewidth": 0,
             "ticks": ""
            },
            "colorscale": [
             [
              0,
              "#0d0887"
             ],
             [
              0.1111111111111111,
              "#46039f"
             ],
             [
              0.2222222222222222,
              "#7201a8"
             ],
             [
              0.3333333333333333,
              "#9c179e"
             ],
             [
              0.4444444444444444,
              "#bd3786"
             ],
             [
              0.5555555555555556,
              "#d8576b"
             ],
             [
              0.6666666666666666,
              "#ed7953"
             ],
             [
              0.7777777777777778,
              "#fb9f3a"
             ],
             [
              0.8888888888888888,
              "#fdca26"
             ],
             [
              1,
              "#f0f921"
             ]
            ],
            "type": "histogram2dcontour"
           }
          ],
          "mesh3d": [
           {
            "colorbar": {
             "outlinewidth": 0,
             "ticks": ""
            },
            "type": "mesh3d"
           }
          ],
          "parcoords": [
           {
            "line": {
             "colorbar": {
              "outlinewidth": 0,
              "ticks": ""
             }
            },
            "type": "parcoords"
           }
          ],
          "pie": [
           {
            "automargin": true,
            "type": "pie"
           }
          ],
          "scatter": [
           {
            "fillpattern": {
             "fillmode": "overlay",
             "size": 10,
             "solidity": 0.2
            },
            "type": "scatter"
           }
          ],
          "scatter3d": [
           {
            "line": {
             "colorbar": {
              "outlinewidth": 0,
              "ticks": ""
             }
            },
            "marker": {
             "colorbar": {
              "outlinewidth": 0,
              "ticks": ""
             }
            },
            "type": "scatter3d"
           }
          ],
          "scattercarpet": [
           {
            "marker": {
             "colorbar": {
              "outlinewidth": 0,
              "ticks": ""
             }
            },
            "type": "scattercarpet"
           }
          ],
          "scattergeo": [
           {
            "marker": {
             "colorbar": {
              "outlinewidth": 0,
              "ticks": ""
             }
            },
            "type": "scattergeo"
           }
          ],
          "scattergl": [
           {
            "marker": {
             "colorbar": {
              "outlinewidth": 0,
              "ticks": ""
             }
            },
            "type": "scattergl"
           }
          ],
          "scattermapbox": [
           {
            "marker": {
             "colorbar": {
              "outlinewidth": 0,
              "ticks": ""
             }
            },
            "type": "scattermapbox"
           }
          ],
          "scatterpolar": [
           {
            "marker": {
             "colorbar": {
              "outlinewidth": 0,
              "ticks": ""
             }
            },
            "type": "scatterpolar"
           }
          ],
          "scatterpolargl": [
           {
            "marker": {
             "colorbar": {
              "outlinewidth": 0,
              "ticks": ""
             }
            },
            "type": "scatterpolargl"
           }
          ],
          "scatterternary": [
           {
            "marker": {
             "colorbar": {
              "outlinewidth": 0,
              "ticks": ""
             }
            },
            "type": "scatterternary"
           }
          ],
          "surface": [
           {
            "colorbar": {
             "outlinewidth": 0,
             "ticks": ""
            },
            "colorscale": [
             [
              0,
              "#0d0887"
             ],
             [
              0.1111111111111111,
              "#46039f"
             ],
             [
              0.2222222222222222,
              "#7201a8"
             ],
             [
              0.3333333333333333,
              "#9c179e"
             ],
             [
              0.4444444444444444,
              "#bd3786"
             ],
             [
              0.5555555555555556,
              "#d8576b"
             ],
             [
              0.6666666666666666,
              "#ed7953"
             ],
             [
              0.7777777777777778,
              "#fb9f3a"
             ],
             [
              0.8888888888888888,
              "#fdca26"
             ],
             [
              1,
              "#f0f921"
             ]
            ],
            "type": "surface"
           }
          ],
          "table": [
           {
            "cells": {
             "fill": {
              "color": "#EBF0F8"
             },
             "line": {
              "color": "white"
             }
            },
            "header": {
             "fill": {
              "color": "#C8D4E3"
             },
             "line": {
              "color": "white"
             }
            },
            "type": "table"
           }
          ]
         },
         "layout": {
          "annotationdefaults": {
           "arrowcolor": "#2a3f5f",
           "arrowhead": 0,
           "arrowwidth": 1
          },
          "autotypenumbers": "strict",
          "coloraxis": {
           "colorbar": {
            "outlinewidth": 0,
            "ticks": ""
           }
          },
          "colorscale": {
           "diverging": [
            [
             0,
             "#8e0152"
            ],
            [
             0.1,
             "#c51b7d"
            ],
            [
             0.2,
             "#de77ae"
            ],
            [
             0.3,
             "#f1b6da"
            ],
            [
             0.4,
             "#fde0ef"
            ],
            [
             0.5,
             "#f7f7f7"
            ],
            [
             0.6,
             "#e6f5d0"
            ],
            [
             0.7,
             "#b8e186"
            ],
            [
             0.8,
             "#7fbc41"
            ],
            [
             0.9,
             "#4d9221"
            ],
            [
             1,
             "#276419"
            ]
           ],
           "sequential": [
            [
             0,
             "#0d0887"
            ],
            [
             0.1111111111111111,
             "#46039f"
            ],
            [
             0.2222222222222222,
             "#7201a8"
            ],
            [
             0.3333333333333333,
             "#9c179e"
            ],
            [
             0.4444444444444444,
             "#bd3786"
            ],
            [
             0.5555555555555556,
             "#d8576b"
            ],
            [
             0.6666666666666666,
             "#ed7953"
            ],
            [
             0.7777777777777778,
             "#fb9f3a"
            ],
            [
             0.8888888888888888,
             "#fdca26"
            ],
            [
             1,
             "#f0f921"
            ]
           ],
           "sequentialminus": [
            [
             0,
             "#0d0887"
            ],
            [
             0.1111111111111111,
             "#46039f"
            ],
            [
             0.2222222222222222,
             "#7201a8"
            ],
            [
             0.3333333333333333,
             "#9c179e"
            ],
            [
             0.4444444444444444,
             "#bd3786"
            ],
            [
             0.5555555555555556,
             "#d8576b"
            ],
            [
             0.6666666666666666,
             "#ed7953"
            ],
            [
             0.7777777777777778,
             "#fb9f3a"
            ],
            [
             0.8888888888888888,
             "#fdca26"
            ],
            [
             1,
             "#f0f921"
            ]
           ]
          },
          "colorway": [
           "#636efa",
           "#EF553B",
           "#00cc96",
           "#ab63fa",
           "#FFA15A",
           "#19d3f3",
           "#FF6692",
           "#B6E880",
           "#FF97FF",
           "#FECB52"
          ],
          "font": {
           "color": "#2a3f5f"
          },
          "geo": {
           "bgcolor": "white",
           "lakecolor": "white",
           "landcolor": "#E5ECF6",
           "showlakes": true,
           "showland": true,
           "subunitcolor": "white"
          },
          "hoverlabel": {
           "align": "left"
          },
          "hovermode": "closest",
          "mapbox": {
           "style": "light"
          },
          "paper_bgcolor": "white",
          "plot_bgcolor": "#E5ECF6",
          "polar": {
           "angularaxis": {
            "gridcolor": "white",
            "linecolor": "white",
            "ticks": ""
           },
           "bgcolor": "#E5ECF6",
           "radialaxis": {
            "gridcolor": "white",
            "linecolor": "white",
            "ticks": ""
           }
          },
          "scene": {
           "xaxis": {
            "backgroundcolor": "#E5ECF6",
            "gridcolor": "white",
            "gridwidth": 2,
            "linecolor": "white",
            "showbackground": true,
            "ticks": "",
            "zerolinecolor": "white"
           },
           "yaxis": {
            "backgroundcolor": "#E5ECF6",
            "gridcolor": "white",
            "gridwidth": 2,
            "linecolor": "white",
            "showbackground": true,
            "ticks": "",
            "zerolinecolor": "white"
           },
           "zaxis": {
            "backgroundcolor": "#E5ECF6",
            "gridcolor": "white",
            "gridwidth": 2,
            "linecolor": "white",
            "showbackground": true,
            "ticks": "",
            "zerolinecolor": "white"
           }
          },
          "shapedefaults": {
           "line": {
            "color": "#2a3f5f"
           }
          },
          "ternary": {
           "aaxis": {
            "gridcolor": "white",
            "linecolor": "white",
            "ticks": ""
           },
           "baxis": {
            "gridcolor": "white",
            "linecolor": "white",
            "ticks": ""
           },
           "bgcolor": "#E5ECF6",
           "caxis": {
            "gridcolor": "white",
            "linecolor": "white",
            "ticks": ""
           }
          },
          "title": {
           "x": 0.05
          },
          "xaxis": {
           "automargin": true,
           "gridcolor": "white",
           "linecolor": "white",
           "ticks": "",
           "title": {
            "standoff": 15
           },
           "zerolinecolor": "white",
           "zerolinewidth": 2
          },
          "yaxis": {
           "automargin": true,
           "gridcolor": "white",
           "linecolor": "white",
           "ticks": "",
           "title": {
            "standoff": 15
           },
           "zerolinecolor": "white",
           "zerolinewidth": 2
          }
         }
        },
        "title": {
         "text": "Distribution of played Odds and Break-Even Win Rates"
        },
        "xaxis": {
         "tickangle": 45,
         "tickmode": "array",
         "ticktext": [
          "1.69",
          "1.75",
          "1.82",
          "1.88",
          "1.95",
          "2.02",
          "2.10",
          "2.17",
          "2.25",
          "2.33",
          "2.42",
          "2.51",
          "2.60",
          "2.69",
          "2.79",
          "2.89",
          "3.00"
         ],
         "tickvals": [
          1.6905907689778272,
          1.7522752788383718,
          1.8162104686544425,
          1.8824784588850272,
          1.9511643663146325,
          2.0223564133800784,
          2.0961460414862967,
          2.1726280284566744,
          2.251900610268807,
          2.3340656072320165,
          2.4192285547687007,
          2.507498838967501,
          2.5989898370823874,
          2.693819063158131,
          2.7921083189692046,
          2.8939838504659834,
          2.999576509929196
         ],
         "title": {
          "text": "Odds"
         }
        },
        "yaxis": {
         "range": [
          0,
          28.799999999999997
         ],
         "title": {
          "text": "Frequency"
         }
        }
       }
      }
     },
     "metadata": {},
     "output_type": "display_data"
    }
   ],
   "source": [
    "model_backtest.plot_odds_distribution()"
   ]
  }
 ],
 "metadata": {
  "kernelspec": {
   "display_name": ".venv",
   "language": "python",
   "name": "python3"
  },
  "language_info": {
   "codemirror_mode": {
    "name": "ipython",
    "version": 3
   },
   "file_extension": ".py",
   "mimetype": "text/x-python",
   "name": "python",
   "nbconvert_exporter": "python",
   "pygments_lexer": "ipython3",
   "version": "3.12.0"
  }
 },
 "nbformat": 4,
 "nbformat_minor": 2
}
